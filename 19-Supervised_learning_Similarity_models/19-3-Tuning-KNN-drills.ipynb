{
 "cells": [
  {
   "cell_type": "markdown",
   "metadata": {},
   "source": [
    "# 19-3 Kth Nearest Neighbor\n",
    "\n",
    "- DRILL:\n",
    "Let's say we work at a credit card company and we're trying to figure out if people are going to pay their bills on time. We have everyone's purchases, split into four main categories: groceries, dining out, utilities, and entertainment. \n",
    "- What are some ways you might use KNN to create this model? What aspects of KNN would be useful? Write up your thoughts in submit a link below."
   ]
  },
  {
   "cell_type": "markdown",
   "metadata": {},
   "source": [
    "1.One could reduce the dimensionality of the data by combing the groceries and utilities into one new feature \n",
    "   called necessities and combining the other two features into another new feature. \n",
    "   This would also reduce the complexity in visualizing the plot of outcomes.\n",
    "   KNN works well if there are small data and the scales are same\n",
    "   https://www.analyticsvidhya.com/blog/2017/09/30-questions-test-k-nearest-neighbors-algorithm/\n",
    "   \n",
    "   \n",
    "2. Add another column for people to see historically if they paid or not. that would be the target variable to be used in prediction. The class that is to be predicted is either the individual paid their bills on time or did not.\n",
    "  \n",
    "3.Having the age of the individual would be nice, as the younger an individual is perhaps they are more likely \n",
    "    to pay their bills later than an older individual.\n",
    "    \n",
    "4.The KNN model would easily update itself with new information"
   ]
  }
 ],
 "metadata": {
  "kernelspec": {
   "display_name": "Python 3",
   "language": "python",
   "name": "python3"
  },
  "language_info": {
   "codemirror_mode": {
    "name": "ipython",
    "version": 3
   },
   "file_extension": ".py",
   "mimetype": "text/x-python",
   "name": "python",
   "nbconvert_exporter": "python",
   "pygments_lexer": "ipython3",
   "version": "3.7.3"
  }
 },
 "nbformat": 4,
 "nbformat_minor": 2
}
