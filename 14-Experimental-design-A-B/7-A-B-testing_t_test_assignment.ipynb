{
 "cells": [
  {
   "cell_type": "markdown",
   "metadata": {},
   "source": [
    "Assignments\n",
    "To help you find your bearings with regard to t-tests, calculate the t-values for the following numbers:\n",
    "\n",
    "1) 𝑦1 =5 𝑦2 =8 𝑠1=1 𝑠2=3 𝑁1=200 N2=500\n",
    "\n",
    "2) 𝑦1=1090 𝑦2¯=999 𝑠1=400 𝑠2=30 𝑁1=900 N2=100\n",
    "\n",
    "3) 𝑦1¯=45 𝑦2¯=40 𝑠1=45 𝑠2=40 𝑁1=2000 𝑁2=2000\n",
    " \n",
    " $$t = \\frac{\\bar{y_1}-\\bar{y_2}}{\\sqrt{s^2_1/N_1+s^2_2/N_2}}$$\n",
    "\n",
    "\n",
    "$\\bar{y_1}$ and $\\bar{y_2}$ represent the sample means of groups 1 and 2.\n",
    "\n",
    "$s_1$ and $s_2$ represent the sample standard deviations of groups 1 and 2.\n",
    "\n",
    "$N_1$ and $N_2$ represent the sample sizes for groups 1 and 2.\n",
    "\n"
   ]
  },
  {
   "cell_type": "code",
   "execution_count": 2,
   "metadata": {
    "collapsed": true
   },
   "outputs": [],
   "source": [
    "## Import the packages\n",
    "import numpy as np\n",
    "from scipy import stats\n",
    "import math"
   ]
  },
  {
   "cell_type": "code",
   "execution_count": 3,
   "metadata": {
    "collapsed": true
   },
   "outputs": [],
   "source": [
    "#1) tval,pval=stats.ttest_ind(b, a,equal_var=True)\n",
    "\n",
    "#tval=stats.ttest_ind(b, a,equal_var=True)"
   ]
  },
  {
   "cell_type": "code",
   "execution_count": 4,
   "metadata": {
    "collapsed": false
   },
   "outputs": [
    {
     "name": "stdout",
     "output_type": "stream",
     "text": [
      "t = -8.733337646093728\n"
     ]
    }
   ],
   "source": [
    "## 1- \n",
    "\n",
    "#Sample Size\n",
    "N1 = 10\n",
    "N2 = 500\n",
    "\n",
    "# means\n",
    "y1 = 5\n",
    "y2 = 8\n",
    "\n",
    "#std deviation\n",
    "s1 = 1\n",
    "s2 = 3\n",
    "\n",
    "# std Error\n",
    "std_error = math.sqrt(((s1**2.0)/N1) + ((s2**2.0)/N2))\n",
    "\n",
    "\n",
    "## Calculate the t-statistics\n",
    "t = (y1 - y2)/std_error\n",
    "\n",
    "print(\"t = \" + str(t))\n",
    "\n"
   ]
  },
  {
   "cell_type": "code",
   "execution_count": 5,
   "metadata": {
    "collapsed": false
   },
   "outputs": [
    {
     "name": "stdout",
     "output_type": "stream",
     "text": [
      "t = 0.7194177630159284\n"
     ]
    }
   ],
   "source": [
    "## 2- \n",
    "\n",
    "# 𝑦1=1090 𝑦2¯=999 𝑠1=400 𝑠2=30 𝑁1=900 N2=100\n",
    "\n",
    "#Sample Size\n",
    "N1 = 10\n",
    "N2 = 500\n",
    "\n",
    "# means\n",
    "y1 = 1090\n",
    "y2 = 999\n",
    "\n",
    "#std deviation\n",
    "s1 = 400\n",
    "s2 = 3\n",
    "\n",
    "# std Error\n",
    "std_error = math.sqrt(((s1**2.0)/N1) + ((s2**2.0)/N2))\n",
    "\n",
    "\n",
    "## Calculate the t-statistics\n",
    "t = (y1 - y2)/std_error\n",
    "\n",
    "print(\"t = \" + str(t))"
   ]
  },
  {
   "cell_type": "code",
   "execution_count": 6,
   "metadata": {
    "collapsed": false
   },
   "outputs": [
    {
     "name": "stdout",
     "output_type": "stream",
     "text": [
      "t = 3.7139067635410377\n"
     ]
    }
   ],
   "source": [
    "# 3 𝑦1¯=45 𝑦2¯=40 𝑠1=45 𝑠2=40 𝑁1=2000 𝑁2=2000\n",
    "\n",
    "#Sample Size\n",
    "N1 = 2000\n",
    "N2 = 2000\n",
    "\n",
    "# means\n",
    "y1 = 45\n",
    "y2 = 40\n",
    "\n",
    "#std deviation\n",
    "s1 = 45\n",
    "s2 = 40\n",
    "\n",
    "# std Error\n",
    "std_error = math.sqrt(((s1**2.0)/N1) + ((s2**2.0)/N2))\n",
    "\n",
    "\n",
    "## Calculate the t-statistics\n",
    "t = (y1 - y2)/std_error\n",
    "\n",
    "print(\"t = \" + str(t))"
   ]
  },
  {
   "cell_type": "code",
   "execution_count": null,
   "metadata": {
    "collapsed": true
   },
   "outputs": [],
   "source": []
  }
 ],
 "metadata": {
  "kernelspec": {
   "display_name": "Python 3",
   "language": "python",
   "name": "python3"
  },
  "language_info": {
   "codemirror_mode": {
    "name": "ipython",
    "version": 3
   },
   "file_extension": ".py",
   "mimetype": "text/x-python",
   "name": "python",
   "nbconvert_exporter": "python",
   "pygments_lexer": "ipython3",
   "version": "3.6.0"
  }
 },
 "nbformat": 4,
 "nbformat_minor": 2
}
