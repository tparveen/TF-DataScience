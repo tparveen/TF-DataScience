{
 "cells": [
  {
   "cell_type": "markdown",
   "metadata": {},
   "source": [
    "# Assignment: 18-1-What is a regression task?\n",
    "\n",
    "To close out this checkpoint, answer the following questions. Once you're done, you can compare your answers to the ones found in this notebook, which you can download."
   ]
  },
  {
   "cell_type": "markdown",
   "metadata": {},
   "source": [
    "1) Let's assume that you have World Bank data on financial, economic and social indicators for several countries. You want to measure the factors that affect the level of development in these countries. To this end, you decide to use per capita income as a proxy for the development level, which is defined as the national income divided by the population. You want to use some features in your dataset to predict per capita income. Is this task a classification or a regression task? Why?\n",
    "\n",
    "* This is a regression task. Because the target variable - per capita income, is a continuous variable."
   ]
  },
  {
   "cell_type": "markdown",
   "metadata": {},
   "source": [
    "2) Which of the following arguments are false and why?\n",
    "\n",
    "* OLS is a special type of linear regression models ---> False. OLS is not a type of model but an optimization algorithm.\n",
    "\n",
    "* Regression models become useless if they don’t meet the assumptions of linear regression: False. Even if a model doesn’t meet some assumptions, there are ways to fix this up.\n",
    "\n",
    "* Estimation and prediction are the same thing in the context of linear regression models: False. Estimation refers to the process of determining the coefficients of the features in the training phase. Prediction is to determine the value of the outcome variable using a previously unseen feature value.\n",
    "\n",
    "\n",
    "* Linear regression is only one kind of regression model. Regression problems can also be solved with other kind of models like Support Vector Machines or Random Forests. True\n"
   ]
  },
  {
   "cell_type": "markdown",
   "metadata": {},
   "source": [
    "3) Assume that your project manager wants you to discover which free services your company offers make your customers buy more of your paid services. Formulate this task as a regression problem and write down the potential outcome and features that you’d like to work on.\n",
    "\n",
    "* 𝑡𝑜𝑡𝑎𝑙𝑒𝑥𝑝𝑒𝑛𝑑𝑖𝑡𝑢𝑟𝑒 = 𝛼 + 𝛽1𝑋𝑑𝑢𝑚𝑚𝑦𝑜𝑓𝑢𝑠𝑖𝑛𝑔𝑓𝑟𝑒𝑒𝑠𝑒𝑟𝑣𝑖𝑐𝑒1 +𝛽2𝑋𝑑𝑢𝑚𝑚𝑦𝑜𝑓𝑢𝑠𝑖𝑛𝑔𝑓𝑟𝑒𝑒𝑠𝑒𝑟𝑣𝑖𝑐𝑒2"
   ]
  },
  {
   "cell_type": "code",
   "execution_count": null,
   "metadata": {},
   "outputs": [],
   "source": []
  }
 ],
 "metadata": {
  "kernelspec": {
   "display_name": "Python 3",
   "language": "python",
   "name": "python3"
  },
  "language_info": {
   "codemirror_mode": {
    "name": "ipython",
    "version": 3
   },
   "file_extension": ".py",
   "mimetype": "text/x-python",
   "name": "python",
   "nbconvert_exporter": "python",
   "pygments_lexer": "ipython3",
   "version": "3.7.3"
  }
 },
 "nbformat": 4,
 "nbformat_minor": 2
}
