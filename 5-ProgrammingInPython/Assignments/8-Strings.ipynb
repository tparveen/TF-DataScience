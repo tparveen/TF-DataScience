{
 "cells": [
  {
   "cell_type": "code",
   "execution_count": 2,
   "metadata": {
    "collapsed": false
   },
   "outputs": [
    {
     "name": "stdout",
     "output_type": "stream",
     "text": [
      "Hello, Tauhida\n"
     ]
    }
   ],
   "source": [
    "# running from terminal\n",
    "# python assignment.py\n",
    "\n",
    "# Hello world\n",
    "\n",
    "def hello(name):\n",
    "    return \"Hello, \" + name\n",
    "print(hello('Tauhida'))"
   ]
  },
  {
   "cell_type": "code",
   "execution_count": 3,
   "metadata": {
    "collapsed": false
   },
   "outputs": [
    {
     "name": "stdout",
     "output_type": "stream",
     "text": [
      "Tauhida said: \"Live long and prosper\"\n"
     ]
    }
   ],
   "source": [
    "# Quotable\n",
    "\"\"\"\n",
    "This function should take two string parameters: \n",
    "a person's name (name) and a quote of theirs (quote), \n",
    "and return a string attributing the quote to the person \n",
    "in the following format: '[name] said: \"[quote]\"'\n",
    "'Grae said: \"Practice makes perfect\"'\n",
    "\"\"\"\n",
    "def quotable(name, quote):\n",
    "    return name + \" said: \" + \"\\\"\" + quote + \"\\\"\"\n",
    "\n",
    "print(quotable('Tauhida','Live long and prosper'))"
   ]
  },
  {
   "cell_type": "code",
   "execution_count": 4,
   "metadata": {
    "collapsed": true
   },
   "outputs": [],
   "source": [
    "# Repeater\n",
    "\"\"\"\n",
    "Write a function named repeater() that takes two arguments \n",
    "(a string and a number), and returns a new string where \n",
    "the input string is repeated that many times.\n",
    "Repeater.repeat(\"a\", 5)\n",
    "\n",
    "\"\"\"\n",
    "def repeater(string, num):\n",
    "    return string * num "
   ]
  },
  {
   "cell_type": "code",
   "execution_count": 5,
   "metadata": {
    "collapsed": true
   },
   "outputs": [],
   "source": [
    "# Repeater, level 2\n",
    "\"\"\"\n",
    "This challenge extends the previous repeater() challenge. \n",
    "Just like last time, your job is to write a function that \n",
    "accepts a string and a number as arguments. \n",
    "This time, however, you should format the string you return \n",
    "like this:\n",
    "\n",
    ">>> repeater('yo', 3)\n",
    "'\"yo\" repeated 3 times is: \"yoyoyo\"'\n",
    ">>> repeater('WuB', 6)\n",
    "'\"WuB\" repeated 6 times is: \"WuBWuBWuBWuBWuBWuB\"'\n",
    "\n",
    "SOLUTION FROM CURRIC: \n",
    "________________________\n",
    "def repeater(string, n):\n",
    "    repeated = string * n\n",
    "    template = '\"{}\" repeated {} times is: \"{}\"'\n",
    "    return template.format(string, n, repeated)\n",
    "\n",
    "\"\"\"\n",
    "def repeater(string, n):\n",
    "    return \"\\\"\" + string + \"\\\"\" +  \" repeated \" \n",
    "    + str(n) + \" times is: \" \n",
    "    + \"\\\"\" + string * n + \"\\\"\" "
   ]
  },
  {
   "cell_type": "code",
   "execution_count": 6,
   "metadata": {
    "collapsed": true
   },
   "outputs": [],
   "source": [
    "# Jedi name\n",
    "\"\"\"\n",
    "You just took a contract with the Jedi council. \n",
    "They need you to write a function, greet_jedi(), \n",
    "which takes two arguments (a first name and a last name), \n",
    "works out the corresponding Jedi name, and \n",
    "returns a string greeting the Jedi.\n",
    "\n",
    "A person's Jedi name is the first three letters of their \n",
    "last name followed by the first two letters of their \n",
    "first name. For example:\n",
    "\n",
    ">>> greet_jedi('Beyonce', 'Knowles')\n",
    "'Greetings, master KnoBe'\n",
    "\n",
    "SOLUTION FROM CURRIC: \n",
    "------------------------\n",
    "def greet_jedi(first, last):\n",
    "    first = first.capitalize()\n",
    "    last = last.capitalize()\n",
    "    jedi_name = last[0:3] + first[0:2]\n",
    "    return 'Greetings, master ' + jedi_name\n",
    "\n",
    "\"\"\"\n",
    "def greet_jedi(first, last):\n",
    "    name1 = last[:3]\n",
    "    name2 = first[:2]\n",
    "    return \"Greetings, master \" + name1[0].upper() + name1[1:3]+ name2[0].upper() + name2[1:2]\n",
    "    "
   ]
  },
  {
   "cell_type": "code",
   "execution_count": 7,
   "metadata": {
    "collapsed": false
   },
   "outputs": [
    {
     "name": "stdout",
     "output_type": "stream",
     "text": [
      "hell\n"
     ]
    }
   ],
   "source": [
    "# Areacode extractor\n",
    "\"\"\"\n",
    "You've got a bunch of textual data with embedded phone numbers. \n",
    "Write a function area_code() that finds and returns just the \n",
    "area code portion of the phone number.\n",
    "\n",
    ">>> message = \"The supplier's phone number is (555) 867-5309\"\n",
    ">>> area_code(message)\n",
    "'555'\n",
    "\n",
    "SOLUTION FROM CURRIC: \n",
    "------------------------\n",
    "def area_code(text):\n",
    "    start = text.find('(') + 1\n",
    "    end = text.find(')')\n",
    "    return text[start : end]\n",
    "\n",
    "\"\"\"\n",
    "def area_code(text):\n",
    "    a = text.find('(')\n",
    "    b = text.find(')')\n",
    "    return text[a+1:b]\n",
    "\n",
    "print(area_code('hello'))"
   ]
  },
  {
   "cell_type": "code",
   "execution_count": 23,
   "metadata": {
    "collapsed": false
   },
   "outputs": [
    {
     "name": "stdout",
     "output_type": "stream",
     "text": [
      "Beautiful is better than ugly.\n",
      "Explicit is better than implicit.\n",
      "Simple is better than complex.\n",
      "Complex is better than complicated.\n"
     ]
    }
   ],
   "source": [
    "#Poem formatter\n",
    "\n",
    "\"\"\"\n",
    "You have a collection of lovely poems. \n",
    "Unfortuantely they aren't formatted very well. \n",
    "They're all on one line, like this:\n",
    "\n",
    "What you want is to present each sentence on a new line, \n",
    "so that it looks like this:\n",
    "\n",
    "Beautiful is better than ugly.\n",
    "Explicit is better than implicit.\n",
    "Simple is better than complex.\n",
    "Complex is better than complicated.\n",
    "\n",
    "\"\"\"\n",
    "def format_poem(poem):\n",
    "    poem_lines = poem.split('. ');\n",
    "    result = '.\\n'.join(poem_lines)\n",
    "    return result\n",
    "        \n",
    "    \n",
    "\n",
    "print (format_poem('Beautiful is better than ugly. Explicit is better than implicit. Simple is better than complex. Complex is better than complicated.'))"
   ]
  },
  {
   "cell_type": "code",
   "execution_count": null,
   "metadata": {
    "collapsed": true
   },
   "outputs": [],
   "source": []
  }
 ],
 "metadata": {
  "kernelspec": {
   "display_name": "Python 3",
   "language": "python",
   "name": "python3"
  },
  "language_info": {
   "codemirror_mode": {
    "name": "ipython",
    "version": 3
   },
   "file_extension": ".py",
   "mimetype": "text/x-python",
   "name": "python",
   "nbconvert_exporter": "python",
   "pygments_lexer": "ipython3",
   "version": "3.6.0"
  }
 },
 "nbformat": 4,
 "nbformat_minor": 2
}
