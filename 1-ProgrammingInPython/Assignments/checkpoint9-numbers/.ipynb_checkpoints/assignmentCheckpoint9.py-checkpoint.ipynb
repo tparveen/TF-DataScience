{
 "cells": [
  {
   "cell_type": "code",
   "execution_count": 3,
   "metadata": {
    "collapsed": false
   },
   "outputs": [
    {
     "name": "stdout",
     "output_type": "stream",
     "text": [
      "20.1\n",
      "11.7\n"
     ]
    }
   ],
   "source": [
    "\"\"\"\n",
    "Rømer temperature\n",
    "\n",
    "You're writing an excruciatingly detailed alternate history novel set in a world where \n",
    "Daniel Gabriel Fahrenheit was never born.\n",
    "Since Fahrenheit never lived the world kept on using the Rømer scale, invented by fellow \n",
    "Dane Ole Rømer to this very day, skipping over the Fahrenheit and Celsius scales entirely.\n",
    "Your magnum opus contains several thousand references to temperature, \n",
    "but those temperatures are all currently in degrees Celsius. \n",
    "You don't want to convert everything by hand, so you've decided to write a function, \n",
    "celsius_to_romer() that takes a temperature in degrees Celsius \n",
    "and returns the equivalent temperature in degrees Rømer.\n",
    "\n",
    "For example: celsius_to_romer(24) should return 20.1.\n",
    "\"\"\"\n",
    "\n",
    "def celsius_to_romer(temp):\n",
    "    romer = temp * (21/40) + 7.5\n",
    "    return romer\n",
    "    \n",
    "print(celsius_to_romer(24)) \n",
    "print(celsius_to_romer(8))"
   ]
  },
  {
   "cell_type": "code",
   "execution_count": 5,
   "metadata": {
    "collapsed": false
   },
   "outputs": [
    {
     "name": "stdout",
     "output_type": "stream",
     "text": [
      "False\n"
     ]
    }
   ],
   "source": [
    "\"\"\"Pixelart planning\n",
    "\n",
    "You're laying out a rad pixel art mural to paint on your living room wall in homage to \n",
    "Paul Robertson, your favorite pixel artist.\n",
    "\n",
    "You want your work to be perfect down to the millimeter. \n",
    "You haven't decided on the dimensions of your piece, how large you want your pixels to be, \n",
    "or which wall you want to use. You just know that you want to fit an exact number of pixels.\n",
    "\n",
    "To help decide those things you've decided to write a function, is_divisible() \n",
    "that will tell you whether a wall of a certain length can exactly fit an integer number \n",
    "of pixels of a certain length.\n",
    "\n",
    "Your function should take two arguments: \n",
    "the size of the wall in millimeters and the size of a pixel in millimeters. \n",
    "It should return True if you can fit an exact number of pixels on the wall, \n",
    "otherwise it should return False. \n",
    "\n",
    "For example is_divisible(4050, 27) should return True, \n",
    "but is_divisible(4066, 27) should return False.\n",
    "\n",
    "Note: you don't need to use an if statement here. \n",
    "Remember that in Python an expression using the == comparison operator will evaluate \n",
    "to either True or False:\n",
    "\n",
    ">>> def equals_three(num):\n",
    ">>>     return num == 3\n",
    ">>> equals_three(5)\n",
    "False\n",
    ">>> equals_three(3)\n",
    "True\n",
    "\n",
    "\"\"\"\n",
    "\n",
    "def is_divisible(wall_length, pixel_size):\n",
    "     return (wall_length % pixel_size) == 0\n",
    "\n",
    "print (is_divisible(4050, 27))"
   ]
  },
  {
   "cell_type": "code",
   "execution_count": 9,
   "metadata": {
    "collapsed": false
   },
   "outputs": [
    {
     "name": "stdout",
     "output_type": "stream",
     "text": [
      "0.4\n",
      "0.6\n"
     ]
    }
   ],
   "source": [
    "\"\"\"\n",
    "Blue and red marbles\n",
    "\n",
    "You and a friend have decided to play a game to drill your statistical intuitions. \n",
    "The game works like this:\n",
    "\n",
    "You have a bunch of red and blue marbles. To start the game you grab a handful of marbles \n",
    "of each color and put them into the bag, keeping track of how many of each color go in. \n",
    "You take turns reaching into the bag, guessing a color, and then pulling one marble out. \n",
    "You get a point if you guessed correctly. The trick is you only have three seconds to make \n",
    "your guess, so you have to think quickly.\n",
    "\n",
    "You've decided to write a function, guessBlue() to help automatically calculate whether \n",
    "you should guess \"blue\" or \"red\". The function should take four arguments:\n",
    "\n",
    "the number of blue marbles you put in the bag to start\n",
    "the number of red marbles you put in the bag to start\n",
    "the number of blue marbles pulled out so far, and\n",
    "the number of red marbles pulled out so far.\n",
    "\n",
    "guessBlue() should return the probability of drawing a blue marble, expressed as a float. \n",
    "For example, guessBlue(5, 5, 2, 3) should return 0.6.\n",
    "\n",
    "\"\"\"\n",
    "def guess_blue(blue_start, red_start, blue_pulled, red_pulled):\n",
    "    blue_remining = blue_start - blue_pulled\n",
    "    red_remaining = red_start - red_pulled\n",
    "    return blue_remining / (blue_remining + red_remaining)\n",
    "\n",
    "print(guess_blue(12, 18, 4, 6))\n",
    "print(guess_blue(5, 5, 2, 3))"
   ]
  },
  {
   "cell_type": "code",
   "execution_count": 3,
   "metadata": {
    "collapsed": false
   },
   "outputs": [
    {
     "name": "stdout",
     "output_type": "stream",
     "text": [
      "13824\n",
      "3375\n",
      "27000\n"
     ]
    }
   ],
   "source": [
    "\"\"\"\n",
    "Congo pizza\n",
    "\n",
    "Your company, Congo Pizza, is the second-largest online frozen pizza retailer. \n",
    "You own a number of international warehouses that you use to store your frozen pizzas, \n",
    "and you need to figure out how many crates of pizzas you can store at each location.\n",
    "\n",
    "Congo recently standardized its storage containers: all pizzas fit inside a cubic crate, \n",
    "16-inchs on a side. The crates are super tough so you can stack them as high as you want.\n",
    "\n",
    "cubic crate: 16 X 16 X 16 inches\n",
    "\n",
    "Write a function box_capacity() that figures out how many crates you can store in a given \n",
    "warehouse. \n",
    "\n",
    "The function should take three arguments: the length, width, and height of your \n",
    "warehouse (in feet) and should return an integer representing the number of boxes you can \n",
    "store in that space.\n",
    "\n",
    "For example: a warehouse 32 feet long, 64 feet wide, and 16 feet high can hold 13,824 boxes \n",
    "because you can fit 24 boxes across, 48 boxes deep, and 12 boxes high, \n",
    "so box_capacity(32, 64, 16) should return 13824.\n",
    "\n",
    "1 ft = 12 inches\n",
    "32 = 32*12 inches // 16 = 24\n",
    "64 = \n",
    "16 = \n",
    "\n",
    "Test.assert_equals(box_capacity(32, 64, 16), 13824)\n",
    "Test.assert_equals(box_capacity(20, 20, 20), 3375)\n",
    "Test.assert_equals(box_capacity(80, 40, 20), 27000)\n",
    "\n",
    "\"\"\"\n",
    "def box_capacity(length, width, height):\n",
    "    warehouse_len_inches = length * 12\n",
    "    warehouse_wid_inches = width * 12\n",
    "    warehouse_ht_inches = height * 12\n",
    "    \n",
    "    boxes_across = warehouse_len_inches // 16\n",
    "    boxes_deep = warehouse_wid_inches // 16\n",
    "    boxes_height = warehouse_ht_inches // 16\n",
    "    \n",
    "    num_boxes = boxes_across * boxes_deep * boxes_height\n",
    "    return num_boxes\n",
    "    \n",
    "print(box_capacity(32, 64, 16))\n",
    "print(box_capacity(20, 20, 20))\n",
    "print(box_capacity(80, 40, 20))"
   ]
  },
  {
   "cell_type": "code",
   "execution_count": 19,
   "metadata": {
    "collapsed": false
   },
   "outputs": [
    {
     "name": "stdout",
     "output_type": "stream",
     "text": [
      "[-0.06299606299409444, -7.937003937005906]\n"
     ]
    }
   ],
   "source": [
    "\"\"\"\n",
    "Quadratic formula\n",
    "\n",
    "Remember all those quadratic equations you had to solve by hand in highschool? \n",
    "Well, no more! You're going to solve all the quadratic equations you might ever[1] \n",
    "have to wrangle with in the future once and for all by coding up the quadratic formula \n",
    "to handle them automatically.\n",
    "\n",
    "Write a function quadratic_formula() that takes three arguments, a, b, and c that represent \n",
    "the coefficients in a formula of the form ax^2 + bx + c = 0. \n",
    "\n",
    "Your function shoud return a list with two elements where each element is one of the two roots. \n",
    "If the formula produces a double root the result should be a list where both elements are \n",
    "that value.\n",
    "\n",
    "sqrt = b**0.5\n",
    "\n",
    "root1 = (-b + sqrt(b**2 - 4 * a * c))/2 * a\n",
    "root2 = (-b - sqrt(b**2 - 4 * a * c))/2 * a\n",
    "\n",
    "For example, quadratic_formula(2, 16, 1) should return the list \n",
    "[-0.06299606299409444, -7.937003937005906]. The order of the roots is not important.\n",
    "\n",
    "[1] Well, not ever ever. You don't need to worry about getting quadratic equations \n",
    "with complex roots where you need the square root of a negative number. \n",
    "All the test cases will be for equations with real roots.\n",
    "\n",
    "\n",
    "test_roots(quadratic_formula(2, 16, 1), [-7.937003937005906, -0.06299606299409444])\n",
    "test_roots(quadratic_formula(4, 21, 3), [-5.103028450199876, -0.14697154980012384])\n",
    "test_roots(quadratic_formula(6, 81, 3), [-13.462860791048776, -0.037139208951224134])\n",
    "\n",
    "\"\"\"\n",
    "import math\n",
    "def quadratic_formula(a, b, c):\n",
    "    \n",
    "    root1 = (-b + math.sqrt(((b ** 2) - (4 * a * c)))) / (2 * a)\n",
    "    root2 = (-b - math.sqrt(((b ** 2) - (4 * a * c)))) / (2 * a)\n",
    "    \n",
    "    return [root1, root2]\n",
    "\n",
    "\n",
    "print(quadratic_formula(2, 16, 1)) "
   ]
  },
  {
   "cell_type": "code",
   "execution_count": null,
   "metadata": {
    "collapsed": true
   },
   "outputs": [],
   "source": []
  },
  {
   "cell_type": "code",
   "execution_count": null,
   "metadata": {
    "collapsed": true
   },
   "outputs": [],
   "source": []
  }
 ],
 "metadata": {
  "kernelspec": {
   "display_name": "Python 3",
   "language": "python",
   "name": "python3"
  },
  "language_info": {
   "codemirror_mode": {
    "name": "ipython",
    "version": 3
   },
   "file_extension": ".py",
   "mimetype": "text/x-python",
   "name": "python",
   "nbconvert_exporter": "python",
   "pygments_lexer": "ipython3",
   "version": "3.6.0"
  }
 },
 "nbformat": 4,
 "nbformat_minor": 2
}
