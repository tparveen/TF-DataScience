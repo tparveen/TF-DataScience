{
 "cells": [
  {
   "cell_type": "code",
   "execution_count": 1,
   "metadata": {
    "collapsed": false
   },
   "outputs": [
    {
     "name": "stdout",
     "output_type": "stream",
     "text": [
      "yellow\n",
      "red\n",
      "green\n"
     ]
    }
   ],
   "source": [
    "\"\"\"\n",
    "You're writing code to control your town's traffic lights. \n",
    "You need a function to handle each change from green, to yellow, to red, and then to green \n",
    "again.\n",
    "\n",
    "Complete the function that takes a string as an argument representing the current state \n",
    "of the light and returns a string representing the state the light should change to.\n",
    "\n",
    "For example, update_light('green') should return 'yellow'.\n",
    "\n",
    "\"\"\"\n",
    "def update_light(current):\n",
    "    if current.lower() == 'green':\n",
    "        return 'yellow'\n",
    "    elif current.lower() == 'yellow':\n",
    "        return 'red'\n",
    "    elif current.lower() == 'red':\n",
    "        return 'green'\n",
    "    else:\n",
    "        return 'not the correct light'\n",
    "    \n",
    "    \n",
    "print(update_light('green'))\n",
    "print(update_light('yellow'))\n",
    "print(update_light('red'))"
   ]
  },
  {
   "cell_type": "code",
   "execution_count": 32,
   "metadata": {
    "collapsed": false
   },
   "outputs": [
    {
     "name": "stdout",
     "output_type": "stream",
     "text": [
      "False\n",
      "True\n",
      "False\n"
     ]
    }
   ],
   "source": [
    "\"\"\"\n",
    "Umbrella decider\n",
    " \n",
    "Write a function take_umbrella() that takes two arguments: a string representing the current \n",
    "weather and a float representing the chance of rain today.\n",
    "\n",
    "Your function should return True or False based on the following criteria.\n",
    "\n",
    "You should take an umbrella if it's currently raining or if it's cloudy \n",
    "and the chance of rain is over 0.20.\n",
    "\n",
    "You shouldn't take an umbrella if it's sunny unless it's more likely to rain than not.\n",
    "The options for the current weather are sunny, cloudy, and rainy.\n",
    "\n",
    "For example, take_umbrella('sunny', 0.40) should return False.\n",
    "\n",
    "As an additional challenge, consider solving this kata using only logical operaters \n",
    "and not using any if statements.\n",
    "\n",
    "\"\"\"\n",
    "def take_umbrella(weather, rain_chance):\n",
    "    return (weather == 'rainy' or (weather == 'cloudy' and (rain_chance > 0.20))) or (weather == 'sunny' and rain_chance > 0.5)  \n",
    "print(take_umbrella('sunny', 0.40))\n",
    "print(take_umbrella('rainy', 0.0))\n",
    "print(take_umbrella('cloudy', 0.20))\n"
   ]
  },
  {
   "cell_type": "code",
   "execution_count": 33,
   "metadata": {
    "collapsed": false
   },
   "outputs": [
    {
     "name": "stdout",
     "output_type": "stream",
     "text": [
      "4.414\n",
      "None\n",
      "None\n"
     ]
    }
   ],
   "source": [
    "\"\"\"\n",
    "Graceful addition\n",
    "\n",
    "You like the way the Python + operator easily handles adding different numeric types, \n",
    "but you need a tool to do that kind of addition without killing your program with a \n",
    "TypeError exception whenever you accidentally try adding incompatible types like strings \n",
    "and lists to numbers.\n",
    "\n",
    "You decide to write a function my_add() that takes two arguments. \n",
    "If the arguments can be added together it returns the sum. If adding the arguments \n",
    "together would raise an error the function should return None instead.\n",
    "\n",
    "For example, my_add(1, 3.414) would return 4.414, but my_add(42, \" is the answer.\") \n",
    "would return None.\n",
    "\n",
    "Hint: using a try / except statement may simplify this kata.\n",
    "\n",
    "\"\"\"\n",
    "def my_add(a, b):\n",
    "    try:\n",
    "        return a+b\n",
    "    except TypeError:\n",
    "        return None\n",
    "\n",
    "print(my_add(1, 3.414))\n",
    "print(my_add(42, \" is the answer.\"))\n",
    "print(my_add(10, \"2\"))"
   ]
  },
  {
   "cell_type": "code",
   "execution_count": 36,
   "metadata": {
    "collapsed": false
   },
   "outputs": [
    {
     "name": "stdout",
     "output_type": "stream",
     "text": [
      "0.57\n",
      "0.14\n",
      "0.33\n"
     ]
    }
   ],
   "source": [
    "\"\"\"\n",
    "Red and bumpy\n",
    "\n",
    "You're playing a game with a friend involving a bag of marbles. In the bag are ten marbles:\n",
    "\n",
    "1 smooth red marble -> \n",
    "4 bumpy red marbles\n",
    "2 bumpy yellow marbles\n",
    "1 smooth yellow marble\n",
    "1 bumpy green marble\n",
    "1 smooth green marble\n",
    "\n",
    "You can see that the probability of picking a smooth red marble from the bag \n",
    "is 1 / 10 or 0.10 and the probability of picking a bumpy yellow marble is 2 / 10 or 0.20.\n",
    "\n",
    "The game works like this: your friend puts her hand in the bag, chooses a marble \n",
    "(without looking at it) and tells you whether it's bumpy or smooth. Then you have \n",
    "to guess which color it is before she pulls it out and reveals whether you're correct or not.\n",
    "\n",
    "You know that the information about whether the marble is bumpy or smooth changes \n",
    "the probability of what color it is, and you want some help with your guesses.\n",
    "\n",
    "Write a function color_probability() that takes two arguments: \n",
    "a color ('red', 'yellow', or 'green') and a texture ('bumpy' or 'smooth') \n",
    "and returns the probability as a decimal fraction accurate to two places.\n",
    "\n",
    "The probability should be a string and should discard any digits after the 100ths place. \n",
    "For example, 2 / 3 or 0.6666666666666666 would become the string '0.66'. \n",
    "Note this is different from rounding.\n",
    "\n",
    "As a complete example, color_probability('red', 'bumpy') should return the string '0.57'.\n",
    "\n",
    "\"\"\"\n",
    "\n",
    "\"\"\"\n",
    "bumpy total: 7\n",
    "bumpy red: 4  bumpy yellow: 2 bumpy green: 1\n",
    "\n",
    "smooth total: 3\n",
    "smooth red: 1 smooth yellow: 1 smooth green: 1\n",
    "\n",
    "\n",
    "\"\"\"\n",
    "\n",
    "def color_probability(color, texture):\n",
    "    if color == 'red':\n",
    "        if texture == 'bumpy':\n",
    "            result = 4/7\n",
    "        else:\n",
    "            result = 1/3\n",
    "    elif color == 'yellow':\n",
    "        if texture == 'bumpy':\n",
    "            result = 2/7\n",
    "        else:\n",
    "            result = 1/3\n",
    "    else:\n",
    "        if texture == 'bumpy':\n",
    "            result = 1/7\n",
    "        else:\n",
    "            result = 1/3\n",
    "            \n",
    "    return str(result)[:4]\n",
    "        \n",
    "print(color_probability('red', 'bumpy'))\n",
    "print(color_probability('green', 'bumpy'))\n",
    "print(color_probability('yellow', 'smooth'))"
   ]
  },
  {
   "cell_type": "code",
   "execution_count": 44,
   "metadata": {
    "collapsed": false
   },
   "outputs": [
    {
     "name": "stdout",
     "output_type": "stream",
     "text": [
      "Needs review\n",
      "Fine\n",
      "Fine\n",
      "Pants on fire\n"
     ]
    }
   ],
   "source": [
    "\"\"\"\n",
    "Hacking p-hackers\n",
    "\n",
    "As a member of the editorial board of the prestigous scientific Journal Proceedings of \n",
    "the National Academy of Sciences, you've decided to go back and review how well old \n",
    "articles you've published stand up to modern publication best practices. Specifically, \n",
    "you'd like to re-evaluate old findings in light of recent literature about \"researcher \n",
    "degrees of freedom\".\n",
    "\n",
    "You want to categorize all the old articles into three groups: \"Fine\", \"Needs review\" \n",
    "and \"Pants on fire\".\n",
    "\n",
    "In order to categorize them you've enlisted an army of unpaid grad students to review \n",
    "and give you two data points from each study: (1) the p-value behind the paper's primary \n",
    "conclusions, and (2) the number of recommended author requirements to limit researcher \n",
    "degrees of freedom the authors satisfied:\n",
    "\n",
    "* Authors must decide the rule for terminating data collection before data collection \n",
    "begins and report this rule in the article.\n",
    "\n",
    "* Authors must collect at least 20 observations per cell or else provide a compelling \n",
    "cost-of-data-collection justification. \n",
    "\n",
    "* Authors must list all variables collected in a study.\n",
    "* Authors must report all experimental conditions, including failed manipulations.\n",
    "* If observations are eliminated, authors must also report what the statistical results \n",
    "are if those observations are included.\n",
    "* If an analysis includes a covariate, authors must report the statistical results \n",
    "of the analysis without the covariate.\n",
    "Your army of tenure-hungry grad students will give you the p-value as a float between \n",
    "1.0 and 0.0 exclusive, and the number of author requirements satisfied as an integer \n",
    "from 0 through 6 inclusive.\n",
    "\n",
    "You've decided to write a function, categorize_study() to automatically categorize each \n",
    "study based on these two inputs using the completely scientifically legitimate \"bs-factor\". \n",
    "The bs-factor for a particular paper is calculated as follows:\n",
    "\n",
    "bs-factor when the authors satisfy all six requirements is 1\n",
    "bs-factor when the authors satisfy only five requirements is 2\n",
    "bs-factor when the authors satisfy only four requirements is 4\n",
    "bs-factor when the authors satisfy only three requirements is 8...\n",
    "Your function should multiply the p-value by the bs-factor and use that product to return \n",
    "one of the following strings:\n",
    "\n",
    "product is less than 0.05: \"Fine\"\n",
    "product is 0.05 to 0.15: \"Needs review\"\n",
    "product is 0.15 or higher: \"Pants on fire\"\n",
    "\n",
    "You've also decided that all studies meeting none of the author requirements that would \n",
    "have been categorized as \"Fine\" should instead be categorized as \"Needs review\".\n",
    "\n",
    "For example:\n",
    "\n",
    "categorize_study(0.01, 3) should return \"Needs review\" because the p-value times the \n",
    "bs-factor is 0.08.\n",
    "\n",
    "categorize_study(0.04, 6) should return \"Fine\" because the p-value times the \n",
    "bs-factor is only 0.04.\n",
    "\n",
    "categorize_study(0.0001, 0) should return \"Needs review\" even though the p-value times the \n",
    "bs-factor is only 0.0064.\n",
    "\n",
    "categorize_study(0.012, 0) should return \"Pants on fire\" because the p-value times the \n",
    "bs-factor is 0.768.\n",
    "\n",
    "\n",
    "Test.assert_equals(categorize_study(0.01, 3), \"Needs review\")\n",
    "Test.assert_equals(categorize_study(0.04, 6), \"Fine\")\n",
    "Test.assert_equals(categorize_study(0.0001, 0), \"Needs review\")\n",
    "Test.assert_equals(categorize_study(0.012, 0), \"Pants on fire\")\n",
    "\n",
    "\n",
    "\"\"\"\n",
    "\n",
    "def categorize_study(p_value, requirements):\n",
    "    bs_factor = 2 ** (6-requirements)\n",
    "    product = p_value * bs_factor\n",
    "    \n",
    "    if(product <0.05):\n",
    "        result = 'Fine'\n",
    "    elif (product >= 0.05 and product <0.15): #or (bs_factor == None):\n",
    "        result = 'Needs review'\n",
    "    else:\n",
    "        result = 'Pants on fire'\n",
    "    if (requirements == 0 and result == 'Fine'):\n",
    "        result = 'Needs review'\n",
    "    return\n",
    "        \n",
    "\n",
    "print(categorize_study(0.01, 3))\n",
    "print(categorize_study(0.04, 6))\n",
    "print(categorize_study(0.0001, 0))\n",
    "print(categorize_study(0.012, 0))"
   ]
  },
  {
   "cell_type": "code",
   "execution_count": null,
   "metadata": {
    "collapsed": true
   },
   "outputs": [],
   "source": []
  }
 ],
 "metadata": {
  "kernelspec": {
   "display_name": "Python 3",
   "language": "python",
   "name": "python3"
  },
  "language_info": {
   "codemirror_mode": {
    "name": "ipython",
    "version": 3
   },
   "file_extension": ".py",
   "mimetype": "text/x-python",
   "name": "python",
   "nbconvert_exporter": "python",
   "pygments_lexer": "ipython3",
   "version": "3.6.0"
  }
 },
 "nbformat": 4,
 "nbformat_minor": 2
}
