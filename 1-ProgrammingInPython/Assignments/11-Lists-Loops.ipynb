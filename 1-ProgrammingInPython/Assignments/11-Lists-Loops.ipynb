{
 "cells": [
  {
   "cell_type": "code",
   "execution_count": 9,
   "metadata": {
    "collapsed": false
   },
   "outputs": [
    {
     "name": "stdout",
     "output_type": "stream",
     "text": [
      "7\n"
     ]
    }
   ],
   "source": [
    "\"\"\"\n",
    "Longest word\n",
    "\n",
    "Complete the function that takes one argument, a list of words, and returns the length \n",
    "of the longest word in the list.\n",
    "\n",
    "For example:\n",
    "['simple', 'is', 'better', 'than', 'complex'] ==> 7\n",
    "\n",
    "test.assert_equals(longest(['simple', 'is', 'better', 'than', 'complex']), 7)\n",
    "test.assert_equals(longest(['explicit', 'is', 'better', 'than', 'implicit']), 8)\n",
    "test.assert_equals(longest(['beautiful', 'is', 'better', 'than', 'ugly']), 9)\n",
    "\n",
    "\"sample solution\"\n",
    "def longest(words):\n",
    "    result = 0\n",
    "    for word in words:\n",
    "        if len(word) > result:\n",
    "            result = len(word)\n",
    "    return result\n",
    "\n",
    "\"\"\"\n",
    "def longest(words):\n",
    "    longest_word = 0\n",
    "    for word in words:\n",
    "        word_len = len(word)\n",
    "        if(longest_word < word_len):\n",
    "            longest_word = word_len\n",
    "        \n",
    "    return longest_word\n",
    "    \n",
    "print(longest(['simple', 'is', 'better', 'than', 'complex']))   "
   ]
  },
  {
   "cell_type": "code",
   "execution_count": 38,
   "metadata": {
    "collapsed": false
   },
   "outputs": [
    {
     "name": "stdout",
     "output_type": "stream",
     "text": [
      "A\n",
      "C\n",
      "F\n"
     ]
    }
   ],
   "source": [
    "\"\"\"\n",
    "Grade calculator\n",
    "\n",
    "You're a statistics professor and the deadline for submitting your students' grades is tonight \n",
    "at midnight. Each student's grade is determined by their mean score across all of the tests \n",
    "they took this semester.\n",
    "\n",
    "You've decided to automate grade calculation by writing a function calculate_grade() \n",
    "that takes a list of test scores as an argument and returns a one character string \n",
    "representing the student's grade calculated as follows:\n",
    "\n",
    "90% <= mean score <= 100%: \"A\",\n",
    "80% <= mean score < 90%: \"B\",\n",
    "70% <= mean score < 80%: \"C\",\n",
    "60% <= mean score < 70%: \"D\",\n",
    "mean score < 60%: \"F\"\n",
    "\n",
    "For example, calculate_grade([92, 94, 99]) would return \"A\" since the mean score is 95, \n",
    "and calculate_grade([50, 60, 70, 80, 90]) would return \"C\" since the mean score is 70.\n",
    "\n",
    "Your function should handle an input list of any length greater than zero.\n",
    "\n",
    "test.assert_equals(calculate_grade([92, 94, 99]), \"A\")\n",
    "test.assert_equals(calculate_grade([50, 60, 70, 80, 90]), \"C\")\n",
    "test.assert_equals(calculate_grade([50, 55]), \"F\")\n",
    "\n",
    "\"sample solution\"\n",
    "\n",
    "def calculate_grade(scores):\n",
    "    total = 0\n",
    "    for score in scores:\n",
    "        total += score\n",
    "    mean_score = total / len(scores)\n",
    "\n",
    "    if mean_score >= 90:\n",
    "        return \"A\"\n",
    "    elif mean_score >= 80:\n",
    "        return \"B\"\n",
    "    elif mean_score >= 70:\n",
    "        return \"C\"\n",
    "    elif mean_score >= 60:\n",
    "        return \"D\"\n",
    "    else:\n",
    "        return \"F\"\n",
    "\n",
    "\"\"\"\n",
    "def calculate_grade(scores):\n",
    "    total = 0\n",
    "    mean_score = 0\n",
    "    for score in scores:\n",
    "        total = (total + score) \n",
    "    \n",
    "    mean_score = total // len(scores)\n",
    "    if(mean_score >= 90 and mean_score <= 100):\n",
    "        return 'A'\n",
    "    elif(mean_score >= 80 and mean_score < 90):\n",
    "        return 'B'\n",
    "    elif(mean_score >= 70 and mean_score < 80):\n",
    "        return 'C'\n",
    "    elif(mean_score >= 60 and mean_score < 70):\n",
    "        return 'D'\n",
    "    else:\n",
    "        return 'F'\n",
    "            \n",
    "    \n",
    "print(calculate_grade([92, 94, 99]))\n",
    "print(calculate_grade([50, 60, 70, 80, 90]))\n",
    "print(calculate_grade([50, 55]))"
   ]
  },
  {
   "cell_type": "code",
   "execution_count": 79,
   "metadata": {
    "collapsed": false
   },
   "outputs": [
    {
     "name": "stdout",
     "output_type": "stream",
     "text": [
      "3\n",
      "28\n"
     ]
    }
   ],
   "source": [
    "\"\"\"\n",
    "Lists of lists\n",
    "\n",
    "You have a two-dimensional list in the following format:\n",
    "\n",
    "data = [[2, 5], [3, 4], [8, 7]]\n",
    "\n",
    "Each sub-list contains two items, and each item in the sub-lists is an integer.\n",
    "\n",
    "    0   1\n",
    "    \n",
    "0   2   5 \n",
    "\n",
    "1   3   4\n",
    "\n",
    "2   8   7\n",
    "  \n",
    "\n",
    "Write a function process_data() that processes each sub-list like so:\n",
    "\n",
    "[2, 5] --> 2 - 5 --> -3\n",
    "[3, 4] --> 3 - 4 --> -1\n",
    "[8, 7] --> 8 - 7 --> 1\n",
    "and then returns the product of all the processed sub-lists: -3 * -1 * 1 --> 3.\n",
    "\n",
    "For input, you can trust that neither the main list nor the sublists will be empty.\n",
    "\n",
    "test.assert_equals(process_data([[2, 5], [3, 4], [8, 7]]), 3)\n",
    "test.assert_equals(process_data([[2, 9], [2, 4], [7, 5]]), 28)\n",
    "\n",
    "solution is different\n",
    "\n",
    "def process_data(data):\n",
    "    result = 1\n",
    "    differences = []\n",
    "\n",
    "    for sub_list in data:\n",
    "        differences.append(sub_list[0] - sub_list[1])\n",
    "\n",
    "    for difference in differences:\n",
    "        result *= difference\n",
    "\n",
    "    return result\n",
    "\n",
    "\"\"\"\n",
    "\n",
    "\n",
    "def process_data(data):\n",
    "    product = 1\n",
    "    for n in data: \n",
    "        product *= n[0] - n[1]\n",
    "    \n",
    "    return product\n",
    "       \n",
    "\n",
    "print(process_data([[2, 5], [3, 4], [8, 7]]))\n",
    "print(process_data([[2, 9], [2, 4], [7, 5]]))\n",
    "    "
   ]
  },
  {
   "cell_type": "code",
   "execution_count": 8,
   "metadata": {
    "collapsed": false
   },
   "outputs": [
    {
     "name": "stdout",
     "output_type": "stream",
     "text": [
      "[12, 14, 55, 24]\n",
      "[72, 55, 24]\n",
      "['Intuition', 'is', 'a', 'poor', 'guide']\n"
     ]
    }
   ],
   "source": [
    "\"\"\"\n",
    "Inverse slicer\n",
    "\n",
    "You're familiar with list slicing in Python and know, for example, that:\n",
    "\n",
    ">>> ages = [12, 14, 63, 72, 55, 24]\n",
    ">>> ages[2:4]\n",
    "[63, 72]\n",
    "\n",
    ">>> ages[2:]\n",
    "[63, 72, 55, 24]\n",
    "\n",
    ">>> ages[:3]\n",
    "[12, 14, 63]\n",
    "\n",
    "write a function inverse_slice() that takes three arguments: a list items, an integer a and \n",
    "an integer b. \n",
    "\n",
    "The function should return a new list with the slice specified by items[a:b] \n",
    "excluded. For example:\n",
    "\n",
    ">>>inverse_slice([12, 14, 63, 72, 55, 24], 2, 4)\n",
    "[12, 14, 55, 24]\n",
    "\n",
    "The input will always be a valid list, a and b will always be different integers equal to \n",
    "or greater than zero, but they may be zero or be larger than the length of the list.\n",
    "\n",
    "\n",
    "test.assert_equals(inverse_slice([12, 14, 63, 72, 55, 24], 2, 4), [12, 14, 55, 24])\n",
    "test.assert_equals(inverse_slice([12, 14, 63, 72, 55, 24], 0, 3), [72, 55, 24])\n",
    "test.assert_equals(inverse_slice(['Intuition', 'is', 'a', 'poor', 'guide', 'when', \n",
    "    'facing', 'probabilistic', 'evidence'], 5, 13), ['Intuition', 'is', 'a', 'poor', 'guide'])\n",
    "\n",
    "\n",
    "\"solution is different \"\n",
    "\n",
    "def inverse_slice(items, a, b):\n",
    "    return items[:a] + items[b:]\n",
    "\n",
    "\"\"\"\n",
    "\n",
    "def inverse_slice(items, a, b):\n",
    "    items_to_remove = items[a:b]\n",
    "    for n in items_to_remove:\n",
    "        items.remove(n)\n",
    "    return items\n",
    "    \n",
    "    \n",
    "    \n",
    "print(inverse_slice([12, 14, 63, 72, 55, 24], 2, 4)) # [12, 14, 55, 24]\n",
    "print(inverse_slice([12, 14, 63, 72, 55, 24], 0, 3)) # [72, 55, 24]\n",
    "print(inverse_slice(['Intuition', 'is', 'a', 'poor', 'guide', 'when', 'facing', 'probabilistic', 'evidence'], 5, 13))\n",
    "    # ['Intuition', 'is', 'a', 'poor', 'guide']"
   ]
  },
  {
   "cell_type": "code",
   "execution_count": null,
   "metadata": {
    "collapsed": true
   },
   "outputs": [],
   "source": []
  }
 ],
 "metadata": {
  "kernelspec": {
   "display_name": "Python 3",
   "language": "python",
   "name": "python3"
  },
  "language_info": {
   "codemirror_mode": {
    "name": "ipython",
    "version": 3
   },
   "file_extension": ".py",
   "mimetype": "text/x-python",
   "name": "python",
   "nbconvert_exporter": "python",
   "pygments_lexer": "ipython3",
   "version": "3.6.0"
  }
 },
 "nbformat": 4,
 "nbformat_minor": 2
}
