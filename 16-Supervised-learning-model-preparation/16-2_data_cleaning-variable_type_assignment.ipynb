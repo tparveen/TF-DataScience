{
 "cells": [
  {
   "cell_type": "markdown",
   "metadata": {
    "collapsed": true
   },
   "source": [
    "### Variables\n",
    "\n",
    "Continuous: Potentially unlimited number of values\n",
    "    * Interval \n",
    "        - No absolute 0\n",
    "        - Distances between numbers is contant\n",
    "        - Temperature, Dates, Time\n",
    "    \n",
    "    * Ratio\n",
    "        - There is absolute 0\n",
    "        - 2x number means 2x stuff\n",
    "        - distance, quantities\n",
    "\n",
    "Categorical\n",
    "    * Nominal\n",
    "        - Sorting is not meaningful\n",
    "        - Categories are unordered\n",
    "        - fruit, street names, ID numbers\n",
    "    \n",
    "    \n",
    "    * Ordinal\n",
    "        - sorting is meaningful\n",
    "        - not a constant different between values\n",
    "        - Grade, race results, severity\n",
    "    \n",
    "\n",
    "### Assignment\n",
    "\n",
    "You will see the benefits of transforming continuous variables into categorical variables when we begin to model the data. For now, let's continue to practice identifying variable types. To complete this assignment, submit a Gist file or enter your answers directly below to the following questions:\n",
    "\n",
    "1) Consider the advantages and disadvantages of treating the Rank variable as categorical. Discuss your arguments with your mentor.\n",
    "\n",
    "Advantages: If you treat it as categorical, the rank ordering could be meaningful. Higher rank could mean better video\n",
    "\n",
    "Disadvantages:\n",
    "\n",
    "\n",
    "****** I don't understand the solution given \n",
    "If we treat rank as categorical, then we give up the information in the distances between the ranks and treat each rank as a seperate category with an ordinal relationship. In this sense, we lose some information (the meaning of the distances between the ranks). However, this may be advantageous in some cases.\n",
    "\n",
    "\n",
    "2) What are the types of the following variables?\n",
    "\n",
    "* Age: Age is a continuous ratio variable. This is because, there is an absolute zero possible in age. There is someone with age 0 sho is not born yet. Also ther eis meaninful incremental values. For example someone with 20 years age is twice as old as someone with 10 years old and has live 10 years more.\n",
    "\n",
    "* Salary: Ordinal categorical variable. This is because you can can divide salaries into categories and even position based on salaries and sorting that is meaningful. \n",
    "\n",
    "**** Solution: Salary: It's a continuous ratio variable.\n",
    "\n",
    "* Revenue: continuous ratio variable. You can have unlimited revenue really. There is absolute 0. and 2x revenue means 2x more business. \n",
    "\n",
    "\n",
    "* Customer type: Ordinal categorical variable. This is because the order of the category is important. For example is a customer is of high value, then they can get more benefit and we can incentivise to keep him as customer.\n",
    "\n",
    "**** solution: It's a nominal categorical variable.\n",
    "\n",
    "\n",
    "* Stock price: continuous ratio variable. This is because stock price can go on forever without any limit. Also there can be absolute zero. Stock price can be 0 and 2x rise in stock price means 2x the profite. Therefore it is Ratio continuous variable."
   ]
  },
  {
   "cell_type": "code",
   "execution_count": null,
   "metadata": {
    "collapsed": true
   },
   "outputs": [],
   "source": []
  }
 ],
 "metadata": {
  "kernelspec": {
   "display_name": "Python 3",
   "language": "python",
   "name": "python3"
  },
  "language_info": {
   "codemirror_mode": {
    "name": "ipython",
    "version": 3
   },
   "file_extension": ".py",
   "mimetype": "text/x-python",
   "name": "python",
   "nbconvert_exporter": "python",
   "pygments_lexer": "ipython3",
   "version": "3.6.0"
  }
 },
 "nbformat": 4,
 "nbformat_minor": 2
}
