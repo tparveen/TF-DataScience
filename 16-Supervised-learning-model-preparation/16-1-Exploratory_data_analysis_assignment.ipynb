{
 "cells": [
  {
   "cell_type": "markdown",
   "metadata": {},
   "source": [
    "### Assignment\n",
    "\n",
    "\n",
    "* What is the goal of EDA (exploratory data analysis)?\n",
    "\n",
    "* Suppose that you are given a dataset of customer product reviews for an e-commerce company. Each review is scored as a Likert-style survey item where 1 indicates a negative sentiment about the product and a 5 is positive. These reviews are collected on the company's website. \n",
    "\n",
    "a. What problems do you expect to find in the raw data? \n",
    "\n",
    "b. If your task is to build features that give information about customer sentiments, how would you approach this task and what kind of methods would you apply to accomplish it? \n",
    "\n",
    "c. Try to identify some potentially useful features that you might derive from the raw data. How would you derive them and how would you assess the usefulness of those features?\n",
    "\n",
    "https://courses.thinkful.com/dsbc-model-prep-v1/checkpoint/1\n",
    "https://github.com/Thinkful-Ed/data-201-assignment-solutions/blob/master/model_prep_exploratory_data_analysis/what_is_exploratory_data_analysis_solution.ipynb\n"
   ]
  },
  {
   "cell_type": "markdown",
   "metadata": {},
   "source": [
    "### Steps to EDA - exploratory Data Analysis\n",
    "\n",
    "1) Data cleaning: This is the first step of EDA. We take a raw dataset and eliminate problems which would prevent us from further analysis.\n",
    "\n",
    "2) Data exploration: The second step is exploring the data to discover relationships and features. We will explore the data using both statistics and data visualization. If we identify new problems in the data during exploration, we will go back to the cleaning phase and eliminate these identified problems.\n",
    "\n",
    "3) Feature engineering: The final step of EDA is the feature engineering, where we select the most useful features or create new features from the existing ones. This phase leads us to the next phases of the data-science pipeline. However, if we detect some problems with the data in this phase, we return to the data-cleaning step. Moreover, if we transform existing features or create new ones, we will need to go back to the data-exploration phase to investigate them."
   ]
  },
  {
   "cell_type": "markdown",
   "metadata": {
    "collapsed": true
   },
   "source": [
    "1. What is the goal of EDA (exploratory data analysis)?\n",
    "\n",
    "The goal of EDA is \n",
    "* to discover insights in data\n",
    "* indentify patterns from the data\n",
    "* establish relationships and trends from the data\n",
    "* test any assumptions that we make and see if the data shows us otherwise\n",
    "* it also involves cleaning data to improve quality of the data\n",
    "* EDA is a combination of data cleaning, data exploration and feature engineering."
   ]
  },
  {
   "cell_type": "markdown",
   "metadata": {
    "collapsed": true
   },
   "source": [
    "2. Suppose that you are given a dataset of customer product reviews for an e-commerce company. Each review is scored as a Likert-style survey item where 1 indicates a negative sentiment about the product and a 5 is positive. These reviews are collected on the company's website.\n"
   ]
  },
  {
   "cell_type": "markdown",
   "metadata": {},
   "source": [
    "2. a. What problems do you expect to find in the raw data?\n",
    "\n",
    "* The assumption here is that the survey asks various likes/dislikes in numbers - for example\n",
    "Very satisfied\n",
    "Somewhat satisfied\n",
    "Neither satisfied nor dissatisfied\n",
    "Somewhat dissatisfied\n",
    "Very dissatisfied\n",
    "\n",
    "so when this is gathered, its gathered as 5-1. If its not, then the conversion should be done to make use of the data.\n",
    "\n",
    "- if fields in the reviews are not mandatory, then reviewers may not fill them and the data will have a lot of null fields"
   ]
  },
  {
   "cell_type": "markdown",
   "metadata": {},
   "source": [
    "2. b. If your task is to build features that give information about customer sentiments, how would you approach this task and what kind of methods would you apply to accomplish it?\n",
    "\n",
    "* First step would be to look at the data and play with it to see if the data needs cleaning. This could include loading the data in a dataframe and printing the first few rows. Looking to see if there are null rows and columns. \n",
    "* If the data needs cleaning, effort should be put to do basic cleaning, removing whitespaces, taking care of null values, making sure correct formats are there like date, numbers etc.\n",
    "* Then it would be useful to run some basic statictistics like mean, median, mode, std deviation. \n",
    "* PLotting the data would be helpful and using certain plots like box plots to see if there are outliers.\n",
    "* Since this is a Likert-style - definately plot bar chart to see the numbers in each 5 categories. (1-5)"
   ]
  },
  {
   "cell_type": "markdown",
   "metadata": {},
   "source": [
    "2. c. Try to identify some potentially useful features that you might derive from the raw data. How would you derive them and how would you assess the usefulness of those features?\n",
    "\n",
    "* Would be interesting to look at the data for the 5s and the 1s. what were the circumstances that lead to a 5 and similarly that lead to 1s?"
   ]
  },
  {
   "cell_type": "markdown",
   "metadata": {},
   "source": [
    "The solution seems to be outdated and not very useful IMO - https://github.com/Thinkful-Ed/data-201-assignment-solutions/blob/master/model_prep_exploratory_data_analysis/what_is_exploratory_data_analysis_solution.ipynb"
   ]
  }
 ],
 "metadata": {
  "kernelspec": {
   "display_name": "Python 3",
   "language": "python",
   "name": "python3"
  },
  "language_info": {
   "codemirror_mode": {
    "name": "ipython",
    "version": 3
   },
   "file_extension": ".py",
   "mimetype": "text/x-python",
   "name": "python",
   "nbconvert_exporter": "python",
   "pygments_lexer": "ipython3",
   "version": "3.6.0"
  }
 },
 "nbformat": 4,
 "nbformat_minor": 2
}
