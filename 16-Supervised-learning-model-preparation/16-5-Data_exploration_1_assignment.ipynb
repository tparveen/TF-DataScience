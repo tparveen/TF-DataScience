{
 "cells": [
  {
   "cell_type": "markdown",
   "metadata": {
    "collapsed": true
   },
   "source": [
    "## Assignment\n",
    "\n",
    "In this assignment, you'll continue working with the U.S. Education Dataset from Kaggle. The data gives detailed state level information on the several facets of the state of education on an annual basis. To learn more about the data and the column descriptions, you can view the Kaggle link above. You should access the data from the Thinkful database. Here's the credentials you can use to connect to the database:\n",
    "\n",
    "-postgres_user = 'dsbc_student'\n",
    "-postgres_pw = '7*.8G9QH21'\n",
    "-postgres_host = '142.93.121.174'\n",
    "-postgres_port = '5432'\n",
    "-postgres_db = 'useducation'\n",
    "\n",
    "Don't forget to apply the most suitable missing value filling techniques you applied in the previous checkpoint to the data. You're supposed to provide your answers to the following questions after you handled the missing values.\n",
    "\n",
    "To complete this assignment, submit a link to a Jupyter notebook containing your solutions to the following tasks:\n"
   ]
  },
  {
   "cell_type": "code",
   "execution_count": 1,
   "metadata": {
    "collapsed": true
   },
   "outputs": [],
   "source": [
    "import pandas as pd\n",
    "import numpy as np\n",
    "from sqlalchemy import create_engine\n",
    "import warnings\n",
    "import matplotlib.pyplot as plt\n",
    "from scipy.stats import zscore\n",
    "from scipy.stats.mstats import winsorize\n",
    "\n",
    "warnings.filterwarnings('ignore')"
   ]
  },
  {
   "cell_type": "code",
   "execution_count": 2,
   "metadata": {
    "collapsed": true
   },
   "outputs": [],
   "source": [
    "postgres_user = 'dsbc_student'\n",
    "postgres_pw = '7*.8G9QH21'\n",
    "postgres_host = '142.93.121.174'\n",
    "postgres_port = '5432'\n",
    "postgres_db = 'useducation'"
   ]
  },
  {
   "cell_type": "code",
   "execution_count": 3,
   "metadata": {
    "collapsed": true
   },
   "outputs": [],
   "source": [
    "engine = create_engine('postgresql://{}:{}@{}:{}/{}'.format(\n",
    "    postgres_user, postgres_pw, postgres_host, postgres_port, postgres_db))\n",
    "\n",
    "df = pd.read_sql_query('select * from useducation',con=engine)\n",
    "\n",
    "# no need for an open connection, \n",
    "# as we're only doing a single query\n",
    "engine.dispose()"
   ]
  },
  {
   "cell_type": "code",
   "execution_count": 8,
   "metadata": {
    "collapsed": false
   },
   "outputs": [],
   "source": [
    "# taking care of missing values by interpolation\n",
    "df_education = df.copy()\n",
    "\n",
    "#make a list of the columns that has missing values and we want to keep them\n",
    "list_to_keep = ['ENROLL', 'TOTAL_REVENUE', 'FEDERAL_REVENUE', 'STATE_REVENUE', 'LOCAL_REVENUE',                   \n",
    "                'TOTAL_EXPENDITURE', 'INSTRUCTION_EXPENDITURE', 'SUPPORT_SERVICES_EXPENDITURE',    \n",
    "                'OTHER_EXPENDITURE', 'CAPITAL_OUTLAY_EXPENDITURE', 'GRADES_PK_G', 'GRADES_KG_G',                      \n",
    "                'GRADES_4_G', 'GRADES_8_G', 'GRADES_12_G', 'GRADES_1_8_G', \n",
    "                'GRADES_9_12_G', 'GRADES_ALL_G']\n",
    "\n",
    "\n",
    "states = df_education['STATE'].unique()\n",
    "\n",
    "for state in states:\n",
    "    df_education.loc[df_education['STATE'] == state, list_to_keep] = df_education.loc[df_education['STATE'] == state, \n",
    "                                                                    list_to_keep].interpolate()\n"
   ]
  },
  {
   "cell_type": "code",
   "execution_count": 12,
   "metadata": {
    "collapsed": true
   },
   "outputs": [],
   "source": [
    "#drop nulls after interpolating\n",
    "\n",
    "df_education.dropna(inplace = True)"
   ]
  },
  {
   "cell_type": "code",
   "execution_count": 13,
   "metadata": {
    "collapsed": false
   },
   "outputs": [
    {
     "data": {
      "text/plain": [
       "PRIMARY_KEY                     0.0\n",
       "STATE                           0.0\n",
       "YEAR                            0.0\n",
       "ENROLL                          0.0\n",
       "TOTAL_REVENUE                   0.0\n",
       "FEDERAL_REVENUE                 0.0\n",
       "STATE_REVENUE                   0.0\n",
       "LOCAL_REVENUE                   0.0\n",
       "TOTAL_EXPENDITURE               0.0\n",
       "INSTRUCTION_EXPENDITURE         0.0\n",
       "SUPPORT_SERVICES_EXPENDITURE    0.0\n",
       "OTHER_EXPENDITURE               0.0\n",
       "CAPITAL_OUTLAY_EXPENDITURE      0.0\n",
       "GRADES_PK_G                     0.0\n",
       "GRADES_KG_G                     0.0\n",
       "GRADES_4_G                      0.0\n",
       "GRADES_8_G                      0.0\n",
       "GRADES_12_G                     0.0\n",
       "GRADES_1_8_G                    0.0\n",
       "GRADES_9_12_G                   0.0\n",
       "GRADES_ALL_G                    0.0\n",
       "AVG_MATH_4_SCORE                0.0\n",
       "AVG_MATH_8_SCORE                0.0\n",
       "AVG_READING_4_SCORE             0.0\n",
       "AVG_READING_8_SCORE             0.0\n",
       "dtype: float64"
      ]
     },
     "execution_count": 13,
     "metadata": {},
     "output_type": "execute_result"
    }
   ],
   "source": [
    "#checking for null values\n",
    "df_education.isnull().sum() * 100 / df_education.isnull().count()"
   ]
  },
  {
   "cell_type": "markdown",
   "metadata": {},
   "source": [
    "### Derive the descriptive statistics of the data and discuss the points you find remarkable."
   ]
  },
  {
   "cell_type": "code",
   "execution_count": 15,
   "metadata": {
    "collapsed": false
   },
   "outputs": [
    {
     "data": {
      "text/html": [
       "<div>\n",
       "<style scoped>\n",
       "    .dataframe tbody tr th:only-of-type {\n",
       "        vertical-align: middle;\n",
       "    }\n",
       "\n",
       "    .dataframe tbody tr th {\n",
       "        vertical-align: top;\n",
       "    }\n",
       "\n",
       "    .dataframe thead th {\n",
       "        text-align: right;\n",
       "    }\n",
       "</style>\n",
       "<table border=\"1\" class=\"dataframe\">\n",
       "  <thead>\n",
       "    <tr style=\"text-align: right;\">\n",
       "      <th></th>\n",
       "      <th>YEAR</th>\n",
       "      <th>ENROLL</th>\n",
       "      <th>TOTAL_REVENUE</th>\n",
       "      <th>FEDERAL_REVENUE</th>\n",
       "      <th>STATE_REVENUE</th>\n",
       "      <th>LOCAL_REVENUE</th>\n",
       "      <th>TOTAL_EXPENDITURE</th>\n",
       "      <th>INSTRUCTION_EXPENDITURE</th>\n",
       "      <th>SUPPORT_SERVICES_EXPENDITURE</th>\n",
       "      <th>OTHER_EXPENDITURE</th>\n",
       "      <th>...</th>\n",
       "      <th>GRADES_4_G</th>\n",
       "      <th>GRADES_8_G</th>\n",
       "      <th>GRADES_12_G</th>\n",
       "      <th>GRADES_1_8_G</th>\n",
       "      <th>GRADES_9_12_G</th>\n",
       "      <th>GRADES_ALL_G</th>\n",
       "      <th>AVG_MATH_4_SCORE</th>\n",
       "      <th>AVG_MATH_8_SCORE</th>\n",
       "      <th>AVG_READING_4_SCORE</th>\n",
       "      <th>AVG_READING_8_SCORE</th>\n",
       "    </tr>\n",
       "  </thead>\n",
       "  <tbody>\n",
       "    <tr>\n",
       "      <td>count</td>\n",
       "      <td>466.000000</td>\n",
       "      <td>4.660000e+02</td>\n",
       "      <td>4.660000e+02</td>\n",
       "      <td>4.660000e+02</td>\n",
       "      <td>4.660000e+02</td>\n",
       "      <td>4.660000e+02</td>\n",
       "      <td>4.660000e+02</td>\n",
       "      <td>4.660000e+02</td>\n",
       "      <td>4.660000e+02</td>\n",
       "      <td>4.660000e+02</td>\n",
       "      <td>...</td>\n",
       "      <td>466.00000</td>\n",
       "      <td>466.00000</td>\n",
       "      <td>466.000000</td>\n",
       "      <td>4.660000e+02</td>\n",
       "      <td>4.660000e+02</td>\n",
       "      <td>4.660000e+02</td>\n",
       "      <td>466.000000</td>\n",
       "      <td>466.000000</td>\n",
       "      <td>466.000000</td>\n",
       "      <td>466.000000</td>\n",
       "    </tr>\n",
       "    <tr>\n",
       "      <td>mean</td>\n",
       "      <td>2008.577253</td>\n",
       "      <td>9.442125e+05</td>\n",
       "      <td>1.078853e+07</td>\n",
       "      <td>9.568659e+05</td>\n",
       "      <td>4.999548e+06</td>\n",
       "      <td>4.832112e+06</td>\n",
       "      <td>1.086947e+07</td>\n",
       "      <td>5.638251e+06</td>\n",
       "      <td>3.181222e+06</td>\n",
       "      <td>4.913261e+05</td>\n",
       "      <td>...</td>\n",
       "      <td>72515.82618</td>\n",
       "      <td>72917.07618</td>\n",
       "      <td>64773.880901</td>\n",
       "      <td>5.836186e+05</td>\n",
       "      <td>2.867026e+05</td>\n",
       "      <td>8.933042e+05</td>\n",
       "      <td>236.909728</td>\n",
       "      <td>279.802668</td>\n",
       "      <td>219.508638</td>\n",
       "      <td>263.789943</td>\n",
       "    </tr>\n",
       "    <tr>\n",
       "      <td>std</td>\n",
       "      <td>5.779779</td>\n",
       "      <td>1.122051e+06</td>\n",
       "      <td>1.356335e+07</td>\n",
       "      <td>1.330702e+06</td>\n",
       "      <td>6.405481e+06</td>\n",
       "      <td>6.325995e+06</td>\n",
       "      <td>1.373667e+07</td>\n",
       "      <td>7.255903e+06</td>\n",
       "      <td>3.840941e+06</td>\n",
       "      <td>6.009649e+05</td>\n",
       "      <td>...</td>\n",
       "      <td>86463.95300</td>\n",
       "      <td>85835.16237</td>\n",
       "      <td>77557.604833</td>\n",
       "      <td>6.925615e+05</td>\n",
       "      <td>3.408161e+05</td>\n",
       "      <td>1.060080e+06</td>\n",
       "      <td>8.695903</td>\n",
       "      <td>9.381511</td>\n",
       "      <td>7.426546</td>\n",
       "      <td>6.875627</td>\n",
       "    </tr>\n",
       "    <tr>\n",
       "      <td>min</td>\n",
       "      <td>1996.000000</td>\n",
       "      <td>4.417900e+04</td>\n",
       "      <td>6.788740e+05</td>\n",
       "      <td>5.787000e+04</td>\n",
       "      <td>0.000000e+00</td>\n",
       "      <td>2.853100e+04</td>\n",
       "      <td>7.032450e+05</td>\n",
       "      <td>3.182600e+05</td>\n",
       "      <td>2.041170e+05</td>\n",
       "      <td>2.310700e+04</td>\n",
       "      <td>...</td>\n",
       "      <td>3423.00000</td>\n",
       "      <td>2860.00000</td>\n",
       "      <td>2188.000000</td>\n",
       "      <td>2.676200e+04</td>\n",
       "      <td>9.970000e+03</td>\n",
       "      <td>3.682300e+04</td>\n",
       "      <td>187.134670</td>\n",
       "      <td>232.831510</td>\n",
       "      <td>181.626990</td>\n",
       "      <td>236.379102</td>\n",
       "    </tr>\n",
       "    <tr>\n",
       "      <td>25%</td>\n",
       "      <td>2005.000000</td>\n",
       "      <td>2.794832e+05</td>\n",
       "      <td>2.712660e+06</td>\n",
       "      <td>2.614470e+05</td>\n",
       "      <td>1.491747e+06</td>\n",
       "      <td>9.513430e+05</td>\n",
       "      <td>2.670300e+06</td>\n",
       "      <td>1.416288e+06</td>\n",
       "      <td>8.472295e+05</td>\n",
       "      <td>1.296515e+05</td>\n",
       "      <td>...</td>\n",
       "      <td>20489.75000</td>\n",
       "      <td>20880.25000</td>\n",
       "      <td>18527.750000</td>\n",
       "      <td>1.666395e+05</td>\n",
       "      <td>8.194400e+04</td>\n",
       "      <td>2.596278e+05</td>\n",
       "      <td>232.760641</td>\n",
       "      <td>274.707118</td>\n",
       "      <td>215.338956</td>\n",
       "      <td>259.661771</td>\n",
       "    </tr>\n",
       "    <tr>\n",
       "      <td>50%</td>\n",
       "      <td>2009.000000</td>\n",
       "      <td>6.639415e+05</td>\n",
       "      <td>6.106834e+06</td>\n",
       "      <td>5.544340e+05</td>\n",
       "      <td>3.021544e+06</td>\n",
       "      <td>2.442983e+06</td>\n",
       "      <td>6.249671e+06</td>\n",
       "      <td>3.186679e+06</td>\n",
       "      <td>1.899310e+06</td>\n",
       "      <td>3.271845e+05</td>\n",
       "      <td>...</td>\n",
       "      <td>50918.00000</td>\n",
       "      <td>50114.50000</td>\n",
       "      <td>41543.000000</td>\n",
       "      <td>4.067475e+05</td>\n",
       "      <td>1.868900e+05</td>\n",
       "      <td>6.264775e+05</td>\n",
       "      <td>238.394124</td>\n",
       "      <td>281.531587</td>\n",
       "      <td>221.130461</td>\n",
       "      <td>265.217081</td>\n",
       "    </tr>\n",
       "    <tr>\n",
       "      <td>75%</td>\n",
       "      <td>2013.000000</td>\n",
       "      <td>1.018588e+06</td>\n",
       "      <td>1.222407e+07</td>\n",
       "      <td>1.033414e+06</td>\n",
       "      <td>6.240349e+06</td>\n",
       "      <td>5.488079e+06</td>\n",
       "      <td>1.195951e+07</td>\n",
       "      <td>6.154768e+06</td>\n",
       "      <td>3.667420e+06</td>\n",
       "      <td>5.609385e+05</td>\n",
       "      <td>...</td>\n",
       "      <td>79929.50000</td>\n",
       "      <td>80949.75000</td>\n",
       "      <td>75641.250000</td>\n",
       "      <td>6.424952e+05</td>\n",
       "      <td>3.234915e+05</td>\n",
       "      <td>9.758625e+05</td>\n",
       "      <td>242.602566</td>\n",
       "      <td>286.197041</td>\n",
       "      <td>224.531280</td>\n",
       "      <td>268.307884</td>\n",
       "    </tr>\n",
       "    <tr>\n",
       "      <td>max</td>\n",
       "      <td>2017.000000</td>\n",
       "      <td>6.307022e+06</td>\n",
       "      <td>8.921726e+07</td>\n",
       "      <td>9.990221e+06</td>\n",
       "      <td>5.090457e+07</td>\n",
       "      <td>3.610526e+07</td>\n",
       "      <td>8.532013e+07</td>\n",
       "      <td>4.396452e+07</td>\n",
       "      <td>2.605802e+07</td>\n",
       "      <td>3.995951e+06</td>\n",
       "      <td>...</td>\n",
       "      <td>493415.00000</td>\n",
       "      <td>500143.00000</td>\n",
       "      <td>498403.000000</td>\n",
       "      <td>3.929869e+06</td>\n",
       "      <td>2.011865e+06</td>\n",
       "      <td>5.926631e+06</td>\n",
       "      <td>253.420961</td>\n",
       "      <td>300.568235</td>\n",
       "      <td>236.773867</td>\n",
       "      <td>280.499130</td>\n",
       "    </tr>\n",
       "  </tbody>\n",
       "</table>\n",
       "<p>8 rows × 23 columns</p>\n",
       "</div>"
      ],
      "text/plain": [
       "              YEAR        ENROLL  TOTAL_REVENUE  FEDERAL_REVENUE  \\\n",
       "count   466.000000  4.660000e+02   4.660000e+02     4.660000e+02   \n",
       "mean   2008.577253  9.442125e+05   1.078853e+07     9.568659e+05   \n",
       "std       5.779779  1.122051e+06   1.356335e+07     1.330702e+06   \n",
       "min    1996.000000  4.417900e+04   6.788740e+05     5.787000e+04   \n",
       "25%    2005.000000  2.794832e+05   2.712660e+06     2.614470e+05   \n",
       "50%    2009.000000  6.639415e+05   6.106834e+06     5.544340e+05   \n",
       "75%    2013.000000  1.018588e+06   1.222407e+07     1.033414e+06   \n",
       "max    2017.000000  6.307022e+06   8.921726e+07     9.990221e+06   \n",
       "\n",
       "       STATE_REVENUE  LOCAL_REVENUE  TOTAL_EXPENDITURE  \\\n",
       "count   4.660000e+02   4.660000e+02       4.660000e+02   \n",
       "mean    4.999548e+06   4.832112e+06       1.086947e+07   \n",
       "std     6.405481e+06   6.325995e+06       1.373667e+07   \n",
       "min     0.000000e+00   2.853100e+04       7.032450e+05   \n",
       "25%     1.491747e+06   9.513430e+05       2.670300e+06   \n",
       "50%     3.021544e+06   2.442983e+06       6.249671e+06   \n",
       "75%     6.240349e+06   5.488079e+06       1.195951e+07   \n",
       "max     5.090457e+07   3.610526e+07       8.532013e+07   \n",
       "\n",
       "       INSTRUCTION_EXPENDITURE  SUPPORT_SERVICES_EXPENDITURE  \\\n",
       "count             4.660000e+02                  4.660000e+02   \n",
       "mean              5.638251e+06                  3.181222e+06   \n",
       "std               7.255903e+06                  3.840941e+06   \n",
       "min               3.182600e+05                  2.041170e+05   \n",
       "25%               1.416288e+06                  8.472295e+05   \n",
       "50%               3.186679e+06                  1.899310e+06   \n",
       "75%               6.154768e+06                  3.667420e+06   \n",
       "max               4.396452e+07                  2.605802e+07   \n",
       "\n",
       "       OTHER_EXPENDITURE  ...    GRADES_4_G    GRADES_8_G    GRADES_12_G  \\\n",
       "count       4.660000e+02  ...     466.00000     466.00000     466.000000   \n",
       "mean        4.913261e+05  ...   72515.82618   72917.07618   64773.880901   \n",
       "std         6.009649e+05  ...   86463.95300   85835.16237   77557.604833   \n",
       "min         2.310700e+04  ...    3423.00000    2860.00000    2188.000000   \n",
       "25%         1.296515e+05  ...   20489.75000   20880.25000   18527.750000   \n",
       "50%         3.271845e+05  ...   50918.00000   50114.50000   41543.000000   \n",
       "75%         5.609385e+05  ...   79929.50000   80949.75000   75641.250000   \n",
       "max         3.995951e+06  ...  493415.00000  500143.00000  498403.000000   \n",
       "\n",
       "       GRADES_1_8_G  GRADES_9_12_G  GRADES_ALL_G  AVG_MATH_4_SCORE  \\\n",
       "count  4.660000e+02   4.660000e+02  4.660000e+02        466.000000   \n",
       "mean   5.836186e+05   2.867026e+05  8.933042e+05        236.909728   \n",
       "std    6.925615e+05   3.408161e+05  1.060080e+06          8.695903   \n",
       "min    2.676200e+04   9.970000e+03  3.682300e+04        187.134670   \n",
       "25%    1.666395e+05   8.194400e+04  2.596278e+05        232.760641   \n",
       "50%    4.067475e+05   1.868900e+05  6.264775e+05        238.394124   \n",
       "75%    6.424952e+05   3.234915e+05  9.758625e+05        242.602566   \n",
       "max    3.929869e+06   2.011865e+06  5.926631e+06        253.420961   \n",
       "\n",
       "       AVG_MATH_8_SCORE  AVG_READING_4_SCORE  AVG_READING_8_SCORE  \n",
       "count        466.000000           466.000000           466.000000  \n",
       "mean         279.802668           219.508638           263.789943  \n",
       "std            9.381511             7.426546             6.875627  \n",
       "min          232.831510           181.626990           236.379102  \n",
       "25%          274.707118           215.338956           259.661771  \n",
       "50%          281.531587           221.130461           265.217081  \n",
       "75%          286.197041           224.531280           268.307884  \n",
       "max          300.568235           236.773867           280.499130  \n",
       "\n",
       "[8 rows x 23 columns]"
      ]
     },
     "execution_count": 15,
     "metadata": {},
     "output_type": "execute_result"
    }
   ],
   "source": [
    "df_education.describe()"
   ]
  },
  {
   "cell_type": "markdown",
   "metadata": {},
   "source": [
    "### Choose a state (e.g. California) and draw a line graph of its total revenues and total expenditures along the years. How do these 2 variables evolve during the years? Try to explain the peaks and troughs with some state-wise news and information around those dates."
   ]
  },
  {
   "cell_type": "code",
   "execution_count": 21,
   "metadata": {
    "collapsed": false
   },
   "outputs": [
    {
     "data": {
      "image/png": "[encoded data removed]",
      "text/plain": [
       "<Figure size 1080x360 with 1 Axes>"
      ]
     },
     "metadata": {},
     "output_type": "display_data"
    }
   ],
   "source": [
    "plt.figure(figsize = (15,5))\n",
    "\n",
    "plt.plot(df_education.loc[df_education.STATE == \"CALIFORNIA\", \"YEAR\"], \n",
    "         df_education.loc[df_education.STATE == \"CALIFORNIA\", \"TOTAL_REVENUE\"], \n",
    "         label=\"total revenue\")\n",
    "\n",
    "plt.plot(df_education.loc[df_education.STATE == \"CALIFORNIA\", \"YEAR\"], \n",
    "         df_education.loc[df_education.STATE == \"CALIFORNIA\", \"TOTAL_EXPENDITURE\"], \n",
    "         label=\"total expenditure\")\n",
    "plt.title(\"total revenue and total expenditure\")\n",
    "plt.legend()\n",
    "plt.show()"
   ]
  },
  {
   "cell_type": "markdown",
   "metadata": {},
   "source": [
    "### In your chosen state, which of the lessons are the students more successful, math or reading?"
   ]
  },
  {
   "cell_type": "code",
   "execution_count": null,
   "metadata": {
    "collapsed": true
   },
   "outputs": [],
   "source": []
  },
  {
   "cell_type": "markdown",
   "metadata": {},
   "source": [
    "### What are the distributions of the math and reading scores in the sample?"
   ]
  },
  {
   "cell_type": "markdown",
   "metadata": {},
   "source": [
    "### Notice there are too many missing values for math and reading scores. Fill out the missing values using mean, median, and linear interpolation. Then compare the effects of these techniques on the distributions of the score variables."
   ]
  },
  {
   "cell_type": "code",
   "execution_count": null,
   "metadata": {
    "collapsed": true
   },
   "outputs": [],
   "source": []
  }
 ],
 "metadata": {
  "kernelspec": {
   "display_name": "Python 3",
   "language": "python",
   "name": "python3"
  },
  "language_info": {
   "codemirror_mode": {
    "name": "ipython",
    "version": 3
   },
   "file_extension": ".py",
   "mimetype": "text/x-python",
   "name": "python",
   "nbconvert_exporter": "python",
   "pygments_lexer": "ipython3",
   "version": "3.6.0"
  }
 },
 "nbformat": 4,
 "nbformat_minor": 2
}
