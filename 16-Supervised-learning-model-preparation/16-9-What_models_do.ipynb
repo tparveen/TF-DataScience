{
 "cells": [
  {
   "cell_type": "markdown",
   "metadata": {},
   "source": [
    "# Assignment: 16-9 what models do\n",
    "\n",
    "- To complete this assignment, submit a link to a Jupyter notebook containing your solutions to the following tasks:\n",
    "- Try to model the result of a coin toss. In your model, include any features that you think important in explaining the result. Discuss with your mentor about the pros and cons of adding too many features into your model.\n",
    "- If you ever used Netflix, you should already have realized that it provides some recommendations for you to watch. In data science, this is an example of the so-called recommendations systems. \n",
    "- Read this nontechnical blog post of Netflix about how they model their recommendations systems. Then, derive the features they use in their recommendations engines and discuss what else can be incorporated into this model."
   ]
  },
  {
   "cell_type": "markdown",
   "metadata": {},
   "source": [
    "We should include the factors that affect the result of a coin toss. Here, we assume that coin is fair.\n",
    "The angle between the horizontal surface and the coin.\n",
    "The force applied to the coin.\n",
    "The weight of the coin.\n",
    "The horizontal distance between the place the coin is tossed and the place it should fall into.\n",
    "The frictions of the hand skin and the air.\n",
    "And there are many others...\n",
    "Too many features force us to collect more experment trials. Because, we need to determine the values for each factors and the more factors we have the more unknowns to determine. So, we may want to include only the most relevant factors into the model."
   ]
  },
  {
   "cell_type": "markdown",
   "metadata": {},
   "source": [
    "\n",
    "According to the article, Netflix feed the following information to its recommendation systems:\n",
    "person's interactions with Netflix's service (such as the viewing history and how that person rated other titles).\n",
    "other members with similar tastes and preferences on Netflix service.\n",
    "information about the titles, such as their genre, categories, actors, release year, etc.\n",
    "the time of day the person watch.\n",
    "the devices the person is watching Netflix on.\n",
    "how long the person watch.\n",
    "Interestingly, they say that they don't feed in the demographic factors. This may be due to eliminate the gender bias in their algorithms.\n",
    "Additional features that might be incorporated would be:\n",
    "localization information: people living in an area may share some tastes.\n",
    "actors/actresses who are featuring in the movie: some people may prefer to watch a movie that involves his/her favorite actors/actresses."
   ]
  },
  {
   "cell_type": "code",
   "execution_count": null,
   "metadata": {
    "collapsed": true
   },
   "outputs": [],
   "source": []
  },
  {
   "cell_type": "code",
   "execution_count": null,
   "metadata": {
    "collapsed": true
   },
   "outputs": [],
   "source": []
  }
 ],
 "metadata": {
  "kernelspec": {
   "display_name": "Python 3",
   "language": "python",
   "name": "python3"
  },
  "language_info": {
   "codemirror_mode": {
    "name": "ipython",
    "version": 3
   },
   "file_extension": ".py",
   "mimetype": "text/x-python",
   "name": "python",
   "nbconvert_exporter": "python",
   "pygments_lexer": "ipython3",
   "version": "3.6.0"
  }
 },
 "nbformat": 4,
 "nbformat_minor": 2
}
