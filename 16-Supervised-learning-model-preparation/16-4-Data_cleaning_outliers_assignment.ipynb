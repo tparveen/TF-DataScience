{
 "cells": [
  {
   "cell_type": "markdown",
   "metadata": {},
   "source": [
    "#### Assignment\n",
    "https://courses.thinkful.com/dsbc-model-prep-v1/checkpoint/4\n",
    "\n",
    "In this assignment, you'll continue working with the U.S. Education Dataset from Kaggle. The data gives detailed state level information on several facets of education on an annual basis. To learn more about the data and the column descriptions, you can view the Kaggle link above.\n",
    "Access this data using the Thinkful database using these credentials:\n",
    "\n",
    "- postgres_user = 'dsbc_student'\n",
    "- postgres_pw = '7*.8G9QH21'\n",
    "- postgres_host = '142.93.121.174'\n",
    "- postgres_port = '5432'\n",
    "- postgres_db = 'useducation'\n",
    "\n",
    "\n",
    "* Don't forget to apply the most suitable missing value filling techniques from the previous checkpoint to the data. Provide the answers to the following only after you've addressed missing values!\n",
    "\n",
    "\n",
    "##### To complete this assignment, submit a link to a Jupyter notebook containing your solutions to the following tasks:\n",
    "\n",
    "* Consider the two variables: TOTAL_REVENUE and TOTAL_EXPENDITURE. Do these variables have outlier values?\n",
    "\n",
    "* If you detect outliers in the TOTAL_REVENUE and TOTAL_EXPENDITURE variables, apply the techniques you learned in this checkpoint to eliminate them and validate that there's no outlier values after you handled them.\n",
    "\n",
    "* Create another variable by subtracting the original TOTAL_EXPENDITURE from TOTAL_REVENUE (before you eliminated the outliers). You can think of it as a kind of budget deficit in education. Do you find any outlier values in this new variable? If so, eliminate them using the technique you think most suitable.\n",
    "* Now create another variable by subtracting the TOTAL_EXPENDITURE from TOTAL_REVENUE. This time, use the outlier eliminated versions of TOTAL_EXPENDITURE from TOTAL_REVENUE. In this newly created variable, can you find any outliers? If so, eliminate them.\n",
    "\n",
    "* Compare some basic descriptive statistics of the budget variables you end up with in the 3rd and the 4th questions. Do you see any differences?\n",
    "\n",
    "* If our variable of interest is the budget deficit variable, which method do you think is the appropriate in dealing with the outliers in this variable: the method in the 3rd question or the one in the 4th question?\n",
    "\n",
    "* Submit your work below, and plan on discussing with your mentor. You can also take a look at this example solution."
   ]
  },
  {
   "cell_type": "code",
   "execution_count": 77,
   "metadata": {
    "collapsed": true
   },
   "outputs": [],
   "source": [
    "import pandas as pd\n",
    "import numpy as np\n",
    "from sqlalchemy import create_engine\n",
    "import warnings\n",
    "import matplotlib.pyplot as plt\n",
    "from scipy.stats import zscore\n",
    "from scipy.stats.mstats import winsorize\n",
    "\n",
    "warnings.filterwarnings('ignore')"
   ]
  },
  {
   "cell_type": "code",
   "execution_count": 3,
   "metadata": {
    "collapsed": true
   },
   "outputs": [],
   "source": [
    "postgres_user = 'dsbc_student'\n",
    "postgres_pw = '7*.8G9QH21'\n",
    "postgres_host = '142.93.121.174'\n",
    "postgres_port = '5432'\n",
    "postgres_db = 'useducation'"
   ]
  },
  {
   "cell_type": "code",
   "execution_count": 4,
   "metadata": {
    "collapsed": true
   },
   "outputs": [],
   "source": [
    "engine = create_engine('postgresql://{}:{}@{}:{}/{}'.format(\n",
    "    postgres_user, postgres_pw, postgres_host, postgres_port, postgres_db))\n",
    "\n",
    "df = pd.read_sql_query('select * from useducation',con=engine)\n",
    "\n",
    "# no need for an open connection, \n",
    "# as we're only doing a single query\n",
    "engine.dispose()"
   ]
  },
  {
   "cell_type": "markdown",
   "metadata": {},
   "source": [
    "### * Don't forget to apply the most suitable missing value filling techniques from the previous checkpoint to the data. Provide the answers to the following only after you've addressed missing values!"
   ]
  },
  {
   "cell_type": "markdown",
   "metadata": {},
   "source": [
    "#### Since the last checkpoint showed that year by year  mean() was probably a good way to handle the missing values, that's what we will be using here to handle missing values"
   ]
  },
  {
   "cell_type": "code",
   "execution_count": 20,
   "metadata": {
    "collapsed": false
   },
   "outputs": [],
   "source": [
    "df_education = df.copy()\n",
    "\n",
    "#make a list of the columns that has missing values and we want to keep them\n",
    "list_to_keep = ['ENROLL', 'TOTAL_REVENUE', 'FEDERAL_REVENUE', 'STATE_REVENUE', 'LOCAL_REVENUE',                   \n",
    "                'TOTAL_EXPENDITURE', 'INSTRUCTION_EXPENDITURE', 'SUPPORT_SERVICES_EXPENDITURE',    \n",
    "                'OTHER_EXPENDITURE', 'CAPITAL_OUTLAY_EXPENDITURE', 'GRADES_PK_G', 'GRADES_KG_G',                      \n",
    "                'GRADES_4_G', 'GRADES_8_G', 'GRADES_12_G', 'GRADES_1_8_G', \n",
    "                'GRADES_9_12_G', 'GRADES_ALL_G']\n",
    "\n",
    "years = df_education['YEAR'].unique()\n",
    "\n",
    "for col in list_to_keep:\n",
    "    for year in years:\n",
    "        df_education.loc[df_education['YEAR'] == year, col] = df_education.loc[df_education['YEAR'] == year, col].fillna(df_education[df_education['YEAR'] == year][col].mean())  \n"
   ]
  },
  {
   "cell_type": "markdown",
   "metadata": {},
   "source": [
    "## the solution uses interpolate to handle missing values -  Why? the reason it gives is because the data is time series. How do I know if my data is time series and how do I know that I have to use interpolate? I wanted to use year-by-year\n",
    "\n",
    "\n",
    "### Also did not know that I had to drop the null values after interpolate - I did not know that we had to do that as well. Is this a std way to cleaning data?\n"
   ]
  },
  {
   "cell_type": "code",
   "execution_count": 21,
   "metadata": {
    "collapsed": false
   },
   "outputs": [
    {
     "data": {
      "text/plain": [
       "PRIMARY_KEY                      0.000000\n",
       "STATE                            0.000000\n",
       "YEAR                             0.000000\n",
       "ENROLL                           7.171582\n",
       "TOTAL_REVENUE                    3.418231\n",
       "FEDERAL_REVENUE                  3.418231\n",
       "STATE_REVENUE                    3.418231\n",
       "LOCAL_REVENUE                    3.418231\n",
       "TOTAL_EXPENDITURE                3.418231\n",
       "INSTRUCTION_EXPENDITURE          3.418231\n",
       "SUPPORT_SERVICES_EXPENDITURE     3.418231\n",
       "OTHER_EXPENDITURE                7.171582\n",
       "CAPITAL_OUTLAY_EXPENDITURE       3.418231\n",
       "GRADES_PK_G                      6.836461\n",
       "GRADES_KG_G                      6.836461\n",
       "GRADES_4_G                       6.836461\n",
       "GRADES_8_G                       6.836461\n",
       "GRADES_12_G                      6.836461\n",
       "GRADES_1_8_G                     6.836461\n",
       "GRADES_9_12_G                    6.836461\n",
       "GRADES_ALL_G                     6.836461\n",
       "AVG_MATH_4_SCORE                64.075067\n",
       "AVG_MATH_8_SCORE                64.343164\n",
       "AVG_READING_4_SCORE             64.276139\n",
       "AVG_READING_8_SCORE             66.621984\n",
       "dtype: float64"
      ]
     },
     "execution_count": 21,
     "metadata": {},
     "output_type": "execute_result"
    }
   ],
   "source": [
    "#checking for null values\n",
    "df_education.isnull().sum() * 100 / df.isnull().count()"
   ]
  },
  {
   "cell_type": "code",
   "execution_count": 61,
   "metadata": {
    "collapsed": true
   },
   "outputs": [],
   "source": [
    "# we drop the null values after taking care of missing values\n",
    "df_education.dropna(inplace=True)"
   ]
  },
  {
   "cell_type": "code",
   "execution_count": 62,
   "metadata": {
    "collapsed": false
   },
   "outputs": [
    {
     "data": {
      "text/html": [
       "<div>\n",
       "<style scoped>\n",
       "    .dataframe tbody tr th:only-of-type {\n",
       "        vertical-align: middle;\n",
       "    }\n",
       "\n",
       "    .dataframe tbody tr th {\n",
       "        vertical-align: top;\n",
       "    }\n",
       "\n",
       "    .dataframe thead th {\n",
       "        text-align: right;\n",
       "    }\n",
       "</style>\n",
       "<table border=\"1\" class=\"dataframe\">\n",
       "  <thead>\n",
       "    <tr style=\"text-align: right;\">\n",
       "      <th></th>\n",
       "      <th>YEAR</th>\n",
       "      <th>ENROLL</th>\n",
       "      <th>TOTAL_REVENUE</th>\n",
       "      <th>FEDERAL_REVENUE</th>\n",
       "      <th>STATE_REVENUE</th>\n",
       "      <th>LOCAL_REVENUE</th>\n",
       "      <th>TOTAL_EXPENDITURE</th>\n",
       "      <th>INSTRUCTION_EXPENDITURE</th>\n",
       "      <th>SUPPORT_SERVICES_EXPENDITURE</th>\n",
       "      <th>OTHER_EXPENDITURE</th>\n",
       "      <th>...</th>\n",
       "      <th>GRADES_4_G</th>\n",
       "      <th>GRADES_8_G</th>\n",
       "      <th>GRADES_12_G</th>\n",
       "      <th>GRADES_1_8_G</th>\n",
       "      <th>GRADES_9_12_G</th>\n",
       "      <th>GRADES_ALL_G</th>\n",
       "      <th>AVG_MATH_4_SCORE</th>\n",
       "      <th>AVG_MATH_8_SCORE</th>\n",
       "      <th>AVG_READING_4_SCORE</th>\n",
       "      <th>AVG_READING_8_SCORE</th>\n",
       "    </tr>\n",
       "  </thead>\n",
       "  <tbody>\n",
       "    <tr>\n",
       "      <td>count</td>\n",
       "      <td>416.000000</td>\n",
       "      <td>4.160000e+02</td>\n",
       "      <td>4.160000e+02</td>\n",
       "      <td>4.160000e+02</td>\n",
       "      <td>4.160000e+02</td>\n",
       "      <td>4.160000e+02</td>\n",
       "      <td>4.160000e+02</td>\n",
       "      <td>4.160000e+02</td>\n",
       "      <td>4.160000e+02</td>\n",
       "      <td>4.160000e+02</td>\n",
       "      <td>...</td>\n",
       "      <td>416.000000</td>\n",
       "      <td>416.000000</td>\n",
       "      <td>416.000000</td>\n",
       "      <td>4.160000e+02</td>\n",
       "      <td>4.160000e+02</td>\n",
       "      <td>4.160000e+02</td>\n",
       "      <td>416.000000</td>\n",
       "      <td>416.000000</td>\n",
       "      <td>416.000000</td>\n",
       "      <td>416.000000</td>\n",
       "    </tr>\n",
       "    <tr>\n",
       "      <td>mean</td>\n",
       "      <td>2007.514423</td>\n",
       "      <td>9.414834e+05</td>\n",
       "      <td>1.047713e+07</td>\n",
       "      <td>9.431232e+05</td>\n",
       "      <td>4.850565e+06</td>\n",
       "      <td>4.683441e+06</td>\n",
       "      <td>1.058376e+07</td>\n",
       "      <td>5.471180e+06</td>\n",
       "      <td>3.092248e+06</td>\n",
       "      <td>4.794490e+05</td>\n",
       "      <td>...</td>\n",
       "      <td>72149.411058</td>\n",
       "      <td>72766.521635</td>\n",
       "      <td>64109.824519</td>\n",
       "      <td>5.814716e+05</td>\n",
       "      <td>2.852706e+05</td>\n",
       "      <td>8.791954e+05</td>\n",
       "      <td>236.595643</td>\n",
       "      <td>279.536042</td>\n",
       "      <td>219.312896</td>\n",
       "      <td>263.541828</td>\n",
       "    </tr>\n",
       "    <tr>\n",
       "      <td>std</td>\n",
       "      <td>5.287839</td>\n",
       "      <td>1.120275e+06</td>\n",
       "      <td>1.307360e+07</td>\n",
       "      <td>1.324751e+06</td>\n",
       "      <td>6.147404e+06</td>\n",
       "      <td>6.079043e+06</td>\n",
       "      <td>1.331684e+07</td>\n",
       "      <td>6.984693e+06</td>\n",
       "      <td>3.716951e+06</td>\n",
       "      <td>5.856068e+05</td>\n",
       "      <td>...</td>\n",
       "      <td>86130.681038</td>\n",
       "      <td>85768.502493</td>\n",
       "      <td>76693.618128</td>\n",
       "      <td>6.915741e+05</td>\n",
       "      <td>3.395019e+05</td>\n",
       "      <td>1.028613e+06</td>\n",
       "      <td>9.005287</td>\n",
       "      <td>9.590737</td>\n",
       "      <td>7.574591</td>\n",
       "      <td>6.940983</td>\n",
       "    </tr>\n",
       "    <tr>\n",
       "      <td>min</td>\n",
       "      <td>1996.000000</td>\n",
       "      <td>4.417900e+04</td>\n",
       "      <td>6.640570e+05</td>\n",
       "      <td>4.100700e+04</td>\n",
       "      <td>0.000000e+00</td>\n",
       "      <td>2.853100e+04</td>\n",
       "      <td>6.763050e+05</td>\n",
       "      <td>3.182600e+05</td>\n",
       "      <td>2.002280e+05</td>\n",
       "      <td>2.191000e+04</td>\n",
       "      <td>...</td>\n",
       "      <td>3423.000000</td>\n",
       "      <td>2860.000000</td>\n",
       "      <td>2188.000000</td>\n",
       "      <td>2.676200e+04</td>\n",
       "      <td>9.970000e+03</td>\n",
       "      <td>3.682300e+04</td>\n",
       "      <td>187.134670</td>\n",
       "      <td>232.831510</td>\n",
       "      <td>181.626990</td>\n",
       "      <td>236.379102</td>\n",
       "    </tr>\n",
       "    <tr>\n",
       "      <td>25%</td>\n",
       "      <td>2003.000000</td>\n",
       "      <td>2.781248e+05</td>\n",
       "      <td>2.653361e+06</td>\n",
       "      <td>2.587165e+05</td>\n",
       "      <td>1.427756e+06</td>\n",
       "      <td>9.379062e+05</td>\n",
       "      <td>2.620022e+06</td>\n",
       "      <td>1.400728e+06</td>\n",
       "      <td>8.013210e+05</td>\n",
       "      <td>1.277278e+05</td>\n",
       "      <td>...</td>\n",
       "      <td>20464.500000</td>\n",
       "      <td>20820.000000</td>\n",
       "      <td>18513.750000</td>\n",
       "      <td>1.663668e+05</td>\n",
       "      <td>8.174950e+04</td>\n",
       "      <td>2.600492e+05</td>\n",
       "      <td>231.909072</td>\n",
       "      <td>274.398874</td>\n",
       "      <td>214.922367</td>\n",
       "      <td>259.196767</td>\n",
       "    </tr>\n",
       "    <tr>\n",
       "      <td>50%</td>\n",
       "      <td>2007.000000</td>\n",
       "      <td>6.639415e+05</td>\n",
       "      <td>6.053652e+06</td>\n",
       "      <td>5.352895e+05</td>\n",
       "      <td>2.964566e+06</td>\n",
       "      <td>2.364018e+06</td>\n",
       "      <td>6.180272e+06</td>\n",
       "      <td>3.167476e+06</td>\n",
       "      <td>1.864064e+06</td>\n",
       "      <td>3.233980e+05</td>\n",
       "      <td>...</td>\n",
       "      <td>50653.500000</td>\n",
       "      <td>50114.500000</td>\n",
       "      <td>41194.000000</td>\n",
       "      <td>4.055395e+05</td>\n",
       "      <td>1.861810e+05</td>\n",
       "      <td>6.282085e+05</td>\n",
       "      <td>238.289254</td>\n",
       "      <td>281.369105</td>\n",
       "      <td>220.823937</td>\n",
       "      <td>265.036858</td>\n",
       "    </tr>\n",
       "    <tr>\n",
       "      <td>75%</td>\n",
       "      <td>2011.000000</td>\n",
       "      <td>1.015914e+06</td>\n",
       "      <td>1.193571e+07</td>\n",
       "      <td>1.017014e+06</td>\n",
       "      <td>5.971349e+06</td>\n",
       "      <td>5.283885e+06</td>\n",
       "      <td>1.148185e+07</td>\n",
       "      <td>6.006502e+06</td>\n",
       "      <td>3.559015e+06</td>\n",
       "      <td>5.470735e+05</td>\n",
       "      <td>...</td>\n",
       "      <td>79244.000000</td>\n",
       "      <td>80883.250000</td>\n",
       "      <td>74799.750000</td>\n",
       "      <td>6.388180e+05</td>\n",
       "      <td>3.215100e+05</td>\n",
       "      <td>9.685105e+05</td>\n",
       "      <td>242.628687</td>\n",
       "      <td>286.078002</td>\n",
       "      <td>224.447725</td>\n",
       "      <td>268.198231</td>\n",
       "    </tr>\n",
       "    <tr>\n",
       "      <td>max</td>\n",
       "      <td>2015.000000</td>\n",
       "      <td>6.307022e+06</td>\n",
       "      <td>7.824804e+07</td>\n",
       "      <td>9.990221e+06</td>\n",
       "      <td>4.236047e+07</td>\n",
       "      <td>3.494151e+07</td>\n",
       "      <td>7.836596e+07</td>\n",
       "      <td>4.195426e+07</td>\n",
       "      <td>2.350185e+07</td>\n",
       "      <td>3.759373e+06</td>\n",
       "      <td>...</td>\n",
       "      <td>493415.000000</td>\n",
       "      <td>500143.000000</td>\n",
       "      <td>498403.000000</td>\n",
       "      <td>3.929869e+06</td>\n",
       "      <td>2.011865e+06</td>\n",
       "      <td>5.926631e+06</td>\n",
       "      <td>253.420961</td>\n",
       "      <td>300.568235</td>\n",
       "      <td>236.773867</td>\n",
       "      <td>277.191363</td>\n",
       "    </tr>\n",
       "  </tbody>\n",
       "</table>\n",
       "<p>8 rows × 23 columns</p>\n",
       "</div>"
      ],
      "text/plain": [
       "              YEAR        ENROLL  TOTAL_REVENUE  FEDERAL_REVENUE  \\\n",
       "count   416.000000  4.160000e+02   4.160000e+02     4.160000e+02   \n",
       "mean   2007.514423  9.414834e+05   1.047713e+07     9.431232e+05   \n",
       "std       5.287839  1.120275e+06   1.307360e+07     1.324751e+06   \n",
       "min    1996.000000  4.417900e+04   6.640570e+05     4.100700e+04   \n",
       "25%    2003.000000  2.781248e+05   2.653361e+06     2.587165e+05   \n",
       "50%    2007.000000  6.639415e+05   6.053652e+06     5.352895e+05   \n",
       "75%    2011.000000  1.015914e+06   1.193571e+07     1.017014e+06   \n",
       "max    2015.000000  6.307022e+06   7.824804e+07     9.990221e+06   \n",
       "\n",
       "       STATE_REVENUE  LOCAL_REVENUE  TOTAL_EXPENDITURE  \\\n",
       "count   4.160000e+02   4.160000e+02       4.160000e+02   \n",
       "mean    4.850565e+06   4.683441e+06       1.058376e+07   \n",
       "std     6.147404e+06   6.079043e+06       1.331684e+07   \n",
       "min     0.000000e+00   2.853100e+04       6.763050e+05   \n",
       "25%     1.427756e+06   9.379062e+05       2.620022e+06   \n",
       "50%     2.964566e+06   2.364018e+06       6.180272e+06   \n",
       "75%     5.971349e+06   5.283885e+06       1.148185e+07   \n",
       "max     4.236047e+07   3.494151e+07       7.836596e+07   \n",
       "\n",
       "       INSTRUCTION_EXPENDITURE  SUPPORT_SERVICES_EXPENDITURE  \\\n",
       "count             4.160000e+02                  4.160000e+02   \n",
       "mean              5.471180e+06                  3.092248e+06   \n",
       "std               6.984693e+06                  3.716951e+06   \n",
       "min               3.182600e+05                  2.002280e+05   \n",
       "25%               1.400728e+06                  8.013210e+05   \n",
       "50%               3.167476e+06                  1.864064e+06   \n",
       "75%               6.006502e+06                  3.559015e+06   \n",
       "max               4.195426e+07                  2.350185e+07   \n",
       "\n",
       "       OTHER_EXPENDITURE  ...     GRADES_4_G     GRADES_8_G    GRADES_12_G  \\\n",
       "count       4.160000e+02  ...     416.000000     416.000000     416.000000   \n",
       "mean        4.794490e+05  ...   72149.411058   72766.521635   64109.824519   \n",
       "std         5.856068e+05  ...   86130.681038   85768.502493   76693.618128   \n",
       "min         2.191000e+04  ...    3423.000000    2860.000000    2188.000000   \n",
       "25%         1.277278e+05  ...   20464.500000   20820.000000   18513.750000   \n",
       "50%         3.233980e+05  ...   50653.500000   50114.500000   41194.000000   \n",
       "75%         5.470735e+05  ...   79244.000000   80883.250000   74799.750000   \n",
       "max         3.759373e+06  ...  493415.000000  500143.000000  498403.000000   \n",
       "\n",
       "       GRADES_1_8_G  GRADES_9_12_G  GRADES_ALL_G  AVG_MATH_4_SCORE  \\\n",
       "count  4.160000e+02   4.160000e+02  4.160000e+02        416.000000   \n",
       "mean   5.814716e+05   2.852706e+05  8.791954e+05        236.595643   \n",
       "std    6.915741e+05   3.395019e+05  1.028613e+06          9.005287   \n",
       "min    2.676200e+04   9.970000e+03  3.682300e+04        187.134670   \n",
       "25%    1.663668e+05   8.174950e+04  2.600492e+05        231.909072   \n",
       "50%    4.055395e+05   1.861810e+05  6.282085e+05        238.289254   \n",
       "75%    6.388180e+05   3.215100e+05  9.685105e+05        242.628687   \n",
       "max    3.929869e+06   2.011865e+06  5.926631e+06        253.420961   \n",
       "\n",
       "       AVG_MATH_8_SCORE  AVG_READING_4_SCORE  AVG_READING_8_SCORE  \n",
       "count        416.000000           416.000000           416.000000  \n",
       "mean         279.536042           219.312896           263.541828  \n",
       "std            9.590737             7.574591             6.940983  \n",
       "min          232.831510           181.626990           236.379102  \n",
       "25%          274.398874           214.922367           259.196767  \n",
       "50%          281.369105           220.823937           265.036858  \n",
       "75%          286.078002           224.447725           268.198231  \n",
       "max          300.568235           236.773867           277.191363  \n",
       "\n",
       "[8 rows x 23 columns]"
      ]
     },
     "execution_count": 62,
     "metadata": {},
     "output_type": "execute_result"
    }
   ],
   "source": [
    "#lets look at the statistics of the variables\n",
    "df_education.describe()"
   ]
  },
  {
   "cell_type": "markdown",
   "metadata": {},
   "source": [
    "### Consider the two variables: TOTAL_REVENUE and TOTAL_EXPENDITURE. Do these variables have outlier values?"
   ]
  },
  {
   "cell_type": "code",
   "execution_count": 72,
   "metadata": {
    "collapsed": false
   },
   "outputs": [
    {
     "data": {
      "image/png": "[encoded data removed]",
      "text/plain": [
       "<Figure size 1080x360 with 2 Axes>"
      ]
     },
     "metadata": {},
     "output_type": "display_data"
    }
   ],
   "source": [
    "### lets see if they have outliers using plots. \n",
    "\n",
    "#box plot\n",
    "\n",
    "plt.figure(figsize = (15,5))\n",
    "\n",
    "plt.subplot(1,2,1)\n",
    "plt.boxplot(df_education['TOTAL_REVENUE'],whis = 5)\n",
    "plt.title('Box plot for TOTAL_REVENUE')\n",
    "#plt.show()\n",
    "\n",
    "\n",
    "#df_education[['TOTAL_REVENUE']].boxplot(whis = 5)\n",
    "#plt.title('Box plot for TOTAL_REVENUE')\n",
    "#plt.show()\n",
    "\n",
    "plt.subplot(1,2,2)\n",
    "plt.boxplot(df_education['TOTAL_EXPENDITURE'],whis = 5 )\n",
    "plt.title('Box plot for TOTAL_EXPENDITURE')\n",
    "plt.show()\n",
    "\n",
    "#df_education[['TOTAL_EXPENDITURE']].boxplot(whis = 5)\n",
    "#plt.title('Box plot for TOTAL_EXPENDITURE')\n",
    "#plt.show()\n",
    "\n",
    "\n"
   ]
  },
  {
   "cell_type": "code",
   "execution_count": 73,
   "metadata": {
    "collapsed": false
   },
   "outputs": [
    {
     "data": {
      "image/png": "[encoded data removed]",
      "text/plain": [
       "<Figure size 1080x360 with 2 Axes>"
      ]
     },
     "metadata": {},
     "output_type": "display_data"
    }
   ],
   "source": [
    "#histogram\n",
    "\n",
    "plt.figure(figsize = (15,5))\n",
    "\n",
    "plt.subplot(1,2,1)\n",
    "plt.hist(df_education['TOTAL_REVENUE'])\n",
    "plt.title(\"Histogram of TOTAL_REVENUE\")\n",
    "#plt.show()\n",
    "\n",
    "\n",
    "#df_education['TOTAL_REVENUE'].hist(bins=200)\n",
    "#plt.title(\"Histogram of TOTAL_REVENUE\")\n",
    "#plt.show()\n",
    "\n",
    "plt.subplot(1,2,2)\n",
    "plt.hist(df_education['TOTAL_EXPENDITURE'])\n",
    "plt.title(\"Histogram of TOTAL_EXPENDITURE\")\n",
    "plt.show()"
   ]
  },
  {
   "cell_type": "code",
   "execution_count": 74,
   "metadata": {
    "collapsed": false
   },
   "outputs": [
    {
     "data": {
      "image/png": "[encoded data removed]",
      "text/plain": [
       "<Figure size 1080x360 with 2 Axes>"
      ]
     },
     "metadata": {},
     "output_type": "display_data"
    }
   ],
   "source": [
    "# scatter plot\n",
    "\n",
    "#must have x, y so both are same cols\n",
    "\n",
    "plt.figure(figsize = (15,5))\n",
    "\n",
    "plt.subplot(1,2,1)\n",
    "plt.scatter(df_education['TOTAL_REVENUE'], df_education['TOTAL_REVENUE'] )\n",
    "plt.title(\"scatter plot of TOTAL_REVENUE\")\n",
    "#plt.show()\n",
    "\n",
    "\n",
    "plt.subplot(1,2,2)\n",
    "plt.scatter(df_education['TOTAL_EXPENDITURE'], df_education['TOTAL_EXPENDITURE'] )\n",
    "plt.title(\"scatter plot of TOTAL_EXPENDITURE\")\n",
    "plt.show()\n",
    "\n"
   ]
  },
  {
   "cell_type": "code",
   "execution_count": 67,
   "metadata": {
    "collapsed": false
   },
   "outputs": [
    {
     "name": "stdout",
     "output_type": "stream",
     "text": [
      "When using threshold: 1\n",
      "Number of outliers is: 45\n",
      "When using threshold: 2\n",
      "Number of outliers is: 21\n",
      "When using threshold: 3\n",
      "Number of outliers is: 15\n",
      "When using threshold: 4\n",
      "Number of outliers is: 6\n"
     ]
    }
   ],
   "source": [
    "# Detecting outlier numerically - using Zscore \n",
    "# determine outliers by setting the threshold to 1, 2, 3, and 4\n",
    "\n",
    "z_score_total_revenue = zscore(df_education['TOTAL_REVENUE'])\n",
    "\n",
    "for threshold in range(1,5):\n",
    "    print(\"When using threshold: {}\".format(threshold))\n",
    "    print(\"Number of outliers is: {}\".format(len((np.where(z_score_total_revenue > threshold)[0]))))\n",
    "# print(z_score_total_revenue)\n"
   ]
  },
  {
   "cell_type": "code",
   "execution_count": 68,
   "metadata": {
    "collapsed": false
   },
   "outputs": [
    {
     "name": "stdout",
     "output_type": "stream",
     "text": [
      "When using threshold: 1\n",
      "Number of outliers is: 43\n",
      "When using threshold: 2\n",
      "Number of outliers is: 22\n",
      "When using threshold: 3\n",
      "Number of outliers is: 16\n",
      "When using threshold: 4\n",
      "Number of outliers is: 7\n"
     ]
    }
   ],
   "source": [
    "# Detecting outlier numerically - using Zscore \n",
    "\n",
    "z_score_total_expenditure = zscore(df_education['TOTAL_EXPENDITURE'])\n",
    "\n",
    "for threshold in range(1,5):\n",
    "    print(\"When using threshold: {}\".format(threshold))\n",
    "    print(\"Number of outliers is: {}\".format(len((np.where(z_score_total_expenditure > threshold)[0]))))\n"
   ]
  },
  {
   "cell_type": "markdown",
   "metadata": {},
   "source": [
    "### Applying Tukey's method to detect outliers"
   ]
  },
  {
   "cell_type": "code",
   "execution_count": 75,
   "metadata": {
    "collapsed": false
   },
   "outputs": [
    {
     "name": "stdout",
     "output_type": "stream",
     "text": [
      "The score threshold is: 1.0\n",
      "Number of outliers is: 54\n",
      "The score threshold is: 1.5\n",
      "Number of outliers is: 40\n",
      "The score threshold is: 2.0\n",
      "Number of outliers is: 24\n",
      "The score threshold is: 2.5\n",
      "Number of outliers is: 22\n",
      "The score threshold is: 3.0\n",
      "Number of outliers is: 19\n",
      "The score threshold is: 3.5\n",
      "Number of outliers is: 17\n",
      "The score threshold is: 4.0\n",
      "Number of outliers is: 15\n",
      "The score threshold is: 4.5\n",
      "Number of outliers is: 12\n"
     ]
    }
   ],
   "source": [
    "# using IQR. Lets use 25th and 75th QR for this\n",
    "\n",
    "Q75, Q25 = np.percentile(df_education['TOTAL_REVENUE'], [75,25])\n",
    "iqr = Q75-Q25\n",
    "\n",
    "for threshold in np.arange(1,5,0.5):\n",
    "    min_val = Q25 - (iqr*threshold)\n",
    "    max_val = Q75 + (iqr*threshold)\n",
    "    print(\"The score threshold is: {}\".format(threshold))\n",
    "    print(\"Number of outliers is: {}\".format(\n",
    "        len((np.where((df_education[\"TOTAL_REVENUE\"] > max_val) \n",
    "                      | (df_education[\"TOTAL_REVENUE\"] < min_val))[0]))\n",
    "    ))"
   ]
  },
  {
   "cell_type": "code",
   "execution_count": 76,
   "metadata": {
    "collapsed": false
   },
   "outputs": [
    {
     "name": "stdout",
     "output_type": "stream",
     "text": [
      "The score threshold is: 1.0\n",
      "Number of outliers is: 57\n",
      "The score threshold is: 1.5\n",
      "Number of outliers is: 43\n",
      "The score threshold is: 2.0\n",
      "Number of outliers is: 28\n",
      "The score threshold is: 2.5\n",
      "Number of outliers is: 22\n",
      "The score threshold is: 3.0\n",
      "Number of outliers is: 21\n",
      "The score threshold is: 3.5\n",
      "Number of outliers is: 19\n",
      "The score threshold is: 4.0\n",
      "Number of outliers is: 16\n",
      "The score threshold is: 4.5\n",
      "Number of outliers is: 14\n"
     ]
    }
   ],
   "source": [
    "# using IQR. Lets use 25th and 75th QR for this\n",
    "\n",
    "Q75, Q25 = np.percentile(df_education['TOTAL_EXPENDITURE'], [75,25])\n",
    "iqr = Q75-Q25\n",
    "\n",
    "for threshold in np.arange(1,5,0.5):\n",
    "    min_val = Q25 - (iqr*threshold)\n",
    "    max_val = Q75 + (iqr*threshold)\n",
    "    print(\"The score threshold is: {}\".format(threshold))\n",
    "    print(\"Number of outliers is: {}\".format(\n",
    "        len((np.where((df_education[\"TOTAL_EXPENDITURE\"] > max_val) \n",
    "                      | (df_education[\"TOTAL_EXPENDITURE\"] < min_val))[0]))\n",
    "    ))"
   ]
  },
  {
   "cell_type": "markdown",
   "metadata": {},
   "source": [
    "### 3. If you detect outliers in the TOTAL_REVENUE and TOTAL_EXPENDITURE variables, apply the techniques you learned in this checkpoint to eliminate them and validate that there's no outlier values after you handled them."
   ]
  },
  {
   "cell_type": "code",
   "execution_count": null,
   "metadata": {
    "collapsed": true
   },
   "outputs": [],
   "source": [
    "# Dropping them"
   ]
  },
  {
   "cell_type": "code",
   "execution_count": 96,
   "metadata": {
    "collapsed": false
   },
   "outputs": [
    {
     "data": {
      "text/plain": [
       "masked_array(data=[ 3365113.,  4143304.,  2183384., 25293076.,  3891203.,\n",
       "                    4686025.,   678874., 13684457.,  1199019.,  3258040.,\n",
       "                    3622788.,  3879633.,  1485138.,  5688918.,  7129757.,\n",
       "                     944623.,  1750519.,  6516400.,  4123018., 22241369.,\n",
       "                    6674519.,  6354593.,  6342623.,   664057.,  4885917.,\n",
       "                    5479168.,  2844855., 25293076.,  5884078.,   881423.,\n",
       "                   11197766.,  1404895.,  1452222.,  8489991.,  3518271.,\n",
       "                    4330089.,  4785331.,  1792390.,  7419047.,  9464271.,\n",
       "                    7344747.,  6675260.,  1104935.,  2263952.,  2252416.,\n",
       "                    2191695.,  9064700.,   812982., 15327834.,  3906833.,\n",
       "                    4369400.,  4690418.,  5338531., 25293076.,  2546642.,\n",
       "                    1211370.,  8911426.,  2243151.,  5196054.,  1425948.,\n",
       "                    6529894.,  3241275., 25293076.,  6297242.,  6959891.,\n",
       "                    1242436.,  1114061., 19549835., 13524807.,  2078877.,\n",
       "                    1685984., 19627346.,  8246076.,  4374803.,  4068800.,\n",
       "                    4872025.,  5478321.,  2162605.,  8700979., 11591832.,\n",
       "                   18488359.,  8484497.,  3260771.,  7622601.,  1205602.,\n",
       "                    2600831.,  2778564.,  2028602., 19785039.,  2626262.,\n",
       "                   25293076.,  9907235.,   882913., 18018740.,  4426835.,\n",
       "                    4592019., 19811545.,  1728055.,  5709707.,   965778.,\n",
       "                    5994756., 25293076.,  2875622.,  1451171., 10504167.,\n",
       "                    8565636.,  2497707.,  8931497.,   962240.,  5889966.,\n",
       "                    1599739.,  7550109.,  3978240., 25293076.,  6910296.,\n",
       "                    7898694.,  1431710.,  1109605., 23216404., 14724731.,\n",
       "                    2274166.,  1796035., 21611180., 11653165.,  4638125.,\n",
       "                    4223632.,  5444309.,  5975074.,  2324789.,  9906219.,\n",
       "                   12976279., 19106382.,  8777363.,  3639643.,  8340865.,\n",
       "                    1293070.,  2895640.,  3381646.,  2332695., 23026334.,\n",
       "                    2982991., 25293076., 11098165.,   969520., 19746239.,\n",
       "                    4892548.,  5022050., 22657782.,  1903472.,  6337711.,\n",
       "                    1053504.,  6806262., 25293076.,  3181279.,  1628681.,\n",
       "                   12182657.,  9141383.,  2701056.,  9584108.,  1132160.,\n",
       "                    7069040.,  1800616.,  8724434.,  4415981., 25293076.,\n",
       "                    7689014.,  8913149.,  1694929.,  1148358., 25293076.,\n",
       "                   17755989.,  2985593.,  2011951., 23897153., 10458932.,\n",
       "                    5194536.,  5038100.,  6226696.,  7048732.,  2538161.,\n",
       "                   11674965., 14407777., 20576110.,  9693509.,  4220926.,\n",
       "                    8908844.,  1474306.,  3234014.,  4006081.,  2600123.,\n",
       "                   25293076.,  3272953., 25293076., 13063307.,  1045678.,\n",
       "                   22142424.,  5491931.,  5648586., 25293076.,  2100679.,\n",
       "                    7130274.,  1136570.,  7617488., 25293076.,  3656090.,\n",
       "                    1836316., 14176385., 10350748.,  2905489., 10154985.,\n",
       "                    1477891.,  7186390.,  2158970.,  8802515.,  4753142.,\n",
       "                   25293076.,  8310673.,  9681268.,  1718993.,   801008.,\n",
       "                     801008., 25293076., 17972839.,  2689758.,  2182273.,\n",
       "                   25293076., 12999357.,  5732319.,  5615208.,  6706922.,\n",
       "                    7984550.,  2623127., 13147931., 15298022., 19616665.,\n",
       "                   10353784.,  4392101.,  9472520.,  1607935.,  3522481.,\n",
       "                    4442101.,  2816162., 25293076.,  3703477., 25293076.,\n",
       "                   15410564.,  1150142., 22779344.,  6029807.,  6158756.,\n",
       "                   25293076.,  2179714.,  7669733.,  1258876.,  8112895.,\n",
       "                   25293076.,  4238943.,  1683034., 15251481., 12025012.,\n",
       "                    3097212., 10991081.,  1675761.,  7376725.,  2357828.,\n",
       "                    8429186.,  5176362., 25293076.,  8747471.,  9783168.,\n",
       "                    1759170.,  1283071., 25293076., 18030043.,  2499513.,\n",
       "                    2089982., 25293076., 12125155.,  6098470.,  5538869.,\n",
       "                    7104589.,  8022917.,  2654366., 13443940., 15396681.,\n",
       "                   19374026., 10912368.,  4516742.,  9915356.,  1631810.,\n",
       "                    3879388.,  4146577.,  2947007., 25293076.,  3591330.,\n",
       "                   25293076., 14409515.,  1309044., 23488657.,  5835133.,\n",
       "                    6112484., 25293076.,  2212352.,  7772777.,  1297661.,\n",
       "                    8679893., 25293076.,  4141253.,  1686499., 14655345.,\n",
       "                   11905941.,  3475642., 11664303.,  1650621.,  7197439.,\n",
       "                    2545117.,  8164324.,  5067546., 25293076.,  8826868.,\n",
       "                   10319361.,  1930466.,  1300036., 24681548., 17459504.,\n",
       "                    2331770.,  2015534., 25293076., 12236713.,  6281345.,\n",
       "                    5667223.,  7216175.,  8121179.,  2650346., 13814727.,\n",
       "                   16114783., 18270327., 10848720.,  4444064., 10103589.,\n",
       "                    1671053.,  3870164.,  4131800.,  2976317., 25293076.,\n",
       "                    3518621., 25293076., 12729402.,  1405349., 22536516.,\n",
       "                    5878111.,  6077498., 25293076.,  2282659.,  8254462.,\n",
       "                    1316613.,  9008032., 25293076.,  4300793.,  1817307.,\n",
       "                   15322318., 12242231.,  3486366., 11097447.,  1695967.,\n",
       "                    7360222.,  2920986.,  8230507.,  5308625., 25293076.,\n",
       "                    9648297., 11099837.,  2017075.,  1382282., 25293076.,\n",
       "                   18584666.,  2703683.,  2167967., 25293076., 12456571.,\n",
       "                    6714410.,  5991731.,  7548871.,  8448743.,  2739589.,\n",
       "                   14491642., 16985185., 19025996., 11684249.,  4592343.,\n",
       "                   10623391.,  1804339.,  4248695.,  4345419.,  3093061.,\n",
       "                   25293076.,  3789651., 25293076., 13146934.,  1644533.,\n",
       "                   24378660.,  6121188.,  7111710., 25293076.,  2367068.,\n",
       "                    8759944.,  1415149.,  9455920., 25293076.,  4705084.,\n",
       "                    1996795., 15857524., 13709442.,  3478401., 11637376.,\n",
       "                    1962874.],\n",
       "             mask=False,\n",
       "       fill_value=1e+20)"
      ]
     },
     "execution_count": 96,
     "metadata": {},
     "output_type": "execute_result"
    }
   ],
   "source": [
    "# winsorizing them - setting values of extreme points - one way winsorization at 90th percentile\n",
    "\n",
    "winsorized_TOTAL_REVENUE = winsorize(df_education[\"TOTAL_REVENUE\"], (0, 0.10))\n",
    "\n",
    "winsorized_TOTAL_REVENUE\n",
    "\n"
   ]
  },
  {
   "cell_type": "code",
   "execution_count": 97,
   "metadata": {
    "collapsed": false
   },
   "outputs": [
    {
     "data": {
      "image/png": "[encoded data removed]",
      "text/plain": [
       "<Figure size 432x288 with 1 Axes>"
      ]
     },
     "metadata": {},
     "output_type": "display_data"
    }
   ],
   "source": [
    "plt.boxplot(winsorized_views_TOTAL_REVENUE)\n",
    "plt.title(\"Box plot of TOTAL_REVENUE (whis=1.5)\")\n",
    "plt.show()"
   ]
  },
  {
   "cell_type": "code",
   "execution_count": 98,
   "metadata": {
    "collapsed": false
   },
   "outputs": [
    {
     "data": {
      "text/plain": [
       "masked_array(data=[ 3572283.,  4391555.,  2297381., 25572112.,  4075165.,\n",
       "                    4538234.,   703245., 13936240.,  1231550.,  3284185.,\n",
       "                    3826435.,  3815375.,  1465093.,  5825606.,  7479576.,\n",
       "                     924259.,  1642517.,  6517111.,  4284181., 22401797.,\n",
       "                    6903384.,  6578388.,  6521058.,   676305.,  5003267.,\n",
       "                    5397194.,  2683400., 25572112.,  5605280.,   858807.,\n",
       "                   10884510.,  1363511.,  1467977.,  8518477.,  3327090.,\n",
       "                    4510972.,  4807097.,  1842276.,  7355698.,  9466363.,\n",
       "                    7736391.,  6708608.,  1051768.,  2165529.,  2437438.,\n",
       "                    2165031.,  9275837.,   802768., 14909952.,  3876871.,\n",
       "                    4398318.,  4961392.,  5805181., 25572112.,  2478420.,\n",
       "                    1193813.,  9154676.,  2243563.,  5298932.,  1610289.,\n",
       "                    6210287.,  3242799., 25572112.,  6685029.,  6751815.,\n",
       "                    1317447.,  1105963., 20180142., 13516783.,  1602392.,\n",
       "                    1726941., 21278177.,  9777720.,  4517990.,  3818740.,\n",
       "                    4700494.,  5515322.,  2154117.,  8732518., 11382398.,\n",
       "                   19680370.,  8938770.,  3205193.,  7905481.,  1214879.,\n",
       "                    2623966.,  3009028.,  2122604., 19812932.,  2658140.,\n",
       "                   25572112.,  9989670.,   895278., 18760200.,  4376502.,\n",
       "                    4978764., 20626459.,  1646238.,  6024747.,   993823.,\n",
       "                    6482671., 25572112.,  2957874.,  1440961., 10746679.,\n",
       "                    8802387.,  2524444.,  9128279.,   915515.,  5904664.,\n",
       "                    1751718.,  7136794.,  3999608., 25572112.,  7284280.,\n",
       "                    7452057.,  1480157.,  1085658., 23857012., 14492666.,\n",
       "                    1765805.,  1819519., 22035569., 11071431.,  4599549.,\n",
       "                    4076597.,  5750671.,  5941561.,  2325138.,  9782665.,\n",
       "                   12726283., 20489512.,  9082593.,  3610904.,  8170965.,\n",
       "                    1268328.,  2708776.,  3483540.,  2333264., 23023365.,\n",
       "                    3011696., 25572112., 10917913.,   985502., 19785561.,\n",
       "                    4785987.,  5597579., 23183924.,  1790591.,  6572191.,\n",
       "                    1059303.,  7067521., 25572112.,  3188018.,  1634534.,\n",
       "                   12385157.,  9399603.,  2698703.,  9433502.,  1033603.,\n",
       "                    7196459.,  1938755.,  8709531.,  4779308., 25572112.,\n",
       "                    8039146.,  8685421.,  1705204.,  1140506., 25572112.,\n",
       "                   17389530.,  2199604.,  1960472., 23401917., 11462062.,\n",
       "                    5198975.,  4823931.,  6351636.,  6657341.,  2501127.,\n",
       "                   11541225., 14315518., 19839838., 10030105.,  4158733.,\n",
       "                    9245525.,  1442434.,  3117931.,  4346371.,  2608190.,\n",
       "                   25572112.,  3279467., 25572112., 12794086.,  1042175.,\n",
       "                   21336580.,  5505213.,  5634955., 25572112.,  2082332.,\n",
       "                    7660995.,  1096568.,  7817659., 25572112.,  3618540.,\n",
       "                    1804519., 14700853., 10682397.,  2983267.,  9988878.,\n",
       "                    1390344.,  7815467.,  2396412.,  9580393.,  5017352.,\n",
       "                   25572112.,  8682489.,  9323053.,  1798244.,   805362.,\n",
       "                     805362., 25572112., 19025136.,  2318671.,  2078446.,\n",
       "                   25572112., 11218398.,  5732186.,  5827751.,  6831006.,\n",
       "                    8053960.,  2624504., 12757599., 15174814., 19992550.,\n",
       "                   11193640.,  4552756., 10227305.,  1622485.,  3523803.,\n",
       "                    4577881.,  2757401., 25572112.,  3945515., 25572112.,\n",
       "                   14868070.,  1137260., 22427481.,  5941799.,  6715011.,\n",
       "                   25572112.,  2171376.,  8427391.,  1273527.,  8611178.,\n",
       "                   25572112.,  4419750.,  1661019., 15510318., 12240632.,\n",
       "                    3121728., 10880480.,  1658156.,  7411768.,  2443898.,\n",
       "                    8610417.,  5669431., 25572112.,  8676451.,  9439182.,\n",
       "                    1808905.,  1297175., 25572112., 17187481.,  2259104.,\n",
       "                    1960818., 25572112., 11113533.,  6057294.,  5662146.,\n",
       "                    7253850.,  8218870.,  2728535., 13247697., 15150898.,\n",
       "                   18469948., 10612480.,  4345783.,  9842505.,  1655584.,\n",
       "                    3676326.,  4258855.,  3001244., 25572112.,  3694437.,\n",
       "                   25572112., 13767024.,  1312226., 23010396.,  5644988.,\n",
       "                    6317635., 25572112.,  2198940.,  7961448.,  1350617.,\n",
       "                    8961443., 25572112.,  4195916.,  1722515., 14675815.,\n",
       "                   11928408.,  3670119., 11440718.,  1656850.,  7487741.,\n",
       "                    2665933.,  7600581.,  5226339., 25572112.,  8699125.,\n",
       "                    9758850.,  1924626.,  1308438., 25245400., 17317504.,\n",
       "                    2345917.,  1967676., 25572112., 11211155.,  6318241.,\n",
       "                    5621023.,  7413896.,  7940880.,  2535405., 13284637.,\n",
       "                   16201905., 17468264., 10942019.,  4370050., 10001763.,\n",
       "                    1679521.,  3913038.,  4057443.,  2878534., 25572112.,\n",
       "                    3536546., 25572112., 13650536.,  1516575., 22015797.,\n",
       "                    5796945.,  6228197., 25572112.,  2231413.,  8224795.,\n",
       "                    1332496.,  9248235., 25572112.,  4584624.,  1809138.,\n",
       "                   15634918., 12097549.,  3488877., 10845059.,  1675477.,\n",
       "                    7501799.,  2968341.,  7902600.,  5350543., 25572112.,\n",
       "                    9557682., 10542667.,  1975093.,  1360942., 25572112.,\n",
       "                   18501103.,  2521004.,  2029520., 25572112., 11378564.,\n",
       "                    6772654.,  6175724.,  7554887.,  8437263.,  2596180.,\n",
       "                   13882823., 16972319., 17742903., 11969872.,  4624539.,\n",
       "                   10540353.,  1804841.,  4283846.,  4183085.,  3044720.,\n",
       "                   25572112.,  3846641., 25572112., 14060699.,  1804762.,\n",
       "                   22561728.,  6184819.,  7011609., 25572112.,  2326473.,\n",
       "                    8783362.,  1464781.,  9562527., 25572112.,  4537962.,\n",
       "                    1969415., 16113212., 13630138.,  3466981., 11553677.,\n",
       "                    1942406.],\n",
       "             mask=False,\n",
       "       fill_value=1e+20)"
      ]
     },
     "execution_count": 98,
     "metadata": {},
     "output_type": "execute_result"
    }
   ],
   "source": [
    "# winsorizing them - setting values of extreme points - one way winsorization at 90th percentile\n",
    "\n",
    "winsorized_TOTAL_EXPENDITURE = winsorize(df_education[\"TOTAL_EXPENDITURE\"], (0, 0.10))\n",
    "\n",
    "winsorized_TOTAL_EXPENDITURE"
   ]
  },
  {
   "cell_type": "code",
   "execution_count": 99,
   "metadata": {
    "collapsed": false
   },
   "outputs": [
    {
     "data": {
      "image/png": "[encoded data removed]",
      "text/plain": [
       "<Figure size 432x288 with 1 Axes>"
      ]
     },
     "metadata": {},
     "output_type": "display_data"
    }
   ],
   "source": [
    "# this looks like it may still have outliers - should we go to 90th percentile\n",
    "plt.boxplot(winsorized_views_TOTAL_EXPENDITURE)\n",
    "plt.title(\"Box plot of TOTAL_EXPENDITURE (whis=1.5)\")\n",
    "plt.show()"
   ]
  },
  {
   "cell_type": "code",
   "execution_count": 100,
   "metadata": {
    "collapsed": false
   },
   "outputs": [
    {
     "data": {
      "image/png": "[encoded data removed]",
      "text/plain": [
       "<Figure size 1080x360 with 2 Axes>"
      ]
     },
     "metadata": {},
     "output_type": "display_data"
    }
   ],
   "source": [
    "# Transforming them - use log to transform\n",
    "plt.figure(figsize = (15,5))\n",
    "\n",
    "plt.subplot(1,2,1)\n",
    "plt.hist(df_education[\"TOTAL_REVENUE\"])\n",
    "plt.title(\"Histogram of TOTAL_REVENUE\")\n",
    "\n",
    "plt.subplot(1,2,2)\n",
    "plt.hist(np.log(df_education[\"TOTAL_REVENUE\"]))\n",
    "plt.title(\"Histogram of log transformed TOTAL_REVENUE\")\n",
    "plt.show()"
   ]
  },
  {
   "cell_type": "code",
   "execution_count": 101,
   "metadata": {
    "collapsed": false
   },
   "outputs": [
    {
     "data": {
      "image/png": "[encoded data removed]",
      "text/plain": [
       "<Figure size 1080x360 with 2 Axes>"
      ]
     },
     "metadata": {},
     "output_type": "display_data"
    }
   ],
   "source": [
    "# Transforming them - use log to transform\n",
    "plt.figure(figsize = (15,5))\n",
    "\n",
    "plt.subplot(1,2,1)\n",
    "plt.hist(df_education[\"TOTAL_EXPENDITURE\"])\n",
    "plt.title(\"Histogram of TOTAL_EXPENDITURE\")\n",
    "\n",
    "plt.subplot(1,2,2)\n",
    "plt.hist(np.log(df_education[\"TOTAL_EXPENDITURE\"]))\n",
    "plt.title(\"Histogram of log transformed TOTAL_EXPENDITURE\")\n",
    "plt.show()"
   ]
  },
  {
   "cell_type": "markdown",
   "metadata": {},
   "source": [
    "### Create another variable by subtracting the original TOTAL_EXPENDITURE from TOTAL_REVENUE (before you eliminated the outliers). You can think of it as a kind of budget deficit in education. \n",
    "\n",
    "### Do you find any outlier values in this new variable? If so, eliminate them using the technique you think most suitable.\n"
   ]
  },
  {
   "cell_type": "code",
   "execution_count": 102,
   "metadata": {
    "collapsed": true
   },
   "outputs": [],
   "source": [
    "df_education['budget_deficit'] = df_education['TOTAL_REVENUE'] - df_education['TOTAL_EXPENDITURE']"
   ]
  },
  {
   "cell_type": "code",
   "execution_count": 95,
   "metadata": {
    "collapsed": false
   },
   "outputs": [
    {
     "data": {
      "image/png": "[encoded data removed]",
      "text/plain": [
       "<Figure size 432x288 with 1 Axes>"
      ]
     },
     "metadata": {},
     "output_type": "display_data"
    }
   ],
   "source": [
    "# detecting outliers in df['budget_deficit']\n",
    "\n",
    "plt.boxplot(df_education['budget_deficit'],whis = 5)\n",
    "plt.title('Box plot for budget_deficit')\n",
    "plt.show()"
   ]
  },
  {
   "cell_type": "code",
   "execution_count": 107,
   "metadata": {
    "collapsed": false
   },
   "outputs": [
    {
     "data": {
      "text/plain": [
       "masked_array(data=[-2.07170e+05, -2.48251e+05, -1.13997e+05, -2.78711e+05,\n",
       "                   -1.83962e+05,  1.47791e+05, -2.43710e+04, -2.51783e+05,\n",
       "                   -3.25310e+04, -2.61450e+04, -2.03647e+05,  6.42580e+04,\n",
       "                    2.00450e+04, -1.36688e+05, -3.49819e+05,  2.03640e+04,\n",
       "                    1.08002e+05, -7.11000e+02, -1.61163e+05, -1.60428e+05,\n",
       "                   -2.28865e+05, -2.23795e+05, -1.78435e+05, -1.22480e+04,\n",
       "                   -1.17350e+05,  8.19740e+04,  1.61455e+05,  5.57170e+05,\n",
       "                    2.78798e+05,  2.26160e+04,  3.13256e+05,  4.13840e+04,\n",
       "                   -1.57550e+04, -2.84860e+04,  1.91181e+05, -1.80883e+05,\n",
       "                   -2.17660e+04, -4.98860e+04,  6.33490e+04, -2.09200e+03,\n",
       "                   -3.91644e+05, -3.33480e+04,  5.31670e+04,  9.84230e+04,\n",
       "                   -1.85022e+05,  2.66640e+04, -2.11137e+05,  1.02140e+04,\n",
       "                    4.17882e+05,  2.99620e+04, -2.89180e+04, -2.70974e+05,\n",
       "                   -4.66650e+05, -9.40187e+05,  6.82220e+04,  1.75570e+04,\n",
       "                   -2.43250e+05, -4.12000e+02, -1.02878e+05, -1.84341e+05,\n",
       "                    3.19607e+05, -1.52400e+03,  6.59700e+04, -3.87787e+05,\n",
       "                    2.08076e+05, -7.50110e+04,  8.09800e+03, -6.30307e+05,\n",
       "                    8.02400e+03,  4.76485e+05, -4.09570e+04, -9.40187e+05,\n",
       "                   -9.40187e+05, -1.43187e+05,  2.50060e+05,  1.71531e+05,\n",
       "                   -3.70010e+04,  8.48800e+03, -3.15390e+04,  2.09434e+05,\n",
       "                   -9.40187e+05, -4.54273e+05,  5.55780e+04, -2.82880e+05,\n",
       "                   -9.27700e+03, -2.31350e+04, -2.30464e+05, -9.40020e+04,\n",
       "                   -2.78930e+04, -3.18780e+04, -9.40187e+05, -8.24350e+04,\n",
       "                   -1.23650e+04, -7.41460e+05,  5.03330e+04, -3.86745e+05,\n",
       "                   -8.14914e+05,  8.18170e+04, -3.15040e+05, -2.80450e+04,\n",
       "                   -4.87915e+05, -9.40187e+05, -8.22520e+04,  1.02100e+04,\n",
       "                   -2.42512e+05, -2.36751e+05, -2.67370e+04, -1.96782e+05,\n",
       "                    4.67250e+04, -1.46980e+04, -1.51979e+05,  4.13315e+05,\n",
       "                   -2.13680e+04, -9.40187e+05, -3.73984e+05,  4.46637e+05,\n",
       "                   -4.84470e+04,  2.39470e+04, -6.40608e+05,  2.32065e+05,\n",
       "                    5.08361e+05, -2.34840e+04, -4.24389e+05,  5.57170e+05,\n",
       "                    3.85760e+04,  1.47035e+05, -3.06362e+05,  3.35130e+04,\n",
       "                   -3.49000e+02,  1.23554e+05,  2.49996e+05, -9.40187e+05,\n",
       "                   -3.05230e+05,  2.87390e+04,  1.69900e+05,  2.47420e+04,\n",
       "                    1.86864e+05, -1.01894e+05, -5.69000e+02,  2.96900e+03,\n",
       "                   -2.87050e+04, -9.40187e+05,  1.80252e+05, -1.59820e+04,\n",
       "                   -3.93220e+04,  1.06561e+05, -5.75529e+05, -5.26142e+05,\n",
       "                    1.12881e+05, -2.34480e+05, -5.79900e+03, -2.61259e+05,\n",
       "                   -9.40187e+05, -6.73900e+03, -5.85300e+03, -2.02500e+05,\n",
       "                   -2.58220e+05,  2.35300e+03,  1.50606e+05,  9.85570e+04,\n",
       "                   -1.27419e+05, -1.38139e+05,  1.49030e+04, -3.63327e+05,\n",
       "                   -7.08486e+05, -3.50132e+05,  2.27728e+05, -1.02750e+04,\n",
       "                    7.85200e+03, -9.40187e+05,  3.66459e+05,  5.57170e+05,\n",
       "                    5.14790e+04,  4.95236e+05, -9.40187e+05, -4.43900e+03,\n",
       "                    2.14169e+05, -1.24940e+05,  3.91391e+05,  3.70340e+04,\n",
       "                    1.33740e+05,  9.22590e+04,  5.57170e+05, -3.36596e+05,\n",
       "                    6.21930e+04, -3.36681e+05,  3.18720e+04,  1.16083e+05,\n",
       "                   -3.40290e+05, -8.06700e+03, -2.79036e+05, -6.51400e+03,\n",
       "                   -4.91440e+05,  2.69221e+05,  3.50300e+03,  5.57170e+05,\n",
       "                   -1.32820e+04,  1.36310e+04, -2.92506e+05,  1.83470e+04,\n",
       "                   -5.30721e+05,  4.00020e+04, -2.00171e+05, -9.40187e+05,\n",
       "                    3.75500e+04,  3.17970e+04, -5.24468e+05, -3.31649e+05,\n",
       "                   -7.77780e+04,  1.66107e+05,  8.75470e+04, -6.29077e+05,\n",
       "                   -2.37442e+05, -7.77878e+05, -2.64210e+05, -8.07190e+05,\n",
       "                   -3.71816e+05,  3.58215e+05, -7.92510e+04, -4.35400e+03,\n",
       "                   -4.35400e+03, -9.40187e+05, -9.40187e+05,  3.71087e+05,\n",
       "                    1.03827e+05, -7.28761e+05,  5.57170e+05,  1.33000e+02,\n",
       "                   -2.12543e+05, -1.24084e+05, -6.94100e+04, -1.37700e+03,\n",
       "                    3.90332e+05,  1.23208e+05, -3.75885e+05, -8.39856e+05,\n",
       "                   -1.60655e+05, -7.54785e+05, -1.45500e+04, -1.32200e+03,\n",
       "                   -1.35780e+05,  5.87610e+04,  3.65079e+05, -2.42038e+05,\n",
       "                   -9.40187e+05,  5.42494e+05,  1.28820e+04,  3.51863e+05,\n",
       "                    8.80080e+04, -5.56255e+05, -5.73095e+05,  8.33800e+03,\n",
       "                   -7.57658e+05, -1.46510e+04, -4.98283e+05, -9.40187e+05,\n",
       "                   -1.80807e+05,  2.20150e+04, -2.58837e+05, -2.15620e+05,\n",
       "                   -2.45160e+04,  1.10601e+05,  1.76050e+04, -3.50430e+04,\n",
       "                   -8.60700e+04, -1.81231e+05, -4.93069e+05,  5.57170e+05,\n",
       "                    7.10200e+04,  3.43986e+05, -4.97350e+04, -1.41040e+04,\n",
       "                   -5.38253e+05,  5.57170e+05,  2.40409e+05,  1.29164e+05,\n",
       "                    5.57170e+05,  5.57170e+05,  4.11760e+04, -1.23277e+05,\n",
       "                   -1.49261e+05, -1.95953e+05, -7.41690e+04,  1.96243e+05,\n",
       "                    2.45783e+05,  5.57170e+05,  2.99888e+05,  1.70959e+05,\n",
       "                    7.28510e+04, -2.37740e+04,  2.03062e+05, -1.12278e+05,\n",
       "                   -5.42370e+04,  5.26078e+05, -1.03107e+05, -9.40187e+05,\n",
       "                    5.57170e+05, -3.18200e+03,  4.78261e+05,  1.90145e+05,\n",
       "                   -2.05151e+05, -3.18211e+05,  1.34120e+04, -1.88671e+05,\n",
       "                   -5.29560e+04, -2.81550e+05, -9.40187e+05, -5.46630e+04,\n",
       "                   -3.60160e+04, -2.04700e+04, -2.24670e+04, -1.94477e+05,\n",
       "                    2.23585e+05, -6.22900e+03, -2.90302e+05, -1.20816e+05,\n",
       "                    5.57170e+05, -1.58793e+05, -8.58603e+05,  1.27743e+05,\n",
       "                    5.57170e+05,  5.84000e+03, -8.40200e+03, -5.63852e+05,\n",
       "                    1.42000e+05, -1.41470e+04,  4.78580e+04,  5.40055e+05,\n",
       "                    5.57170e+05, -3.68960e+04,  4.62000e+04, -1.97721e+05,\n",
       "                    1.80299e+05,  1.14941e+05,  5.30090e+05, -8.71220e+04,\n",
       "                    5.57170e+05, -9.32990e+04,  7.40140e+04,  1.01826e+05,\n",
       "                   -8.46800e+03, -4.28740e+04,  7.43570e+04,  9.77830e+04,\n",
       "                   -1.09804e+05, -1.79250e+04, -8.82032e+05, -9.21134e+05,\n",
       "                   -1.11226e+05,  5.20719e+05,  8.11660e+04, -1.50699e+05,\n",
       "                   -1.04730e+04,  5.12460e+04,  2.96670e+04, -1.58830e+04,\n",
       "                   -2.40203e+05, -9.40187e+05, -2.83831e+05,  8.16900e+03,\n",
       "                   -3.12600e+05,  1.44682e+05, -2.51100e+03,  2.52388e+05,\n",
       "                    2.04900e+04, -1.41577e+05, -4.73550e+04,  3.27907e+05,\n",
       "                   -4.19180e+04, -1.17916e+05,  9.06150e+04,  5.57170e+05,\n",
       "                    4.19820e+04,  2.13400e+04, -3.05558e+05,  8.35630e+04,\n",
       "                    1.82679e+05,  1.38447e+05, -3.13201e+05,  5.57170e+05,\n",
       "                   -5.82440e+04, -1.83993e+05, -6.01600e+03,  1.14800e+04,\n",
       "                    1.43409e+05,  5.57170e+05,  1.28660e+04,  5.57170e+05,\n",
       "                   -2.85623e+05, -3.21960e+04,  8.30380e+04, -5.02000e+02,\n",
       "                   -3.51510e+04,  1.62334e+05,  4.83410e+04,  5.25512e+05,\n",
       "                   -5.69900e+04, -9.40187e+05, -9.13765e+05, -1.60229e+05,\n",
       "                    5.57170e+05, -6.36310e+04,  1.00101e+05,  2.76540e+05,\n",
       "                    4.05950e+04, -2.34180e+04, -4.96320e+04, -1.06607e+05,\n",
       "                   -6.73762e+05,  1.67122e+05,  2.73800e+04, -2.55688e+05,\n",
       "                    7.93040e+04,  1.14200e+04,  8.36990e+04,  2.04680e+04],\n",
       "             mask=False,\n",
       "       fill_value=1e+20)"
      ]
     },
     "execution_count": 107,
     "metadata": {},
     "output_type": "execute_result"
    }
   ],
   "source": [
    "# eliminating them using winsorization\n",
    "\n",
    "winsorized_budget_deficit = winsorize(df_education['budget_deficit'], (.05, 0.05))\n",
    "winsorized_budget_deficit"
   ]
  },
  {
   "cell_type": "code",
   "execution_count": 108,
   "metadata": {
    "collapsed": false
   },
   "outputs": [
    {
     "data": {
      "image/png": "[encoded data removed]",
      "text/plain": [
       "<Figure size 432x288 with 1 Axes>"
      ]
     },
     "metadata": {},
     "output_type": "display_data"
    }
   ],
   "source": [
    "plt.boxplot(winsorized_budget_deficit)\n",
    "plt.title(\"Box plot of budget deficit\")\n",
    "plt.show()"
   ]
  },
  {
   "cell_type": "markdown",
   "metadata": {},
   "source": [
    "### 4.  Now create another variable by subtracting the TOTAL_EXPENDITURE from TOTAL_REVENUE. This time, use the outlier eliminated versions of TOTAL_EXPENDITURE from TOTAL_REVENUE. In this newly created variable, can you find any outliers? If so, eliminate them."
   ]
  },
  {
   "cell_type": "code",
   "execution_count": 109,
   "metadata": {
    "collapsed": false
   },
   "outputs": [
    {
     "data": {
      "text/plain": [
       "masked_array(data=[-2.071700e+05, -2.482510e+05, -1.139970e+05,\n",
       "                   -2.790360e+05, -1.839620e+05,  1.477910e+05,\n",
       "                   -2.437100e+04, -2.517830e+05, -3.253100e+04,\n",
       "                   -2.614500e+04, -2.036470e+05,  6.425800e+04,\n",
       "                    2.004500e+04, -1.366880e+05, -3.498190e+05,\n",
       "                    2.036400e+04,  1.080020e+05, -7.110000e+02,\n",
       "                   -1.611630e+05, -1.604280e+05, -2.288650e+05,\n",
       "                   -2.237950e+05, -1.784350e+05, -1.224800e+04,\n",
       "                   -1.173500e+05,  8.197400e+04,  1.614550e+05,\n",
       "                   -2.790360e+05,  2.787980e+05,  2.261600e+04,\n",
       "                    3.132560e+05,  4.138400e+04, -1.575500e+04,\n",
       "                   -2.848600e+04,  1.911810e+05, -1.808830e+05,\n",
       "                   -2.176600e+04, -4.988600e+04,  6.334900e+04,\n",
       "                   -2.092000e+03, -3.916440e+05, -3.334800e+04,\n",
       "                    5.316700e+04,  9.842300e+04, -1.850220e+05,\n",
       "                    2.666400e+04, -2.111370e+05,  1.021400e+04,\n",
       "                    4.178820e+05,  2.996200e+04, -2.891800e+04,\n",
       "                   -2.709740e+05, -4.666500e+05, -2.790360e+05,\n",
       "                    6.822200e+04,  1.755700e+04, -2.432500e+05,\n",
       "                   -4.120000e+02, -1.028780e+05, -1.843410e+05,\n",
       "                    3.196070e+05, -1.524000e+03, -2.790360e+05,\n",
       "                   -3.877870e+05,  2.080760e+05, -7.501100e+04,\n",
       "                    8.098000e+03, -6.303070e+05,  8.024000e+03,\n",
       "                    4.764850e+05, -4.095700e+04, -1.650831e+06,\n",
       "                   -1.531644e+06, -1.431870e+05,  2.500600e+05,\n",
       "                    1.715310e+05, -3.700100e+04,  8.488000e+03,\n",
       "                   -3.153900e+04,  2.094340e+05, -1.192011e+06,\n",
       "                   -4.542730e+05,  5.557800e+04, -2.828800e+05,\n",
       "                   -9.277000e+03, -2.313500e+04, -2.304640e+05,\n",
       "                   -9.400200e+04, -2.789300e+04, -3.187800e+04,\n",
       "                   -2.790360e+05, -8.243500e+04, -1.236500e+04,\n",
       "                   -7.414600e+05,  5.033300e+04, -3.867450e+05,\n",
       "                   -8.149140e+05,  8.181700e+04, -3.150400e+05,\n",
       "                   -2.804500e+04, -4.879150e+05, -2.790360e+05,\n",
       "                   -8.225200e+04,  1.021000e+04, -2.425120e+05,\n",
       "                   -2.367510e+05, -2.673700e+04, -1.967820e+05,\n",
       "                    4.672500e+04, -1.469800e+04, -1.519790e+05,\n",
       "                    4.133150e+05, -2.136800e+04, -2.790360e+05,\n",
       "                   -3.739840e+05,  4.466370e+05, -4.844700e+04,\n",
       "                    2.394700e+04, -6.406080e+05,  2.320650e+05,\n",
       "                    5.083610e+05, -2.348400e+04, -4.243890e+05,\n",
       "                    5.817340e+05,  3.857600e+04,  1.470350e+05,\n",
       "                   -3.063620e+05,  3.351300e+04, -3.490000e+02,\n",
       "                    1.235540e+05,  2.499960e+05, -1.383130e+06,\n",
       "                   -3.052300e+05,  2.873900e+04,  1.699000e+05,\n",
       "                    2.474200e+04,  1.868640e+05, -1.018940e+05,\n",
       "                   -5.690000e+02,  2.969000e+03, -2.870500e+04,\n",
       "                   -2.790360e+05,  1.802520e+05, -1.598200e+04,\n",
       "                   -3.932200e+04,  1.065610e+05, -5.755290e+05,\n",
       "                   -5.261420e+05,  1.128810e+05, -2.344800e+05,\n",
       "                   -5.799000e+03, -2.612590e+05, -2.790360e+05,\n",
       "                   -6.739000e+03, -5.853000e+03, -2.025000e+05,\n",
       "                   -2.582200e+05,  2.353000e+03,  1.506060e+05,\n",
       "                    9.855700e+04, -1.274190e+05, -1.381390e+05,\n",
       "                    1.490300e+04, -3.633270e+05, -2.790360e+05,\n",
       "                   -3.501320e+05,  2.277280e+05, -1.027500e+04,\n",
       "                    7.852000e+03, -2.790360e+05,  3.664590e+05,\n",
       "                    7.859890e+05,  5.147900e+04,  4.952360e+05,\n",
       "                   -1.003130e+06, -4.439000e+03,  2.141690e+05,\n",
       "                   -1.249400e+05,  3.913910e+05,  3.703400e+04,\n",
       "                    1.337400e+05,  9.225900e+04,  7.362720e+05,\n",
       "                   -3.365960e+05,  6.219300e+04, -3.366810e+05,\n",
       "                    3.187200e+04,  1.160830e+05, -3.402900e+05,\n",
       "                   -8.067000e+03, -2.790360e+05, -6.514000e+03,\n",
       "                   -2.790360e+05,  2.692210e+05,  3.503000e+03,\n",
       "                    8.058440e+05, -1.328200e+04,  1.363100e+04,\n",
       "                   -2.790360e+05,  1.834700e+04, -5.307210e+05,\n",
       "                    4.000200e+04, -2.001710e+05, -2.790360e+05,\n",
       "                    3.755000e+04,  3.179700e+04, -5.244680e+05,\n",
       "                   -3.316490e+05, -7.777800e+04,  1.661070e+05,\n",
       "                    8.754700e+04, -6.290770e+05, -2.374420e+05,\n",
       "                   -7.778780e+05, -2.642100e+05, -2.790360e+05,\n",
       "                   -3.718160e+05,  3.582150e+05, -7.925100e+04,\n",
       "                   -4.354000e+03, -4.354000e+03, -2.790360e+05,\n",
       "                   -1.052297e+06,  3.710870e+05,  1.038270e+05,\n",
       "                   -2.790360e+05,  1.780959e+06,  1.330000e+02,\n",
       "                   -2.125430e+05, -1.240840e+05, -6.941000e+04,\n",
       "                   -1.377000e+03,  3.903320e+05,  1.232080e+05,\n",
       "                   -3.758850e+05, -8.398560e+05, -1.606550e+05,\n",
       "                   -7.547850e+05, -1.455000e+04, -1.322000e+03,\n",
       "                   -1.357800e+05,  5.876100e+04, -2.790360e+05,\n",
       "                   -2.420380e+05, -2.790360e+05,  5.424940e+05,\n",
       "                    1.288200e+04,  3.518630e+05,  8.800800e+04,\n",
       "                   -5.562550e+05, -2.790360e+05,  8.338000e+03,\n",
       "                   -7.576580e+05, -1.465100e+04, -4.982830e+05,\n",
       "                   -2.790360e+05, -1.808070e+05,  2.201500e+04,\n",
       "                   -2.588370e+05, -2.156200e+05, -2.451600e+04,\n",
       "                    1.106010e+05,  1.760500e+04, -3.504300e+04,\n",
       "                   -8.607000e+04, -1.812310e+05, -4.930690e+05,\n",
       "                   -2.790360e+05,  7.102000e+04,  3.439860e+05,\n",
       "                   -4.973500e+04, -1.410400e+04, -2.790360e+05,\n",
       "                    8.425620e+05,  2.404090e+05,  1.291640e+05,\n",
       "                   -2.790360e+05,  1.011622e+06,  4.117600e+04,\n",
       "                   -1.232770e+05, -1.492610e+05, -1.959530e+05,\n",
       "                   -7.416900e+04,  1.962430e+05,  2.457830e+05,\n",
       "                    9.040780e+05,  2.998880e+05,  1.709590e+05,\n",
       "                    7.285100e+04, -2.377400e+04,  2.030620e+05,\n",
       "                   -1.122780e+05, -5.423700e+04, -2.790360e+05,\n",
       "                   -1.031070e+05, -2.790360e+05,  6.424910e+05,\n",
       "                   -3.182000e+03,  4.782610e+05,  1.901450e+05,\n",
       "                   -2.051510e+05, -2.790360e+05,  1.341200e+04,\n",
       "                   -1.886710e+05, -5.295600e+04, -2.815500e+05,\n",
       "                   -2.790360e+05, -5.466300e+04, -3.601600e+04,\n",
       "                   -2.047000e+04, -2.246700e+04, -1.944770e+05,\n",
       "                    2.235850e+05, -6.229000e+03, -2.903020e+05,\n",
       "                   -1.208160e+05,  5.637430e+05, -1.587930e+05,\n",
       "                   -2.790360e+05,  1.277430e+05,  5.605110e+05,\n",
       "                    5.840000e+03, -8.402000e+03, -5.638520e+05,\n",
       "                    1.420000e+05, -1.414700e+04,  4.785800e+04,\n",
       "                   -2.790360e+05,  1.025558e+06, -3.689600e+04,\n",
       "                    4.620000e+04, -1.977210e+05,  1.802990e+05,\n",
       "                    1.149410e+05,  5.300900e+05, -8.712200e+04,\n",
       "                    8.020630e+05, -9.329900e+04,  7.401400e+04,\n",
       "                    1.018260e+05, -8.468000e+03, -4.287400e+04,\n",
       "                    7.435700e+04,  9.778300e+04, -2.790360e+05,\n",
       "                   -1.792500e+04, -2.790360e+05, -9.211340e+05,\n",
       "                   -1.112260e+05,  5.207190e+05,  8.116600e+04,\n",
       "                   -1.506990e+05, -2.790360e+05,  5.124600e+04,\n",
       "                    2.966700e+04, -1.588300e+04, -2.402030e+05,\n",
       "                   -2.790360e+05, -2.838310e+05,  8.169000e+03,\n",
       "                   -3.126000e+05,  1.446820e+05, -2.511000e+03,\n",
       "                    2.523880e+05,  2.049000e+04, -1.415770e+05,\n",
       "                   -4.735500e+04,  3.279070e+05, -4.191800e+04,\n",
       "                   -2.790360e+05,  9.061500e+04,  5.571700e+05,\n",
       "                    4.198200e+04,  2.134000e+04, -2.790360e+05,\n",
       "                    8.356300e+04,  1.826790e+05,  1.384470e+05,\n",
       "                   -2.790360e+05,  1.078007e+06, -5.824400e+04,\n",
       "                   -1.839930e+05, -6.016000e+03,  1.148000e+04,\n",
       "                    1.434090e+05,  6.088190e+05,  1.286600e+04,\n",
       "                    1.283093e+06, -2.856230e+05, -3.219600e+04,\n",
       "                    8.303800e+04, -5.020000e+02, -3.515100e+04,\n",
       "                    1.623340e+05,  4.834100e+04, -2.790360e+05,\n",
       "                   -5.699000e+04, -2.790360e+05, -9.137650e+05,\n",
       "                   -1.602290e+05,  1.816932e+06, -6.363100e+04,\n",
       "                    1.001010e+05, -2.790360e+05,  4.059500e+04,\n",
       "                   -2.341800e+04, -4.963200e+04, -1.066070e+05,\n",
       "                   -2.790360e+05,  1.671220e+05,  2.738000e+04,\n",
       "                   -2.556880e+05,  7.930400e+04,  1.142000e+04,\n",
       "                    8.369900e+04,  2.046800e+04],\n",
       "             mask=False,\n",
       "       fill_value=1e+20)"
      ]
     },
     "execution_count": 109,
     "metadata": {},
     "output_type": "execute_result"
    }
   ],
   "source": [
    "budget_deficit2 = winsorized_TOTAL_REVENUE - winsorized_TOTAL_EXPENDITURE\n",
    "budget_deficit2"
   ]
  },
  {
   "cell_type": "code",
   "execution_count": 110,
   "metadata": {
    "collapsed": false
   },
   "outputs": [
    {
     "data": {
      "image/png": "[encoded data removed]",
      "text/plain": [
       "<Figure size 432x288 with 1 Axes>"
      ]
     },
     "metadata": {},
     "output_type": "display_data"
    }
   ],
   "source": [
    "plt.boxplot(budget_deficit2)\n",
    "plt.title(\"Box plot of budget deficit 2\")\n",
    "plt.show()"
   ]
  },
  {
   "cell_type": "code",
   "execution_count": 112,
   "metadata": {
    "collapsed": false
   },
   "outputs": [
    {
     "data": {
      "text/plain": [
       "masked_array(data=[-2.07170e+05, -2.48251e+05, -1.13997e+05, -2.79036e+05,\n",
       "                   -1.83962e+05,  1.47791e+05, -2.43710e+04, -2.51783e+05,\n",
       "                   -3.25310e+04, -2.61450e+04, -2.03647e+05,  6.42580e+04,\n",
       "                    2.00450e+04, -1.36688e+05, -3.49819e+05,  2.03640e+04,\n",
       "                    1.08002e+05, -7.11000e+02, -1.61163e+05, -1.60428e+05,\n",
       "                   -2.28865e+05, -2.23795e+05, -1.78435e+05, -1.22480e+04,\n",
       "                   -1.17350e+05,  8.19740e+04,  1.61455e+05, -2.79036e+05,\n",
       "                    2.78798e+05,  2.26160e+04,  3.13256e+05,  4.13840e+04,\n",
       "                   -1.57550e+04, -2.84860e+04,  1.91181e+05, -1.80883e+05,\n",
       "                   -2.17660e+04, -4.98860e+04,  6.33490e+04, -2.09200e+03,\n",
       "                   -3.91644e+05, -3.33480e+04,  5.31670e+04,  9.84230e+04,\n",
       "                   -1.85022e+05,  2.66640e+04, -2.11137e+05,  1.02140e+04,\n",
       "                    4.17882e+05,  2.99620e+04, -2.89180e+04, -2.70974e+05,\n",
       "                   -4.66650e+05, -2.79036e+05,  6.82220e+04,  1.75570e+04,\n",
       "                   -2.43250e+05, -4.12000e+02, -1.02878e+05, -1.84341e+05,\n",
       "                    3.19607e+05, -1.52400e+03, -2.79036e+05, -3.87787e+05,\n",
       "                    2.08076e+05, -7.50110e+04,  8.09800e+03, -5.30721e+05,\n",
       "                    8.02400e+03,  4.76485e+05, -4.09570e+04, -5.30721e+05,\n",
       "                   -5.30721e+05, -1.43187e+05,  2.50060e+05,  1.71531e+05,\n",
       "                   -3.70010e+04,  8.48800e+03, -3.15390e+04,  2.09434e+05,\n",
       "                   -5.30721e+05, -4.54273e+05,  5.55780e+04, -2.82880e+05,\n",
       "                   -9.27700e+03, -2.31350e+04, -2.30464e+05, -9.40020e+04,\n",
       "                   -2.78930e+04, -3.18780e+04, -2.79036e+05, -8.24350e+04,\n",
       "                   -1.23650e+04, -5.30721e+05,  5.03330e+04, -3.86745e+05,\n",
       "                   -5.30721e+05,  8.18170e+04, -3.15040e+05, -2.80450e+04,\n",
       "                   -4.87915e+05, -2.79036e+05, -8.22520e+04,  1.02100e+04,\n",
       "                   -2.42512e+05, -2.36751e+05, -2.67370e+04, -1.96782e+05,\n",
       "                    4.67250e+04, -1.46980e+04, -1.51979e+05,  4.13315e+05,\n",
       "                   -2.13680e+04, -2.79036e+05, -3.73984e+05,  4.46637e+05,\n",
       "                   -4.84470e+04,  2.39470e+04, -5.30721e+05,  2.32065e+05,\n",
       "                    5.08361e+05, -2.34840e+04, -4.24389e+05,  5.20719e+05,\n",
       "                    3.85760e+04,  1.47035e+05, -3.06362e+05,  3.35130e+04,\n",
       "                   -3.49000e+02,  1.23554e+05,  2.49996e+05, -5.30721e+05,\n",
       "                   -3.05230e+05,  2.87390e+04,  1.69900e+05,  2.47420e+04,\n",
       "                    1.86864e+05, -1.01894e+05, -5.69000e+02,  2.96900e+03,\n",
       "                   -2.87050e+04, -2.79036e+05,  1.80252e+05, -1.59820e+04,\n",
       "                   -3.93220e+04,  1.06561e+05, -5.30721e+05, -5.26142e+05,\n",
       "                    1.12881e+05, -2.34480e+05, -5.79900e+03, -2.61259e+05,\n",
       "                   -2.79036e+05, -6.73900e+03, -5.85300e+03, -2.02500e+05,\n",
       "                   -2.58220e+05,  2.35300e+03,  1.50606e+05,  9.85570e+04,\n",
       "                   -1.27419e+05, -1.38139e+05,  1.49030e+04, -3.63327e+05,\n",
       "                   -2.79036e+05, -3.50132e+05,  2.27728e+05, -1.02750e+04,\n",
       "                    7.85200e+03, -2.79036e+05,  3.66459e+05,  5.20719e+05,\n",
       "                    5.14790e+04,  4.95236e+05, -5.30721e+05, -4.43900e+03,\n",
       "                    2.14169e+05, -1.24940e+05,  3.91391e+05,  3.70340e+04,\n",
       "                    1.33740e+05,  9.22590e+04,  5.20719e+05, -3.36596e+05,\n",
       "                    6.21930e+04, -3.36681e+05,  3.18720e+04,  1.16083e+05,\n",
       "                   -3.40290e+05, -8.06700e+03, -2.79036e+05, -6.51400e+03,\n",
       "                   -2.79036e+05,  2.69221e+05,  3.50300e+03,  5.20719e+05,\n",
       "                   -1.32820e+04,  1.36310e+04, -2.79036e+05,  1.83470e+04,\n",
       "                   -5.30721e+05,  4.00020e+04, -2.00171e+05, -2.79036e+05,\n",
       "                    3.75500e+04,  3.17970e+04, -5.24468e+05, -3.31649e+05,\n",
       "                   -7.77780e+04,  1.66107e+05,  8.75470e+04, -5.30721e+05,\n",
       "                   -2.37442e+05, -5.30721e+05, -2.64210e+05, -2.79036e+05,\n",
       "                   -3.71816e+05,  3.58215e+05, -7.92510e+04, -4.35400e+03,\n",
       "                   -4.35400e+03, -2.79036e+05, -5.30721e+05,  3.71087e+05,\n",
       "                    1.03827e+05, -2.79036e+05,  5.20719e+05,  1.33000e+02,\n",
       "                   -2.12543e+05, -1.24084e+05, -6.94100e+04, -1.37700e+03,\n",
       "                    3.90332e+05,  1.23208e+05, -3.75885e+05, -5.30721e+05,\n",
       "                   -1.60655e+05, -5.30721e+05, -1.45500e+04, -1.32200e+03,\n",
       "                   -1.35780e+05,  5.87610e+04, -2.79036e+05, -2.42038e+05,\n",
       "                   -2.79036e+05,  5.20719e+05,  1.28820e+04,  3.51863e+05,\n",
       "                    8.80080e+04, -5.30721e+05, -2.79036e+05,  8.33800e+03,\n",
       "                   -5.30721e+05, -1.46510e+04, -4.98283e+05, -2.79036e+05,\n",
       "                   -1.80807e+05,  2.20150e+04, -2.58837e+05, -2.15620e+05,\n",
       "                   -2.45160e+04,  1.10601e+05,  1.76050e+04, -3.50430e+04,\n",
       "                   -8.60700e+04, -1.81231e+05, -4.93069e+05, -2.79036e+05,\n",
       "                    7.10200e+04,  3.43986e+05, -4.97350e+04, -1.41040e+04,\n",
       "                   -2.79036e+05,  5.20719e+05,  2.40409e+05,  1.29164e+05,\n",
       "                   -2.79036e+05,  5.20719e+05,  4.11760e+04, -1.23277e+05,\n",
       "                   -1.49261e+05, -1.95953e+05, -7.41690e+04,  1.96243e+05,\n",
       "                    2.45783e+05,  5.20719e+05,  2.99888e+05,  1.70959e+05,\n",
       "                    7.28510e+04, -2.37740e+04,  2.03062e+05, -1.12278e+05,\n",
       "                   -5.42370e+04, -2.79036e+05, -1.03107e+05, -2.79036e+05,\n",
       "                    5.20719e+05, -3.18200e+03,  4.78261e+05,  1.90145e+05,\n",
       "                   -2.05151e+05, -2.79036e+05,  1.34120e+04, -1.88671e+05,\n",
       "                   -5.29560e+04, -2.81550e+05, -2.79036e+05, -5.46630e+04,\n",
       "                   -3.60160e+04, -2.04700e+04, -2.24670e+04, -1.94477e+05,\n",
       "                    2.23585e+05, -6.22900e+03, -2.90302e+05, -1.20816e+05,\n",
       "                    5.20719e+05, -1.58793e+05, -2.79036e+05,  1.27743e+05,\n",
       "                    5.20719e+05,  5.84000e+03, -8.40200e+03, -5.30721e+05,\n",
       "                    1.42000e+05, -1.41470e+04,  4.78580e+04, -2.79036e+05,\n",
       "                    5.20719e+05, -3.68960e+04,  4.62000e+04, -1.97721e+05,\n",
       "                    1.80299e+05,  1.14941e+05,  5.20719e+05, -8.71220e+04,\n",
       "                    5.20719e+05, -9.32990e+04,  7.40140e+04,  1.01826e+05,\n",
       "                   -8.46800e+03, -4.28740e+04,  7.43570e+04,  9.77830e+04,\n",
       "                   -2.79036e+05, -1.79250e+04, -2.79036e+05, -5.30721e+05,\n",
       "                   -1.11226e+05,  5.20719e+05,  8.11660e+04, -1.50699e+05,\n",
       "                   -2.79036e+05,  5.12460e+04,  2.96670e+04, -1.58830e+04,\n",
       "                   -2.40203e+05, -2.79036e+05, -2.83831e+05,  8.16900e+03,\n",
       "                   -3.12600e+05,  1.44682e+05, -2.51100e+03,  2.52388e+05,\n",
       "                    2.04900e+04, -1.41577e+05, -4.73550e+04,  3.27907e+05,\n",
       "                   -4.19180e+04, -2.79036e+05,  9.06150e+04,  5.20719e+05,\n",
       "                    4.19820e+04,  2.13400e+04, -2.79036e+05,  8.35630e+04,\n",
       "                    1.82679e+05,  1.38447e+05, -2.79036e+05,  5.20719e+05,\n",
       "                   -5.82440e+04, -1.83993e+05, -6.01600e+03,  1.14800e+04,\n",
       "                    1.43409e+05,  5.20719e+05,  1.28660e+04,  5.20719e+05,\n",
       "                   -2.85623e+05, -3.21960e+04,  8.30380e+04, -5.02000e+02,\n",
       "                   -3.51510e+04,  1.62334e+05,  4.83410e+04, -2.79036e+05,\n",
       "                   -5.69900e+04, -2.79036e+05, -5.30721e+05, -1.60229e+05,\n",
       "                    5.20719e+05, -6.36310e+04,  1.00101e+05, -2.79036e+05,\n",
       "                    4.05950e+04, -2.34180e+04, -4.96320e+04, -1.06607e+05,\n",
       "                   -2.79036e+05,  1.67122e+05,  2.73800e+04, -2.55688e+05,\n",
       "                    7.93040e+04,  1.14200e+04,  8.36990e+04,  2.04680e+04],\n",
       "             mask=False,\n",
       "       fill_value=1e+20)"
      ]
     },
     "execution_count": 112,
     "metadata": {},
     "output_type": "execute_result"
    }
   ],
   "source": [
    "winsorized_budget2 = winsorize(budget_deficit2, (0.05, 0.05))\n",
    "winsorized_budget2"
   ]
  },
  {
   "cell_type": "code",
   "execution_count": 113,
   "metadata": {
    "collapsed": false
   },
   "outputs": [
    {
     "data": {
      "image/png": "[encoded data removed]",
      "text/plain": [
       "<Figure size 432x288 with 1 Axes>"
      ]
     },
     "metadata": {},
     "output_type": "display_data"
    }
   ],
   "source": [
    "plt.boxplot(winsorized_budget2)\n",
    "plt.title(\"Box plot of winsorized_budget2\")\n",
    "plt.show()"
   ]
  },
  {
   "cell_type": "markdown",
   "metadata": {},
   "source": [
    "* Compare some basic descriptive statistics of the budget variables you end up with in the 3rd and the 4th questions. Do you see any differences?"
   ]
  },
  {
   "cell_type": "code",
   "execution_count": 115,
   "metadata": {
    "collapsed": false
   },
   "outputs": [
    {
     "data": {
      "text/html": [
       "<div>\n",
       "<style scoped>\n",
       "    .dataframe tbody tr th:only-of-type {\n",
       "        vertical-align: middle;\n",
       "    }\n",
       "\n",
       "    .dataframe tbody tr th {\n",
       "        vertical-align: top;\n",
       "    }\n",
       "\n",
       "    .dataframe thead th {\n",
       "        text-align: right;\n",
       "    }\n",
       "</style>\n",
       "<table border=\"1\" class=\"dataframe\">\n",
       "  <thead>\n",
       "    <tr style=\"text-align: right;\">\n",
       "      <th></th>\n",
       "      <th>original_budget</th>\n",
       "      <th>winsorized_budget1</th>\n",
       "      <th>winsorized_budget2</th>\n",
       "    </tr>\n",
       "  </thead>\n",
       "  <tbody>\n",
       "    <tr>\n",
       "      <td>count</td>\n",
       "      <td>4.160000e+02</td>\n",
       "      <td>416.000000</td>\n",
       "      <td>416.000000</td>\n",
       "    </tr>\n",
       "    <tr>\n",
       "      <td>mean</td>\n",
       "      <td>-1.066341e+05</td>\n",
       "      <td>-72673.185096</td>\n",
       "      <td>-45855.629808</td>\n",
       "    </tr>\n",
       "    <tr>\n",
       "      <td>std</td>\n",
       "      <td>6.006208e+05</td>\n",
       "      <td>344115.738058</td>\n",
       "      <td>247825.646391</td>\n",
       "    </tr>\n",
       "    <tr>\n",
       "      <td>min</td>\n",
       "      <td>-5.487742e+06</td>\n",
       "      <td>-940187.000000</td>\n",
       "      <td>-530721.000000</td>\n",
       "    </tr>\n",
       "    <tr>\n",
       "      <td>25%</td>\n",
       "      <td>-2.040230e+05</td>\n",
       "      <td>-204023.000000</td>\n",
       "      <td>-240661.750000</td>\n",
       "    </tr>\n",
       "    <tr>\n",
       "      <td>50%</td>\n",
       "      <td>-1.434850e+04</td>\n",
       "      <td>-14348.500000</td>\n",
       "      <td>-22116.500000</td>\n",
       "    </tr>\n",
       "    <tr>\n",
       "      <td>75%</td>\n",
       "      <td>8.359700e+04</td>\n",
       "      <td>83597.000000</td>\n",
       "      <td>73141.750000</td>\n",
       "    </tr>\n",
       "    <tr>\n",
       "      <td>max</td>\n",
       "      <td>1.816932e+06</td>\n",
       "      <td>557170.000000</td>\n",
       "      <td>520719.000000</td>\n",
       "    </tr>\n",
       "  </tbody>\n",
       "</table>\n",
       "</div>"
      ],
      "text/plain": [
       "       original_budget  winsorized_budget1  winsorized_budget2\n",
       "count     4.160000e+02          416.000000          416.000000\n",
       "mean     -1.066341e+05       -72673.185096       -45855.629808\n",
       "std       6.006208e+05       344115.738058       247825.646391\n",
       "min      -5.487742e+06      -940187.000000      -530721.000000\n",
       "25%      -2.040230e+05      -204023.000000      -240661.750000\n",
       "50%      -1.434850e+04       -14348.500000       -22116.500000\n",
       "75%       8.359700e+04        83597.000000        73141.750000\n",
       "max       1.816932e+06       557170.000000       520719.000000"
      ]
     },
     "execution_count": 115,
     "metadata": {},
     "output_type": "execute_result"
    }
   ],
   "source": [
    "pd.DataFrame({\"original_budget\": df_education['budget_deficit'], \"winsorized_budget1\": winsorized_budget_deficit,\n",
    "              \"winsorized_budget2\": winsorized_budget2}).describe()"
   ]
  },
  {
   "cell_type": "markdown",
   "metadata": {},
   "source": [
    "\n",
    "* If our variable of interest is the budget deficit variable, which method do you think is the appropriate in dealing with the outliers in this variable: the method in the 3rd question or the one in the 4th question?\n",
    "\n",
    "* Submit your work below, and plan on discussing with your mentor. You can also take a look at this example solution."
   ]
  },
  {
   "cell_type": "code",
   "execution_count": null,
   "metadata": {
    "collapsed": true
   },
   "outputs": [],
   "source": []
  }
 ],
 "metadata": {
  "kernelspec": {
   "display_name": "Python 3",
   "language": "python",
   "name": "python3"
  },
  "language_info": {
   "codemirror_mode": {
    "name": "ipython",
    "version": 3
   },
   "file_extension": ".py",
   "mimetype": "text/x-python",
   "name": "python",
   "nbconvert_exporter": "python",
   "pygments_lexer": "ipython3",
   "version": "3.6.0"
  }
 },
 "nbformat": 4,
 "nbformat_minor": 2
}
