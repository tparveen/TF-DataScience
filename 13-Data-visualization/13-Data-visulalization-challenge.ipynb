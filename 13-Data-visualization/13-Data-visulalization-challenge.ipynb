{
 "cells": [
  {
   "cell_type": "markdown",
   "metadata": {},
   "source": [
    "#### Challenge\n",
    "\n",
    "you'll use this dataset of article open-access prices paid by the WELLCOME Trust between 2012 and 2013.\n",
    "\n",
    "* You may may want to look into data encoding methods  https://stackoverflow.com/questions/2241348/what-is-unicode-utf-8-utf-16\n",
    "\n",
    "* For a real bonus round, identify the open access prices paid by subject area.\n",
    "\n",
    "\n",
    "Unicode is a standard which maps the characters in all languages to a particular numeric value called Code Points. The reason it does this is that it allows different encodings to be possible using the same set of code points.\n",
    "\n",
    "UTF-8 and UTF-16 are two such encodings. They take code points as input and encodes them using some well-defined formula to produce the encoded string."
   ]
  },
  {
   "cell_type": "code",
   "execution_count": 99,
   "metadata": {
    "collapsed": true
   },
   "outputs": [],
   "source": [
    "import numpy as np\n",
    "import pandas as pd\n",
    "import matplotlib.pyplot as plt\n",
    "import seaborn as sns\n",
    "%matplotlib inline"
   ]
  },
  {
   "cell_type": "code",
   "execution_count": 100,
   "metadata": {
    "collapsed": false
   },
   "outputs": [
    {
     "name": "stdout",
     "output_type": "stream",
     "text": [
      "<class 'pandas.core.frame.DataFrame'>\n",
      "RangeIndex: 2127 entries, 0 to 2126\n",
      "Data columns (total 5 columns):\n",
      "PMID/PMCID                                             1928 non-null object\n",
      "Publisher                                              2127 non-null object\n",
      "Journal title                                          2126 non-null object\n",
      "Article title                                          2127 non-null object\n",
      "COST (£) charged to Wellcome (inc VAT when charged)    2127 non-null object\n",
      "dtypes: object(5)\n",
      "memory usage: 83.2+ KB\n"
     ]
    }
   ],
   "source": [
    "# solve the issue of unicode by using encoding = 'unicode_escape'\n",
    "data = pd.read_csv('datasets/WELLCOME_APCspend2013_forThinkful.csv', encoding = 'unicode_escape') # This does not have the region\n",
    "#data2 = pd.read_csv('datasets/world-happiness-report/2015.csv')\n",
    "#data3 = pd.read_csv('datasets/world-happiness-report/2016.csv')\n",
    "\n",
    "data.info()\n"
   ]
  },
  {
   "cell_type": "code",
   "execution_count": 101,
   "metadata": {
    "collapsed": false
   },
   "outputs": [],
   "source": [
    "# Renaming columns so we can work better with it\n",
    "# DataFrame.rename(self, mapper=None, index=None, columns=None, axis=None, copy=True, inplace=False, level=None, errors='ignore')\n",
    "# https://pandas.pydata.org/pandas-docs/stable/reference/api/pandas.DataFrame.rename.html\n",
    "\n",
    "data.rename(columns = {'PMID/PMCID':'PMC_ID', 'Journal title':'journal_title', 'Article title':'article_title','COST (£) charged to Wellcome (inc VAT when charged)':'cost_in_Pounds'},inplace=True)"
   ]
  },
  {
   "cell_type": "code",
   "execution_count": 102,
   "metadata": {
    "collapsed": false
   },
   "outputs": [],
   "source": [
    "#lowercase all string so we can group by correctly\n",
    "\n",
    "data['Publisher'] = data['Publisher'].str.lower()\n",
    "data['journal_title'] = data['journal_title'].str.lower()\n",
    "data['article_title'] = data['article_title'].str.lower()"
   ]
  },
  {
   "cell_type": "code",
   "execution_count": 103,
   "metadata": {
    "collapsed": false
   },
   "outputs": [],
   "source": [
    "# eliminating the pound sign so we can do calculation with that column\n",
    "\n",
    "data['cost_in_Pounds'] = data['cost_in_Pounds'].str[1:]\n",
    "\n",
    "#data[\"journal_title\"] = data[\"journal_title\"].apply(str.strip).replace(\"£\", \"\")"
   ]
  },
  {
   "cell_type": "code",
   "execution_count": 121,
   "metadata": {
    "collapsed": false
   },
   "outputs": [],
   "source": [
    "# convert cost in pounds to float\n",
    "\n",
    "data[\"cost_in_Pounds\"] = data[\"cost_in_Pounds\"].str.replace(\"$\", \"\")\n",
    "\n",
    "#data['cost_in_Pounds'] = data['cost_in_Pounds'].astype(float)\n",
    "\n",
    "data['cost_in_Pounds'] = pd.to_numeric(data['cost_in_Pounds'], downcast=\"float\")"
   ]
  },
  {
   "cell_type": "code",
   "execution_count": 122,
   "metadata": {
    "collapsed": false
   },
   "outputs": [
    {
     "data": {
      "text/plain": [
       "24060.97265625"
      ]
     },
     "execution_count": 122,
     "metadata": {},
     "output_type": "execute_result"
    }
   ],
   "source": [
    "# chacking that all cost in pounds values are numbers\n",
    "\n",
    "#data[\"cost_in_Pounds\"].mean()"
   ]
  },
  {
   "cell_type": "code",
   "execution_count": 107,
   "metadata": {
    "collapsed": false
   },
   "outputs": [
    {
     "data": {
      "text/html": [
       "<div>\n",
       "<style scoped>\n",
       "    .dataframe tbody tr th:only-of-type {\n",
       "        vertical-align: middle;\n",
       "    }\n",
       "\n",
       "    .dataframe tbody tr th {\n",
       "        vertical-align: top;\n",
       "    }\n",
       "\n",
       "    .dataframe thead th {\n",
       "        text-align: right;\n",
       "    }\n",
       "</style>\n",
       "<table border=\"1\" class=\"dataframe\">\n",
       "  <thead>\n",
       "    <tr style=\"text-align: right;\">\n",
       "      <th></th>\n",
       "      <th>PMC_ID</th>\n",
       "      <th>Publisher</th>\n",
       "      <th>journal_title</th>\n",
       "      <th>article_title</th>\n",
       "      <th>cost_in_Pounds</th>\n",
       "    </tr>\n",
       "  </thead>\n",
       "  <tbody>\n",
       "    <tr>\n",
       "      <td>0</td>\n",
       "      <td>NaN</td>\n",
       "      <td>cup</td>\n",
       "      <td>psychological medicine</td>\n",
       "      <td>reduced parahippocampal cortical thickness in ...</td>\n",
       "      <td>0.00</td>\n",
       "    </tr>\n",
       "    <tr>\n",
       "      <td>1</td>\n",
       "      <td>PMC3679557</td>\n",
       "      <td>acs</td>\n",
       "      <td>biomacromolecules</td>\n",
       "      <td>structural characterization of a model gram-ne...</td>\n",
       "      <td>2381.04</td>\n",
       "    </tr>\n",
       "    <tr>\n",
       "      <td>2</td>\n",
       "      <td>23043264  PMC3506128</td>\n",
       "      <td>acs</td>\n",
       "      <td>j med chem</td>\n",
       "      <td>fumaroylamino-4,5-epoxymorphinans and related ...</td>\n",
       "      <td>642.56</td>\n",
       "    </tr>\n",
       "    <tr>\n",
       "      <td>3</td>\n",
       "      <td>23438330 PMC3646402</td>\n",
       "      <td>acs</td>\n",
       "      <td>j med chem</td>\n",
       "      <td>orvinols with mixed kappa/mu opioid receptor a...</td>\n",
       "      <td>669.64</td>\n",
       "    </tr>\n",
       "    <tr>\n",
       "      <td>4</td>\n",
       "      <td>23438216 PMC3601604</td>\n",
       "      <td>acs</td>\n",
       "      <td>j org chem</td>\n",
       "      <td>regioselective opening of myo-inositol orthoes...</td>\n",
       "      <td>685.88</td>\n",
       "    </tr>\n",
       "    <tr>\n",
       "      <td>5</td>\n",
       "      <td>PMC3579457</td>\n",
       "      <td>acs</td>\n",
       "      <td>journal of medicinal chemistry</td>\n",
       "      <td>comparative structural and functional studies ...</td>\n",
       "      <td>2392.20</td>\n",
       "    </tr>\n",
       "    <tr>\n",
       "      <td>6</td>\n",
       "      <td>PMC3709265</td>\n",
       "      <td>acs</td>\n",
       "      <td>journal of proteome research</td>\n",
       "      <td>mapping proteolytic processing in the secretom...</td>\n",
       "      <td>2367.95</td>\n",
       "    </tr>\n",
       "    <tr>\n",
       "      <td>7</td>\n",
       "      <td>23057412 PMC3495574</td>\n",
       "      <td>acs</td>\n",
       "      <td>mol pharm</td>\n",
       "      <td>quantitative silencing of egfp reporter gene b...</td>\n",
       "      <td>649.33</td>\n",
       "    </tr>\n",
       "    <tr>\n",
       "      <td>8</td>\n",
       "      <td>PMCID: PMC3780468</td>\n",
       "      <td>acs (amercian chemical society) publications</td>\n",
       "      <td>acs chemical biology</td>\n",
       "      <td>a novel allosteric inhibitor of the uridine di...</td>\n",
       "      <td>1294.59</td>\n",
       "    </tr>\n",
       "    <tr>\n",
       "      <td>9</td>\n",
       "      <td>PMCID: PMC3621575</td>\n",
       "      <td>acs (amercian chemical society) publications</td>\n",
       "      <td>acs chemical biology</td>\n",
       "      <td>chemical proteomic analysis reveals the drugab...</td>\n",
       "      <td>1294.78</td>\n",
       "    </tr>\n",
       "  </tbody>\n",
       "</table>\n",
       "</div>"
      ],
      "text/plain": [
       "                  PMC_ID                                     Publisher  \\\n",
       "0                    NaN                                           cup   \n",
       "1             PMC3679557                                           acs   \n",
       "2  23043264  PMC3506128                                            acs   \n",
       "3    23438330 PMC3646402                                           acs   \n",
       "4   23438216 PMC3601604                                            acs   \n",
       "5             PMC3579457                                           acs   \n",
       "6             PMC3709265                                           acs   \n",
       "7   23057412 PMC3495574                                            acs   \n",
       "8      PMCID: PMC3780468  acs (amercian chemical society) publications   \n",
       "9      PMCID: PMC3621575  acs (amercian chemical society) publications   \n",
       "\n",
       "                    journal_title  \\\n",
       "0          psychological medicine   \n",
       "1               biomacromolecules   \n",
       "2                      j med chem   \n",
       "3                      j med chem   \n",
       "4                      j org chem   \n",
       "5  journal of medicinal chemistry   \n",
       "6    journal of proteome research   \n",
       "7                       mol pharm   \n",
       "8            acs chemical biology   \n",
       "9            acs chemical biology   \n",
       "\n",
       "                                       article_title cost_in_Pounds  \n",
       "0  reduced parahippocampal cortical thickness in ...           0.00  \n",
       "1  structural characterization of a model gram-ne...        2381.04  \n",
       "2  fumaroylamino-4,5-epoxymorphinans and related ...         642.56  \n",
       "3  orvinols with mixed kappa/mu opioid receptor a...         669.64  \n",
       "4  regioselective opening of myo-inositol orthoes...         685.88  \n",
       "5  comparative structural and functional studies ...        2392.20  \n",
       "6  mapping proteolytic processing in the secretom...        2367.95  \n",
       "7  quantitative silencing of egfp reporter gene b...         649.33  \n",
       "8  a novel allosteric inhibitor of the uridine di...        1294.59  \n",
       "9  chemical proteomic analysis reveals the drugab...        1294.78  "
      ]
     },
     "execution_count": 107,
     "metadata": {},
     "output_type": "execute_result"
    }
   ],
   "source": [
    "data.head(10)"
   ]
  },
  {
   "cell_type": "code",
   "execution_count": 47,
   "metadata": {
    "collapsed": false
   },
   "outputs": [
    {
     "data": {
      "text/html": [
       "<div>\n",
       "<style scoped>\n",
       "    .dataframe tbody tr th:only-of-type {\n",
       "        vertical-align: middle;\n",
       "    }\n",
       "\n",
       "    .dataframe tbody tr th {\n",
       "        vertical-align: top;\n",
       "    }\n",
       "\n",
       "    .dataframe thead th {\n",
       "        text-align: right;\n",
       "    }\n",
       "</style>\n",
       "<table border=\"1\" class=\"dataframe\">\n",
       "  <thead>\n",
       "    <tr style=\"text-align: right;\">\n",
       "      <th></th>\n",
       "      <th>PMC_ID</th>\n",
       "      <th>Publisher</th>\n",
       "      <th>journal_title</th>\n",
       "      <th>article_title</th>\n",
       "      <th>cost_in_Pounds</th>\n",
       "    </tr>\n",
       "  </thead>\n",
       "  <tbody>\n",
       "    <tr>\n",
       "      <td>0</td>\n",
       "      <td>True</td>\n",
       "      <td>False</td>\n",
       "      <td>False</td>\n",
       "      <td>False</td>\n",
       "      <td>False</td>\n",
       "    </tr>\n",
       "    <tr>\n",
       "      <td>1</td>\n",
       "      <td>False</td>\n",
       "      <td>False</td>\n",
       "      <td>False</td>\n",
       "      <td>False</td>\n",
       "      <td>False</td>\n",
       "    </tr>\n",
       "    <tr>\n",
       "      <td>2</td>\n",
       "      <td>False</td>\n",
       "      <td>False</td>\n",
       "      <td>False</td>\n",
       "      <td>False</td>\n",
       "      <td>False</td>\n",
       "    </tr>\n",
       "    <tr>\n",
       "      <td>3</td>\n",
       "      <td>False</td>\n",
       "      <td>False</td>\n",
       "      <td>False</td>\n",
       "      <td>False</td>\n",
       "      <td>False</td>\n",
       "    </tr>\n",
       "    <tr>\n",
       "      <td>4</td>\n",
       "      <td>False</td>\n",
       "      <td>False</td>\n",
       "      <td>False</td>\n",
       "      <td>False</td>\n",
       "      <td>False</td>\n",
       "    </tr>\n",
       "    <tr>\n",
       "      <td>...</td>\n",
       "      <td>...</td>\n",
       "      <td>...</td>\n",
       "      <td>...</td>\n",
       "      <td>...</td>\n",
       "      <td>...</td>\n",
       "    </tr>\n",
       "    <tr>\n",
       "      <td>2122</td>\n",
       "      <td>False</td>\n",
       "      <td>False</td>\n",
       "      <td>False</td>\n",
       "      <td>False</td>\n",
       "      <td>False</td>\n",
       "    </tr>\n",
       "    <tr>\n",
       "      <td>2123</td>\n",
       "      <td>False</td>\n",
       "      <td>False</td>\n",
       "      <td>False</td>\n",
       "      <td>False</td>\n",
       "      <td>False</td>\n",
       "    </tr>\n",
       "    <tr>\n",
       "      <td>2124</td>\n",
       "      <td>False</td>\n",
       "      <td>False</td>\n",
       "      <td>False</td>\n",
       "      <td>False</td>\n",
       "      <td>False</td>\n",
       "    </tr>\n",
       "    <tr>\n",
       "      <td>2125</td>\n",
       "      <td>False</td>\n",
       "      <td>False</td>\n",
       "      <td>False</td>\n",
       "      <td>False</td>\n",
       "      <td>False</td>\n",
       "    </tr>\n",
       "    <tr>\n",
       "      <td>2126</td>\n",
       "      <td>False</td>\n",
       "      <td>False</td>\n",
       "      <td>False</td>\n",
       "      <td>False</td>\n",
       "      <td>False</td>\n",
       "    </tr>\n",
       "  </tbody>\n",
       "</table>\n",
       "<p>2127 rows × 5 columns</p>\n",
       "</div>"
      ],
      "text/plain": [
       "      PMC_ID  Publisher  journal_title  article_title  cost_in_Pounds\n",
       "0       True      False          False          False           False\n",
       "1      False      False          False          False           False\n",
       "2      False      False          False          False           False\n",
       "3      False      False          False          False           False\n",
       "4      False      False          False          False           False\n",
       "...      ...        ...            ...            ...             ...\n",
       "2122   False      False          False          False           False\n",
       "2123   False      False          False          False           False\n",
       "2124   False      False          False          False           False\n",
       "2125   False      False          False          False           False\n",
       "2126   False      False          False          False           False\n",
       "\n",
       "[2127 rows x 5 columns]"
      ]
     },
     "execution_count": 47,
     "metadata": {},
     "output_type": "execute_result"
    }
   ],
   "source": [
    "# checking to see if values are null\n",
    "data.isnull()"
   ]
  },
  {
   "cell_type": "code",
   "execution_count": 110,
   "metadata": {
    "collapsed": false
   },
   "outputs": [
    {
     "data": {
      "text/plain": [
       "PMC_ID            9.355900\n",
       "Publisher         0.000000\n",
       "journal_title     0.047015\n",
       "article_title     0.000000\n",
       "cost_in_Pounds    0.000000\n",
       "dtype: float64"
      ]
     },
     "execution_count": 110,
     "metadata": {},
     "output_type": "execute_result"
    }
   ],
   "source": [
    "data.isnull().sum()*100/data.isnull().count()\n",
    "\n",
    "#data.journal_title.value_counts()"
   ]
  },
  {
   "cell_type": "code",
   "execution_count": 19,
   "metadata": {
    "collapsed": false
   },
   "outputs": [],
   "source": [
    "# 2127 rows × 5 columns\n",
    "\n",
    "\n",
    "#with open('datasets/WELLCOME_APCspend2013_forThinkful.csv','rb') as f:\n",
    "   # data = f.read()\n",
    "\n",
    "#for line in data:\n",
    "   # print(line)"
   ]
  },
  {
   "cell_type": "markdown",
   "metadata": {},
   "source": [
    "* To complete this challenge, determine the five most common journals and the total articles for each. \n"
   ]
  },
  {
   "cell_type": "code",
   "execution_count": 126,
   "metadata": {
    "collapsed": false
   },
   "outputs": [
    {
     "data": {
      "text/plain": [
       "2126"
      ]
     },
     "execution_count": 126,
     "metadata": {},
     "output_type": "execute_result"
    }
   ],
   "source": [
    "# how many journals are there\n",
    "data['journal_title'].count()"
   ]
  },
  {
   "cell_type": "code",
   "execution_count": 128,
   "metadata": {
    "collapsed": false
   },
   "outputs": [
    {
     "data": {
      "text/plain": [
       "plos one                           190\n",
       "journal of biological chemistry     53\n",
       "neuroimage                          29\n",
       "plos pathogens                      24\n",
       "plos genetics                       24\n",
       "                                  ... \n",
       "age and ageing                       1\n",
       "nutrition journal                    1\n",
       "cognitive development                1\n",
       "arthritis research and therapy       1\n",
       "development genes and evolution      1\n",
       "Name: journal_title, Length: 928, dtype: int64"
      ]
     },
     "execution_count": 128,
     "metadata": {},
     "output_type": "execute_result"
    }
   ],
   "source": [
    "# how many distinct journals are there\n",
    "\n",
    "data['journal_title'].nunique()\n",
    "\n",
    "# This gives the same number of journals as data['journal_title'].value_counts() #928"
   ]
  },
  {
   "cell_type": "code",
   "execution_count": 59,
   "metadata": {
    "collapsed": false
   },
   "outputs": [
    {
     "data": {
      "text/plain": [
       "Text(0, 0.5, 'Total Count of journals')"
      ]
     },
     "execution_count": 59,
     "metadata": {},
     "output_type": "execute_result"
    },
    {
     "data": {
      "image/png": "[encoded data removed]",
      "text/plain": [
       "<Figure size 1440x720 with 1 Axes>"
      ]
     },
     "metadata": {},
     "output_type": "display_data"
    }
   ],
   "source": [
    "#plt.bar(x_pos, Y_pos, color='green')\n",
    "#plt.xlabel(\"X\")\n",
    "#plt.ylabel(\"Y\")\n",
    "#plt.title(\"Title\")\n",
    "\n",
    "# value_count already takes care of NANs \n",
    "\n",
    "data.journal_title.value_counts().head(5).plot(kind='bar', figsize=(20, 10))\n",
    "plt.title('Journal counts')\n",
    "plt.xlabel('Journal title')\n",
    "plt.ylabel('Total Count of journals')\n"
   ]
  },
  {
   "cell_type": "code",
   "execution_count": 71,
   "metadata": {
    "collapsed": false
   },
   "outputs": [
    {
     "data": {
      "text/plain": [
       "journal_title\n",
       "academy of nutrition and dietetics                                1\n",
       "acs chemical biology                                              5\n",
       "acs chemical neuroscience                                         1\n",
       "acs nano                                                          2\n",
       "acta crystallographica section d,  biological crystallography     1\n",
       "                                                                 ..\n",
       "virology journal                                                  1\n",
       "virus research                                                    1\n",
       "vision research                                                   2\n",
       "visual neuroscience                                               1\n",
       "zoonoses and public health                                        1\n",
       "Name: article_title, Length: 928, dtype: int64"
      ]
     },
     "execution_count": 71,
     "metadata": {},
     "output_type": "execute_result"
    }
   ],
   "source": [
    "data.groupby(['journal_title',])['article_title'].count()\n"
   ]
  },
  {
   "cell_type": "markdown",
   "metadata": {},
   "source": [
    "* Next, calculate the mean, median, and standard deviation of the open-access cost per article for each journal."
   ]
  },
  {
   "cell_type": "code",
   "execution_count": 123,
   "metadata": {
    "collapsed": false
   },
   "outputs": [
    {
     "data": {
      "text/html": [
       "<div>\n",
       "<style scoped>\n",
       "    .dataframe tbody tr th:only-of-type {\n",
       "        vertical-align: middle;\n",
       "    }\n",
       "\n",
       "    .dataframe tbody tr th {\n",
       "        vertical-align: top;\n",
       "    }\n",
       "\n",
       "    .dataframe thead th {\n",
       "        text-align: right;\n",
       "    }\n",
       "</style>\n",
       "<table border=\"1\" class=\"dataframe\">\n",
       "  <thead>\n",
       "    <tr style=\"text-align: right;\">\n",
       "      <th></th>\n",
       "      <th>cost_in_Pounds</th>\n",
       "    </tr>\n",
       "  </thead>\n",
       "  <tbody>\n",
       "    <tr>\n",
       "      <td>count</td>\n",
       "      <td>2127.000000</td>\n",
       "    </tr>\n",
       "    <tr>\n",
       "      <td>mean</td>\n",
       "      <td>24060.972656</td>\n",
       "    </tr>\n",
       "    <tr>\n",
       "      <td>std</td>\n",
       "      <td>146861.515625</td>\n",
       "    </tr>\n",
       "    <tr>\n",
       "      <td>min</td>\n",
       "      <td>0.000000</td>\n",
       "    </tr>\n",
       "    <tr>\n",
       "      <td>25%</td>\n",
       "      <td>1272.924988</td>\n",
       "    </tr>\n",
       "    <tr>\n",
       "      <td>50%</td>\n",
       "      <td>1883.709961</td>\n",
       "    </tr>\n",
       "    <tr>\n",
       "      <td>75%</td>\n",
       "      <td>2321.304932</td>\n",
       "    </tr>\n",
       "    <tr>\n",
       "      <td>max</td>\n",
       "      <td>999999.000000</td>\n",
       "    </tr>\n",
       "  </tbody>\n",
       "</table>\n",
       "</div>"
      ],
      "text/plain": [
       "       cost_in_Pounds\n",
       "count     2127.000000\n",
       "mean     24060.972656\n",
       "std     146861.515625\n",
       "min          0.000000\n",
       "25%       1272.924988\n",
       "50%       1883.709961\n",
       "75%       2321.304932\n",
       "max     999999.000000"
      ]
     },
     "execution_count": 123,
     "metadata": {},
     "output_type": "execute_result"
    }
   ],
   "source": [
    "data.describe()"
   ]
  },
  {
   "cell_type": "code",
   "execution_count": 125,
   "metadata": {
    "collapsed": false
   },
   "outputs": [
    {
     "data": {
      "text/plain": [
       "1883.7099609375"
      ]
     },
     "execution_count": 125,
     "metadata": {},
     "output_type": "execute_result"
    }
   ],
   "source": [
    "data['cost_in_Pounds'].median()"
   ]
  },
  {
   "cell_type": "code",
   "execution_count": 130,
   "metadata": {
    "collapsed": false
   },
   "outputs": [
    {
     "data": {
      "text/html": [
       "<div>\n",
       "<style scoped>\n",
       "    .dataframe tbody tr th:only-of-type {\n",
       "        vertical-align: middle;\n",
       "    }\n",
       "\n",
       "    .dataframe tbody tr th {\n",
       "        vertical-align: top;\n",
       "    }\n",
       "\n",
       "    .dataframe thead th {\n",
       "        text-align: right;\n",
       "    }\n",
       "</style>\n",
       "<table border=\"1\" class=\"dataframe\">\n",
       "  <thead>\n",
       "    <tr style=\"text-align: right;\">\n",
       "      <th></th>\n",
       "      <th>cost_in_Pounds</th>\n",
       "    </tr>\n",
       "    <tr>\n",
       "      <th>journal_title</th>\n",
       "      <th></th>\n",
       "    </tr>\n",
       "  </thead>\n",
       "  <tbody>\n",
       "    <tr>\n",
       "      <td>academy of nutrition and dietetics</td>\n",
       "      <td>2379.540039</td>\n",
       "    </tr>\n",
       "    <tr>\n",
       "      <td>acs chemical biology</td>\n",
       "      <td>1418.186035</td>\n",
       "    </tr>\n",
       "    <tr>\n",
       "      <td>acs chemical neuroscience</td>\n",
       "      <td>1186.800049</td>\n",
       "    </tr>\n",
       "    <tr>\n",
       "      <td>acs nano</td>\n",
       "      <td>668.140015</td>\n",
       "    </tr>\n",
       "    <tr>\n",
       "      <td>acta crystallographica section d,  biological crystallography</td>\n",
       "      <td>771.419983</td>\n",
       "    </tr>\n",
       "    <tr>\n",
       "      <td>...</td>\n",
       "      <td>...</td>\n",
       "    </tr>\n",
       "    <tr>\n",
       "      <td>virology journal</td>\n",
       "      <td>1242.000000</td>\n",
       "    </tr>\n",
       "    <tr>\n",
       "      <td>virus research</td>\n",
       "      <td>1947.089966</td>\n",
       "    </tr>\n",
       "    <tr>\n",
       "      <td>vision research</td>\n",
       "      <td>500727.593750</td>\n",
       "    </tr>\n",
       "    <tr>\n",
       "      <td>visual neuroscience</td>\n",
       "      <td>2034.000000</td>\n",
       "    </tr>\n",
       "    <tr>\n",
       "      <td>zoonoses and public health</td>\n",
       "      <td>2272.149902</td>\n",
       "    </tr>\n",
       "  </tbody>\n",
       "</table>\n",
       "<p>928 rows × 1 columns</p>\n",
       "</div>"
      ],
      "text/plain": [
       "                                                    cost_in_Pounds\n",
       "journal_title                                                     \n",
       "academy of nutrition and dietetics                     2379.540039\n",
       "acs chemical biology                                   1418.186035\n",
       "acs chemical neuroscience                              1186.800049\n",
       "acs nano                                                668.140015\n",
       "acta crystallographica section d,  biological c...      771.419983\n",
       "...                                                            ...\n",
       "virology journal                                       1242.000000\n",
       "virus research                                         1947.089966\n",
       "vision research                                      500727.593750\n",
       "visual neuroscience                                    2034.000000\n",
       "zoonoses and public health                             2272.149902\n",
       "\n",
       "[928 rows x 1 columns]"
      ]
     },
     "execution_count": 130,
     "metadata": {},
     "output_type": "execute_result"
    }
   ],
   "source": [
    "data.groupby(['journal_title']).mean()"
   ]
  },
  {
   "cell_type": "code",
   "execution_count": 137,
   "metadata": {
    "collapsed": false
   },
   "outputs": [
    {
     "data": {
      "text/html": [
       "<div>\n",
       "<style scoped>\n",
       "    .dataframe tbody tr th:only-of-type {\n",
       "        vertical-align: middle;\n",
       "    }\n",
       "\n",
       "    .dataframe tbody tr th {\n",
       "        vertical-align: top;\n",
       "    }\n",
       "\n",
       "    .dataframe thead th {\n",
       "        text-align: right;\n",
       "    }\n",
       "</style>\n",
       "<table border=\"1\" class=\"dataframe\">\n",
       "  <thead>\n",
       "    <tr style=\"text-align: right;\">\n",
       "      <th></th>\n",
       "      <th>cost_in_Pounds</th>\n",
       "    </tr>\n",
       "    <tr>\n",
       "      <th>journal_title</th>\n",
       "      <th></th>\n",
       "    </tr>\n",
       "  </thead>\n",
       "  <tbody>\n",
       "    <tr>\n",
       "      <td>academy of nutrition and dietetics</td>\n",
       "      <td>2379.540039</td>\n",
       "    </tr>\n",
       "    <tr>\n",
       "      <td>acs chemical biology</td>\n",
       "      <td>1294.589966</td>\n",
       "    </tr>\n",
       "    <tr>\n",
       "      <td>acs chemical neuroscience</td>\n",
       "      <td>1186.800049</td>\n",
       "    </tr>\n",
       "    <tr>\n",
       "      <td>acs nano</td>\n",
       "      <td>668.140015</td>\n",
       "    </tr>\n",
       "    <tr>\n",
       "      <td>acta crystallographica section d,  biological crystallography</td>\n",
       "      <td>771.419983</td>\n",
       "    </tr>\n",
       "    <tr>\n",
       "      <td>...</td>\n",
       "      <td>...</td>\n",
       "    </tr>\n",
       "    <tr>\n",
       "      <td>virology journal</td>\n",
       "      <td>1242.000000</td>\n",
       "    </tr>\n",
       "    <tr>\n",
       "      <td>virus research</td>\n",
       "      <td>1947.089966</td>\n",
       "    </tr>\n",
       "    <tr>\n",
       "      <td>vision research</td>\n",
       "      <td>500727.593750</td>\n",
       "    </tr>\n",
       "    <tr>\n",
       "      <td>visual neuroscience</td>\n",
       "      <td>2034.000000</td>\n",
       "    </tr>\n",
       "    <tr>\n",
       "      <td>zoonoses and public health</td>\n",
       "      <td>2272.149902</td>\n",
       "    </tr>\n",
       "  </tbody>\n",
       "</table>\n",
       "<p>928 rows × 1 columns</p>\n",
       "</div>"
      ],
      "text/plain": [
       "                                                    cost_in_Pounds\n",
       "journal_title                                                     \n",
       "academy of nutrition and dietetics                     2379.540039\n",
       "acs chemical biology                                   1294.589966\n",
       "acs chemical neuroscience                              1186.800049\n",
       "acs nano                                                668.140015\n",
       "acta crystallographica section d,  biological c...      771.419983\n",
       "...                                                            ...\n",
       "virology journal                                       1242.000000\n",
       "virus research                                         1947.089966\n",
       "vision research                                      500727.593750\n",
       "visual neuroscience                                    2034.000000\n",
       "zoonoses and public health                             2272.149902\n",
       "\n",
       "[928 rows x 1 columns]"
      ]
     },
     "execution_count": 137,
     "metadata": {},
     "output_type": "execute_result"
    }
   ],
   "source": [
    "data.groupby(['journal_title']).median()"
   ]
  },
  {
   "cell_type": "code",
   "execution_count": 136,
   "metadata": {
    "collapsed": false
   },
   "outputs": [
    {
     "data": {
      "text/html": [
       "<div>\n",
       "<style scoped>\n",
       "    .dataframe tbody tr th:only-of-type {\n",
       "        vertical-align: middle;\n",
       "    }\n",
       "\n",
       "    .dataframe tbody tr th {\n",
       "        vertical-align: top;\n",
       "    }\n",
       "\n",
       "    .dataframe thead th {\n",
       "        text-align: right;\n",
       "    }\n",
       "</style>\n",
       "<table border=\"1\" class=\"dataframe\">\n",
       "  <thead>\n",
       "    <tr style=\"text-align: right;\">\n",
       "      <th></th>\n",
       "      <th>cost_in_Pounds</th>\n",
       "    </tr>\n",
       "    <tr>\n",
       "      <th>journal_title</th>\n",
       "      <th></th>\n",
       "    </tr>\n",
       "  </thead>\n",
       "  <tbody>\n",
       "    <tr>\n",
       "      <td>academy of nutrition and dietetics</td>\n",
       "      <td>NaN</td>\n",
       "    </tr>\n",
       "    <tr>\n",
       "      <td>acs chemical biology</td>\n",
       "      <td>507.309540</td>\n",
       "    </tr>\n",
       "    <tr>\n",
       "      <td>acs chemical neuroscience</td>\n",
       "      <td>NaN</td>\n",
       "    </tr>\n",
       "    <tr>\n",
       "      <td>acs nano</td>\n",
       "      <td>35.708893</td>\n",
       "    </tr>\n",
       "    <tr>\n",
       "      <td>acta crystallographica section d,  biological crystallography</td>\n",
       "      <td>NaN</td>\n",
       "    </tr>\n",
       "    <tr>\n",
       "      <td>...</td>\n",
       "      <td>...</td>\n",
       "    </tr>\n",
       "    <tr>\n",
       "      <td>virology journal</td>\n",
       "      <td>NaN</td>\n",
       "    </tr>\n",
       "    <tr>\n",
       "      <td>virus research</td>\n",
       "      <td>NaN</td>\n",
       "    </tr>\n",
       "    <tr>\n",
       "      <td>vision research</td>\n",
       "      <td>706076.375000</td>\n",
       "    </tr>\n",
       "    <tr>\n",
       "      <td>visual neuroscience</td>\n",
       "      <td>NaN</td>\n",
       "    </tr>\n",
       "    <tr>\n",
       "      <td>zoonoses and public health</td>\n",
       "      <td>NaN</td>\n",
       "    </tr>\n",
       "  </tbody>\n",
       "</table>\n",
       "<p>928 rows × 1 columns</p>\n",
       "</div>"
      ],
      "text/plain": [
       "                                                    cost_in_Pounds\n",
       "journal_title                                                     \n",
       "academy of nutrition and dietetics                             NaN\n",
       "acs chemical biology                                    507.309540\n",
       "acs chemical neuroscience                                      NaN\n",
       "acs nano                                                 35.708893\n",
       "acta crystallographica section d,  biological c...             NaN\n",
       "...                                                            ...\n",
       "virology journal                                               NaN\n",
       "virus research                                                 NaN\n",
       "vision research                                      706076.375000\n",
       "visual neuroscience                                            NaN\n",
       "zoonoses and public health                                     NaN\n",
       "\n",
       "[928 rows x 1 columns]"
      ]
     },
     "execution_count": 136,
     "metadata": {},
     "output_type": "execute_result"
    }
   ],
   "source": [
    "data.groupby(['journal_title']).std()"
   ]
  },
  {
   "cell_type": "code",
   "execution_count": null,
   "metadata": {
    "collapsed": true
   },
   "outputs": [],
   "source": []
  }
 ],
 "metadata": {
  "kernelspec": {
   "display_name": "Python 3",
   "language": "python",
   "name": "python3"
  },
  "language_info": {
   "codemirror_mode": {
    "name": "ipython",
    "version": 3
   },
   "file_extension": ".py",
   "mimetype": "text/x-python",
   "name": "python",
   "nbconvert_exporter": "python",
   "pygments_lexer": "ipython3",
   "version": "3.6.0"
  }
 },
 "nbformat": 4,
 "nbformat_minor": 2
}
