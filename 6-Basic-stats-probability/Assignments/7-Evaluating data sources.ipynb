{
 "cells": [
  {
   "cell_type": "markdown",
   "metadata": {},
   "source": [
    "#### Assignments from https://courses.thinkful.com/dsbc-stats-1-v1/checkpoint/7\n",
    "\n",
    "In each of the scenarios, find possible shortcomings of the theoretical or actual data sources to answer the given question. What could be done to either adjust the analysis or reframe the question so that you can answer it accurately?\n",
    "\n"
   ]
  },
  {
   "cell_type": "markdown",
   "metadata": {
    "collapsed": true
   },
   "source": [
    "Theoretical Data Source: Amsterdam availability data scraped from AirBnB on December 24th.\n",
    "\n",
    "Question: What are the popular neighborhoods in Amsterdam?"
   ]
  },
  {
   "cell_type": "markdown",
   "metadata": {
    "collapsed": true
   },
   "source": [
    "Shortcoming: December 24th Christmas eve is not a good time of the year to understand which neighborhood are popular for renting - since its Christmas time and people are visiting for vacation and families, the data at that time of the year is a not a good representation for what we are looking for.\n",
    "Another reason data may not be a good represenation around this time is that people may not want to rent their home around this time due to family visiting and such.\n",
    "\n",
    "What could be done to either adjust the analysis or reframe the question so that you can answer it accurately?\n",
    "\n",
    "To adjust the analysis for popular neighborhood, we could gather data that are not around holidays and events\n",
    "\n",
    "or we can reframe the question and find out what are the popular neighborhood around the holidays"
   ]
  },
  {
   "cell_type": "markdown",
   "metadata": {
    "collapsed": true
   },
   "source": [
    "2) Theoretical Data Source: Mental health services use on September 12, 2001 in San Francisco, CA and New York City, NY.\n",
    "\n",
    "Question: How do patterns of mental health service use vary between cities?"
   ]
  },
  {
   "cell_type": "markdown",
   "metadata": {
    "collapsed": true
   },
   "source": [
    "Shortcoming: 911 happened in NYC so mentally people are way off chart in NYC then SFO. So they will be using the service far more than anywhere else\n",
    "\n",
    "What could be done to either adjust the analysis or reframe the question so that you can answer it accurately?\n",
    "\n",
    "To adjust the analysis - gather data at cities where disastrous events did not take place or gather data only in disastrous areas.\n",
    "\n"
   ]
  },
  {
   "cell_type": "markdown",
   "metadata": {
    "collapsed": true
   },
   "source": [
    "3) Actual Data Source: Armenian Pub Survey. https://www.kaggle.com/erikhambardzumyan/pubs\n",
    "\n",
    "Question: What are the most common reasons Armenians visit local pubs?\n",
    "\n",
    "This data does not represent average Armenian since almost everying in the data is a student. Maybe the question should be - what are the most common reasons Armenian students visit local pubs? "
   ]
  }
 ],
 "metadata": {
  "kernelspec": {
   "display_name": "Python 3",
   "language": "python",
   "name": "python3"
  },
  "language_info": {
   "codemirror_mode": {
    "name": "ipython",
    "version": 3
   },
   "file_extension": ".py",
   "mimetype": "text/x-python",
   "name": "python",
   "nbconvert_exporter": "python",
   "pygments_lexer": "ipython3",
   "version": "3.6.0"
  }
 },
 "nbformat": 4,
 "nbformat_minor": 2
}
