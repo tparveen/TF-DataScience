{
 "cells": [
  {
   "cell_type": "markdown",
   "metadata": {},
   "source": [
    "### Sampling and the central limit theorem\n",
    "\n",
    "#### Assignments\n",
    "\n",
    "Now that you have some code to create your own populations, sample them, and compare the samples to the populations, it's time to experiment. \n",
    "\n",
    "Using your own Jupyter notebook, or a copy of the notebook above, reproduce the pop1 and pop2 populations and samples using numpy's binomial function. \n",
    "\n",
    "Specifically, create two binomially distributed populations with n equal to 10 and size equal to 10000. \n",
    "\n",
    "The p-value of pop1 should be 0.2 and the p-value of pop2 should be 0.5. \n",
    "\n",
    "Using a sample size of 100, calculate the means and standard deviations of your samples.\n",
    "\n",
    "For each of the following tasks, first write what you expect will happen, then code the changes and observe what does happen. Discuss the results with your mentor.\n",
    "\n",
    "Increase the size of your samples from 100 to 1000, then calculate the means and standard deviations for your new samples and create histograms for each. \n",
    "\n",
    "Repeat this again, decreasing the size of your samples to 20. What values change, and what remain the same?\n",
    "\n",
    "Change the probability value (p in the NumPy documentation) for pop1 to 0.3, then take new samples and compute the t-statistic and p-value. Then change the probability value p for group 1 to 0.4, and do it again. What changes, and why?\n",
    "\n",
    "Change the distribution of your populations from binomial to a distribution of your choice. Do the sample mean values still accurately represent the population values?"
   ]
  },
  {
   "cell_type": "code",
   "execution_count": 4,
   "metadata": {
    "collapsed": true
   },
   "outputs": [],
   "source": [
    "import numpy as np\n",
    "import pandas as pd\n",
    "import scipy\n",
    "import matplotlib.pyplot as plt\n",
    "%matplotlib inline\n",
    "#for t-test\n",
    "from scipy.stats import ttest_ind"
   ]
  },
  {
   "cell_type": "code",
   "execution_count": 5,
   "metadata": {
    "collapsed": false
   },
   "outputs": [
    {
     "data": {
      "image/png": "[encoded data removed]",
      "text/plain": [
       "<Figure size 432x288 with 1 Axes>"
      ]
     },
     "metadata": {},
     "output_type": "display_data"
    },
    {
     "name": "stdout",
     "output_type": "stream",
     "text": [
      "Sample mean 1: 1.95 \n",
      "Sample mean 2: 5.13 \n",
      "Standard Deviation 1: 1.122542208605543 \n",
      "Standard Deviation 2: 1.460973800054075 \n"
     ]
    }
   ],
   "source": [
    "# create two binomially distributed populations with n equal to 10 and size equal to 10000.\n",
    "# The p-value of pop1 should be 0.2 and the p-value of pop2 should be 0.5. \n",
    "\n",
    "# for population 2, the p value is large - what does that mean?\n",
    "np.random.seed(111)\n",
    "\n",
    "pop1 = np.random.binomial(10, 0.2, 10000)\n",
    "pop2 = np.random.binomial(10, 0.5, 10000)\n",
    "\n",
    "plt.hist(pop1, alpha=0.5, label='Population 1') # I forgot what Alpha was for?\n",
    "plt.hist(pop2, alpha=0.5, label='Population 2')\n",
    "plt.show()\n",
    "\n",
    "# Using a sample size of 100, calculate the means and standard deviations of your samples.\n",
    "sample1 = np.random.choice(pop1, 100, replace=True) # what does replace do?\n",
    "sample2 = np.random.choice(pop2, 100, replace=True)\n",
    "\n",
    "sample1_mean = sample1.mean()\n",
    "sample2_mean = sample2.mean()\n",
    "\n",
    "print('Sample mean 1: {} '.format(sample1_mean))\n",
    "print('Sample mean 2: {} '.format(sample2_mean))\n",
    "\n",
    "std1_sample1 = np.std(sample1, ddof=1)\n",
    "std2_sample2 = np.std(sample2, ddof=1)\n",
    "\n",
    "print('Standard Deviation 1: {} '.format(std1_sample1))\n",
    "print('Standard Deviation 2: {} '.format(std2_sample2))\n"
   ]
  },
  {
   "cell_type": "code",
   "execution_count": 6,
   "metadata": {
    "collapsed": false
   },
   "outputs": [
    {
     "data": {
      "image/png": "[encoded data removed]",
      "text/plain": [
       "<Figure size 432x288 with 1 Axes>"
      ]
     },
     "metadata": {},
     "output_type": "display_data"
    }
   ],
   "source": [
    "plt.hist(sample1, alpha=0.5, label='Sample 1') # I forgot what Alpha was for?\n",
    "plt.hist(sample2, alpha=0.5, label='Sample 2')\n",
    "plt.show()\n"
   ]
  },
  {
   "cell_type": "code",
   "execution_count": 7,
   "metadata": {
    "collapsed": false
   },
   "outputs": [
    {
     "name": "stdout",
     "output_type": "stream",
     "text": [
      "Sample mean 3: 2.045 \n",
      "Sample mean 4: 4.976 \n",
      "Standard Deviation 3: 1.3048669195276879 \n",
      "Standard Deviation 4: 1.5823804624450872 \n"
     ]
    }
   ],
   "source": [
    "# Increase the size of your samples from 100 to 1000, \n",
    "# then calculate the means and standard deviations for your new samples and \n",
    "# create histograms for each. \n",
    "np.random.seed(111)\n",
    "sample3 = np.random.choice(pop1, 1000, replace=True)\n",
    "sample4 = np.random.choice(pop2, 1000, replace=True)\n",
    "\n",
    "sample3_mean = sample3.mean()\n",
    "sample4_mean = sample4.mean()\n",
    "\n",
    "print('Sample mean 3: {} '.format(sample3_mean))\n",
    "print('Sample mean 4: {} '.format(sample4_mean))\n",
    "\n",
    "std3_sample3 = np.std(sample3, ddof=1)\n",
    "std4_sample4 = np.std(sample4, ddof=1)\n",
    "\n",
    "print('Standard Deviation 3: {} '.format(std3_sample3))\n",
    "print('Standard Deviation 4: {} '.format(std4_sample4))\n",
    "\n"
   ]
  },
  {
   "cell_type": "code",
   "execution_count": 8,
   "metadata": {
    "collapsed": false
   },
   "outputs": [
    {
     "data": {
      "image/png": "[encoded data removed]",
      "text/plain": [
       "<Figure size 432x288 with 1 Axes>"
      ]
     },
     "metadata": {},
     "output_type": "display_data"
    }
   ],
   "source": [
    "plt.hist(sample3, alpha=0.5, label='Sample 3') # I forgot what Alpha was for?\n",
    "plt.hist(sample4, alpha=0.5, label='Sample 4')\n",
    "plt.show()\n"
   ]
  },
  {
   "cell_type": "code",
   "execution_count": 9,
   "metadata": {
    "collapsed": false
   },
   "outputs": [
    {
     "name": "stdout",
     "output_type": "stream",
     "text": [
      "Sample mean 5: 1.9 \n",
      "Sample mean 6: 4.65 \n",
      "Standard Deviation 5: 1.4832396974191324 \n",
      "Standard Deviation 6: 1.5312533566021216 \n"
     ]
    }
   ],
   "source": [
    "# Repeat this again, decreasing the size of your samples to 20. \n",
    "# What values change, and what remain the same?\n",
    "np.random.seed(111)\n",
    "sample5 = np.random.choice(pop1, 20, replace=True)\n",
    "sample6 = np.random.choice(pop2, 20, replace=True)\n",
    "\n",
    "sample5_mean = sample5.mean()\n",
    "sample6_mean = sample6.mean()\n",
    "\n",
    "print('Sample mean 5: {} '.format(sample5_mean))\n",
    "print('Sample mean 6: {} '.format(sample6_mean))\n",
    "\n",
    "std5_sample5 = np.std(sample5, ddof=1)\n",
    "std6_sample6 = np.std(sample6, ddof=1)\n",
    "\n",
    "print('Standard Deviation 5: {} '.format(std5_sample5))\n",
    "print('Standard Deviation 6: {} '.format(std6_sample6))"
   ]
  },
  {
   "cell_type": "code",
   "execution_count": 10,
   "metadata": {
    "collapsed": false
   },
   "outputs": [
    {
     "data": {
      "image/png": "[encoded data removed]",
      "text/plain": [
       "<Figure size 432x288 with 1 Axes>"
      ]
     },
     "metadata": {},
     "output_type": "display_data"
    }
   ],
   "source": [
    "plt.hist(sample5, alpha=0.5, label='Sample 5') # I forgot what Alpha was for?\n",
    "plt.hist(sample6, alpha=0.5, label='Sample 6')\n",
    "plt.show()"
   ]
  },
  {
   "cell_type": "code",
   "execution_count": 11,
   "metadata": {
    "collapsed": false
   },
   "outputs": [
    {
     "name": "stdout",
     "output_type": "stream",
     "text": [
      "Sample mean 7: 3.0 \n",
      "Sample mean 8: 5.13 \n",
      "Standard Deviation 7: 1.2949006435891817 \n",
      "Standard Deviation 8: 1.460973800054075 \n",
      "Standard Error: 10.91058514707485 \n",
      "Ttest_indResult(statistic=-10.910585147074849, pvalue=6.0492088043625795e-22)\n"
     ]
    }
   ],
   "source": [
    "# Change the probability value (p in the NumPy documentation) for pop1 to 0.3, \n",
    "# then take new samples and compute the t-statistic and p-value. \n",
    "np.random.seed(111)\n",
    "\n",
    "pop3 = np.random.binomial(10, 0.3, 10000)\n",
    "pop2 = np.random.binomial(10, 0.5, 10000)\n",
    "\n",
    "sample7 = np.random.choice(pop3, 100, replace=True)\n",
    "sample8 = np.random.choice(pop2, 100, replace=True)\n",
    "\n",
    "sample7_mean = sample7.mean()\n",
    "sample8_mean = sample8.mean()\n",
    "\n",
    "print('Sample mean 7: {} '.format(sample7_mean))\n",
    "print('Sample mean 8: {} '.format(sample8_mean))\n",
    "\n",
    "std7_sample7 = np.std(sample7, ddof=1)\n",
    "std8_sample8 = np.std(sample8, ddof=1)\n",
    "\n",
    "print('Standard Deviation 7: {} '.format(std7_sample7))\n",
    "print('Standard Deviation 8: {} '.format(std8_sample8))\n",
    "\n",
    "# diff in mean\n",
    "diff = sample8_mean - sample7_mean\n",
    "#print(diff)\n",
    "\n",
    "# std error\n",
    "size = np.array([len(sample7), len(sample8)])\n",
    "sd = np.array([std7_sample7, std8_sample8])\n",
    "\n",
    "# The squared standard deviations are divided by the sample size and summed, then we take\n",
    "# the square root of the sum. \n",
    "diff_se = (sum(sd ** 2 / size)) ** 0.5  \n",
    "\n",
    "#print(diff_se)\n",
    "print('Standard Error: {} '.format(diff/diff_se)) \n",
    "\n",
    "\n",
    "print(ttest_ind(sample7, sample8, equal_var=False))\n"
   ]
  },
  {
   "cell_type": "code",
   "execution_count": 12,
   "metadata": {
    "collapsed": false
   },
   "outputs": [
    {
     "name": "stdout",
     "output_type": "stream",
     "text": [
      "Sample mean 9: 4.0 \n",
      "Sample mean 8: 5.13 \n",
      "Standard Deviation 7: 1.348399724926484 \n",
      "Standard Deviation 8: 1.460973800054075 \n",
      "1.13\n",
      "Standard Error: 5.683757856447536 \n",
      "Ttest_indResult(statistic=-5.6837578564475351, pvalue=4.7003765983678913e-08)\n"
     ]
    }
   ],
   "source": [
    "# Then change the probability value p for group 1 to 0.4, and do it again. \n",
    "# What changes, and why?\n",
    "\n",
    "np.random.seed(111)\n",
    "\n",
    "pop4 = np.random.binomial(10, 0.4, 10000)\n",
    "pop2 = np.random.binomial(10, 0.5, 10000)\n",
    "\n",
    "sample9 = np.random.choice(pop4, 100, replace=True)\n",
    "sample8 = np.random.choice(pop2, 100, replace=True)\n",
    "\n",
    "sample9_mean = sample9.mean()\n",
    "sample8_mean = sample8.mean()\n",
    "\n",
    "\n",
    "print('Sample mean 9: {} '.format(sample9_mean))\n",
    "print('Sample mean 8: {} '.format(sample8_mean))\n",
    "\n",
    "std9_sample9 = np.std(sample9, ddof=1)\n",
    "std8_sample8 = np.std(sample8, ddof=1)\n",
    "\n",
    "print('Standard Deviation 7: {} '.format(std9_sample9))\n",
    "print('Standard Deviation 8: {} '.format(std8_sample8))\n",
    "\n",
    "# diff in mean\n",
    "diff = sample8_mean - sample9_mean\n",
    "print(diff)\n",
    "\n",
    "# std error\n",
    "size = np.array([len(sample9), len(sample8)])\n",
    "sd = np.array([std9_sample9, std8_sample8])\n",
    "\n",
    "# The squared standard deviations are divided by the sample size and summed, then we take\n",
    "# the square root of the sum. \n",
    "diff_se = (sum(sd ** 2 / size)) ** 0.5  \n",
    "\n",
    "#print(diff_se)\n",
    "print('Standard Error: {} '.format(diff/diff_se)) \n",
    "\n",
    "\n",
    "print(ttest_ind(sample9, sample8, equal_var=False))\n"
   ]
  },
  {
   "cell_type": "code",
   "execution_count": 14,
   "metadata": {
    "collapsed": false
   },
   "outputs": [
    {
     "name": "stdout",
     "output_type": "stream",
     "text": [
      "Sample mean normal1: 0.011160819052775252 \n",
      "Sample mean normal2: 0.4991357840353903 \n",
      "Standard Deviation normal 1: 0.095552022567131 \n",
      "Standard Deviation normal 2: 0.24353384745726195 \n",
      "1.13\n",
      "Standard Error: 43.194341487260246 \n",
      "Ttest_indResult(statistic=-18.652882543976048, pvalue=2.0620209762100722e-38)\n"
     ]
    }
   ],
   "source": [
    "# Change the distribution of your populations from binomial to a distribution of your choice. \n",
    "# Do the sample mean values still accurately represent the population values?\n",
    "\n",
    "mean = 0 \n",
    "mean2 = 0.5\n",
    "sd = 0.1\n",
    "sd2 = 0.25\n",
    "n = 10000\n",
    "\n",
    "np.random.seed(111)\n",
    "\n",
    "normalDist1 = np.random.normal(mean, sd, n)\n",
    "normalDist2 = np.random.normal(mean2, sd2, n)\n",
    "\n",
    "sample_normal_1 = np.random.choice(normalDist1, 100, replace=True)\n",
    "sample_normal_2 = np.random.choice(normalDist2, 100, replace=True)\n",
    "\n",
    "sample_normal1_mean = sample_normal_1.mean()\n",
    "sample_normal2_mean = sample_normal_2.mean()\n",
    "\n",
    "\n",
    "print('Sample mean normal1: {} '.format(sample_normal1_mean))\n",
    "print('Sample mean normal2: {} '.format(sample_normal2_mean))\n",
    "\n",
    "std_sample_normal1 = np.std(sample_normal_1, ddof=1)\n",
    "std_sample_normal2 = np.std(sample_normal_2, ddof=1)\n",
    "\n",
    "print('Standard Deviation normal 1: {} '.format(std_sample_normal1))\n",
    "print('Standard Deviation normal 2: {} '.format(std8_sample_normal2))\n",
    "\n",
    "# diff in mean\n",
    "diff = sample8_mean - sample9_mean\n",
    "print(diff)\n",
    "\n",
    "# std error\n",
    "size = np.array([len(sample_normal_1), len(sample_normal_2)])\n",
    "sd = np.array([std_sample_normal1, std_sample_normal2])\n",
    "\n",
    "# The squared standard deviations are divided by the sample size and summed, then we take\n",
    "# the square root of the sum. \n",
    "diff_se = (sum(sd ** 2 / size)) ** 0.5  \n",
    "\n",
    "#print(diff_se)\n",
    "print('Standard Error: {} '.format(diff/diff_se)) \n",
    "\n",
    "print(ttest_ind(sample_normal_1, sample_normal_2, equal_var=False))\n"
   ]
  },
  {
   "cell_type": "code",
   "execution_count": 50,
   "metadata": {
    "collapsed": false
   },
   "outputs": [
    {
     "data": {
      "image/png": "[encoded data removed]",
      "text/plain": [
       "<Figure size 432x288 with 1 Axes>"
      ]
     },
     "metadata": {},
     "output_type": "display_data"
    }
   ],
   "source": [
    "plt.hist(sample_normal_1, alpha=0.5, label='Sample 3') # I forgot what Alpha was for?\n",
    "plt.hist(sample_normal_2, alpha=0.5, label='Sample 4')\n",
    "plt.show()\n"
   ]
  },
  {
   "cell_type": "code",
   "execution_count": null,
   "metadata": {
    "collapsed": true
   },
   "outputs": [],
   "source": []
  }
 ],
 "metadata": {
  "kernelspec": {
   "display_name": "Python 3",
   "language": "python",
   "name": "python3"
  },
  "language_info": {
   "codemirror_mode": {
    "name": "ipython",
    "version": 3
   },
   "file_extension": ".py",
   "mimetype": "text/x-python",
   "name": "python",
   "nbconvert_exporter": "python",
   "pygments_lexer": "ipython3",
   "version": "3.6.0"
  }
 },
 "nbformat": 4,
 "nbformat_minor": 2
}
