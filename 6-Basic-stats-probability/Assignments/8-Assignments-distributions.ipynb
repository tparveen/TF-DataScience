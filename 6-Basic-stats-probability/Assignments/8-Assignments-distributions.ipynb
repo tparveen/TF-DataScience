{
 "cells": [
  {
   "cell_type": "markdown",
   "metadata": {},
   "source": [
    "### Assignment 1\n",
    "\n",
    "To complete the following drills, you'll need to use your Python skills to create some datasets, then use your new statistical knowledge to summarize them. \n",
    "\n",
    "Choose 6 distributions from the list of random distributions available in NumPy, called “Distributions” [https://docs.scipy.org/doc/numpy/reference/random/legacy.html]\n",
    "\n",
    "exponential([scale, size])\tDraw samples from an exponential distribution.\n",
    "uniform([low, high, size])\tDraw samples from a uniform distribution.\n",
    "\n",
    "For each distribution:\n",
    "\n",
    "Generate a random variable with 100 datapoints using the code \n",
    "distributionvar = np.random.distributionname([arguments], 100), \n",
    "\n",
    "replacing distributionvar with an appropriate variable name and distributionname with the name of the distribution you’ve chosen, and filling in the empty space in the parentheses with your chosen values for the appropriate parameters. \n",
    "\n",
    "If you feel uncertain about how to do this, go back to the “Other Distributions” assignment for examples of code to use as a starting point.\n",
    "\n",
    "Graph the variable using a histogram.\n",
    "\n",
    "Compute the mean and standard deviation and plot them as vertical lines on the histogram.\n",
    "\n",
    "Evaluate whether the descriptive statistics provided useful information about the variable. \n",
    "\n",
    "Can you identify any common characteristics of the distributions that could be usefully described using the mean and/or standard deviation, versus the ones that could not?\n"
   ]
  },
  {
   "cell_type": "code",
   "execution_count": 2,
   "metadata": {
    "collapsed": true
   },
   "outputs": [],
   "source": [
    "import numpy as np\n",
    "import pandas as pd\n",
    "import matplotlib.pyplot as plt\n",
    "%matplotlib inline"
   ]
  },
  {
   "cell_type": "code",
   "execution_count": 8,
   "metadata": {
    "collapsed": false
   },
   "outputs": [
    {
     "data": {
      "image/png": "[encoded data removed]",
      "text/plain": [
       "<Figure size 432x288 with 1 Axes>"
      ]
     },
     "metadata": {},
     "output_type": "display_data"
    }
   ],
   "source": [
    "# Normal distribution\n",
    "# distributionvar = np.random.distributionname([arguments], 100), \n",
    "\n",
    "\"\"\"\n",
    "random variable with 100 datapoints using the code \n",
    "distributionvar = np.random.distributionname([arguments], 100), \n",
    "and filling in the empty space in the parentheses with your chosen values \n",
    "for the appropriate parameters. \n",
    "\n",
    "\"\"\"\n",
    "\n",
    "mean = 0 # what should the mean be?\n",
    "sd = 0.1 # what should the std be to begin with?\n",
    "n = 100\n",
    "\n",
    "np.random.seed(111) # to keep the data consistent\n",
    "#df = pd.DataFrame()\n",
    "#df['normalDist'] = pd.DataFrame({'Normal': np.random.normal(mean, sd, n)})\n",
    "\n",
    "normalDist = np.random.normal(mean, sd, n)\n",
    "\n",
    "\n",
    "# Plotting the variables in the data frame (here, just the variable \"rand\") as a histogram.\n",
    "plt.hist(df['normalDist'])\n",
    "\n",
    "\n",
    "# Add a vertical line at the mean.\n",
    "plt.axvline(normalDist.mean(), color='b', linestyle='solid', linewidth=2)\n",
    "\n",
    "\n",
    "# Add a vertical line at one standard deviation above the mean.\n",
    "plt.axvline(normalDist.mean() + normalDist.std(), color='b', linestyle='dashed', linewidth=2)\n",
    "\n",
    "# Add a vertical line at one standard deviation below the mean.\n",
    "plt.axvline(normalDist.mean()-normalDist.std(), color='b', linestyle='dashed', linewidth=2) \n",
    "\n",
    "# Inline printing the histogram\n",
    "plt.show()\n",
    "\n"
   ]
  },
  {
   "cell_type": "code",
   "execution_count": 10,
   "metadata": {
    "collapsed": false
   },
   "outputs": [
    {
     "data": {
      "image/png": "[encoded data removed]",
      "text/plain": [
       "<Figure size 432x288 with 1 Axes>"
      ]
     },
     "metadata": {},
     "output_type": "display_data"
    }
   ],
   "source": [
    "# Bernoulli distribution\n",
    "# distributionvar = np.random.distributionname([arguments], 100), \n",
    "\n",
    "# n=1, p = 0.5\n",
    "# 100 times\n",
    "\n",
    "n = 1 \n",
    "p = 0.5\n",
    "trial = 100\n",
    "\n",
    "np.random.seed(111) # to keep the data consistent\n",
    "#df['bernoulliDist'] = pd.DataFrame({'Bernoulli': np.random.binomial(n, p, trial)})\n",
    "\n",
    "bernoulliDist = np.random.binomial(n, p, trial)\n",
    "\n",
    "# Plotting the variables in the data frame (here, just the variable \"rand\") as a histogram.\n",
    "plt.hist(bernoulliDist)\n",
    "\n",
    "\n",
    "# Add a vertical line at the mean.\n",
    "plt.axvline(bernoulliDist.mean(), color='b', linestyle='solid', linewidth=2)\n",
    "\n",
    "# Add a vertical line at one standard deviation above the mean.\n",
    "plt.axvline(bernoulliDist.mean() + bernoulliDist.std(), color='b', linestyle='dashed', linewidth=2)\n",
    "\n",
    "# Add a vertical line at one standard deviation below the mean.\n",
    "plt.axvline(bernoulliDist.mean()- bernoulliDist.std(), color='b', linestyle='dashed', linewidth=2) \n",
    "\n",
    "# Inline printing the histogram\n",
    "plt.show()\n",
    "\n",
    "\n",
    "\n"
   ]
  },
  {
   "cell_type": "code",
   "execution_count": 16,
   "metadata": {
    "collapsed": false
   },
   "outputs": [
    {
     "data": {
      "image/png": "[encoded data removed]",
      "text/plain": [
       "<Figure size 432x288 with 1 Axes>"
      ]
     },
     "metadata": {},
     "output_type": "display_data"
    }
   ],
   "source": [
    "#Binomial distribution\n",
    "\n",
    "n = 10\n",
    "p = .5\n",
    "trialSize = 100\n",
    "\n",
    "np.random.seed(111)\n",
    "# result of flipping a coin 10 times, tested 100 times.\n",
    "#binomialDist = pd.DataFrame({'Binomial': np.random.binomial(n, p, trialSize)})\n",
    "\n",
    "binomialDist = np.random.binomial(n, p, trialSize)\n",
    "\n",
    "plt.hist(binomialDist)\n",
    "\n",
    "# Add a vertical line at the mean.\n",
    "plt.axvline(binomialDist.mean(), color='b', linestyle='solid', linewidth=2)\n",
    "\n",
    "\n",
    "# Add a vertical line at one standard deviation above the mean.\n",
    "plt.axvline(binomialDist.mean() + binomialDist.std(), color='b', linestyle='dashed', linewidth=2)\n",
    "\n",
    "# Add a vertical line at one standard deviation below the mean.\n",
    "plt.axvline(binomialDist.mean()- binomialDist.std(), color='b', linestyle='dashed', linewidth=2) \n",
    "\n",
    "# Inline printing the histogram\n",
    "plt.show()\n",
    "\n"
   ]
  },
  {
   "cell_type": "code",
   "execution_count": 4,
   "metadata": {
    "collapsed": false
   },
   "outputs": [
    {
     "data": {
      "image/png": "[encoded data removed]",
      "text/plain": [
       "<Figure size 432x288 with 1 Axes>"
      ]
     },
     "metadata": {},
     "output_type": "display_data"
    }
   ],
   "source": [
    "### Gamma distribution with shape =5 and scale = 1\n",
    "trialSize = 100\n",
    "scale = 1\n",
    "shape = 5\n",
    "np.random.seed(111)\n",
    "\n",
    "\n",
    "gamma = np.random.gamma(shape,scale, trialSize)\n",
    "\n",
    "# Plot a histogram.\n",
    "plt.hist(gamma)\n",
    "\n",
    "\n",
    "# Add a vertical line at the mean.\n",
    "plt.axvline(gamma.mean(), color='b', linestyle='solid', linewidth=2)\n",
    "\n",
    "\n",
    "# Add a vertical line at one standard deviation above the mean.\n",
    "plt.axvline(gamma.mean() + gamma.std(), color='b', linestyle='dashed', linewidth=2)\n",
    "\n",
    "# Add a vertical line at one standard deviation below the mean.\n",
    "plt.axvline(gamma.mean()- gamma.std(), color='b', linestyle='dashed', linewidth=2) \n",
    "\n",
    "\n",
    "# Print the histogram.\n",
    "plt.show()\n",
    "\n"
   ]
  },
  {
   "cell_type": "code",
   "execution_count": 6,
   "metadata": {
    "collapsed": false
   },
   "outputs": [
    {
     "data": {
      "image/png": "[encoded data removed]",
      "text/plain": [
       "<Figure size 432x288 with 1 Axes>"
      ]
     },
     "metadata": {},
     "output_type": "display_data"
    }
   ],
   "source": [
    "### poisson distribution lambda = 3\n",
    "trialSize = 100\n",
    "lamda = 3\n",
    "\n",
    "np.random.seed(111)\n",
    "\n",
    "poisson = np.random.poisson(3, trialSize)\n",
    "\n",
    "# Plot a histogram.\n",
    "plt.hist(poisson)\n",
    "\n",
    "# Add a vertical line at the mean.\n",
    "plt.axvline(poisson.mean(), color='b', linestyle='solid', linewidth=2)\n",
    "\n",
    "\n",
    "# Add a vertical line at one standard deviation above the mean.\n",
    "plt.axvline(poisson.mean() + poisson.std(), color='b', linestyle='dashed', linewidth=2)\n",
    "\n",
    "# Add a vertical line at one standard deviation below the mean.\n",
    "plt.axvline(gamma.mean()- poisson.std(), color='b', linestyle='dashed', linewidth=2) \n",
    "\n",
    "\n",
    "# Print the histogram.\n",
    "plt.show()"
   ]
  },
  {
   "cell_type": "code",
   "execution_count": 22,
   "metadata": {
    "collapsed": false
   },
   "outputs": [
    {
     "data": {
      "image/png": "[encoded data removed]",
      "text/plain": [
       "<Figure size 432x288 with 1 Axes>"
      ]
     },
     "metadata": {},
     "output_type": "display_data"
    }
   ],
   "source": [
    "### Uniform distribution\n",
    "low = -1\n",
    "high = 0\n",
    "n = 100\n",
    "uniformDist = np.random.uniform(low,high,n)\n",
    "\n",
    "\n",
    "plt.hist(uniformDist)\n",
    "\n",
    "# Add a vertical line at the mean.\n",
    "plt.axvline(uniformDist.mean(), color='b', linestyle='solid', linewidth=2)\n",
    "\n",
    "\n",
    "# Add a vertical line at one standard deviation above the mean.\n",
    "plt.axvline(uniformDist.mean() + uniformDist.std(), color='b', linestyle='dashed', linewidth=2)\n",
    "\n",
    "# Add a vertical line at one standard deviation below the mean.\n",
    "plt.axvline(uniformDist.mean()- uniformDist.std(), color='b', linestyle='dashed', linewidth=2) \n",
    "\n",
    "# Inline printing the histogram\n",
    "plt.show()\n",
    "\n"
   ]
  },
  {
   "cell_type": "code",
   "execution_count": null,
   "metadata": {
    "collapsed": true
   },
   "outputs": [],
   "source": []
  },
  {
   "cell_type": "markdown",
   "metadata": {
    "collapsed": true
   },
   "source": [
    "#### Additionally:\n",
    "\n",
    "1) Generate two normally-distributed variables, one with a mean of 5 and standard deviation of 0.5, and the other with a mean of 10 and standard deviation of 1.\n",
    "\n",
    "2) Add them together to create a third variable.\n",
    "\n",
    "3) Graph the third variable using a histogram.\n",
    "\n",
    "4) Compute the mean and standard deviation and plot them as vertical lines on the histogram.\n",
    "\n",
    "5) Evaluate the descriptive statistics against the data."
   ]
  },
  {
   "cell_type": "code",
   "execution_count": 20,
   "metadata": {
    "collapsed": false
   },
   "outputs": [
    {
     "data": {
      "image/png": "[encoded data removed]",
      "text/plain": [
       "<Figure size 432x288 with 1 Axes>"
      ]
     },
     "metadata": {},
     "output_type": "display_data"
    }
   ],
   "source": [
    "np.random.seed(111) # to keep the data consistent\n",
    "mean1 = 5 \n",
    "mean2 = 10\n",
    "\n",
    "sd1 = 0.5\n",
    "sd2 = 1\n",
    "\n",
    "n = 100\n",
    "\n",
    "normalVar1 = np.random.normal(mean1, sd1, n)\n",
    "normalVar2 = np.random.normal(mean2, sd2, n)\n",
    "\n",
    "normalVar3 = normalVar1 + normalVar2\n",
    "\n",
    "print(normalVar3.mean())\n",
    "\n",
    "# Add a vertical line at the mean.\n",
    "plt.axvline(normalVar3.mean(), color='b', linestyle='solid', linewidth=2)\n",
    "\n",
    "\n",
    "# Plotting the variables in the data frame (here, just the variable \"rand\") as a histogram.\n",
    "plt.hist(normalVar3)\n",
    "\n",
    "# Add a vertical line at one standard deviation above the mean.\n",
    "plt.axvline(normalVar3.mean() + normalVar3.std(), color='b', linestyle='dashed', linewidth=2)\n",
    "\n",
    "# Add a vertical line at one standard deviation below the mean.\n",
    "plt.axvline(normalVar3.mean() - normalVar3.std(), color='b', linestyle='dashed', linewidth=2) \n",
    "\n",
    "# Inline printing the histogram\n",
    "plt.show()\n",
    "\n",
    "\n",
    "# Inline printing the histogram\n",
    "plt.show()"
   ]
  },
  {
   "cell_type": "code",
   "execution_count": null,
   "metadata": {
    "collapsed": false
   },
   "outputs": [],
   "source": []
  }
 ],
 "metadata": {
  "kernelspec": {
   "display_name": "Python 3",
   "language": "python",
   "name": "python3"
  },
  "language_info": {
   "codemirror_mode": {
    "name": "ipython",
    "version": 3
   },
   "file_extension": ".py",
   "mimetype": "text/x-python",
   "name": "python",
   "nbconvert_exporter": "python",
   "pygments_lexer": "ipython3",
   "version": "3.6.0"
  }
 },
 "nbformat": 4,
 "nbformat_minor": 2
}
