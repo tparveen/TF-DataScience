{
 "cells": [
  {
   "cell_type": "markdown",
   "metadata": {},
   "source": [
    "### 26-1-UL-Assignment\n",
    "- There is no deliverable to submit to complete this assignment, but we do encourage you to take a deliberate ~5 minutes to focus on the following two prompts. They'll force you to think through some of the key issues to grapple with when thinking about unsupervised learning and clustering.\n",
    "\n",
    "- Assume that we have a dataset of images that includes the images of red wines, white wines, red roses and white roses. If you were to cluster these observations, how would you do that? Would you like to cluster them with respect to their colors or anything else? Discuss the pros and cons of different clustering options.\n",
    "    * We could Cluster them by their type and color. So that would be roses and whites and then red roses and white roses and red wine and white wine - but that woudl not be scalable and would lead to a huge number of clusers if we have more images of other red and white things. So clustering based on the color will be better and scalable choice.\n",
    "\n",
    "- A shadow on the wall is a two-dimensional representation of a real world three-dimensional object. When you see a rabbit and a cat, you can easily identify them. But, are they also easily identifiable by just looking at their shadows on a wall? What information is retained and lost when representing 3-d objects in 2-dimensional space?\n",
    "\n",
    "    * No you cant really represent them properly. You have to look at their features"
   ]
  }
 ],
 "metadata": {
  "kernelspec": {
   "display_name": "Python 3",
   "language": "python",
   "name": "python3"
  },
  "language_info": {
   "codemirror_mode": {
    "name": "ipython",
    "version": 3
   },
   "file_extension": ".py",
   "mimetype": "text/x-python",
   "name": "python",
   "nbconvert_exporter": "python",
   "pygments_lexer": "ipython3",
   "version": "3.7.4"
  }
 },
 "nbformat": 4,
 "nbformat_minor": 2
}
