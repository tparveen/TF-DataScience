{
 "cells": [
  {
   "cell_type": "markdown",
   "metadata": {
    "collapsed": true
   },
   "source": [
    "# 23. UL - Challenge\n",
    "\n",
    "### \n",
    "\n",
    "Apply dimensionality reduction techniques to visualize the observations.\n",
    "Apply clustering techniques to group together similar observations.\n",
    "In each of the tasks above, try alternative methods and select a best performing one. Discuss how dimensionality reduction and clustering algorithms enable you to gain insights regarding the data.\n",
    "\n",
    "Context\n",
    "This data set is created only for the learning purpose of the customer segmentation concepts , also known as market basket analysis . I will demonstrate this by using unsupervised ML technique (KMeans Clustering Algorithm) in the simplest form.\n",
    "\n",
    "Content\n",
    "You are owing a supermarket mall and through membership cards , you have some basic data about your customers like Customer ID, age, gender, annual income and spending score.\n",
    "Spending Score is something you assign to the customer based on your defined parameters like customer behavior and purchasing data.\n",
    "\n",
    "Problem Statement\n",
    "You own the mall and want to understand the customers like who can be easily converge [Target Customers] so that the sense can be given to marketing team and plan the strategy accordingly.\n",
    "\n",
    "The question I am trying to answer is - Who are your target customers with whom you can start marketing strategy [easy to converse]\n",
    "\n",
    "\n",
    "###### showing all rows and columns \n",
    "- pd.set_option('display.max_columns', 500)\n",
    "- pd.set_option('display.max_rows', 500)\n",
    "\n",
    "#### check code before submission\n",
    "http://pep8online.com/"
   ]
  },
  {
   "cell_type": "code",
   "execution_count": 1,
   "metadata": {},
   "outputs": [],
   "source": [
    "### importing all libraries\n",
    "\n",
    "import random\n",
    "import pandas as pd\n",
    "import numpy as np\n",
    "from sqlalchemy import create_engine\n",
    "import warnings\n",
    "import matplotlib.pyplot as plt\n",
    "import seaborn as sns\n",
    "import scipy.stats as stats\n",
    "from scipy.stats import zscore\n",
    "from scipy.stats.mstats import winsorize\n",
    "%matplotlib inline \n",
    "\n",
    "from scipy.stats import boxcox\n",
    "\n",
    "from sklearn.model_selection import train_test_split\n",
    "from sklearn.model_selection import cross_val_score, cross_val_predict\n",
    "from sklearn.metrics import accuracy_score, classification_report, confusion_matrix\n",
    "\n",
    "from sklearn.cluster import KMeans\n",
    "from sklearn.preprocessing import StandardScaler, normalize\n",
    "from sklearn.decomposition import PCA\n",
    "from sklearn.cluster import MiniBatchKMeans\n",
    "\n",
    "from scipy.cluster.hierarchy import dendrogram, linkage\n",
    "from sklearn.preprocessing import StandardScaler\n",
    "from sklearn.cluster import AgglomerativeClustering\n",
    "\n",
    "from sklearn.manifold import TSNE\n",
    "from sklearn import metrics\n",
    "from sklearn.metrics import silhouette_score\n",
    "\n",
    "from sklearn.cluster import DBSCAN\n",
    "from sklearn.mixture import GaussianMixture\n",
    "\n",
    "# These two lines let you show all the columns and rows\n",
    "#pd.set_option('display.max_columns', 500)\n",
    "#pd.set_option('display.max_rows', 500)\n",
    "\n",
    "pd.set_option('display.max_columns', 500)\n",
    "\n",
    "warnings.filterwarnings('ignore')\n",
    "\n",
    "random.seed(3)"
   ]
  },
  {
   "cell_type": "markdown",
   "metadata": {},
   "source": [
    "## Load the dataset"
   ]
  },
  {
   "cell_type": "code",
   "execution_count": 2,
   "metadata": {},
   "outputs": [],
   "source": [
    "# Load single data-file\n",
    "### For grading, data can be found here: https://www.kaggle.com/arjunbhasin2013/ccdata\n",
    "df_temp = pd.read_csv('Mall_Customers.csv')"
   ]
  },
  {
   "cell_type": "code",
   "execution_count": 3,
   "metadata": {},
   "outputs": [
    {
     "data": {
      "text/html": [
       "<div>\n",
       "<style scoped>\n",
       "    .dataframe tbody tr th:only-of-type {\n",
       "        vertical-align: middle;\n",
       "    }\n",
       "\n",
       "    .dataframe tbody tr th {\n",
       "        vertical-align: top;\n",
       "    }\n",
       "\n",
       "    .dataframe thead th {\n",
       "        text-align: right;\n",
       "    }\n",
       "</style>\n",
       "<table border=\"1\" class=\"dataframe\">\n",
       "  <thead>\n",
       "    <tr style=\"text-align: right;\">\n",
       "      <th></th>\n",
       "      <th>CustomerID</th>\n",
       "      <th>Gender</th>\n",
       "      <th>Age</th>\n",
       "      <th>Annual Income (k$)</th>\n",
       "      <th>Spending Score (1-100)</th>\n",
       "    </tr>\n",
       "  </thead>\n",
       "  <tbody>\n",
       "    <tr>\n",
       "      <th>0</th>\n",
       "      <td>1</td>\n",
       "      <td>Male</td>\n",
       "      <td>19</td>\n",
       "      <td>15</td>\n",
       "      <td>39</td>\n",
       "    </tr>\n",
       "    <tr>\n",
       "      <th>1</th>\n",
       "      <td>2</td>\n",
       "      <td>Male</td>\n",
       "      <td>21</td>\n",
       "      <td>15</td>\n",
       "      <td>81</td>\n",
       "    </tr>\n",
       "    <tr>\n",
       "      <th>2</th>\n",
       "      <td>3</td>\n",
       "      <td>Female</td>\n",
       "      <td>20</td>\n",
       "      <td>16</td>\n",
       "      <td>6</td>\n",
       "    </tr>\n",
       "    <tr>\n",
       "      <th>3</th>\n",
       "      <td>4</td>\n",
       "      <td>Female</td>\n",
       "      <td>23</td>\n",
       "      <td>16</td>\n",
       "      <td>77</td>\n",
       "    </tr>\n",
       "    <tr>\n",
       "      <th>4</th>\n",
       "      <td>5</td>\n",
       "      <td>Female</td>\n",
       "      <td>31</td>\n",
       "      <td>17</td>\n",
       "      <td>40</td>\n",
       "    </tr>\n",
       "  </tbody>\n",
       "</table>\n",
       "</div>"
      ],
      "text/plain": [
       "   CustomerID  Gender  Age  Annual Income (k$)  Spending Score (1-100)\n",
       "0           1    Male   19                  15                      39\n",
       "1           2    Male   21                  15                      81\n",
       "2           3  Female   20                  16                       6\n",
       "3           4  Female   23                  16                      77\n",
       "4           5  Female   31                  17                      40"
      ]
     },
     "execution_count": 3,
     "metadata": {},
     "output_type": "execute_result"
    }
   ],
   "source": [
    "# lets look at some data to see how they look\n",
    "df_temp.head(5)"
   ]
  },
  {
   "cell_type": "code",
   "execution_count": 4,
   "metadata": {},
   "outputs": [],
   "source": [
    "df_temp.rename(columns = {'Annual Income (k$)':'Annual_Income', 'Spending Score (1-100)':'Spending_Score'}, inplace = True) "
   ]
  },
  {
   "cell_type": "code",
   "execution_count": 5,
   "metadata": {},
   "outputs": [
    {
     "name": "stdout",
     "output_type": "stream",
     "text": [
      "<class 'pandas.core.frame.DataFrame'>\n",
      "RangeIndex: 200 entries, 0 to 199\n",
      "Data columns (total 5 columns):\n",
      "CustomerID        200 non-null int64\n",
      "Gender            200 non-null object\n",
      "Age               200 non-null int64\n",
      "Annual_Income     200 non-null int64\n",
      "Spending_Score    200 non-null int64\n",
      "dtypes: int64(4), object(1)\n",
      "memory usage: 7.9+ KB\n"
     ]
    }
   ],
   "source": [
    "df_temp.info()"
   ]
  },
  {
   "cell_type": "code",
   "execution_count": 6,
   "metadata": {},
   "outputs": [],
   "source": [
    "### Customer ID is not needed so dropping\n",
    "df_temp.drop(\"CustomerID\", axis = 1, inplace = True)"
   ]
  },
  {
   "cell_type": "code",
   "execution_count": 7,
   "metadata": {},
   "outputs": [
    {
     "data": {
      "text/plain": [
       "Gender            0.0\n",
       "Age               0.0\n",
       "Annual_Income     0.0\n",
       "Spending_Score    0.0\n",
       "dtype: float64"
      ]
     },
     "execution_count": 7,
     "metadata": {},
     "output_type": "execute_result"
    }
   ],
   "source": [
    "## Do we have any missing values?\n",
    "df_temp.isnull().sum()*100/df_temp.isnull().count()"
   ]
  },
  {
   "cell_type": "code",
   "execution_count": 8,
   "metadata": {},
   "outputs": [
    {
     "data": {
      "text/plain": [
       "<matplotlib.axes._subplots.AxesSubplot at 0x1a22d99690>"
      ]
     },
     "execution_count": 8,
     "metadata": {},
     "output_type": "execute_result"
    },
    {
     "data": {
      "image/png": "[encoded data removed]",
      "text/plain": [
       "<Figure size 432x288 with 1 Axes>"
      ]
     },
     "metadata": {
      "needs_background": "light"
     },
     "output_type": "display_data"
    }
   ],
   "source": [
    "sns.boxplot(df_temp['Age'])"
   ]
  },
  {
   "cell_type": "code",
   "execution_count": 9,
   "metadata": {},
   "outputs": [],
   "source": [
    "### 0 being Fully paid and 1 being Default\n",
    "df_temp.Gender=df_temp.Gender.astype('category').cat.codes\n"
   ]
  },
  {
   "cell_type": "code",
   "execution_count": 10,
   "metadata": {},
   "outputs": [
    {
     "name": "stdout",
     "output_type": "stream",
     "text": [
      "<class 'pandas.core.frame.DataFrame'>\n",
      "RangeIndex: 200 entries, 0 to 199\n",
      "Data columns (total 4 columns):\n",
      "Gender            200 non-null int8\n",
      "Age               200 non-null int64\n",
      "Annual_Income     200 non-null int64\n",
      "Spending_Score    200 non-null int64\n",
      "dtypes: int64(3), int8(1)\n",
      "memory usage: 5.0 KB\n"
     ]
    }
   ],
   "source": [
    "df_temp.info()"
   ]
  },
  {
   "cell_type": "code",
   "execution_count": 11,
   "metadata": {},
   "outputs": [
    {
     "data": {
      "image/png": "[encoded data removed]",
      "text/plain": [
       "<Figure size 1080x1800 with 4 Axes>"
      ]
     },
     "metadata": {
      "needs_background": "light"
     },
     "output_type": "display_data"
    }
   ],
   "source": [
    "#Outlier detection\n",
    "plt.figure(figsize=(15,25))\n",
    "for n, i in enumerate(df_temp):\n",
    "    n=n+1\n",
    "    plt.subplot(15,5,n)\n",
    "    sns.boxplot(df_temp[i])"
   ]
  },
  {
   "cell_type": "code",
   "execution_count": 12,
   "metadata": {},
   "outputs": [
    {
     "data": {
      "text/plain": [
       "array([[<matplotlib.axes._subplots.AxesSubplot object at 0x1a23097050>,\n",
       "        <matplotlib.axes._subplots.AxesSubplot object at 0x1a23abc710>],\n",
       "       [<matplotlib.axes._subplots.AxesSubplot object at 0x1a23afce10>,\n",
       "        <matplotlib.axes._subplots.AxesSubplot object at 0x1a23b3d650>]],\n",
       "      dtype=object)"
      ]
     },
     "execution_count": 12,
     "metadata": {},
     "output_type": "execute_result"
    },
    {
     "data": {
      "image/png": "[encoded data removed]",
      "text/plain": [
       "<Figure size 1080x864 with 4 Axes>"
      ]
     },
     "metadata": {
      "needs_background": "light"
     },
     "output_type": "display_data"
    }
   ],
   "source": [
    "df_temp.hist(figsize=(15, 12))"
   ]
  },
  {
   "cell_type": "code",
   "execution_count": 13,
   "metadata": {},
   "outputs": [
    {
     "name": "stdout",
     "output_type": "stream",
     "text": [
      "[[1.12815215 1.42456879 1.73899919 0.43480148]\n",
      " [1.12815215 1.28103541 1.73899919 1.19570407]\n",
      " [0.88640526 1.3528021  1.70082976 1.71591298]\n",
      " [0.88640526 1.13750203 1.70082976 1.04041783]\n",
      " [0.88640526 0.56336851 1.66266033 0.39597992]\n",
      " [0.88640526 1.20926872 1.66266033 1.00159627]\n",
      " [0.88640526 0.27630176 1.62449091 1.71591298]\n",
      " [0.88640526 1.13750203 1.62449091 1.70038436]\n",
      " [1.12815215 1.80493225 1.58632148 1.83237767]\n",
      " [0.88640526 0.6351352  1.58632148 0.84631002]\n",
      " [1.12815215 2.02023231 1.58632148 1.4053405 ]\n",
      " [0.88640526 0.27630176 1.58632148 1.89449216]\n",
      " [0.88640526 1.37433211 1.54815205 1.36651894]\n",
      " [0.88640526 1.06573534 1.54815205 1.04041783]\n",
      " [1.12815215 0.13276838 1.54815205 1.44416206]\n",
      " [1.12815215 1.20926872 1.54815205 1.11806095]\n",
      " [0.88640526 0.27630176 1.50998262 0.59008772]\n",
      " [1.12815215 1.3528021  1.50998262 0.61338066]\n",
      " [1.12815215 0.94373197 1.43364376 0.82301709]\n",
      " [0.88640526 0.27630176 1.43364376 1.8556706 ]\n",
      " [1.12815215 0.27630176 1.39547433 0.59008772]\n",
      " [1.12815215 0.99396865 1.39547433 0.88513158]\n",
      " [0.88640526 0.51313183 1.3573049  1.75473454]\n",
      " [1.12815215 0.56336851 1.3573049  0.88513158]\n",
      " [0.88640526 1.08726535 1.24279661 1.4053405 ]\n",
      " [1.12815215 0.70690189 1.24279661 1.23452563]\n",
      " [0.88640526 0.44136514 1.24279661 0.7065524 ]\n",
      " [1.12815215 0.27630176 1.24279661 0.41927286]\n",
      " [0.88640526 0.08253169 1.20462718 0.74537397]\n",
      " [0.88640526 1.13750203 1.20462718 1.42863343]\n",
      " [1.12815215 1.51786549 1.16645776 1.7935561 ]\n",
      " [0.88640526 1.28103541 1.16645776 0.88513158]\n",
      " [1.12815215 1.01549866 1.05194947 1.7935561 ]\n",
      " [1.12815215 1.49633548 1.05194947 1.62274124]\n",
      " [0.88640526 0.7284319  1.05194947 1.4053405 ]\n",
      " [0.88640526 1.28103541 1.05194947 1.19570407]\n",
      " [0.88640526 0.22606507 1.01378004 1.28887582]\n",
      " [0.88640526 0.6351352  1.01378004 0.88513158]\n",
      " [0.88640526 0.20453507 0.89927175 0.93948177]\n",
      " [0.88640526 1.3528021  0.89927175 0.96277471]\n",
      " [0.88640526 1.87669894 0.86110232 0.59008772]\n",
      " [1.12815215 1.06573534 0.86110232 1.62274124]\n",
      " [1.12815215 0.65666521 0.82293289 0.55126616]\n",
      " [0.88640526 0.56336851 0.82293289 0.41927286]\n",
      " [0.88640526 0.7284319  0.82293289 0.86183865]\n",
      " [0.88640526 1.06573534 0.82293289 0.5745591 ]\n",
      " [0.88640526 0.80019859 0.78476346 0.18634349]\n",
      " [0.88640526 0.85043527 0.78476346 0.12422899]\n",
      " [0.88640526 0.70690189 0.78476346 0.3183368 ]\n",
      " [0.88640526 0.56336851 0.78476346 0.3183368 ]\n",
      " [0.88640526 0.7284319  0.70842461 0.06987881]\n",
      " [1.12815215 0.41983513 0.70842461 0.38045129]\n",
      " [0.88640526 0.56336851 0.67025518 0.14752193]\n",
      " [1.12815215 1.4460988  0.67025518 0.38045129]\n",
      " [0.88640526 0.80019859 0.67025518 0.20187212]\n",
      " [1.12815215 0.58489852 0.67025518 0.35715836]\n",
      " [0.88640526 0.87196528 0.63208575 0.00776431]\n",
      " [1.12815215 2.16376569 0.63208575 0.16305055]\n",
      " [0.88640526 0.85043527 0.55574689 0.03105725]\n",
      " [1.12815215 1.01549866 0.55574689 0.16305055]\n",
      " [1.12815215 2.23553238 0.55574689 0.22516505]\n",
      " [1.12815215 1.42456879 0.55574689 0.18634349]\n",
      " [0.88640526 2.02023231 0.51757746 0.06987881]\n",
      " [0.88640526 1.08726535 0.51757746 0.34162973]\n",
      " [1.12815215 1.73316556 0.47940803 0.03105725]\n",
      " [1.12815215 1.49633548 0.47940803 0.34162973]\n",
      " [0.88640526 0.29783176 0.47940803 0.00776431]\n",
      " [0.88640526 2.091999   0.47940803 0.08540743]\n",
      " [1.12815215 1.42456879 0.47940803 0.34162973]\n",
      " [0.88640526 0.49160182 0.47940803 0.12422899]\n",
      " [1.12815215 2.23553238 0.4412386  0.18634349]\n",
      " [0.88640526 0.58489852 0.4412386  0.3183368 ]\n",
      " [0.88640526 1.51786549 0.40306917 0.04658587]\n",
      " [0.88640526 1.51786549 0.40306917 0.22516505]\n",
      " [1.12815215 1.4460988  0.25039146 0.12422899]\n",
      " [1.12815215 0.92220196 0.25039146 0.14752193]\n",
      " [0.88640526 0.44136514 0.25039146 0.10870037]\n",
      " [1.12815215 0.08253169 0.25039146 0.08540743]\n",
      " [0.88640526 1.13750203 0.25039146 0.06987881]\n",
      " [0.88640526 0.7284319  0.25039146 0.3183368 ]\n",
      " [1.12815215 1.30256542 0.25039146 0.03105725]\n",
      " [1.12815215 0.06100169 0.25039146 0.18634349]\n",
      " [1.12815215 2.02023231 0.25039146 0.35715836]\n",
      " [0.88640526 0.51313183 0.25039146 0.24069368]\n",
      " [0.88640526 1.28103541 0.25039146 0.26398661]\n",
      " [1.12815215 0.65666521 0.25039146 0.16305055]\n",
      " [0.88640526 1.15903204 0.13588317 0.30280817]\n",
      " [0.88640526 1.20926872 0.13588317 0.18634349]\n",
      " [0.88640526 0.34806844 0.09771374 0.38045129]\n",
      " [0.88640526 0.80019859 0.09771374 0.16305055]\n",
      " [0.88640526 2.091999   0.05954431 0.18634349]\n",
      " [1.12815215 1.49633548 0.05954431 0.35715836]\n",
      " [1.12815215 0.65666521 0.02137488 0.04658587]\n",
      " [0.88640526 0.08253169 0.02137488 0.39597992]\n",
      " [0.88640526 0.49160182 0.02137488 0.3183368 ]\n",
      " [1.12815215 1.06573534 0.02137488 0.06987881]\n",
      " [0.88640526 0.58489852 0.02137488 0.12422899]\n",
      " [0.88640526 0.85043527 0.02137488 0.00776431]\n",
      " [1.12815215 0.65666521 0.01679455 0.3183368 ]\n",
      " [1.12815215 1.3528021  0.01679455 0.04658587]\n",
      " [0.88640526 1.13750203 0.05496398 0.35715836]\n",
      " [0.88640526 0.7284319  0.05496398 0.08540743]\n",
      " [1.12815215 2.02023231 0.05496398 0.34162973]\n",
      " [1.12815215 0.92220196 0.05496398 0.18634349]\n",
      " [1.12815215 0.7284319  0.05496398 0.22516505]\n",
      " [0.88640526 1.28103541 0.05496398 0.3183368 ]\n",
      " [0.88640526 1.94846562 0.09313341 0.00776431]\n",
      " [1.12815215 1.08726535 0.09313341 0.16305055]\n",
      " [1.12815215 2.091999   0.09313341 0.27951524]\n",
      " [1.12815215 1.94846562 0.09313341 0.08540743]\n",
      " [1.12815215 1.87669894 0.09313341 0.06987881]\n",
      " [0.88640526 1.42456879 0.09313341 0.14752193]\n",
      " [0.88640526 0.06100169 0.13130284 0.3183368 ]\n",
      " [1.12815215 1.42456879 0.13130284 0.16305055]\n",
      " [0.88640526 1.49633548 0.16947227 0.08540743]\n",
      " [0.88640526 1.42456879 0.16947227 0.00776431]\n",
      " [0.88640526 1.73316556 0.16947227 0.27951524]\n",
      " [0.88640526 0.7284319  0.16947227 0.34162973]\n",
      " [0.88640526 0.87196528 0.24581112 0.27951524]\n",
      " [0.88640526 0.80019859 0.24581112 0.26398661]\n",
      " [1.12815215 0.85043527 0.24581112 0.22516505]\n",
      " [0.88640526 0.06100169 0.24581112 0.39597992]\n",
      " [0.88640526 0.08253169 0.32214998 0.30280817]\n",
      " [1.12815215 0.010765   0.32214998 1.58391968]\n",
      " [0.88640526 1.13750203 0.36031941 0.82301709]\n",
      " [0.88640526 0.56336851 0.36031941 1.04041783]\n",
      " [1.12815215 0.29783176 0.39848884 0.59008772]\n",
      " [1.12815215 0.08253169 0.39848884 1.73920592]\n",
      " [1.12815215 1.4460988  0.39848884 1.52180518]\n",
      " [1.12815215 0.06100169 0.39848884 0.96277471]\n",
      " [1.12815215 0.58489852 0.39848884 1.5994483 ]\n",
      " [1.12815215 0.010765   0.39848884 0.96277471]\n",
      " [0.88640526 0.99396865 0.43665827 0.62890928]\n",
      " [0.88640526 0.56336851 0.43665827 0.80748846]\n",
      " [1.12815215 1.3528021  0.4748277  1.75473454]\n",
      " [0.88640526 0.70690189 0.4748277  1.46745499]\n",
      " [0.88640526 0.36959845 0.4748277  1.67709142]\n",
      " [1.12815215 0.49160182 0.4748277  0.88513158]\n",
      " [1.12815215 1.42456879 0.51299713 1.56062674]\n",
      " [0.88640526 0.27630176 0.51299713 0.84631002]\n",
      " [0.88640526 1.30256542 0.55116656 1.75473454]\n",
      " [1.12815215 0.49160182 0.55116656 1.6615628 ]\n",
      " [0.88640526 0.77866858 0.58933599 0.39597992]\n",
      " [0.88640526 0.49160182 0.58933599 1.42863343]\n",
      " [1.12815215 0.99396865 0.62750542 1.48298362]\n",
      " [1.12815215 0.77866858 0.62750542 1.81684904]\n",
      " [1.12815215 0.65666521 0.62750542 0.55126616]\n",
      " [0.88640526 0.49160182 0.62750542 0.92395314]\n",
      " [0.88640526 0.34806844 0.66567484 1.09476801]\n",
      " [1.12815215 0.34806844 0.66567484 1.54509812]\n",
      " [1.12815215 0.29783176 0.66567484 1.28887582]\n",
      " [1.12815215 0.010765   0.66567484 1.46745499]\n",
      " [0.88640526 0.36959845 0.66567484 1.17241113]\n",
      " [0.88640526 0.06100169 0.66567484 1.00159627]\n",
      " [0.88640526 0.58489852 0.66567484 1.32769738]\n",
      " [0.88640526 0.85043527 0.66567484 1.50627656]\n",
      " [1.12815215 0.13276838 0.66567484 1.91002079]\n",
      " [0.88640526 0.6351352  0.66567484 1.07923939]\n",
      " [1.12815215 0.34806844 0.66567484 1.91002079]\n",
      " [0.88640526 0.6351352  0.66567484 0.88513158]\n",
      " [0.88640526 1.23079873 0.70384427 0.59008772]\n",
      " [0.88640526 0.70690189 0.70384427 1.27334719]\n",
      " [1.12815215 1.42456879 0.78018313 1.75473454]\n",
      " [0.88640526 0.56336851 0.78018313 1.6615628 ]\n",
      " [1.12815215 0.80019859 0.93286085 0.93948177]\n",
      " [0.88640526 0.20453507 0.93286085 0.96277471]\n",
      " [1.12815215 0.22606507 0.97103028 1.17241113]\n",
      " [0.88640526 0.41983513 0.97103028 1.73920592]\n",
      " [0.88640526 0.20453507 1.00919971 0.90066021]\n",
      " [1.12815215 0.49160182 1.00919971 0.49691598]\n",
      " [1.12815215 0.08253169 1.00919971 1.44416206]\n",
      " [1.12815215 0.77866858 1.00919971 0.96277471]\n",
      " [1.12815215 0.20453507 1.00919971 1.56062674]\n",
      " [1.12815215 0.20453507 1.00919971 1.62274124]\n",
      " [0.88640526 0.94373197 1.04736914 1.44416206]\n",
      " [0.88640526 0.6351352  1.04736914 1.38981187]\n",
      " [1.12815215 1.37433211 1.04736914 1.36651894]\n",
      " [1.12815215 0.85043527 1.04736914 0.72984534]\n",
      " [1.12815215 1.4460988  1.23821628 1.4053405 ]\n",
      " [1.12815215 0.27630176 1.23821628 1.54509812]\n",
      " [0.88640526 0.13276838 1.390894   0.7065524 ]\n",
      " [0.88640526 0.49160182 1.390894   1.38981187]\n",
      " [1.12815215 0.51313183 1.42906343 1.36651894]\n",
      " [0.88640526 0.70690189 1.42906343 1.46745499]\n",
      " [0.88640526 0.15429838 1.46723286 0.43480148]\n",
      " [1.12815215 0.6351352  1.46723286 1.81684904]\n",
      " [0.88640526 1.08726535 1.54357172 1.01712489]\n",
      " [1.12815215 0.77866858 1.54357172 0.69102378]\n",
      " [0.88640526 0.15429838 1.61991057 1.28887582]\n",
      " [0.88640526 0.20453507 1.61991057 1.35099031]\n",
      " [0.88640526 0.34806844 1.61991057 1.05594645]\n",
      " [0.88640526 0.49160182 1.61991057 0.72984534]\n",
      " [1.12815215 0.41983513 2.00160487 1.63826986]\n",
      " [0.88640526 0.06100169 2.00160487 1.58391968]\n",
      " [0.88640526 0.58489852 2.26879087 1.32769738]\n",
      " [0.88640526 0.27630176 2.26879087 1.11806095]\n",
      " [0.88640526 0.44136514 2.49780745 0.86183865]\n",
      " [1.12815215 0.49160182 2.49780745 0.92395314]\n",
      " [1.12815215 0.49160182 2.91767117 1.25005425]\n",
      " [1.12815215 0.6351352  2.91767117 1.27334719]]\n"
     ]
    }
   ],
   "source": [
    "#dealing with the outliers: lets see how the see scores look like and if we an remove some using that\n",
    "from scipy import stats\n",
    "z = np.abs(stats.zscore(df_temp))\n",
    "print(z)"
   ]
  },
  {
   "cell_type": "code",
   "execution_count": 14,
   "metadata": {},
   "outputs": [],
   "source": [
    "### save the original data\n",
    "data_orig = df_temp.copy()"
   ]
  },
  {
   "cell_type": "code",
   "execution_count": 15,
   "metadata": {},
   "outputs": [
    {
     "data": {
      "text/html": [
       "<div>\n",
       "<style scoped>\n",
       "    .dataframe tbody tr th:only-of-type {\n",
       "        vertical-align: middle;\n",
       "    }\n",
       "\n",
       "    .dataframe tbody tr th {\n",
       "        vertical-align: top;\n",
       "    }\n",
       "\n",
       "    .dataframe thead th {\n",
       "        text-align: right;\n",
       "    }\n",
       "</style>\n",
       "<table border=\"1\" class=\"dataframe\">\n",
       "  <thead>\n",
       "    <tr style=\"text-align: right;\">\n",
       "      <th></th>\n",
       "      <th>Gender</th>\n",
       "      <th>Age</th>\n",
       "      <th>Annual_Income</th>\n",
       "      <th>Spending_Score</th>\n",
       "    </tr>\n",
       "  </thead>\n",
       "  <tbody>\n",
       "    <tr>\n",
       "      <th>count</th>\n",
       "      <td>200.000000</td>\n",
       "      <td>200.000000</td>\n",
       "      <td>200.000000</td>\n",
       "      <td>200.000000</td>\n",
       "    </tr>\n",
       "    <tr>\n",
       "      <th>mean</th>\n",
       "      <td>0.440000</td>\n",
       "      <td>38.850000</td>\n",
       "      <td>60.560000</td>\n",
       "      <td>50.200000</td>\n",
       "    </tr>\n",
       "    <tr>\n",
       "      <th>std</th>\n",
       "      <td>0.497633</td>\n",
       "      <td>13.969007</td>\n",
       "      <td>26.264721</td>\n",
       "      <td>25.823522</td>\n",
       "    </tr>\n",
       "    <tr>\n",
       "      <th>min</th>\n",
       "      <td>0.000000</td>\n",
       "      <td>18.000000</td>\n",
       "      <td>15.000000</td>\n",
       "      <td>1.000000</td>\n",
       "    </tr>\n",
       "    <tr>\n",
       "      <th>25%</th>\n",
       "      <td>0.000000</td>\n",
       "      <td>28.750000</td>\n",
       "      <td>41.500000</td>\n",
       "      <td>34.750000</td>\n",
       "    </tr>\n",
       "    <tr>\n",
       "      <th>50%</th>\n",
       "      <td>0.000000</td>\n",
       "      <td>36.000000</td>\n",
       "      <td>61.500000</td>\n",
       "      <td>50.000000</td>\n",
       "    </tr>\n",
       "    <tr>\n",
       "      <th>75%</th>\n",
       "      <td>1.000000</td>\n",
       "      <td>49.000000</td>\n",
       "      <td>78.000000</td>\n",
       "      <td>73.000000</td>\n",
       "    </tr>\n",
       "    <tr>\n",
       "      <th>max</th>\n",
       "      <td>1.000000</td>\n",
       "      <td>70.000000</td>\n",
       "      <td>137.000000</td>\n",
       "      <td>99.000000</td>\n",
       "    </tr>\n",
       "  </tbody>\n",
       "</table>\n",
       "</div>"
      ],
      "text/plain": [
       "           Gender         Age  Annual_Income  Spending_Score\n",
       "count  200.000000  200.000000     200.000000      200.000000\n",
       "mean     0.440000   38.850000      60.560000       50.200000\n",
       "std      0.497633   13.969007      26.264721       25.823522\n",
       "min      0.000000   18.000000      15.000000        1.000000\n",
       "25%      0.000000   28.750000      41.500000       34.750000\n",
       "50%      0.000000   36.000000      61.500000       50.000000\n",
       "75%      1.000000   49.000000      78.000000       73.000000\n",
       "max      1.000000   70.000000     137.000000       99.000000"
      ]
     },
     "execution_count": 15,
     "metadata": {},
     "output_type": "execute_result"
    }
   ],
   "source": [
    "df_temp.describe()"
   ]
  },
  {
   "cell_type": "markdown",
   "metadata": {},
   "source": [
    "Data looks a bit better than before"
   ]
  },
  {
   "cell_type": "markdown",
   "metadata": {},
   "source": [
    "### Data Preprocessing\n",
    "* Standarizing the Data\n",
    "    - I will standardize the data so I can use it with K means model. Since I am trying to segment the credit card users, Kmeans will be the good clustering algorithm to use\n",
    "* How many clusters\n",
    "* Reducing the dimension of the data\n"
   ]
  },
  {
   "cell_type": "code",
   "execution_count": 16,
   "metadata": {},
   "outputs": [],
   "source": [
    "### standardising the data\n",
    "scaler = StandardScaler()\n",
    "data_standardized = scaler.fit_transform(df_temp)"
   ]
  },
  {
   "cell_type": "markdown",
   "metadata": {},
   "source": [
    "### K means\n",
    "- Takes a predetermined number of clusters.\n",
    "- Finds the centroids for each of these clusters, essentially the means.\n",
    "- Assigns each data point to its nearest cluster based on the squared Euclidean distance.\n",
    "- Once trained clusters for new unseen data points can be identified based on Euclidean distance."
   ]
  },
  {
   "cell_type": "markdown",
   "metadata": {},
   "source": [
    "### How many clusters\n",
    "* For k means algorithm of clustering we need a method to know the number of clusters. We can do this by\n",
    "- using dendograms\n",
    "- Elbow method \n",
    "- Silhoutte method\n",
    "We will be using elbow method first and see how we do"
   ]
  },
  {
   "cell_type": "markdown",
   "metadata": {},
   "source": [
    "#### Elbow Criterion Method:\n",
    "\n",
    "The idea behind elbow method is to run k-means clustering on a given dataset for a range of values of k (e.g k=1 to 10), for each value of k, calculate sum of squared errors (SSE).\n",
    "\n",
    "Calculate the mean distance between data points and their cluster centroid. Increasing the number of clusters(K) will always reduce the distance to data points, thus decrease this metric, to the extreme of reaching zero when K is as same as the number of data points. So the goal is to choose a small value of k that still has a low SSE.\n",
    "\n",
    "We run the algorithm for different values of K(say K = 10 to 1) and plot the K values against SSE(Sum of Squared Errors). And select the value of K for the elbow point."
   ]
  },
  {
   "cell_type": "code",
   "execution_count": 17,
   "metadata": {},
   "outputs": [],
   "source": [
    "#using elbow method to determine the clusters\n",
    "#consider upto 30 clusters\n",
    "num_clusters = 30\n",
    "n_inertias = np.zeros((1, num_clusters))\n",
    "from sklearn.cluster import KMeans\n",
    "for i in range(0, num_clusters):\n",
    "    k_means = KMeans(i+1)\n",
    "    k_means.fit(data_standardized)\n",
    "    n_inertias[0, i] = k_means.inertia_"
   ]
  },
  {
   "cell_type": "code",
   "execution_count": 18,
   "metadata": {},
   "outputs": [
    {
     "data": {
      "image/png": "[encoded data removed]",
      "text/plain": [
       "<Figure size 864x360 with 1 Axes>"
      ]
     },
     "metadata": {
      "needs_background": "light"
     },
     "output_type": "display_data"
    }
   ],
   "source": [
    "plt.figure(figsize =  (12, 5))\n",
    "plt.plot(n_inertias.flatten())\n",
    "plt.xticks(range(0, num_clusters, 1))\n",
    "plt.title('Using elbow method to find number of clusters')\n",
    "plt.xlabel('No. of clusters')\n",
    "plt.ylabel('inertias')\n",
    "plt.draw()"
   ]
  },
  {
   "cell_type": "markdown",
   "metadata": {},
   "source": [
    "The elbow here is ambigious. It could be at 13, 14, 15,... so we will use Silhouette method - Reading from here \n",
    "* https://medium.com/analytics-vidhya/how-to-determine-the-optimal-k-for-k-means-708505d204eb.\n",
    "* https://towardsdatascience.com/clustering-metrics-better-than-the-elbow-method-6926e1f723a6\n",
    "- The silhouette value measures how similar a point is to its own cluster (cohesion) compared to other clusters (separation)."
   ]
  },
  {
   "cell_type": "markdown",
   "metadata": {},
   "source": [
    "#### Silhouette Coefficient Method:\n",
    "\n",
    "A higher Silhouette Coefficient score relates to a model with better-defined clusters. The Silhouette Coefficient is defined for each sample and is composed of two scores:\n",
    "\n",
    "The mean distance between a sample and all other points in the same class.\n",
    "The mean distance between a sample and all other points in the next nearest cluster."
   ]
  },
  {
   "cell_type": "code",
   "execution_count": 19,
   "metadata": {},
   "outputs": [],
   "source": [
    "from sklearn.metrics import silhouette_score\n",
    "silhouette_scores = []\n",
    "num_clusters_list = []\n",
    "for n_clusters in range(2,30):\n",
    "    clusterer = KMeans (n_clusters=n_clusters)\n",
    "    preds = clusterer.fit_predict(data_standardized)\n",
    "    centers = clusterer.cluster_centers_\n",
    "\n",
    "    silhouette_scores.append(silhouette_score (data_standardized, preds, metric='euclidean'))\n",
    "    num_clusters_list.append(n_clusters)"
   ]
  },
  {
   "cell_type": "code",
   "execution_count": 20,
   "metadata": {},
   "outputs": [
    {
     "data": {
      "image/png": "[encoded data removed]",
      "text/plain": [
       "<Figure size 864x360 with 1 Axes>"
      ]
     },
     "metadata": {
      "needs_background": "light"
     },
     "output_type": "display_data"
    }
   ],
   "source": [
    "plt.figure(figsize = (12, 5))\n",
    "plt.plot(num_clusters_list, silhouette_scores)\n",
    "plt.xticks(range(0, 30, 1))\n",
    "plt.title('Using average silhouette\\'s method to find number of clusters')\n",
    "plt.xlabel('No. of clusters')\n",
    "plt.ylabel('average silhouette score')\n",
    "plt.show()"
   ]
  },
  {
   "cell_type": "markdown",
   "metadata": {},
   "source": [
    "There is a clear peak at 15 so 15 may be the optimal cluster. "
   ]
  },
  {
   "cell_type": "code",
   "execution_count": 21,
   "metadata": {},
   "outputs": [
    {
     "name": "stdout",
     "output_type": "stream",
     "text": [
      "Silhouette score for 2 cluster k-means: 0.252\n",
      "Silhouette score for 3 cluster k-means: 0.260\n",
      "Silhouette score for 4 cluster k-means: 0.301\n",
      "Silhouette score for 5 cluster k-means: 0.317\n",
      "Silhouette score for 6 cluster k-means: 0.329\n",
      "Silhouette score for 7 cluster k-means: 0.358\n",
      "Silhouette score for 8 cluster k-means: 0.387\n",
      "Silhouette score for 9 cluster k-means: 0.403\n",
      "Silhouette score for 10 cluster k-means: 0.421\n",
      "Silhouette score for 11 cluster k-means: 0.427\n",
      "Silhouette score for 12 cluster k-means: 0.426\n",
      "Silhouette score for 13 cluster k-means: 0.427\n",
      "Silhouette score for 14 cluster k-means: 0.419\n",
      "Silhouette score for 15 cluster k-means: 0.415\n",
      "Silhouette score for 16 cluster k-means: 0.414\n",
      "Silhouette score for 17 cluster k-means: 0.403\n",
      "Silhouette score for 18 cluster k-means: 0.401\n",
      "Silhouette score for 19 cluster k-means: 0.422\n",
      "Silhouette score for 20 cluster k-means: 0.424\n",
      "Silhouette score for 21 cluster k-means: 0.407\n",
      "Silhouette score for 22 cluster k-means: 0.408\n",
      "Silhouette score for 23 cluster k-means: 0.407\n",
      "Silhouette score for 24 cluster k-means: 0.412\n"
     ]
    }
   ],
   "source": [
    "### might be good to see the solhouette score for the different clusters to actually\n",
    "### see if 3 clusters are good or not - let look at 10 clusters\n",
    "for cluster in range(2,25):\n",
    "    kmeans = KMeans(n_clusters=cluster, random_state=40).fit_predict(data_standardized)\n",
    "    sil_score = metrics.silhouette_score(data_standardized,kmeans, metric='euclidean')\n",
    "    print(\"Silhouette score for {} cluster k-means: {:.3f}\".format(cluster,\n",
    "                                                               metrics.silhouette_score(data_standardized, kmeans, metric='euclidean')))"
   ]
  },
  {
   "cell_type": "markdown",
   "metadata": {},
   "source": [
    "Seems like silhoutte method gave us the correct cluster which is 11 or 13."
   ]
  },
  {
   "cell_type": "markdown",
   "metadata": {},
   "source": [
    "## Using models"
   ]
  },
  {
   "cell_type": "markdown",
   "metadata": {},
   "source": [
    "### K means clustering\n",
    "- We found out from the silhoutte method above that 3 clusters would be the best to use\n",
    "- Trying K means with 11 clusters"
   ]
  },
  {
   "cell_type": "code",
   "execution_count": 22,
   "metadata": {},
   "outputs": [],
   "source": [
    "kmeans_11 = KMeans(n_clusters=11, init=\"k-means++\", n_init=10, max_iter=300) \n",
    "y_pred = kmeans_11.fit_predict(data_standardized)"
   ]
  },
  {
   "cell_type": "code",
   "execution_count": 23,
   "metadata": {},
   "outputs": [
    {
     "data": {
      "text/html": [
       "<div>\n",
       "<style scoped>\n",
       "    .dataframe tbody tr th:only-of-type {\n",
       "        vertical-align: middle;\n",
       "    }\n",
       "\n",
       "    .dataframe tbody tr th {\n",
       "        vertical-align: top;\n",
       "    }\n",
       "\n",
       "    .dataframe thead th {\n",
       "        text-align: right;\n",
       "    }\n",
       "</style>\n",
       "<table border=\"1\" class=\"dataframe\">\n",
       "  <thead>\n",
       "    <tr style=\"text-align: right;\">\n",
       "      <th></th>\n",
       "      <th>Gender</th>\n",
       "      <th>Age</th>\n",
       "      <th>Annual_Income</th>\n",
       "      <th>Spending_Score</th>\n",
       "    </tr>\n",
       "  </thead>\n",
       "  <tbody>\n",
       "    <tr>\n",
       "      <th>0</th>\n",
       "      <td>1.128152</td>\n",
       "      <td>-1.424569</td>\n",
       "      <td>-1.738999</td>\n",
       "      <td>-0.434801</td>\n",
       "    </tr>\n",
       "    <tr>\n",
       "      <th>1</th>\n",
       "      <td>1.128152</td>\n",
       "      <td>-1.281035</td>\n",
       "      <td>-1.738999</td>\n",
       "      <td>1.195704</td>\n",
       "    </tr>\n",
       "    <tr>\n",
       "      <th>2</th>\n",
       "      <td>-0.886405</td>\n",
       "      <td>-1.352802</td>\n",
       "      <td>-1.700830</td>\n",
       "      <td>-1.715913</td>\n",
       "    </tr>\n",
       "    <tr>\n",
       "      <th>3</th>\n",
       "      <td>-0.886405</td>\n",
       "      <td>-1.137502</td>\n",
       "      <td>-1.700830</td>\n",
       "      <td>1.040418</td>\n",
       "    </tr>\n",
       "    <tr>\n",
       "      <th>4</th>\n",
       "      <td>-0.886405</td>\n",
       "      <td>-0.563369</td>\n",
       "      <td>-1.662660</td>\n",
       "      <td>-0.395980</td>\n",
       "    </tr>\n",
       "  </tbody>\n",
       "</table>\n",
       "</div>"
      ],
      "text/plain": [
       "     Gender       Age  Annual_Income  Spending_Score\n",
       "0  1.128152 -1.424569      -1.738999       -0.434801\n",
       "1  1.128152 -1.281035      -1.738999        1.195704\n",
       "2 -0.886405 -1.352802      -1.700830       -1.715913\n",
       "3 -0.886405 -1.137502      -1.700830        1.040418\n",
       "4 -0.886405 -0.563369      -1.662660       -0.395980"
      ]
     },
     "execution_count": 23,
     "metadata": {},
     "output_type": "execute_result"
    }
   ],
   "source": [
    "### data standarize is a numpy array so we can't plot from that - makeing it a df with\n",
    "### columns names same as the original colomns from CC df\n",
    "data_standardized_df = pd.DataFrame(data_standardized, columns = df_temp.columns)\n",
    "data_standardized_df.head()"
   ]
  },
  {
   "cell_type": "code",
   "execution_count": 24,
   "metadata": {},
   "outputs": [],
   "source": [
    "### adding a column in the DF so we know which cluster that row belongs to\n",
    "data_standardized_df[\"cluster\"] = y_pred"
   ]
  },
  {
   "cell_type": "code",
   "execution_count": 25,
   "metadata": {},
   "outputs": [],
   "source": [
    "df_temp_orig = df_temp.copy()"
   ]
  },
  {
   "cell_type": "code",
   "execution_count": 26,
   "metadata": {},
   "outputs": [],
   "source": [
    "df_temp_orig[\"cluster\"] = y_pred"
   ]
  },
  {
   "cell_type": "code",
   "execution_count": 27,
   "metadata": {},
   "outputs": [
    {
     "data": {
      "text/html": [
       "<div>\n",
       "<style scoped>\n",
       "    .dataframe tbody tr th:only-of-type {\n",
       "        vertical-align: middle;\n",
       "    }\n",
       "\n",
       "    .dataframe tbody tr th {\n",
       "        vertical-align: top;\n",
       "    }\n",
       "\n",
       "    .dataframe thead tr th {\n",
       "        text-align: left;\n",
       "    }\n",
       "\n",
       "    .dataframe thead tr:last-of-type th {\n",
       "        text-align: right;\n",
       "    }\n",
       "</style>\n",
       "<table border=\"1\" class=\"dataframe\">\n",
       "  <thead>\n",
       "    <tr>\n",
       "      <th></th>\n",
       "      <th colspan=\"8\" halign=\"left\">Gender</th>\n",
       "      <th colspan=\"8\" halign=\"left\">Age</th>\n",
       "      <th colspan=\"8\" halign=\"left\">Annual_Income</th>\n",
       "      <th colspan=\"8\" halign=\"left\">Spending_Score</th>\n",
       "    </tr>\n",
       "    <tr>\n",
       "      <th></th>\n",
       "      <th>count</th>\n",
       "      <th>mean</th>\n",
       "      <th>std</th>\n",
       "      <th>min</th>\n",
       "      <th>25%</th>\n",
       "      <th>50%</th>\n",
       "      <th>75%</th>\n",
       "      <th>max</th>\n",
       "      <th>count</th>\n",
       "      <th>mean</th>\n",
       "      <th>std</th>\n",
       "      <th>min</th>\n",
       "      <th>25%</th>\n",
       "      <th>50%</th>\n",
       "      <th>75%</th>\n",
       "      <th>max</th>\n",
       "      <th>count</th>\n",
       "      <th>mean</th>\n",
       "      <th>std</th>\n",
       "      <th>min</th>\n",
       "      <th>25%</th>\n",
       "      <th>50%</th>\n",
       "      <th>75%</th>\n",
       "      <th>max</th>\n",
       "      <th>count</th>\n",
       "      <th>mean</th>\n",
       "      <th>std</th>\n",
       "      <th>min</th>\n",
       "      <th>25%</th>\n",
       "      <th>50%</th>\n",
       "      <th>75%</th>\n",
       "      <th>max</th>\n",
       "    </tr>\n",
       "    <tr>\n",
       "      <th>cluster</th>\n",
       "      <th></th>\n",
       "      <th></th>\n",
       "      <th></th>\n",
       "      <th></th>\n",
       "      <th></th>\n",
       "      <th></th>\n",
       "      <th></th>\n",
       "      <th></th>\n",
       "      <th></th>\n",
       "      <th></th>\n",
       "      <th></th>\n",
       "      <th></th>\n",
       "      <th></th>\n",
       "      <th></th>\n",
       "      <th></th>\n",
       "      <th></th>\n",
       "      <th></th>\n",
       "      <th></th>\n",
       "      <th></th>\n",
       "      <th></th>\n",
       "      <th></th>\n",
       "      <th></th>\n",
       "      <th></th>\n",
       "      <th></th>\n",
       "      <th></th>\n",
       "      <th></th>\n",
       "      <th></th>\n",
       "      <th></th>\n",
       "      <th></th>\n",
       "      <th></th>\n",
       "      <th></th>\n",
       "      <th></th>\n",
       "    </tr>\n",
       "  </thead>\n",
       "  <tbody>\n",
       "    <tr>\n",
       "      <th>0</th>\n",
       "      <td>6.0</td>\n",
       "      <td>1.128152</td>\n",
       "      <td>0.000000e+00</td>\n",
       "      <td>1.128152</td>\n",
       "      <td>1.128152</td>\n",
       "      <td>1.128152</td>\n",
       "      <td>1.128152</td>\n",
       "      <td>1.128152</td>\n",
       "      <td>6.0</td>\n",
       "      <td>1.194915</td>\n",
       "      <td>0.776607</td>\n",
       "      <td>-0.132768</td>\n",
       "      <td>0.961674</td>\n",
       "      <td>1.266682</td>\n",
       "      <td>1.733166</td>\n",
       "      <td>2.020232</td>\n",
       "      <td>6.0</td>\n",
       "      <td>-1.395474</td>\n",
       "      <td>0.231547</td>\n",
       "      <td>-1.586321</td>\n",
       "      <td>-1.576779</td>\n",
       "      <td>-1.490898</td>\n",
       "      <td>-1.233254</td>\n",
       "      <td>-1.051949</td>\n",
       "      <td>6.0</td>\n",
       "      <td>-1.515335</td>\n",
       "      <td>0.387762</td>\n",
       "      <td>-1.832378</td>\n",
       "      <td>-1.793556</td>\n",
       "      <td>-1.618859</td>\n",
       "      <td>-1.415046</td>\n",
       "      <td>-0.823017</td>\n",
       "    </tr>\n",
       "    <tr>\n",
       "      <th>1</th>\n",
       "      <td>18.0</td>\n",
       "      <td>1.128152</td>\n",
       "      <td>0.000000e+00</td>\n",
       "      <td>1.128152</td>\n",
       "      <td>1.128152</td>\n",
       "      <td>1.128152</td>\n",
       "      <td>1.128152</td>\n",
       "      <td>1.128152</td>\n",
       "      <td>18.0</td>\n",
       "      <td>-0.399900</td>\n",
       "      <td>0.315049</td>\n",
       "      <td>-0.850435</td>\n",
       "      <td>-0.635135</td>\n",
       "      <td>-0.491602</td>\n",
       "      <td>-0.096885</td>\n",
       "      <td>0.082532</td>\n",
       "      <td>18.0</td>\n",
       "      <td>1.013441</td>\n",
       "      <td>0.722542</td>\n",
       "      <td>0.322150</td>\n",
       "      <td>0.493912</td>\n",
       "      <td>0.837437</td>\n",
       "      <td>1.190504</td>\n",
       "      <td>2.917671</td>\n",
       "      <td>18.0</td>\n",
       "      <td>1.260407</td>\n",
       "      <td>0.431066</td>\n",
       "      <td>0.496916</td>\n",
       "      <td>0.933659</td>\n",
       "      <td>1.370401</td>\n",
       "      <td>1.613036</td>\n",
       "      <td>1.816849</td>\n",
       "    </tr>\n",
       "    <tr>\n",
       "      <th>2</th>\n",
       "      <td>25.0</td>\n",
       "      <td>-0.886405</td>\n",
       "      <td>0.000000e+00</td>\n",
       "      <td>-0.886405</td>\n",
       "      <td>-0.886405</td>\n",
       "      <td>-0.886405</td>\n",
       "      <td>-0.886405</td>\n",
       "      <td>-0.886405</td>\n",
       "      <td>25.0</td>\n",
       "      <td>-0.781539</td>\n",
       "      <td>0.478510</td>\n",
       "      <td>-1.496335</td>\n",
       "      <td>-1.137502</td>\n",
       "      <td>-0.850435</td>\n",
       "      <td>-0.491602</td>\n",
       "      <td>0.082532</td>\n",
       "      <td>25.0</td>\n",
       "      <td>-0.122142</td>\n",
       "      <td>0.419123</td>\n",
       "      <td>-0.822933</td>\n",
       "      <td>-0.479408</td>\n",
       "      <td>-0.021375</td>\n",
       "      <td>0.169472</td>\n",
       "      <td>0.589336</td>\n",
       "      <td>25.0</td>\n",
       "      <td>-0.119570</td>\n",
       "      <td>0.317831</td>\n",
       "      <td>-0.823017</td>\n",
       "      <td>-0.318337</td>\n",
       "      <td>-0.124229</td>\n",
       "      <td>0.147522</td>\n",
       "      <td>0.419273</td>\n",
       "    </tr>\n",
       "    <tr>\n",
       "      <th>3</th>\n",
       "      <td>15.0</td>\n",
       "      <td>-0.886405</td>\n",
       "      <td>3.447570e-16</td>\n",
       "      <td>-0.886405</td>\n",
       "      <td>-0.886405</td>\n",
       "      <td>-0.886405</td>\n",
       "      <td>-0.886405</td>\n",
       "      <td>-0.886405</td>\n",
       "      <td>15.0</td>\n",
       "      <td>0.412658</td>\n",
       "      <td>0.549780</td>\n",
       "      <td>-0.348068</td>\n",
       "      <td>0.010765</td>\n",
       "      <td>0.369598</td>\n",
       "      <td>0.764315</td>\n",
       "      <td>1.302565</td>\n",
       "      <td>15.0</td>\n",
       "      <td>1.212770</td>\n",
       "      <td>0.627464</td>\n",
       "      <td>0.474828</td>\n",
       "      <td>0.665675</td>\n",
       "      <td>1.047369</td>\n",
       "      <td>1.581741</td>\n",
       "      <td>2.497807</td>\n",
       "      <td>15.0</td>\n",
       "      <td>-1.110297</td>\n",
       "      <td>0.376618</td>\n",
       "      <td>-1.754735</td>\n",
       "      <td>-1.327697</td>\n",
       "      <td>-1.094768</td>\n",
       "      <td>-0.881249</td>\n",
       "      <td>-0.434801</td>\n",
       "    </tr>\n",
       "    <tr>\n",
       "      <th>4</th>\n",
       "      <td>25.0</td>\n",
       "      <td>-0.886405</td>\n",
       "      <td>0.000000e+00</td>\n",
       "      <td>-0.886405</td>\n",
       "      <td>-0.886405</td>\n",
       "      <td>-0.886405</td>\n",
       "      <td>-0.886405</td>\n",
       "      <td>-0.886405</td>\n",
       "      <td>25.0</td>\n",
       "      <td>1.093007</td>\n",
       "      <td>0.572232</td>\n",
       "      <td>0.297832</td>\n",
       "      <td>0.728432</td>\n",
       "      <td>0.800199</td>\n",
       "      <td>1.517865</td>\n",
       "      <td>2.091999</td>\n",
       "      <td>25.0</td>\n",
       "      <td>-0.279400</td>\n",
       "      <td>0.334260</td>\n",
       "      <td>-0.861102</td>\n",
       "      <td>-0.517577</td>\n",
       "      <td>-0.250391</td>\n",
       "      <td>-0.021375</td>\n",
       "      <td>0.245811</td>\n",
       "      <td>25.0</td>\n",
       "      <td>-0.026399</td>\n",
       "      <td>0.240129</td>\n",
       "      <td>-0.590088</td>\n",
       "      <td>-0.201872</td>\n",
       "      <td>-0.007764</td>\n",
       "      <td>0.186343</td>\n",
       "      <td>0.341630</td>\n",
       "    </tr>\n",
       "    <tr>\n",
       "      <th>5</th>\n",
       "      <td>24.0</td>\n",
       "      <td>1.128152</td>\n",
       "      <td>0.000000e+00</td>\n",
       "      <td>1.128152</td>\n",
       "      <td>1.128152</td>\n",
       "      <td>1.128152</td>\n",
       "      <td>1.128152</td>\n",
       "      <td>1.128152</td>\n",
       "      <td>24.0</td>\n",
       "      <td>-0.976027</td>\n",
       "      <td>0.492349</td>\n",
       "      <td>-1.496335</td>\n",
       "      <td>-1.424569</td>\n",
       "      <td>-1.065735</td>\n",
       "      <td>-0.671019</td>\n",
       "      <td>0.082532</td>\n",
       "      <td>24.0</td>\n",
       "      <td>-0.737052</td>\n",
       "      <td>0.656233</td>\n",
       "      <td>-1.738999</td>\n",
       "      <td>-1.366847</td>\n",
       "      <td>-0.632086</td>\n",
       "      <td>-0.202680</td>\n",
       "      <td>0.245811</td>\n",
       "      <td>24.0</td>\n",
       "      <td>0.416038</td>\n",
       "      <td>0.614880</td>\n",
       "      <td>-0.590088</td>\n",
       "      <td>0.040763</td>\n",
       "      <td>0.283397</td>\n",
       "      <td>0.885132</td>\n",
       "      <td>1.622741</td>\n",
       "    </tr>\n",
       "    <tr>\n",
       "      <th>6</th>\n",
       "      <td>20.0</td>\n",
       "      <td>1.128152</td>\n",
       "      <td>0.000000e+00</td>\n",
       "      <td>1.128152</td>\n",
       "      <td>1.128152</td>\n",
       "      <td>1.128152</td>\n",
       "      <td>1.128152</td>\n",
       "      <td>1.128152</td>\n",
       "      <td>20.0</td>\n",
       "      <td>0.046648</td>\n",
       "      <td>0.900740</td>\n",
       "      <td>-1.424569</td>\n",
       "      <td>-0.437777</td>\n",
       "      <td>0.154298</td>\n",
       "      <td>0.602840</td>\n",
       "      <td>1.446099</td>\n",
       "      <td>20.0</td>\n",
       "      <td>0.938586</td>\n",
       "      <td>0.611874</td>\n",
       "      <td>0.398489</td>\n",
       "      <td>0.598878</td>\n",
       "      <td>0.722929</td>\n",
       "      <td>1.018742</td>\n",
       "      <td>2.917671</td>\n",
       "      <td>20.0</td>\n",
       "      <td>-1.403399</td>\n",
       "      <td>0.371398</td>\n",
       "      <td>-1.910021</td>\n",
       "      <td>-1.609154</td>\n",
       "      <td>-1.463573</td>\n",
       "      <td>-1.279170</td>\n",
       "      <td>-0.551266</td>\n",
       "    </tr>\n",
       "    <tr>\n",
       "      <th>7</th>\n",
       "      <td>21.0</td>\n",
       "      <td>-0.886405</td>\n",
       "      <td>0.000000e+00</td>\n",
       "      <td>-0.886405</td>\n",
       "      <td>-0.886405</td>\n",
       "      <td>-0.886405</td>\n",
       "      <td>-0.886405</td>\n",
       "      <td>-0.886405</td>\n",
       "      <td>21.0</td>\n",
       "      <td>-0.477932</td>\n",
       "      <td>0.220756</td>\n",
       "      <td>-0.850435</td>\n",
       "      <td>-0.635135</td>\n",
       "      <td>-0.491602</td>\n",
       "      <td>-0.276302</td>\n",
       "      <td>-0.061002</td>\n",
       "      <td>21.0</td>\n",
       "      <td>0.972848</td>\n",
       "      <td>0.540401</td>\n",
       "      <td>0.360319</td>\n",
       "      <td>0.627505</td>\n",
       "      <td>0.703844</td>\n",
       "      <td>1.390894</td>\n",
       "      <td>2.268791</td>\n",
       "      <td>21.0</td>\n",
       "      <td>1.221585</td>\n",
       "      <td>0.304033</td>\n",
       "      <td>0.729845</td>\n",
       "      <td>0.962775</td>\n",
       "      <td>1.273347</td>\n",
       "      <td>1.467455</td>\n",
       "      <td>1.739206</td>\n",
       "    </tr>\n",
       "    <tr>\n",
       "      <th>8</th>\n",
       "      <td>13.0</td>\n",
       "      <td>-0.886405</td>\n",
       "      <td>2.311114e-16</td>\n",
       "      <td>-0.886405</td>\n",
       "      <td>-0.886405</td>\n",
       "      <td>-0.886405</td>\n",
       "      <td>-0.886405</td>\n",
       "      <td>-0.886405</td>\n",
       "      <td>13.0</td>\n",
       "      <td>-0.960846</td>\n",
       "      <td>0.374765</td>\n",
       "      <td>-1.352802</td>\n",
       "      <td>-1.209269</td>\n",
       "      <td>-1.137502</td>\n",
       "      <td>-0.635135</td>\n",
       "      <td>-0.276302</td>\n",
       "      <td>13.0</td>\n",
       "      <td>-1.330880</td>\n",
       "      <td>0.314516</td>\n",
       "      <td>-1.700830</td>\n",
       "      <td>-1.586321</td>\n",
       "      <td>-1.433644</td>\n",
       "      <td>-1.051949</td>\n",
       "      <td>-0.822933</td>\n",
       "      <td>13.0</td>\n",
       "      <td>1.177786</td>\n",
       "      <td>0.415293</td>\n",
       "      <td>0.574559</td>\n",
       "      <td>0.885132</td>\n",
       "      <td>1.040418</td>\n",
       "      <td>1.428633</td>\n",
       "      <td>1.894492</td>\n",
       "    </tr>\n",
       "    <tr>\n",
       "      <th>9</th>\n",
       "      <td>20.0</td>\n",
       "      <td>1.128152</td>\n",
       "      <td>0.000000e+00</td>\n",
       "      <td>1.128152</td>\n",
       "      <td>1.128152</td>\n",
       "      <td>1.128152</td>\n",
       "      <td>1.128152</td>\n",
       "      <td>1.128152</td>\n",
       "      <td>20.0</td>\n",
       "      <td>1.428157</td>\n",
       "      <td>0.625593</td>\n",
       "      <td>0.584899</td>\n",
       "      <td>0.710490</td>\n",
       "      <td>1.446099</td>\n",
       "      <td>2.020232</td>\n",
       "      <td>2.235532</td>\n",
       "      <td>20.0</td>\n",
       "      <td>-0.267568</td>\n",
       "      <td>0.314381</td>\n",
       "      <td>-0.822933</td>\n",
       "      <td>-0.555747</td>\n",
       "      <td>-0.250391</td>\n",
       "      <td>0.054964</td>\n",
       "      <td>0.093133</td>\n",
       "      <td>20.0</td>\n",
       "      <td>-0.064056</td>\n",
       "      <td>0.250479</td>\n",
       "      <td>-0.551266</td>\n",
       "      <td>-0.192167</td>\n",
       "      <td>-0.104818</td>\n",
       "      <td>0.098995</td>\n",
       "      <td>0.380451</td>\n",
       "    </tr>\n",
       "    <tr>\n",
       "      <th>10</th>\n",
       "      <td>13.0</td>\n",
       "      <td>-0.886405</td>\n",
       "      <td>2.311114e-16</td>\n",
       "      <td>-0.886405</td>\n",
       "      <td>-0.886405</td>\n",
       "      <td>-0.886405</td>\n",
       "      <td>-0.886405</td>\n",
       "      <td>-0.886405</td>\n",
       "      <td>13.0</td>\n",
       "      <td>0.192942</td>\n",
       "      <td>0.736332</td>\n",
       "      <td>-1.352802</td>\n",
       "      <td>-0.276302</td>\n",
       "      <td>0.226065</td>\n",
       "      <td>0.728432</td>\n",
       "      <td>1.374332</td>\n",
       "      <td>13.0</td>\n",
       "      <td>-1.298583</td>\n",
       "      <td>0.296322</td>\n",
       "      <td>-1.700830</td>\n",
       "      <td>-1.548152</td>\n",
       "      <td>-1.242797</td>\n",
       "      <td>-1.051949</td>\n",
       "      <td>-0.822933</td>\n",
       "      <td>13.0</td>\n",
       "      <td>-1.145535</td>\n",
       "      <td>0.462988</td>\n",
       "      <td>-1.754735</td>\n",
       "      <td>-1.405340</td>\n",
       "      <td>-1.288876</td>\n",
       "      <td>-0.745374</td>\n",
       "      <td>-0.395980</td>\n",
       "    </tr>\n",
       "  </tbody>\n",
       "</table>\n",
       "</div>"
      ],
      "text/plain": [
       "        Gender                                                        \\\n",
       "         count      mean           std       min       25%       50%   \n",
       "cluster                                                                \n",
       "0          6.0  1.128152  0.000000e+00  1.128152  1.128152  1.128152   \n",
       "1         18.0  1.128152  0.000000e+00  1.128152  1.128152  1.128152   \n",
       "2         25.0 -0.886405  0.000000e+00 -0.886405 -0.886405 -0.886405   \n",
       "3         15.0 -0.886405  3.447570e-16 -0.886405 -0.886405 -0.886405   \n",
       "4         25.0 -0.886405  0.000000e+00 -0.886405 -0.886405 -0.886405   \n",
       "5         24.0  1.128152  0.000000e+00  1.128152  1.128152  1.128152   \n",
       "6         20.0  1.128152  0.000000e+00  1.128152  1.128152  1.128152   \n",
       "7         21.0 -0.886405  0.000000e+00 -0.886405 -0.886405 -0.886405   \n",
       "8         13.0 -0.886405  2.311114e-16 -0.886405 -0.886405 -0.886405   \n",
       "9         20.0  1.128152  0.000000e+00  1.128152  1.128152  1.128152   \n",
       "10        13.0 -0.886405  2.311114e-16 -0.886405 -0.886405 -0.886405   \n",
       "\n",
       "                              Age                                          \\\n",
       "              75%       max count      mean       std       min       25%   \n",
       "cluster                                                                     \n",
       "0        1.128152  1.128152   6.0  1.194915  0.776607 -0.132768  0.961674   \n",
       "1        1.128152  1.128152  18.0 -0.399900  0.315049 -0.850435 -0.635135   \n",
       "2       -0.886405 -0.886405  25.0 -0.781539  0.478510 -1.496335 -1.137502   \n",
       "3       -0.886405 -0.886405  15.0  0.412658  0.549780 -0.348068  0.010765   \n",
       "4       -0.886405 -0.886405  25.0  1.093007  0.572232  0.297832  0.728432   \n",
       "5        1.128152  1.128152  24.0 -0.976027  0.492349 -1.496335 -1.424569   \n",
       "6        1.128152  1.128152  20.0  0.046648  0.900740 -1.424569 -0.437777   \n",
       "7       -0.886405 -0.886405  21.0 -0.477932  0.220756 -0.850435 -0.635135   \n",
       "8       -0.886405 -0.886405  13.0 -0.960846  0.374765 -1.352802 -1.209269   \n",
       "9        1.128152  1.128152  20.0  1.428157  0.625593  0.584899  0.710490   \n",
       "10      -0.886405 -0.886405  13.0  0.192942  0.736332 -1.352802 -0.276302   \n",
       "\n",
       "                                      Annual_Income                      \\\n",
       "              50%       75%       max         count      mean       std   \n",
       "cluster                                                                   \n",
       "0        1.266682  1.733166  2.020232           6.0 -1.395474  0.231547   \n",
       "1       -0.491602 -0.096885  0.082532          18.0  1.013441  0.722542   \n",
       "2       -0.850435 -0.491602  0.082532          25.0 -0.122142  0.419123   \n",
       "3        0.369598  0.764315  1.302565          15.0  1.212770  0.627464   \n",
       "4        0.800199  1.517865  2.091999          25.0 -0.279400  0.334260   \n",
       "5       -1.065735 -0.671019  0.082532          24.0 -0.737052  0.656233   \n",
       "6        0.154298  0.602840  1.446099          20.0  0.938586  0.611874   \n",
       "7       -0.491602 -0.276302 -0.061002          21.0  0.972848  0.540401   \n",
       "8       -1.137502 -0.635135 -0.276302          13.0 -1.330880  0.314516   \n",
       "9        1.446099  2.020232  2.235532          20.0 -0.267568  0.314381   \n",
       "10       0.226065  0.728432  1.374332          13.0 -1.298583  0.296322   \n",
       "\n",
       "                                                          Spending_Score  \\\n",
       "              min       25%       50%       75%       max          count   \n",
       "cluster                                                                    \n",
       "0       -1.586321 -1.576779 -1.490898 -1.233254 -1.051949            6.0   \n",
       "1        0.322150  0.493912  0.837437  1.190504  2.917671           18.0   \n",
       "2       -0.822933 -0.479408 -0.021375  0.169472  0.589336           25.0   \n",
       "3        0.474828  0.665675  1.047369  1.581741  2.497807           15.0   \n",
       "4       -0.861102 -0.517577 -0.250391 -0.021375  0.245811           25.0   \n",
       "5       -1.738999 -1.366847 -0.632086 -0.202680  0.245811           24.0   \n",
       "6        0.398489  0.598878  0.722929  1.018742  2.917671           20.0   \n",
       "7        0.360319  0.627505  0.703844  1.390894  2.268791           21.0   \n",
       "8       -1.700830 -1.586321 -1.433644 -1.051949 -0.822933           13.0   \n",
       "9       -0.822933 -0.555747 -0.250391  0.054964  0.093133           20.0   \n",
       "10      -1.700830 -1.548152 -1.242797 -1.051949 -0.822933           13.0   \n",
       "\n",
       "                                                                               \n",
       "             mean       std       min       25%       50%       75%       max  \n",
       "cluster                                                                        \n",
       "0       -1.515335  0.387762 -1.832378 -1.793556 -1.618859 -1.415046 -0.823017  \n",
       "1        1.260407  0.431066  0.496916  0.933659  1.370401  1.613036  1.816849  \n",
       "2       -0.119570  0.317831 -0.823017 -0.318337 -0.124229  0.147522  0.419273  \n",
       "3       -1.110297  0.376618 -1.754735 -1.327697 -1.094768 -0.881249 -0.434801  \n",
       "4       -0.026399  0.240129 -0.590088 -0.201872 -0.007764  0.186343  0.341630  \n",
       "5        0.416038  0.614880 -0.590088  0.040763  0.283397  0.885132  1.622741  \n",
       "6       -1.403399  0.371398 -1.910021 -1.609154 -1.463573 -1.279170 -0.551266  \n",
       "7        1.221585  0.304033  0.729845  0.962775  1.273347  1.467455  1.739206  \n",
       "8        1.177786  0.415293  0.574559  0.885132  1.040418  1.428633  1.894492  \n",
       "9       -0.064056  0.250479 -0.551266 -0.192167 -0.104818  0.098995  0.380451  \n",
       "10      -1.145535  0.462988 -1.754735 -1.405340 -1.288876 -0.745374 -0.395980  "
      ]
     },
     "execution_count": 27,
     "metadata": {},
     "output_type": "execute_result"
    }
   ],
   "source": [
    "### group by cluster\n",
    "####\n",
    "data_standardized_df.groupby('cluster').describe()"
   ]
  },
  {
   "cell_type": "code",
   "execution_count": 28,
   "metadata": {},
   "outputs": [
    {
     "data": {
      "image/png": "[encoded data removed]",
      "text/plain": [
       "<Figure size 864x216 with 4 Axes>"
      ]
     },
     "metadata": {
      "needs_background": "light"
     },
     "output_type": "display_data"
    }
   ],
   "source": [
    "cols = list(data_standardized_df.columns)\n",
    "\n",
    "df = data_standardized_df.melt(['cluster'], var_name='cols',  value_name='vals')\n",
    "\n",
    "g = sns.FacetGrid(df, col='cols', hue=\"cluster\", palette=\"Set1\")\n",
    "\n",
    "g = (g.map(sns.distplot, \"vals\"))"
   ]
  },
  {
   "cell_type": "code",
   "execution_count": 29,
   "metadata": {},
   "outputs": [
    {
     "data": {
      "image/png": "[encoded data removed]",
      "text/plain": [
       "<Figure size 2376x216 with 11 Axes>"
      ]
     },
     "metadata": {
      "needs_background": "light"
     },
     "output_type": "display_data"
    },
    {
     "data": {
      "image/png": "[encoded data removed]",
      "text/plain": [
       "<Figure size 2376x216 with 11 Axes>"
      ]
     },
     "metadata": {
      "needs_background": "light"
     },
     "output_type": "display_data"
    },
    {
     "data": {
      "image/png": "[encoded data removed]",
      "text/plain": [
       "<Figure size 2376x216 with 11 Axes>"
      ]
     },
     "metadata": {
      "needs_background": "light"
     },
     "output_type": "display_data"
    },
    {
     "data": {
      "image/png": "[encoded data removed]",
      "text/plain": [
       "<Figure size 2376x216 with 11 Axes>"
      ]
     },
     "metadata": {
      "needs_background": "light"
     },
     "output_type": "display_data"
    },
    {
     "data": {
      "image/png": "[encoded data removed]",
      "text/plain": [
       "<Figure size 2376x216 with 11 Axes>"
      ]
     },
     "metadata": {
      "needs_background": "light"
     },
     "output_type": "display_data"
    }
   ],
   "source": [
    "cols = list(data_standardized_df.columns)\n",
    "for x in range(0,len(cols)):\n",
    "    g = sns.FacetGrid(data_standardized_df, col='cluster')\n",
    "    g = g.map(sns.kdeplot, cols[x])"
   ]
  },
  {
   "cell_type": "code",
   "execution_count": 30,
   "metadata": {},
   "outputs": [
    {
     "data": {
      "text/plain": [
       "4     25\n",
       "2     25\n",
       "5     24\n",
       "7     21\n",
       "9     20\n",
       "6     20\n",
       "1     18\n",
       "3     15\n",
       "10    13\n",
       "8     13\n",
       "0      6\n",
       "Name: cluster, dtype: int64"
      ]
     },
     "execution_count": 30,
     "metadata": {},
     "output_type": "execute_result"
    }
   ],
   "source": [
    "data_standardized_df['cluster'].value_counts()"
   ]
  },
  {
   "cell_type": "markdown",
   "metadata": {},
   "source": [
    "#### Modeling: K Means summary\n",
    "* Cluster 10: These are people with high annual income and high spending scores and are young at age. \n",
    "* Cluster 6 and 7 are people with lowest annual income \n",
    "* Cluster 4 are the oldest people.\n"
   ]
  },
  {
   "cell_type": "markdown",
   "metadata": {},
   "source": [
    "Using PCA to identify the features that describes the best variance in the features"
   ]
  },
  {
   "cell_type": "code",
   "execution_count": 31,
   "metadata": {},
   "outputs": [],
   "source": [
    "data_standardized_pca = data_standardized.copy()"
   ]
  },
  {
   "cell_type": "code",
   "execution_count": 32,
   "metadata": {},
   "outputs": [
    {
     "data": {
      "text/html": [
       "<div>\n",
       "<style scoped>\n",
       "    .dataframe tbody tr th:only-of-type {\n",
       "        vertical-align: middle;\n",
       "    }\n",
       "\n",
       "    .dataframe tbody tr th {\n",
       "        vertical-align: top;\n",
       "    }\n",
       "\n",
       "    .dataframe thead th {\n",
       "        text-align: right;\n",
       "    }\n",
       "</style>\n",
       "<table border=\"1\" class=\"dataframe\">\n",
       "  <thead>\n",
       "    <tr style=\"text-align: right;\">\n",
       "      <th></th>\n",
       "      <th>P1</th>\n",
       "      <th>P2</th>\n",
       "    </tr>\n",
       "  </thead>\n",
       "  <tbody>\n",
       "    <tr>\n",
       "      <th>0</th>\n",
       "      <td>-0.406383</td>\n",
       "      <td>-0.520714</td>\n",
       "    </tr>\n",
       "    <tr>\n",
       "      <th>1</th>\n",
       "      <td>-1.427673</td>\n",
       "      <td>-0.367310</td>\n",
       "    </tr>\n",
       "  </tbody>\n",
       "</table>\n",
       "</div>"
      ],
      "text/plain": [
       "         P1        P2\n",
       "0 -0.406383 -0.520714\n",
       "1 -1.427673 -0.367310"
      ]
     },
     "execution_count": 32,
     "metadata": {},
     "output_type": "execute_result"
    }
   ],
   "source": [
    "# Reducing the dimensions of the data \n",
    "pca = PCA(n_components = 2) \n",
    "X_pca = pca.fit_transform(data_standardized_pca) \n",
    "X_pca = pd.DataFrame(X_pca) \n",
    "X_pca.columns = ['P1', 'P2'] \n",
    "  \n",
    "X_pca.head(2)"
   ]
  },
  {
   "cell_type": "code",
   "execution_count": 33,
   "metadata": {},
   "outputs": [
    {
     "data": {
      "image/png": "[encoded data removed]",
      "text/plain": [
       "<Figure size 432x288 with 1 Axes>"
      ]
     },
     "metadata": {
      "needs_background": "light"
     },
     "output_type": "display_data"
    }
   ],
   "source": [
    "plt.scatter(X_pca['P1'], X_pca['P2'],\n",
    "            c = KMeans(n_clusters=3, random_state=40).fit_predict(X_pca), cmap =None) \n",
    "plt.show()\n",
    "\n"
   ]
  },
  {
   "cell_type": "code",
   "execution_count": 34,
   "metadata": {},
   "outputs": [
    {
     "name": "stdout",
     "output_type": "stream",
     "text": [
      "[0.33690046 0.26230645]\n"
     ]
    }
   ],
   "source": [
    "print(pca.explained_variance_ratio_)"
   ]
  },
  {
   "cell_type": "markdown",
   "metadata": {},
   "source": [
    "The first component describes 33.06% of the variance in data and the 2nd 26.2% of the variance of the data. Total PCA describes about ~59% of variance in the data. there is ~41% of unknown variance in the data.\n"
   ]
  },
  {
   "cell_type": "code",
   "execution_count": 35,
   "metadata": {},
   "outputs": [
    {
     "data": {
      "text/html": [
       "<div>\n",
       "<style scoped>\n",
       "    .dataframe tbody tr th:only-of-type {\n",
       "        vertical-align: middle;\n",
       "    }\n",
       "\n",
       "    .dataframe tbody tr th {\n",
       "        vertical-align: top;\n",
       "    }\n",
       "\n",
       "    .dataframe thead th {\n",
       "        text-align: right;\n",
       "    }\n",
       "</style>\n",
       "<table border=\"1\" class=\"dataframe\">\n",
       "  <thead>\n",
       "    <tr style=\"text-align: right;\">\n",
       "      <th>cluster</th>\n",
       "      <th>0</th>\n",
       "      <th>1</th>\n",
       "      <th>2</th>\n",
       "      <th>3</th>\n",
       "      <th>4</th>\n",
       "      <th>5</th>\n",
       "      <th>6</th>\n",
       "      <th>7</th>\n",
       "      <th>8</th>\n",
       "      <th>9</th>\n",
       "      <th>10</th>\n",
       "    </tr>\n",
       "  </thead>\n",
       "  <tbody>\n",
       "    <tr>\n",
       "      <th>Gender</th>\n",
       "      <td>1.128152</td>\n",
       "      <td>1.128152</td>\n",
       "      <td>-0.886405</td>\n",
       "      <td>-0.886405</td>\n",
       "      <td>-0.886405</td>\n",
       "      <td>1.128152</td>\n",
       "      <td>1.128152</td>\n",
       "      <td>-0.886405</td>\n",
       "      <td>-0.886405</td>\n",
       "      <td>1.128152</td>\n",
       "      <td>-0.886405</td>\n",
       "    </tr>\n",
       "    <tr>\n",
       "      <th>Age</th>\n",
       "      <td>1.194915</td>\n",
       "      <td>-0.399900</td>\n",
       "      <td>-0.781539</td>\n",
       "      <td>0.412658</td>\n",
       "      <td>1.093007</td>\n",
       "      <td>-0.976027</td>\n",
       "      <td>0.046648</td>\n",
       "      <td>-0.477932</td>\n",
       "      <td>-0.960846</td>\n",
       "      <td>1.428157</td>\n",
       "      <td>0.192942</td>\n",
       "    </tr>\n",
       "    <tr>\n",
       "      <th>Annual_Income</th>\n",
       "      <td>-1.395474</td>\n",
       "      <td>1.013441</td>\n",
       "      <td>-0.122142</td>\n",
       "      <td>1.212770</td>\n",
       "      <td>-0.279400</td>\n",
       "      <td>-0.737052</td>\n",
       "      <td>0.938586</td>\n",
       "      <td>0.972848</td>\n",
       "      <td>-1.330880</td>\n",
       "      <td>-0.267568</td>\n",
       "      <td>-1.298583</td>\n",
       "    </tr>\n",
       "    <tr>\n",
       "      <th>Spending_Score</th>\n",
       "      <td>-1.515335</td>\n",
       "      <td>1.260407</td>\n",
       "      <td>-0.119570</td>\n",
       "      <td>-1.110297</td>\n",
       "      <td>-0.026399</td>\n",
       "      <td>0.416038</td>\n",
       "      <td>-1.403399</td>\n",
       "      <td>1.221585</td>\n",
       "      <td>1.177786</td>\n",
       "      <td>-0.064056</td>\n",
       "      <td>-1.145535</td>\n",
       "    </tr>\n",
       "    <tr>\n",
       "      <th>cluster</th>\n",
       "      <td>0.000000</td>\n",
       "      <td>1.000000</td>\n",
       "      <td>2.000000</td>\n",
       "      <td>3.000000</td>\n",
       "      <td>4.000000</td>\n",
       "      <td>5.000000</td>\n",
       "      <td>6.000000</td>\n",
       "      <td>7.000000</td>\n",
       "      <td>8.000000</td>\n",
       "      <td>9.000000</td>\n",
       "      <td>10.000000</td>\n",
       "    </tr>\n",
       "  </tbody>\n",
       "</table>\n",
       "</div>"
      ],
      "text/plain": [
       "cluster               0         1         2         3         4         5   \\\n",
       "Gender          1.128152  1.128152 -0.886405 -0.886405 -0.886405  1.128152   \n",
       "Age             1.194915 -0.399900 -0.781539  0.412658  1.093007 -0.976027   \n",
       "Annual_Income  -1.395474  1.013441 -0.122142  1.212770 -0.279400 -0.737052   \n",
       "Spending_Score -1.515335  1.260407 -0.119570 -1.110297 -0.026399  0.416038   \n",
       "cluster         0.000000  1.000000  2.000000  3.000000  4.000000  5.000000   \n",
       "\n",
       "cluster               6         7         8         9          10  \n",
       "Gender          1.128152 -0.886405 -0.886405  1.128152  -0.886405  \n",
       "Age             0.046648 -0.477932 -0.960846  1.428157   0.192942  \n",
       "Annual_Income   0.938586  0.972848 -1.330880 -0.267568  -1.298583  \n",
       "Spending_Score -1.403399  1.221585  1.177786 -0.064056  -1.145535  \n",
       "cluster         6.000000  7.000000  8.000000  9.000000  10.000000  "
      ]
     },
     "execution_count": 35,
     "metadata": {},
     "output_type": "execute_result"
    }
   ],
   "source": [
    "# Mean value gives a good indication of the distribution of data. So we are finding mean value for each variable for each cluster\n",
    "cluster_group=data_standardized_df.groupby('cluster').apply(lambda x: x[cols].mean()).T\n",
    "cluster_group"
   ]
  },
  {
   "cell_type": "code",
   "execution_count": 36,
   "metadata": {},
   "outputs": [
    {
     "data": {
      "text/html": [
       "<div>\n",
       "<style scoped>\n",
       "    .dataframe tbody tr th:only-of-type {\n",
       "        vertical-align: middle;\n",
       "    }\n",
       "\n",
       "    .dataframe tbody tr th {\n",
       "        vertical-align: top;\n",
       "    }\n",
       "\n",
       "    .dataframe thead th {\n",
       "        text-align: right;\n",
       "    }\n",
       "</style>\n",
       "<table border=\"1\" class=\"dataframe\">\n",
       "  <thead>\n",
       "    <tr style=\"text-align: right;\">\n",
       "      <th>cluster</th>\n",
       "      <th>0</th>\n",
       "      <th>1</th>\n",
       "      <th>2</th>\n",
       "      <th>3</th>\n",
       "      <th>4</th>\n",
       "      <th>5</th>\n",
       "      <th>6</th>\n",
       "      <th>7</th>\n",
       "      <th>8</th>\n",
       "      <th>9</th>\n",
       "      <th>10</th>\n",
       "    </tr>\n",
       "  </thead>\n",
       "  <tbody>\n",
       "    <tr>\n",
       "      <th>Gender</th>\n",
       "      <td>1.000000</td>\n",
       "      <td>1.000000</td>\n",
       "      <td>0.00</td>\n",
       "      <td>0.000000</td>\n",
       "      <td>0.00</td>\n",
       "      <td>1.000000</td>\n",
       "      <td>1.00</td>\n",
       "      <td>0.000000</td>\n",
       "      <td>0.000000</td>\n",
       "      <td>1.00</td>\n",
       "      <td>0.000000</td>\n",
       "    </tr>\n",
       "    <tr>\n",
       "      <th>Age</th>\n",
       "      <td>55.500000</td>\n",
       "      <td>33.277778</td>\n",
       "      <td>27.96</td>\n",
       "      <td>44.600000</td>\n",
       "      <td>54.08</td>\n",
       "      <td>25.250000</td>\n",
       "      <td>39.50</td>\n",
       "      <td>32.190476</td>\n",
       "      <td>25.461538</td>\n",
       "      <td>58.75</td>\n",
       "      <td>41.538462</td>\n",
       "    </tr>\n",
       "    <tr>\n",
       "      <th>Annual_Income</th>\n",
       "      <td>24.000000</td>\n",
       "      <td>87.111111</td>\n",
       "      <td>57.36</td>\n",
       "      <td>92.333333</td>\n",
       "      <td>53.24</td>\n",
       "      <td>41.250000</td>\n",
       "      <td>85.15</td>\n",
       "      <td>86.047619</td>\n",
       "      <td>25.692308</td>\n",
       "      <td>53.55</td>\n",
       "      <td>26.538462</td>\n",
       "    </tr>\n",
       "    <tr>\n",
       "      <th>Spending_Score</th>\n",
       "      <td>11.166667</td>\n",
       "      <td>82.666667</td>\n",
       "      <td>47.12</td>\n",
       "      <td>21.600000</td>\n",
       "      <td>49.52</td>\n",
       "      <td>60.916667</td>\n",
       "      <td>14.05</td>\n",
       "      <td>81.666667</td>\n",
       "      <td>80.538462</td>\n",
       "      <td>48.55</td>\n",
       "      <td>20.692308</td>\n",
       "    </tr>\n",
       "    <tr>\n",
       "      <th>cluster</th>\n",
       "      <td>0.000000</td>\n",
       "      <td>1.000000</td>\n",
       "      <td>2.00</td>\n",
       "      <td>3.000000</td>\n",
       "      <td>4.00</td>\n",
       "      <td>5.000000</td>\n",
       "      <td>6.00</td>\n",
       "      <td>7.000000</td>\n",
       "      <td>8.000000</td>\n",
       "      <td>9.00</td>\n",
       "      <td>10.000000</td>\n",
       "    </tr>\n",
       "  </tbody>\n",
       "</table>\n",
       "</div>"
      ],
      "text/plain": [
       "cluster                0          1      2          3      4          5   \\\n",
       "Gender           1.000000   1.000000   0.00   0.000000   0.00   1.000000   \n",
       "Age             55.500000  33.277778  27.96  44.600000  54.08  25.250000   \n",
       "Annual_Income   24.000000  87.111111  57.36  92.333333  53.24  41.250000   \n",
       "Spending_Score  11.166667  82.666667  47.12  21.600000  49.52  60.916667   \n",
       "cluster          0.000000   1.000000   2.00   3.000000   4.00   5.000000   \n",
       "\n",
       "cluster            6          7          8      9          10  \n",
       "Gender           1.00   0.000000   0.000000   1.00   0.000000  \n",
       "Age             39.50  32.190476  25.461538  58.75  41.538462  \n",
       "Annual_Income   85.15  86.047619  25.692308  53.55  26.538462  \n",
       "Spending_Score  14.05  81.666667  80.538462  48.55  20.692308  \n",
       "cluster          6.00   7.000000   8.000000   9.00  10.000000  "
      ]
     },
     "execution_count": 36,
     "metadata": {},
     "output_type": "execute_result"
    }
   ],
   "source": [
    "# Mean value gives a good indication of the distribution of data. So we are finding mean value for each variable for each cluster\n",
    "cluster_group_orig=df_temp_orig.groupby('cluster').apply(lambda x: x[cols].mean()).T\n",
    "cluster_group_orig"
   ]
  },
  {
   "cell_type": "markdown",
   "metadata": {},
   "source": [
    "##  Hierarchical Clustering"
   ]
  },
  {
   "cell_type": "code",
   "execution_count": 37,
   "metadata": {},
   "outputs": [],
   "source": [
    "# Defining the agglomerative clustering\n",
    "agg_cluster = AgglomerativeClustering(linkage='complete', \n",
    "                                      affinity='cosine',\n",
    "                                      n_clusters=3)\n",
    "\n",
    "# Fit model\n",
    "clusters = agg_cluster.fit_predict(data_standardized)"
   ]
  },
  {
   "cell_type": "code",
   "execution_count": 38,
   "metadata": {},
   "outputs": [
    {
     "name": "stdout",
     "output_type": "stream",
     "text": [
      "Silhouette score for 2 cluster k-means,linkage = 'complete' : 0.278\n",
      "Silhouette score for 3 cluster k-means,linkage = 'complete' : 0.206\n",
      "Silhouette score for 4 cluster k-means,linkage = 'complete' : 0.260\n",
      "Silhouette score for 5 cluster k-means,linkage = 'complete' : 0.259\n",
      "Silhouette score for 6 cluster k-means,linkage = 'complete' : 0.293\n",
      "Silhouette score for 7 cluster k-means,linkage = 'complete' : 0.325\n",
      "Silhouette score for 8 cluster k-means,linkage = 'complete' : 0.350\n",
      "Silhouette score for 9 cluster k-means,linkage = 'complete' : 0.376\n",
      "Silhouette score for 10 cluster k-means,linkage = 'complete' : 0.400\n",
      "Silhouette score for 11 cluster k-means,linkage = 'complete' : 0.393\n",
      "Silhouette score for 12 cluster k-means,linkage = 'complete' : 0.391\n",
      "Silhouette score for 13 cluster k-means,linkage = 'complete' : 0.353\n",
      "Silhouette score for 14 cluster k-means,linkage = 'complete' : 0.363\n"
     ]
    }
   ],
   "source": [
    "for cluster in range(2,15):\n",
    "        agglomerative = AgglomerativeClustering(linkage='complete', affinity='cosine', n_clusters=cluster).fit_predict(data_standardized)\n",
    "        sil_score = metrics.silhouette_score(data_standardized, agglomerative, metric='euclidean')\n",
    "        print(\"Silhouette score for {} cluster k-means,linkage = 'complete' : {:.3f}\".format(cluster,sil_score))\n",
    "        "
   ]
  },
  {
   "cell_type": "markdown",
   "metadata": {},
   "source": [
    "Looks like 10 clusters has the highest silhouetee score"
   ]
  },
  {
   "cell_type": "code",
   "execution_count": 39,
   "metadata": {},
   "outputs": [
    {
     "name": "stdout",
     "output_type": "stream",
     "text": [
      "Silhouette score for 2 cluster k-means, linkage = 'ward': 0.242\n",
      "Silhouette score for 3 cluster k-means, linkage = 'ward': 0.248\n",
      "Silhouette score for 4 cluster k-means, linkage = 'ward': 0.263\n",
      "Silhouette score for 5 cluster k-means, linkage = 'ward': 0.287\n",
      "Silhouette score for 6 cluster k-means, linkage = 'ward': 0.310\n",
      "Silhouette score for 7 cluster k-means, linkage = 'ward': 0.346\n",
      "Silhouette score for 8 cluster k-means, linkage = 'ward': 0.379\n",
      "Silhouette score for 9 cluster k-means, linkage = 'ward': 0.392\n",
      "Silhouette score for 10 cluster k-means, linkage = 'ward': 0.418\n",
      "Silhouette score for 11 cluster k-means, linkage = 'ward': 0.425\n",
      "Silhouette score for 12 cluster k-means, linkage = 'ward': 0.424\n",
      "Silhouette score for 13 cluster k-means, linkage = 'ward': 0.420\n",
      "Silhouette score for 14 cluster k-means, linkage = 'ward': 0.425\n",
      "Silhouette score for 15 cluster k-means, linkage = 'ward': 0.434\n",
      "Silhouette score for 16 cluster k-means, linkage = 'ward': 0.439\n",
      "Silhouette score for 17 cluster k-means, linkage = 'ward': 0.421\n",
      "Silhouette score for 18 cluster k-means, linkage = 'ward': 0.428\n",
      "Silhouette score for 19 cluster k-means, linkage = 'ward': 0.425\n"
     ]
    }
   ],
   "source": [
    "for cluster in range(2,20):\n",
    "        agglomerative = AgglomerativeClustering(linkage=\"ward\", affinity='euclidean', n_clusters=cluster).fit_predict(data_standardized)\n",
    "        sil_score = metrics.silhouette_score(data_standardized, agglomerative, metric='euclidean')\n",
    "        print(\"Silhouette score for {} cluster k-means, linkage = 'ward': {:.3f}\".format(cluster,sil_score))"
   ]
  },
  {
   "cell_type": "code",
   "execution_count": 40,
   "metadata": {},
   "outputs": [
    {
     "name": "stdout",
     "output_type": "stream",
     "text": [
      "Silhouette score for 2 cluster k-means, linkage = 'average': 0.236\n",
      "Silhouette score for 3 cluster k-means, linkage = 'average': 0.230\n",
      "Silhouette score for 4 cluster k-means, linkage = 'average': 0.257\n",
      "Silhouette score for 5 cluster k-means, linkage = 'average': 0.296\n",
      "Silhouette score for 6 cluster k-means, linkage = 'average': 0.298\n",
      "Silhouette score for 7 cluster k-means, linkage = 'average': 0.338\n",
      "Silhouette score for 8 cluster k-means, linkage = 'average': 0.380\n",
      "Silhouette score for 9 cluster k-means, linkage = 'average': 0.400\n",
      "Silhouette score for 10 cluster k-means, linkage = 'average': 0.396\n",
      "Silhouette score for 11 cluster k-means, linkage = 'average': 0.389\n",
      "Silhouette score for 12 cluster k-means, linkage = 'average': 0.328\n",
      "Silhouette score for 13 cluster k-means, linkage = 'average': 0.333\n",
      "Silhouette score for 14 cluster k-means, linkage = 'average': 0.284\n",
      "Silhouette score for 15 cluster k-means, linkage = 'average': 0.310\n",
      "Silhouette score for 16 cluster k-means, linkage = 'average': 0.328\n",
      "Silhouette score for 17 cluster k-means, linkage = 'average': 0.312\n",
      "Silhouette score for 18 cluster k-means, linkage = 'average': 0.323\n",
      "Silhouette score for 19 cluster k-means, linkage = 'average': 0.330\n"
     ]
    }
   ],
   "source": [
    "for cluster in range(2,20):\n",
    "        agglomerative = AgglomerativeClustering(linkage=\"average\", affinity='cosine', n_clusters=cluster).fit_predict(data_standardized)\n",
    "        sil_score = metrics.silhouette_score(data_standardized, agglomerative, metric='euclidean')\n",
    "        print(\"Silhouette score for {} cluster k-means, linkage = 'average': {:.3f}\".format(cluster,sil_score))"
   ]
  },
  {
   "cell_type": "markdown",
   "metadata": {},
   "source": [
    "### GMM"
   ]
  },
  {
   "cell_type": "code",
   "execution_count": 41,
   "metadata": {},
   "outputs": [
    {
     "name": "stdout",
     "output_type": "stream",
     "text": [
      "Silhouette score for 2 cluster k-means, using full covariance is : 0.246\n",
      "Silhouette score for 2 cluster k-means, using tied covariance is : 0.252\n",
      "Silhouette score for 2 cluster k-means, using diag covariance is : 0.222\n",
      "Silhouette score for 2 cluster k-means, using spherical covariance is : 0.252\n",
      "Silhouette score for 4 cluster k-means, using full covariance is : 0.258\n",
      "Silhouette score for 4 cluster k-means, using tied covariance is : 0.275\n",
      "Silhouette score for 4 cluster k-means, using diag covariance is : 0.276\n",
      "Silhouette score for 4 cluster k-means, using spherical covariance is : 0.266\n",
      "Silhouette score for 6 cluster k-means, using full covariance is : 0.236\n",
      "Silhouette score for 6 cluster k-means, using tied covariance is : 0.309\n",
      "Silhouette score for 6 cluster k-means, using diag covariance is : 0.247\n",
      "Silhouette score for 6 cluster k-means, using spherical covariance is : 0.216\n",
      "Silhouette score for 8 cluster k-means, using full covariance is : 0.294\n",
      "Silhouette score for 8 cluster k-means, using tied covariance is : 0.330\n",
      "Silhouette score for 8 cluster k-means, using diag covariance is : 0.285\n",
      "Silhouette score for 8 cluster k-means, using spherical covariance is : 0.353\n",
      "Silhouette score for 10 cluster k-means, using full covariance is : 0.338\n",
      "Silhouette score for 10 cluster k-means, using tied covariance is : 0.356\n",
      "Silhouette score for 10 cluster k-means, using diag covariance is : 0.324\n",
      "Silhouette score for 10 cluster k-means, using spherical covariance is : 0.369\n",
      "Silhouette score for 12 cluster k-means, using full covariance is : 0.391\n",
      "Silhouette score for 12 cluster k-means, using tied covariance is : 0.413\n",
      "Silhouette score for 12 cluster k-means, using diag covariance is : 0.366\n",
      "Silhouette score for 12 cluster k-means, using spherical covariance is : 0.408\n",
      "Silhouette score for 14 cluster k-means, using full covariance is : 0.398\n",
      "Silhouette score for 14 cluster k-means, using tied covariance is : 0.423\n",
      "Silhouette score for 14 cluster k-means, using diag covariance is : 0.413\n",
      "Silhouette score for 14 cluster k-means, using spherical covariance is : 0.418\n",
      "Silhouette score for 16 cluster k-means, using full covariance is : 0.398\n",
      "Silhouette score for 16 cluster k-means, using tied covariance is : 0.417\n",
      "Silhouette score for 16 cluster k-means, using diag covariance is : 0.415\n",
      "Silhouette score for 16 cluster k-means, using spherical covariance is : 0.422\n",
      "Silhouette score for 18 cluster k-means, using full covariance is : 0.390\n",
      "Silhouette score for 18 cluster k-means, using tied covariance is : 0.412\n",
      "Silhouette score for 18 cluster k-means, using diag covariance is : 0.385\n",
      "Silhouette score for 18 cluster k-means, using spherical covariance is : 0.400\n"
     ]
    }
   ],
   "source": [
    "for cluster in range(2,20,2):\n",
    "    for covariance_type in ['full', 'tied', 'diag', 'spherical']:\n",
    "        gmm  = GaussianMixture(n_components = cluster,covariance_type = covariance_type, random_state = 40).fit_predict(data_standardized)\n",
    "        sil_score = metrics.silhouette_score(data_standardized, gmm, metric='euclidean')\n",
    "        print(\"Silhouette score for {} cluster k-means, using {} covariance is : {:.3f}\".format(cluster,covariance_type,sil_score))\n",
    "        "
   ]
  },
  {
   "cell_type": "markdown",
   "metadata": {},
   "source": [
    "## DBSCAN"
   ]
  },
  {
   "cell_type": "code",
   "execution_count": 42,
   "metadata": {},
   "outputs": [
    {
     "name": "stdout",
     "output_type": "stream",
     "text": [
      "Number of clusters when min_samples=1 is: 8\n",
      "The silhouette score of the DBSCAN solution: 0.06236135998754358\n",
      "Number of clusters and silhouette score when min_samples=2 is: 7 and 0.09650323413716073\n",
      "Number of clusters and silhouette score when min_samples=3 is: 4 and 0.21256267605040682\n",
      "Number of clusters and silhouette score when min_samples=4 is: 4 and 0.21256267605040682\n",
      "Number of clusters and silhouette score when min_samples=5 is: 3 and 0.2543871824295202\n",
      "Number of clusters and silhouette score when min_samples=6 is: 3 and 0.2543871824295202\n",
      "Number of clusters and silhouette score when min_samples=7 is: 3 and 0.2543871824295202\n",
      "Number of clusters and silhouette score when min_samples=8 is: 3 and 0.2516159054507508\n",
      "Number of clusters and silhouette score when min_samples=9 is: 4 and 0.19099916485787014\n",
      "Number of clusters and silhouette score when min_samples=10 is: 3 and 0.23366261432506327\n",
      "Number of clusters and silhouette score when min_samples=11 is: 3 and 0.22070245084472062\n",
      "Number of clusters and silhouette score when min_samples=12 is: 4 and 0.18909441581899017\n",
      "Number of clusters and silhouette score when min_samples=13 is: 4 and 0.18130803554499866\n",
      "Number of clusters and silhouette score when min_samples=14 is: 4 and 0.16896532269731382\n",
      "Number of clusters and silhouette score when min_samples=15 is: 3 and 0.1647449418263195\n",
      "Number of clusters and silhouette score when min_samples=16 is: 3 and 0.1647449418263195\n",
      "Number of clusters and silhouette score when min_samples=17 is: 3 and 0.1647449418263195\n",
      "Number of clusters and silhouette score when min_samples=18 is: 3 and 0.1647449418263195\n",
      "Number of clusters and silhouette score when min_samples=19 is: 3 and 0.14939397437724478\n"
     ]
    }
   ],
   "source": [
    "dbscan_cluster = DBSCAN(eps=1, min_samples=1, metric=\"euclidean\")\n",
    "\n",
    "# Fit model\n",
    "clusters = dbscan_cluster.fit_predict(data_standardized)\n",
    "\n",
    "print(\"Number of clusters when min_samples=1 is: {}\".format(len(np.unique(clusters))))\n",
    "\n",
    "print(\"The silhouette score of the DBSCAN solution: {}\"\n",
    "      .format(metrics.silhouette_score(data_standardized, clusters, metric='euclidean')))\n",
    "for i in range(2,20):\n",
    "    dbscan_cluster = DBSCAN(eps=1, min_samples=i, metric=\"euclidean\")\n",
    "    # Fit model\n",
    "    clusters = dbscan_cluster.fit_predict(data_standardized)\n",
    "    sil_score = metrics.silhouette_score(data_standardized, clusters, metric='euclidean')\n",
    "    print(\"Number of clusters and silhouette score when min_samples={} is: {} and {}\".format(i, len(np.unique(clusters)),sil_score))"
   ]
  },
  {
   "cell_type": "code",
   "execution_count": 43,
   "metadata": {},
   "outputs": [
    {
     "name": "stdout",
     "output_type": "stream",
     "text": [
      "Number of clusters when eps=1 is: 8\n",
      "The silhouette score of the DBSCAN solution: 0.06236135998754358\n",
      "Number of clusters and silhouette score when eps=1  is: 8 and 0.06236135998754358\n",
      "Number of clusters and silhouette score when eps=2  is: 2 and 0.2776035125578272\n"
     ]
    },
    {
     "ename": "ValueError",
     "evalue": "Number of labels is 1. Valid values are 2 to n_samples - 1 (inclusive)",
     "output_type": "error",
     "traceback": [
      "\u001b[0;31m---------------------------------------------------------------------------\u001b[0m",
      "\u001b[0;31mValueError\u001b[0m                                Traceback (most recent call last)",
      "\u001b[0;32m<ipython-input-43-2d52fb1f37b8>\u001b[0m in \u001b[0;36m<module>\u001b[0;34m()\u001b[0m\n\u001b[1;32m     12\u001b[0m     \u001b[0;31m# Fit model\u001b[0m\u001b[0;34m\u001b[0m\u001b[0;34m\u001b[0m\u001b[0;34m\u001b[0m\u001b[0m\n\u001b[1;32m     13\u001b[0m     \u001b[0mclusters\u001b[0m \u001b[0;34m=\u001b[0m \u001b[0mdbscan_cluster\u001b[0m\u001b[0;34m.\u001b[0m\u001b[0mfit_predict\u001b[0m\u001b[0;34m(\u001b[0m\u001b[0mdata_standardized\u001b[0m\u001b[0;34m)\u001b[0m\u001b[0;34m\u001b[0m\u001b[0;34m\u001b[0m\u001b[0m\n\u001b[0;32m---> 14\u001b[0;31m     \u001b[0msil_score\u001b[0m \u001b[0;34m=\u001b[0m \u001b[0mmetrics\u001b[0m\u001b[0;34m.\u001b[0m\u001b[0msilhouette_score\u001b[0m\u001b[0;34m(\u001b[0m\u001b[0mdata_standardized\u001b[0m\u001b[0;34m,\u001b[0m \u001b[0mclusters\u001b[0m\u001b[0;34m,\u001b[0m \u001b[0mmetric\u001b[0m\u001b[0;34m=\u001b[0m\u001b[0;34m'euclidean'\u001b[0m\u001b[0;34m)\u001b[0m\u001b[0;34m\u001b[0m\u001b[0;34m\u001b[0m\u001b[0m\n\u001b[0m\u001b[1;32m     15\u001b[0m     \u001b[0mprint\u001b[0m\u001b[0;34m(\u001b[0m\u001b[0;34m\"Number of clusters and silhouette score when eps={}  is: {} and {}\"\u001b[0m\u001b[0;34m.\u001b[0m\u001b[0mformat\u001b[0m\u001b[0;34m(\u001b[0m\u001b[0mi\u001b[0m\u001b[0;34m,\u001b[0m \u001b[0mlen\u001b[0m\u001b[0;34m(\u001b[0m\u001b[0mnp\u001b[0m\u001b[0;34m.\u001b[0m\u001b[0munique\u001b[0m\u001b[0;34m(\u001b[0m\u001b[0mclusters\u001b[0m\u001b[0;34m)\u001b[0m\u001b[0;34m)\u001b[0m\u001b[0;34m,\u001b[0m\u001b[0msil_score\u001b[0m\u001b[0;34m)\u001b[0m\u001b[0;34m)\u001b[0m\u001b[0;34m\u001b[0m\u001b[0;34m\u001b[0m\u001b[0m\n",
      "\u001b[0;32m/Users/tparveen/miniconda3/lib/python3.7/site-packages/sklearn/metrics/cluster/_unsupervised.py\u001b[0m in \u001b[0;36msilhouette_score\u001b[0;34m(X, labels, metric, sample_size, random_state, **kwds)\u001b[0m\n\u001b[1;32m    115\u001b[0m         \u001b[0;32melse\u001b[0m\u001b[0;34m:\u001b[0m\u001b[0;34m\u001b[0m\u001b[0;34m\u001b[0m\u001b[0m\n\u001b[1;32m    116\u001b[0m             \u001b[0mX\u001b[0m\u001b[0;34m,\u001b[0m \u001b[0mlabels\u001b[0m \u001b[0;34m=\u001b[0m \u001b[0mX\u001b[0m\u001b[0;34m[\u001b[0m\u001b[0mindices\u001b[0m\u001b[0;34m]\u001b[0m\u001b[0;34m,\u001b[0m \u001b[0mlabels\u001b[0m\u001b[0;34m[\u001b[0m\u001b[0mindices\u001b[0m\u001b[0;34m]\u001b[0m\u001b[0;34m\u001b[0m\u001b[0;34m\u001b[0m\u001b[0m\n\u001b[0;32m--> 117\u001b[0;31m     \u001b[0;32mreturn\u001b[0m \u001b[0mnp\u001b[0m\u001b[0;34m.\u001b[0m\u001b[0mmean\u001b[0m\u001b[0;34m(\u001b[0m\u001b[0msilhouette_samples\u001b[0m\u001b[0;34m(\u001b[0m\u001b[0mX\u001b[0m\u001b[0;34m,\u001b[0m \u001b[0mlabels\u001b[0m\u001b[0;34m,\u001b[0m \u001b[0mmetric\u001b[0m\u001b[0;34m=\u001b[0m\u001b[0mmetric\u001b[0m\u001b[0;34m,\u001b[0m \u001b[0;34m**\u001b[0m\u001b[0mkwds\u001b[0m\u001b[0;34m)\u001b[0m\u001b[0;34m)\u001b[0m\u001b[0;34m\u001b[0m\u001b[0;34m\u001b[0m\u001b[0m\n\u001b[0m\u001b[1;32m    118\u001b[0m \u001b[0;34m\u001b[0m\u001b[0m\n\u001b[1;32m    119\u001b[0m \u001b[0;34m\u001b[0m\u001b[0m\n",
      "\u001b[0;32m/Users/tparveen/miniconda3/lib/python3.7/site-packages/sklearn/metrics/cluster/_unsupervised.py\u001b[0m in \u001b[0;36msilhouette_samples\u001b[0;34m(X, labels, metric, **kwds)\u001b[0m\n\u001b[1;32m    226\u001b[0m     \u001b[0mn_samples\u001b[0m \u001b[0;34m=\u001b[0m \u001b[0mlen\u001b[0m\u001b[0;34m(\u001b[0m\u001b[0mlabels\u001b[0m\u001b[0;34m)\u001b[0m\u001b[0;34m\u001b[0m\u001b[0;34m\u001b[0m\u001b[0m\n\u001b[1;32m    227\u001b[0m     \u001b[0mlabel_freqs\u001b[0m \u001b[0;34m=\u001b[0m \u001b[0mnp\u001b[0m\u001b[0;34m.\u001b[0m\u001b[0mbincount\u001b[0m\u001b[0;34m(\u001b[0m\u001b[0mlabels\u001b[0m\u001b[0;34m)\u001b[0m\u001b[0;34m\u001b[0m\u001b[0;34m\u001b[0m\u001b[0m\n\u001b[0;32m--> 228\u001b[0;31m     \u001b[0mcheck_number_of_labels\u001b[0m\u001b[0;34m(\u001b[0m\u001b[0mlen\u001b[0m\u001b[0;34m(\u001b[0m\u001b[0mle\u001b[0m\u001b[0;34m.\u001b[0m\u001b[0mclasses_\u001b[0m\u001b[0;34m)\u001b[0m\u001b[0;34m,\u001b[0m \u001b[0mn_samples\u001b[0m\u001b[0;34m)\u001b[0m\u001b[0;34m\u001b[0m\u001b[0;34m\u001b[0m\u001b[0m\n\u001b[0m\u001b[1;32m    229\u001b[0m \u001b[0;34m\u001b[0m\u001b[0m\n\u001b[1;32m    230\u001b[0m     \u001b[0mkwds\u001b[0m\u001b[0;34m[\u001b[0m\u001b[0;34m'metric'\u001b[0m\u001b[0;34m]\u001b[0m \u001b[0;34m=\u001b[0m \u001b[0mmetric\u001b[0m\u001b[0;34m\u001b[0m\u001b[0;34m\u001b[0m\u001b[0m\n",
      "\u001b[0;32m/Users/tparveen/miniconda3/lib/python3.7/site-packages/sklearn/metrics/cluster/_unsupervised.py\u001b[0m in \u001b[0;36mcheck_number_of_labels\u001b[0;34m(n_labels, n_samples)\u001b[0m\n\u001b[1;32m     33\u001b[0m     \u001b[0;32mif\u001b[0m \u001b[0;32mnot\u001b[0m \u001b[0;36m1\u001b[0m \u001b[0;34m<\u001b[0m \u001b[0mn_labels\u001b[0m \u001b[0;34m<\u001b[0m \u001b[0mn_samples\u001b[0m\u001b[0;34m:\u001b[0m\u001b[0;34m\u001b[0m\u001b[0;34m\u001b[0m\u001b[0m\n\u001b[1;32m     34\u001b[0m         raise ValueError(\"Number of labels is %d. Valid values are 2 \"\n\u001b[0;32m---> 35\u001b[0;31m                          \"to n_samples - 1 (inclusive)\" % n_labels)\n\u001b[0m\u001b[1;32m     36\u001b[0m \u001b[0;34m\u001b[0m\u001b[0m\n\u001b[1;32m     37\u001b[0m \u001b[0;34m\u001b[0m\u001b[0m\n",
      "\u001b[0;31mValueError\u001b[0m: Number of labels is 1. Valid values are 2 to n_samples - 1 (inclusive)"
     ]
    }
   ],
   "source": [
    "dbscan_cluster = DBSCAN(eps=1, min_samples=1, metric=\"euclidean\")\n",
    "\n",
    "# Fit model\n",
    "clusters = dbscan_cluster.fit_predict(data_standardized)\n",
    "\n",
    "print(\"Number of clusters when eps=1 is: {}\".format(len(np.unique(clusters))))\n",
    "print(\"The silhouette score of the DBSCAN solution: {}\"\n",
    "      .format(metrics.silhouette_score(data_standardized, clusters, metric='euclidean')))\n",
    "\n",
    "for i in [1,2,3,4,5,6,7,8,9]:\n",
    "    dbscan_cluster = DBSCAN(eps=i, min_samples=1, metric=\"euclidean\")\n",
    "    # Fit model\n",
    "    clusters = dbscan_cluster.fit_predict(data_standardized)\n",
    "    sil_score = metrics.silhouette_score(data_standardized, clusters, metric='euclidean')\n",
    "    print(\"Number of clusters and silhouette score when eps={}  is: {} and {}\".format(i, len(np.unique(clusters)),sil_score))"
   ]
  },
  {
   "cell_type": "markdown",
   "metadata": {},
   "source": [
    "Its giving me an error because silhoutte scores need to be starting at 2 so when the cluster hits 2, it gives an error. But I can see what I needed to see here - I wanted to see if DBscan will provide better results and I can see that with ep = 6 I get a 66% silhourtte score. I will run this with min sample 14 and ep = 6"
   ]
  },
  {
   "cell_type": "code",
   "execution_count": 44,
   "metadata": {},
   "outputs": [
    {
     "name": "stdout",
     "output_type": "stream",
     "text": [
      "Number of clusters when min_samples=11 is: 3\n",
      "The silhouette score of the DBSCAN solution: 0.22070245084472062\n"
     ]
    }
   ],
   "source": [
    "dbscan_cluster = DBSCAN(eps=1, min_samples=11, metric=\"euclidean\")\n",
    "\n",
    "# Fit model\n",
    "clusters = dbscan_cluster.fit_predict(data_standardized)\n",
    "\n",
    "print(\"Number of clusters when min_samples=11 is: {}\".format(len(np.unique(clusters))))\n",
    "\n",
    "print(\"The silhouette score of the DBSCAN solution: {}\"\n",
    "      .format(metrics.silhouette_score(data_standardized, clusters, metric='euclidean')))"
   ]
  },
  {
   "cell_type": "markdown",
   "metadata": {},
   "source": [
    "This gives me a 22% sihoutte score"
   ]
  },
  {
   "cell_type": "markdown",
   "metadata": {},
   "source": [
    "# Summary"
   ]
  },
  {
   "cell_type": "markdown",
   "metadata": {},
   "source": [
    "This project is about segmenting mall customers based on their age, spending scores and annual income\n",
    "\n",
    "The dataset was pretty good. I checked for missing values and I removed the unnecessary column. I also used data explorations and use that to help clean the dataset. For example, a lot of the features such as Customer ID and such are irrelavant to identifying their spending habit. that column was dropped.\n",
    "\n",
    "After much data cleaning and exploration, I came down to the 4 features that could be closely related to my segmentation problem. Once the dataset was ready, I used 4 unsupervised learning models - K means, Hierarchical clustering, GMM, and DBSCAN models and applied this dataset on all 4 of them. The results are as follows:\n",
    "\n",
    "Out of all 4 models,Kmeans seemed like it did the best with the highest silhoutte score. \n",
    "\n",
    "- K Means: 42.7%\n",
    "\n",
    "- Hierarchical Clustering\n",
    "Complete: 40.0%\n",
    "Ward:     42.5%\n",
    "Average:  40.0%\n",
    "\n",
    "- GMM\n",
    "Full covariance: 39.8%\n",
    "Tied covariance: 42.3%\n",
    "Diag covariance: 41.5%\n",
    "Spherical covariance: 42.2%\n",
    "\n",
    "- DBSCAN               \n",
    "ep=1, min_samples=14: 25.4%\n",
    "eps=6, min_samples=14: 22%\n",
    "\n",
    "\n",
    "I also had some recommendations for the Credit card company based on my models\n",
    "* Cluster 10: These are people with high annual income and high spending scores and are young at age. So provide more marketing and icentive for them. \n",
    "* Cluster 6 and 7 are people with lowest annual income - send them sale information\n",
    "* Cluster 4 are the oldest people. \n"
   ]
  },
  {
   "cell_type": "code",
   "execution_count": null,
   "metadata": {},
   "outputs": [],
   "source": []
  }
 ],
 "metadata": {
  "kernelspec": {
   "display_name": "Python 3",
   "language": "python",
   "name": "python3"
  },
  "language_info": {
   "codemirror_mode": {
    "name": "ipython",
    "version": 3
   },
   "file_extension": ".py",
   "mimetype": "text/x-python",
   "name": "python",
   "nbconvert_exporter": "python",
   "pygments_lexer": "ipython3",
   "version": "3.7.4"
  }
 },
 "nbformat": 4,
 "nbformat_minor": 2
}
