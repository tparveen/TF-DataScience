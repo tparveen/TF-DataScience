{
 "cells": [
  {
   "cell_type": "markdown",
   "metadata": {},
   "source": [
    "# Assignment - Checkpoint # 5\n",
    "\n",
    "https://courses.thinkful.com/dsbc-stats-1-v1/checkpoint/5"
   ]
  },
  {
   "cell_type": "markdown",
   "metadata": {},
   "source": [
    "1) Greg was 14, Marcia was 12, Peter was 11, Jan was 10, Bobby was 8, and Cindy was 6 when they started playing the Brady kids on The Brady Bunch. Cousin Oliver was 8 years old when he joined the show. What are the mean, median, and mode of the kids' ages when they first appeared on the show? What are the variance, standard deviation, and standard error?"
   ]
  },
  {
   "cell_type": "code",
   "execution_count": 7,
   "metadata": {
    "collapsed": false
   },
   "outputs": [
    {
     "name": "stdout",
     "output_type": "stream",
     "text": [
      "Mean: 9.857142857142858 \n",
      "Median: 10.0 \n",
      "Mode: 8 \n",
      "Variance: 6.408163265306122 \n",
      "Standard Deviation: 2.734262327610589 \n",
      "Std errors: 1.0334540197243192 \n"
     ]
    }
   ],
   "source": [
    "import numpy as np\n",
    "import pandas as pd\n",
    "import statistics\n",
    "\n",
    "%matplotlib inline\n",
    "\n",
    "df = pd.DataFrame()\n",
    "df['age'] = [14, 12, 11, 10, 8, 6, 8]\n",
    "\n",
    "print('Mean: {} '.format(np.mean(df['age'])))\n",
    "print('Median: {} '.format(np.median(df['age'])))\n",
    "\n",
    "print('Mode: {} '.format(statistics.mode(df['age'])))\n",
    "\n",
    "#print('Variance: {} '.format(df['age'].var(ddof=0))) # population variance in dataframe\n",
    "\n",
    "#print('Variance: {} '.format(df['age'].var())) # sample variance - usually work with this (n-1)\n",
    "print('Variance: {} '.format(np.var(df['age']))) # population variance \n",
    "\n",
    "#print('Variance: {} '.format(np.var(df['age'], ddof =1))) # sample variance in np\n",
    "\n",
    "stdDev = np.std(df['age'], ddof=1)\n",
    "print('Standard Deviation: {} '.format(stdDev))\n",
    "\n",
    "print('Std errors: {} '.format(stdDev/np.sqrt(len(df['age']))))"
   ]
  },
  {
   "cell_type": "markdown",
   "metadata": {},
   "source": [
    "2) Using these estimates, if you had to choose only one estimate of central tendency and one estimate of variance to describe the data, which would you pick and why?"
   ]
  },
  {
   "cell_type": "markdown",
   "metadata": {},
   "source": [
    "[14, 12, 11, 10, 8, 6, 8]\n",
    "\n",
    "[6,8,8,10,11,12,14]\n",
    "\n",
    "one estimate of central tendency -> Mean \n",
    "one estimate of variance -> Variance? 9+-6 -> all ages are within it\n",
    "The variance here covers the whole set of data and they are not too far off so Iwould pick the variance\n"
   ]
  },
  {
   "cell_type": "markdown",
   "metadata": {},
   "source": [
    "3) Next, Cindy has a birthday. Update your estimates- what changed, and what didn't?"
   ]
  },
  {
   "cell_type": "code",
   "execution_count": 15,
   "metadata": {
    "collapsed": false
   },
   "outputs": [
    {
     "name": "stdout",
     "output_type": "stream",
     "text": [
      "Mean: 10.0 \n",
      "Median: 10.0 \n",
      "Mode: 8 \n",
      "Variance: 5.428571428571429 \n",
      "Standard Deviation: 2.516611478423583 \n",
      "Std errors: 0.9511897312113418 \n"
     ]
    }
   ],
   "source": [
    "# Cindy has a birthday - cindy is 7 -updated estimates\n",
    "df['new_age'] = [14, 12, 11, 10, 8, 7, 8]\n",
    "\n",
    "#df\n",
    "\n",
    "print('Mean: {} '.format(np.mean(df['new_age'])))\n",
    "print('Median: {} '.format(np.median(df['new_age'])))\n",
    "\n",
    "print('Mode: {} '.format(statistics.mode(df['new_age'])))\n",
    "\n",
    "#print('Variance: {} '.format(df['age'].var()))\n",
    "#print('Variance: {} '.format(np.var(df['age'])))\n",
    "\n",
    "print('Variance: {} '.format(np.var(df['new_age'])))\n",
    "\n",
    "stdDev = np.std(df['new_age'], ddof=1)\n",
    "print('Standard Deviation: {} '.format(stdDev))\n",
    "\n",
    "print('Std errors: {} '.format(stdDev/np.sqrt(len(df['new_age']))))\n",
    "\n",
    "#df.describe()"
   ]
  },
  {
   "cell_type": "markdown",
   "metadata": {},
   "source": [
    "3) Changed - mean, variance, std, std_error \n",
    "\n",
    "what did not change is median, and mode"
   ]
  },
  {
   "cell_type": "markdown",
   "metadata": {},
   "source": [
    "4) Nobody likes Cousin Oliver. Maybe the network should have used an even younger actor. Replace Cousin Oliver with 1-year-old Jessica, then recalculate again. Does this change your choice of central tendency or variance estimation methods?"
   ]
  },
  {
   "cell_type": "code",
   "execution_count": 22,
   "metadata": {
    "collapsed": false
   },
   "outputs": [
    {
     "name": "stdout",
     "output_type": "stream",
     "text": [
      "Mean: 9.0 \n",
      "Median: 10.0 \n",
      "Variance: 15.428571428571429 \n",
      "Standard Deviation: 4.242640687119285 \n",
      "Std errors: 1.6035674514745462 \n"
     ]
    }
   ],
   "source": [
    "#Get rid of oliver = 8  and replace with 1 year old Jessica\n",
    "\n",
    "df['another_new_age'] = [14, 12, 11, 10, 8, 7, 1]\n",
    "\n",
    "#df\n",
    "\n",
    "print('Mean: {} '.format(np.mean(df['another_new_age'])))\n",
    "print('Median: {} '.format(np.median(df['another_new_age'])))\n",
    "\n",
    "### try / except\n",
    "#print('Mode: {} '.format(statistics.mode(df['another_new_age'])))\n",
    "\n",
    "\n",
    "#print('Variance: {} '.format(df['age'].var()))\n",
    "#print('Variance: {} '.format(np.var(df['age'])))\n",
    "\n",
    "print('Variance: {} '.format(np.var(df['another_new_age'])))\n",
    "\n",
    "stdDev = np.std(df['another_new_age'], ddof=1)\n",
    "print('Standard Deviation: {} '.format(stdDev))\n",
    "\n",
    "print('Std errors: {} '.format(stdDev/np.sqrt(len(df['another_new_age']))))\n",
    "\n",
    "# check concat - pandas doc\n",
    "# https://pandas.pydata.org/pandas-docs/stable/reference/api/pandas.concat.html\n"
   ]
  },
  {
   "cell_type": "markdown",
   "metadata": {},
   "source": [
    "14, 12, 11, 10, 8, 7, 1\n",
    "\n",
    "1 8 7 10 11 12 14\n",
    "\n",
    "4) Yes it does change my estimaes - one estimate of central tendency reminas same as before - Mean \n",
    "one estimate of variance is now std deviation. The std dev gives a better range of the ages that are in the data - 9+-4 -> most ages are within it. The variance here is too high and makes the ages be off the chart."
   ]
  },
  {
   "cell_type": "markdown",
   "metadata": {},
   "source": [
    "5) On the 50th anniversary of The Brady Bunch, four different magazines asked their readers whether they were fans of the show. The answers were: TV Guide 20% fans Entertainment Weekly 23% fans Pop Culture Today 17% fans SciPhi Phanatic 5% fans. Based on these numbers, what percentage of adult Americans would you estimate were Brady Bunch fans on the 50th anniversary of the show?\n",
    "\n",
    "This is the answer that the solution gave and I don't agree with that - \n",
    "(20 + 23 + 17) / 3 = 60/3 = 20% \n",
    "\n",
    "A better approach would be - \n",
    "\n",
    "* we need to know the total number of readers in these 4 magazines - say X number of people are readers of these 4 magazines\n",
    "* 65% of the readers are fans  = say that's Y\n",
    "* Total US population = Z\n",
    "* Y/Z = % of americans who are fans\n",
    "\n",
    "But I don't have all the data... how do I solve this?"
   ]
  },
  {
   "cell_type": "code",
   "execution_count": null,
   "metadata": {
    "collapsed": true
   },
   "outputs": [],
   "source": []
  }
 ],
 "metadata": {
  "kernelspec": {
   "display_name": "Python 3",
   "language": "python",
   "name": "python3"
  },
  "language_info": {
   "codemirror_mode": {
    "name": "ipython",
    "version": 3
   },
   "file_extension": ".py",
   "mimetype": "text/x-python",
   "name": "python",
   "nbconvert_exporter": "python",
   "pygments_lexer": "ipython3",
   "version": "3.6.0"
  }
 },
 "nbformat": 4,
 "nbformat_minor": 2
}
