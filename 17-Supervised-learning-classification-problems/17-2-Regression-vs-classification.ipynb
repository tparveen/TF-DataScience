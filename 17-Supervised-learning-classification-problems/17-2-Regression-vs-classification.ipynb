{
 "cells": [
  {
   "cell_type": "markdown",
   "metadata": {},
   "source": [
    "# Assignment\n",
    "For each of the following situations, decide if you would model using a regression or classification model. Discuss your reasoning with your mentor next time you meet.\n",
    "\n",
    "- The amount a person will spend on a given site in the next 24 months.\n",
    "- What color car someone is going to buy.\n",
    "- How many children a family will have.\n",
    "- If someone will sign up for a service.\n",
    "- The number of times someone will get sick in a year.\n",
    "- The probability someone will get sick in the next month.\n",
    "- Which medicine will work best for a given patient."
   ]
  },
  {
   "cell_type": "markdown",
   "metadata": {},
   "source": [
    "### The amount a person will spend on a given site in the next 24 months.\n",
    "Regression: Outcome variable is continuous. The amount a person can spend can range from a minimum to a max ammount"
   ]
  },
  {
   "cell_type": "markdown",
   "metadata": {},
   "source": [
    "### What color car someone is going to buy.\n",
    "Classification. There is really finite amount of car colors. so the outcome will be a categorical variable"
   ]
  },
  {
   "cell_type": "markdown",
   "metadata": {},
   "source": [
    "### How many children a family will have.\n",
    "Classification: categorical outcome variable - you can have a finite number of children"
   ]
  },
  {
   "cell_type": "markdown",
   "metadata": {},
   "source": [
    "###  If someone will sign up for a service.\n",
    "Classification: its a yes or no. categorical outcome variable"
   ]
  },
  {
   "cell_type": "markdown",
   "metadata": {},
   "source": [
    "### The number of times someone will get sick in a year.\n",
    "Classification: its a finite number. categorical outcome variable"
   ]
  },
  {
   "cell_type": "markdown",
   "metadata": {},
   "source": [
    "### The probability someone will get sick in the next month.\n",
    "Regression: the probablity of someone getting sick range from a min to a max"
   ]
  },
  {
   "cell_type": "markdown",
   "metadata": {},
   "source": [
    "### Which medicine will work best for a given patient.\n",
    "Regression: the outcome variable is continuous and the probability of somethign working best ranges from a min to a max"
   ]
  }
 ],
 "metadata": {
  "kernelspec": {
   "display_name": "Python 3",
   "language": "python",
   "name": "python3"
  },
  "language_info": {
   "codemirror_mode": {
    "name": "ipython",
    "version": 3
   },
   "file_extension": ".py",
   "mimetype": "text/x-python",
   "name": "python",
   "nbconvert_exporter": "python",
   "pygments_lexer": "ipython3",
   "version": "3.6.0"
  }
 },
 "nbformat": 4,
 "nbformat_minor": 2
}
