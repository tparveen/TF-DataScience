{
 "cells": [
  {
   "cell_type": "markdown",
   "metadata": {},
   "source": [
    "#### Exam\n",
    "\n",
    "https://courses.thinkful.com/dsbc-sql-exam-v1/checkpoint/1\n",
    "\n",
    "* Host: 142.93.121.174\n",
    "* Username: dsbc_student\n",
    "* Password: 7*.8G9QH21\n",
    "* Port: 5432\n",
    "\n",
    "Table: department_of_education database"
   ]
  },
  {
   "cell_type": "markdown",
   "metadata": {},
   "source": [
    "##### Data exploration\n",
    "\n",
    "1. Write a query that allows you to inspect the schema of the naep table.\n"
   ]
  },
  {
   "cell_type": "code",
   "execution_count": null,
   "metadata": {
    "collapsed": true
   },
   "outputs": [],
   "source": [
    "SELECT column_name,data_type \n",
    "FROM information_schema.columns \n",
    "WHERE table_name = 'naep';\n",
    "\n",
    "7 rows\n",
    "\n",
    "\"avg_math_4_score\"\t    \"numeric\"\n",
    "\"avg_math_8_score\"\t    \"numeric\"\n",
    "\"avg_reading_4_score\"\t\"numeric\"\n",
    "\"avg_reading_8_score\"\t\"numeric\"\n",
    "\"id\"\t                \"character varying\"\n",
    "\"state\"\t                \"character varying\"\n",
    "\"year\"\t                \"integer\""
   ]
  },
  {
   "cell_type": "code",
   "execution_count": null,
   "metadata": {
    "collapsed": true
   },
   "outputs": [],
   "source": []
  },
  {
   "cell_type": "code",
   "execution_count": null,
   "metadata": {
    "collapsed": true
   },
   "outputs": [],
   "source": []
  }
 ],
 "metadata": {
  "kernelspec": {
   "display_name": "Python 3",
   "language": "python",
   "name": "python3"
  },
  "language_info": {
   "codemirror_mode": {
    "name": "ipython",
    "version": 3
   },
   "file_extension": ".py",
   "mimetype": "text/x-python",
   "name": "python",
   "nbconvert_exporter": "python",
   "pygments_lexer": "ipython3",
   "version": "3.6.0"
  }
 },
 "nbformat": 4,
 "nbformat_minor": 2
}
