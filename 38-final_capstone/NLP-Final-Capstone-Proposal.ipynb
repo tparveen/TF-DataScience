{
 "cells": [
  {
   "cell_type": "markdown",
   "metadata": {
    "collapsed": true
   },
   "source": [
    "# Final Capstone: Detecting Fake news\n",
    "\n",
    "\n",
    "### What is the problem you are attempting to solve?\n",
    "\n",
    "This project is about detecting fake news using NLP and classification models. The data is collected from Kaggle - https://www.kaggle.com/c/fake-news/data. the data consists of  \n",
    "\n",
    "title: the title of a news article\n",
    "author: author of the news article\n",
    "text: the text of the article\n",
    "label: a label that marks the article as potentially real or fake\n",
    "    1: FAKE\n",
    "    0: REAL\n",
    "    \n",
    "### How is your solution valuable?\n",
    "Today, we get news from all over the place. Most people will tell you that they get their news from facebook or some blog online. News is very powerful and its important that the integrity of news is verified and protected so its important to see if news that we get from certain places are fake or real.\n",
    "    \n",
    "### What is your data source and how will you access it?\n",
    "I will be getting the data from Kaggle and use that for now. Time permitting, I may use the onion to get some fake news and other articles as real news and use my model on that. But for now I will be getting the data from Kaggle and split it into train and test dataset\n",
    "    \n",
    "### What techniques from the course do you anticipate using?\n",
    "I will be using all techniques learned so far of data cleaning and data visulaization. In addition, I will be using NLP and various NLP techniques to clean and tokenize the text and various classification models on the text to see how accurate the model will be to detecting fake news.\n",
    "\n",
    "### What do you anticipate to be the biggest challenge you’ll face?\n",
    "- I think data cleaning will be challenging \n",
    "- Lots and lots of tokens so memory problems as well as runtime and processing powers\n",
    "- overfitting models and hyperparameter tuning\n",
    "\n"
   ]
  },
  {
   "cell_type": "markdown",
   "metadata": {},
   "source": [
    "### Here is a quick look at the dataset"
   ]
  },
  {
   "cell_type": "code",
   "execution_count": 1,
   "metadata": {},
   "outputs": [],
   "source": [
    "### importing all libraries\n",
    "\n",
    "import pandas as pd\n",
    "import numpy as np\n",
    "import warnings\n",
    "\n",
    "import scipy.stats as stats\n"
   ]
  },
  {
   "cell_type": "code",
   "execution_count": 2,
   "metadata": {},
   "outputs": [],
   "source": [
    "df = pd.read_csv('full_dataset.csv') "
   ]
  },
  {
   "cell_type": "code",
   "execution_count": 3,
   "metadata": {
    "scrolled": true
   },
   "outputs": [
    {
     "data": {
      "text/html": [
       "<div>\n",
       "<style scoped>\n",
       "    .dataframe tbody tr th:only-of-type {\n",
       "        vertical-align: middle;\n",
       "    }\n",
       "\n",
       "    .dataframe tbody tr th {\n",
       "        vertical-align: top;\n",
       "    }\n",
       "\n",
       "    .dataframe thead th {\n",
       "        text-align: right;\n",
       "    }\n",
       "</style>\n",
       "<table border=\"1\" class=\"dataframe\">\n",
       "  <thead>\n",
       "    <tr style=\"text-align: right;\">\n",
       "      <th></th>\n",
       "      <th>title</th>\n",
       "      <th>author</th>\n",
       "      <th>text</th>\n",
       "      <th>label</th>\n",
       "    </tr>\n",
       "  </thead>\n",
       "  <tbody>\n",
       "    <tr>\n",
       "      <th>0</th>\n",
       "      <td>a news release</td>\n",
       "      <td>federation-american-immigration-reform</td>\n",
       "      <td>Unemployment has been on the rise throughout W...</td>\n",
       "      <td>1</td>\n",
       "    </tr>\n",
       "    <tr>\n",
       "      <th>1</th>\n",
       "      <td>Black Turnout Soft in Early Voting, Boding Ill...</td>\n",
       "      <td>Henry Wolff</td>\n",
       "      <td>Black Turnout Soft in Early Voting, Boding Ill...</td>\n",
       "      <td>1</td>\n",
       "    </tr>\n",
       "    <tr>\n",
       "      <th>2</th>\n",
       "      <td>a television interview</td>\n",
       "      <td>chris-abele</td>\n",
       "      <td>Says Milwaukee County buses are no less safe n...</td>\n",
       "      <td>1</td>\n",
       "    </tr>\n",
       "    <tr>\n",
       "      <th>3</th>\n",
       "      <td>10 Things I Learned From Being My Own General ...</td>\n",
       "      <td>Luke Stranahan</td>\n",
       "      <td>One of the foundations of living a good life i...</td>\n",
       "      <td>1</td>\n",
       "    </tr>\n",
       "    <tr>\n",
       "      <th>4</th>\n",
       "      <td>a statement responding to Gov. Rick Scott's St...</td>\n",
       "      <td>rod-smith</td>\n",
       "      <td>Says Rick Scotts proposed budget would lay off...</td>\n",
       "      <td>0</td>\n",
       "    </tr>\n",
       "    <tr>\n",
       "      <th>5</th>\n",
       "      <td>Rafael Nadal Wins a Marathon to Set Up a Final...</td>\n",
       "      <td>Ben Rothenberg</td>\n",
       "      <td>MELBOURNE, Australia  —   Rafael Nadal complet...</td>\n",
       "      <td>0</td>\n",
       "    </tr>\n",
       "    <tr>\n",
       "      <th>6</th>\n",
       "      <td>Mexican Politician’s Wife Arrested in Texas fo...</td>\n",
       "      <td>Ildefonso Ortiz</td>\n",
       "      <td>A top politician who at one time served as the...</td>\n",
       "      <td>0</td>\n",
       "    </tr>\n",
       "    <tr>\n",
       "      <th>7</th>\n",
       "      <td>Merkel Floats Fake News at Trump Presser: TTIP...</td>\n",
       "      <td>Chris Tomlinson</td>\n",
       "      <td>In the first joint press conference between U....</td>\n",
       "      <td>0</td>\n",
       "    </tr>\n",
       "    <tr>\n",
       "      <th>8</th>\n",
       "      <td>a campaign mailer</td>\n",
       "      <td>republican-party-florida</td>\n",
       "      <td>Barack Obama has consistently voted against to...</td>\n",
       "      <td>1</td>\n",
       "    </tr>\n",
       "    <tr>\n",
       "      <th>9</th>\n",
       "      <td>Number Of Accusers Grows To 12, As Former Miss...</td>\n",
       "      <td>Sarah Jones</td>\n",
       "      <td>By Sarah Jones on Thu, Oct 27th, 2016 at 1:41 ...</td>\n",
       "      <td>1</td>\n",
       "    </tr>\n",
       "  </tbody>\n",
       "</table>\n",
       "</div>"
      ],
      "text/plain": [
       "                                               title  \\\n",
       "0                                     a news release   \n",
       "1  Black Turnout Soft in Early Voting, Boding Ill...   \n",
       "2                             a television interview   \n",
       "3  10 Things I Learned From Being My Own General ...   \n",
       "4  a statement responding to Gov. Rick Scott's St...   \n",
       "5  Rafael Nadal Wins a Marathon to Set Up a Final...   \n",
       "6  Mexican Politician’s Wife Arrested in Texas fo...   \n",
       "7  Merkel Floats Fake News at Trump Presser: TTIP...   \n",
       "8                                  a campaign mailer   \n",
       "9  Number Of Accusers Grows To 12, As Former Miss...   \n",
       "\n",
       "                                   author  \\\n",
       "0  federation-american-immigration-reform   \n",
       "1                             Henry Wolff   \n",
       "2                             chris-abele   \n",
       "3                          Luke Stranahan   \n",
       "4                               rod-smith   \n",
       "5                          Ben Rothenberg   \n",
       "6                         Ildefonso Ortiz   \n",
       "7                         Chris Tomlinson   \n",
       "8                republican-party-florida   \n",
       "9                             Sarah Jones   \n",
       "\n",
       "                                                text  label  \n",
       "0  Unemployment has been on the rise throughout W...      1  \n",
       "1  Black Turnout Soft in Early Voting, Boding Ill...      1  \n",
       "2  Says Milwaukee County buses are no less safe n...      1  \n",
       "3  One of the foundations of living a good life i...      1  \n",
       "4  Says Rick Scotts proposed budget would lay off...      0  \n",
       "5  MELBOURNE, Australia  —   Rafael Nadal complet...      0  \n",
       "6  A top politician who at one time served as the...      0  \n",
       "7  In the first joint press conference between U....      0  \n",
       "8  Barack Obama has consistently voted against to...      1  \n",
       "9  By Sarah Jones on Thu, Oct 27th, 2016 at 1:41 ...      1  "
      ]
     },
     "execution_count": 3,
     "metadata": {},
     "output_type": "execute_result"
    }
   ],
   "source": [
    "df.head(10)"
   ]
  },
  {
   "cell_type": "code",
   "execution_count": 36,
   "metadata": {},
   "outputs": [
    {
     "data": {
      "text/plain": [
       "'Unemployment has been on the rise throughout Wisconsin as Paul Ryan stepped up his advocacy of immigration increases.'"
      ]
     },
     "execution_count": 36,
     "metadata": {},
     "output_type": "execute_result"
    }
   ],
   "source": [
    "df.iloc[0].text"
   ]
  },
  {
   "cell_type": "code",
   "execution_count": 37,
   "metadata": {},
   "outputs": [],
   "source": []
  }
 ],
 "metadata": {
  "kernelspec": {
   "display_name": "Python 3",
   "language": "python",
   "name": "python3"
  },
  "language_info": {
   "codemirror_mode": {
    "name": "ipython",
    "version": 3
   },
   "file_extension": ".py",
   "mimetype": "text/x-python",
   "name": "python",
   "nbconvert_exporter": "python",
   "pygments_lexer": "ipython3",
   "version": "3.7.4"
  }
 },
 "nbformat": 4,
 "nbformat_minor": 2
}
