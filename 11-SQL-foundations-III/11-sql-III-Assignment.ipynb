{
 "cells": [
  {
   "cell_type": "markdown",
   "metadata": {},
   "source": [
    "#### Assignments\n",
    "Using connection credentials provided below, create a Jupyter notebook that uses SQL Alchemy to access a SQL database containing data about movies. Use Python to answer some basic questions about the data.\n",
    "\n",
    "For each question, you should have a separate cell in your Notebook that prints out the answer.\n",
    "\n",
    "Credentials\n",
    "\n",
    "postgres_user = 'dsbc_student'\n",
    "postgres_pw = '7*.8G9QH21'\n",
    "postgres_host = '142.93.121.174'\n",
    "postgres_port = '5432'\n",
    "postgres_db = 'dvdrentals'\n",
    "\n",
    "* How many movies are released for each rating?\n",
    "* What is the average rental duration for each rating?\n",
    "* What is the mean movie length? Calculate this by defining a function.\n",
    "* What is the median movie length? Calculate this by defining a function.\n",
    "* Calculate the standard deviation of the movie lengths. Calculate this by defining a function."
   ]
  },
  {
   "cell_type": "code",
   "execution_count": 22,
   "metadata": {
    "collapsed": false
   },
   "outputs": [],
   "source": [
    "import math \n",
    "# Import the SQL ALchemy engine\n",
    "from sqlalchemy import create_engine"
   ]
  },
  {
   "cell_type": "code",
   "execution_count": 2,
   "metadata": {
    "collapsed": true
   },
   "outputs": [],
   "source": [
    "postgres_user = 'dsbc_student'\n",
    "postgres_pw = '7*.8G9QH21'\n",
    "postgres_host = '142.93.121.174'\n",
    "postgres_port = '5432'\n",
    "postgres_db = 'dvdrentals'"
   ]
  },
  {
   "cell_type": "code",
   "execution_count": 5,
   "metadata": {
    "collapsed": true
   },
   "outputs": [],
   "source": [
    "engine = create_engine('postgresql://{}:{}@{}:{}/{}'.format(\n",
    "    postgres_user, postgres_pw, postgres_host, postgres_port, postgres_db))"
   ]
  },
  {
   "cell_type": "code",
   "execution_count": null,
   "metadata": {
    "collapsed": true
   },
   "outputs": [],
   "source": []
  },
  {
   "cell_type": "markdown",
   "metadata": {},
   "source": [
    "* #  How many movies are released for each rating?\n",
    "select rating, count(*) \n",
    "from film\n",
    "group by rating\n",
    "\n",
    "\"R\"\t\"195\"\n",
    "\"NC-17\"\t\"210\"\n",
    "\"PG\"\t\"194\"\n",
    "\"PG-13\"\t\"223\"\n",
    "\"G\"\t\"178\""
   ]
  },
  {
   "cell_type": "code",
   "execution_count": 9,
   "metadata": {
    "collapsed": false
   },
   "outputs": [
    {
     "name": "stdout",
     "output_type": "stream",
     "text": [
      "('R', 195)\n",
      "('NC-17', 210)\n",
      "('PG', 194)\n",
      "('PG-13', 223)\n",
      "('G', 178)\n"
     ]
    }
   ],
   "source": [
    "# How many movies are released for each rating?  \n",
    "\n",
    "sql = '''\n",
    "select \n",
    "    rating, count(*)\n",
    "from \n",
    "    film\n",
    "group by rating\n",
    "'''\n",
    "sql_result = engine.execute(sql)\n",
    "engine.dispose()\n",
    "\n",
    "movies = sql_result.fetchall()\n",
    "\n",
    "# print some results just to see what we got\n",
    "for row in movies:\n",
    "  print(row)"
   ]
  },
  {
   "cell_type": "markdown",
   "metadata": {},
   "source": [
    "* What is the average rental duration for each rating?\n",
    "\n",
    "select rating, avg(rental_duration)\n",
    "from film\n",
    "group by rating\n"
   ]
  },
  {
   "cell_type": "code",
   "execution_count": 10,
   "metadata": {
    "collapsed": false
   },
   "outputs": [
    {
     "name": "stdout",
     "output_type": "stream",
     "text": [
      "('R', Decimal('4.7743589743589744'))\n",
      "('NC-17', Decimal('5.1428571428571429'))\n",
      "('PG', Decimal('5.0824742268041237'))\n",
      "('PG-13', Decimal('5.0538116591928251'))\n",
      "('G', Decimal('4.8370786516853933'))\n"
     ]
    }
   ],
   "source": [
    "# What is the average rental duration for each rating?\n",
    "sql = '''\n",
    "select \n",
    "    rating, avg(rental_duration)\n",
    "from \n",
    "    film\n",
    "group by rating\n",
    "'''\n",
    "\n",
    "sql_result = engine.execute(sql)\n",
    "engine.dispose()\n",
    "\n",
    "avg_rentalduration = sql_result.fetchall()\n",
    "\n",
    "# print some results just to see what we got\n",
    "for row in avg_rentalduration:\n",
    "  print(row)"
   ]
  },
  {
   "cell_type": "markdown",
   "metadata": {},
   "source": [
    "* What is the mean movie length? Calculate this by defining a function.\n",
    "\n",
    "*** QUESTION:  why are we not using this ? why do we need to define a function?\n",
    "\n",
    "select avg(length)\n",
    "from film\n",
    "\n",
    "\"115.2720000000000000\"\n"
   ]
  },
  {
   "cell_type": "code",
   "execution_count": 17,
   "metadata": {
    "collapsed": true
   },
   "outputs": [],
   "source": [
    "def mean(numbers):\n",
    "    total = 0\n",
    "    for x in numbers:\n",
    "        total+=x\n",
    "    count = len(numbers)\n",
    "    avg = total/count\n",
    "    return avg"
   ]
  },
  {
   "cell_type": "code",
   "execution_count": 23,
   "metadata": {
    "collapsed": true
   },
   "outputs": [],
   "source": [
    "# if odd numbers then the middle is the len(numbers)/2\n",
    "# if even numbers then the middle is the average of the 2 middles\n",
    "\n",
    "def median(numbers):\n",
    "    numbers.sort()\n",
    "    count = len(numbers)\n",
    "    isEven = count % 2 == 0\n",
    "    \n",
    "    if(isEven):\n",
    "        mid_data = math.floor(count / 2)\n",
    "        a = numbers[mid_data]\n",
    "        b = numbers[mid_data + 1]\n",
    "        median_data = (a + b)/2\n",
    "    else:\n",
    "        median_data = numbers[math.floor(count / 2)]\n",
    "        \n",
    "    return median_data\n",
    "    "
   ]
  },
  {
   "cell_type": "code",
   "execution_count": 25,
   "metadata": {
    "collapsed": true
   },
   "outputs": [],
   "source": [
    "def standard_deviation(numbers):\n",
    "  X_bar = mean(numbers)\n",
    "  N = len(numbers)\n",
    "  total_sum = 0\n",
    "  for X in numbers:\n",
    "    diff = X - X_bar\n",
    "    squared = math.pow(diff, 2)\n",
    "    total_sum += squared\n",
    "  sigma = math.sqrt(total_sum / (N - 1))  \n",
    "  return sigma\n"
   ]
  },
  {
   "cell_type": "code",
   "execution_count": 18,
   "metadata": {
    "collapsed": false
   },
   "outputs": [
    {
     "name": "stdout",
     "output_type": "stream",
     "text": [
      "The mean movie length is 115.272\n"
     ]
    }
   ],
   "source": [
    "# What is the mean movie length? Calculate this by defining a function.\n",
    "\n",
    "sql = '''\n",
    "select \n",
    "    length\n",
    "from \n",
    "    film\n",
    "'''\n",
    "\n",
    "sql_result = engine.execute(sql)\n",
    "engine.dispose()\n",
    "\n",
    "movie_lengths = sql_result.fetchall()\n",
    "\n",
    "movie_length_list = [x['length'] for x in movie_lengths]\n",
    "#print(movie_length_list)\n",
    "\n",
    "print('The mean movie length is {}'.format(mean(movie_length_list)))"
   ]
  },
  {
   "cell_type": "code",
   "execution_count": 24,
   "metadata": {
    "collapsed": false
   },
   "outputs": [
    {
     "name": "stdout",
     "output_type": "stream",
     "text": [
      "The median movie length is 114.0\n"
     ]
    }
   ],
   "source": [
    "# What is the median movie length? Calculate this by defining a function.\n",
    "\n",
    "print('The median movie length is {}'.format(median(movie_length_list)))"
   ]
  },
  {
   "cell_type": "markdown",
   "metadata": {},
   "source": [
    "* Calculate the standard deviation of the movie lengths. Calculate this by defining a function."
   ]
  },
  {
   "cell_type": "code",
   "execution_count": 26,
   "metadata": {
    "collapsed": false
   },
   "outputs": [
    {
     "name": "stdout",
     "output_type": "stream",
     "text": [
      "The standard deviation of the charges is 40.42633181855988\n"
     ]
    }
   ],
   "source": [
    "# Calculate the standard deviation of the movie lengths. Calculate this by defining a function.\n",
    "\n",
    "print('The standard deviation of the charges is {}'.format(standard_deviation(movie_length_list)))"
   ]
  },
  {
   "cell_type": "code",
   "execution_count": null,
   "metadata": {
    "collapsed": true
   },
   "outputs": [],
   "source": []
  }
 ],
 "metadata": {
  "kernelspec": {
   "display_name": "Python 3",
   "language": "python",
   "name": "python3"
  },
  "language_info": {
   "codemirror_mode": {
    "name": "ipython",
    "version": 3
   },
   "file_extension": ".py",
   "mimetype": "text/x-python",
   "name": "python",
   "nbconvert_exporter": "python",
   "pygments_lexer": "ipython3",
   "version": "3.6.0"
  }
 },
 "nbformat": 4,
 "nbformat_minor": 2
}
