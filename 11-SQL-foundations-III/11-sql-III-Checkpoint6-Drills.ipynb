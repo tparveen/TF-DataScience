{
 "cells": [
  {
   "cell_type": "markdown",
   "metadata": {},
   "source": [
    "### Drills\n",
    "\n",
    "https://courses.thinkful.com/dsbc-sql-foundations-3-v1/checkpoint/6\n",
    "\n",
    "\n",
    "* Database: The name of the database is baseball.\n",
    "\n",
    "- hof_inducted: This table consists of the voting results for all candidates inducted into the Baseball Hall of Fame.\n",
    "- hof_not_inducted: This table consists of the voting results for all candidates nominated for, but not inducted into, the Baseball Hall of Fame.\n",
    "- people: This table consists of personal and biographical details of every player that appears in either the hof_inducted table or the hof_not_inducted table. A unique “playerid” field is assigned to each player.\n",
    "- salaries: This table has player salary data since 1985.\n",
    "\n",
    "* connection\n",
    "\n",
    "- Host: 142.93.121.174\n",
    "- Username: dsbc_student\n",
    "- Password: 7*.8G9QH21\n",
    "- Port: 5432"
   ]
  },
  {
   "cell_type": "code",
   "execution_count": 2,
   "metadata": {
    "collapsed": true
   },
   "outputs": [],
   "source": [
    "# Import the SQL ALchemy engine\n",
    "from sqlalchemy import create_engine"
   ]
  },
  {
   "cell_type": "code",
   "execution_count": 3,
   "metadata": {
    "collapsed": true
   },
   "outputs": [],
   "source": [
    "postgres_user = 'dsbc_student'\n",
    "postgres_pw = '7*.8G9QH21'\n",
    "postgres_host = '142.93.121.174'\n",
    "postgres_port = '5432'\n",
    "postgres_db = 'baseball'"
   ]
  },
  {
   "cell_type": "code",
   "execution_count": 4,
   "metadata": {
    "collapsed": false
   },
   "outputs": [],
   "source": [
    "engine = create_engine('postgresql://{}:{}@{}:{}/{}'.format(\n",
    "    postgres_user, postgres_pw, postgres_host, postgres_port, postgres_db))"
   ]
  },
  {
   "cell_type": "code",
   "execution_count": 5,
   "metadata": {
    "collapsed": false
   },
   "outputs": [
    {
     "data": {
      "text/plain": [
       "['playerid',\n",
       " 'birthyear',\n",
       " 'birthcountry',\n",
       " 'deathyear',\n",
       " 'namefirst',\n",
       " 'namelast',\n",
       " 'weight',\n",
       " 'height',\n",
       " 'bats',\n",
       " 'throws']"
      ]
     },
     "execution_count": 5,
     "metadata": {},
     "output_type": "execute_result"
    }
   ],
   "source": [
    "# Draw a schema of the relationship between the people, salaries, and hof_inducted tables.\n",
    "sql = '''\n",
    "select \n",
    "    * \n",
    "from \n",
    "    people\n",
    "'''\n",
    "people_columns = engine.execute(sql)\n",
    "\n",
    "# no need for an open connection, as we're only doing a single query\n",
    "engine.dispose()\n",
    "\n",
    "people_columns.keys()"
   ]
  },
  {
   "cell_type": "code",
   "execution_count": 20,
   "metadata": {
    "collapsed": false
   },
   "outputs": [
    {
     "data": {
      "text/plain": [
       "['yearid', 'teamid', 'lgid', 'playerid', 'salary']"
      ]
     },
     "execution_count": 20,
     "metadata": {},
     "output_type": "execute_result"
    }
   ],
   "source": [
    "sql = '''\n",
    "select \n",
    "    * \n",
    "from \n",
    "    salaries\n",
    "'''\n",
    "salaries_columns = engine.execute(sql)\n",
    "\n",
    "# no need for an open connection, as we're only doing a single query\n",
    "engine.dispose()\n",
    "\n",
    "salaries_columns.keys()"
   ]
  },
  {
   "cell_type": "code",
   "execution_count": 9,
   "metadata": {
    "collapsed": false
   },
   "outputs": [
    {
     "data": {
      "text/plain": [
       "['playerid',\n",
       " 'yearid',\n",
       " 'votedby',\n",
       " 'ballots',\n",
       " 'needed',\n",
       " 'votes',\n",
       " 'inducted',\n",
       " 'category',\n",
       " 'needed_note']"
      ]
     },
     "execution_count": 9,
     "metadata": {},
     "output_type": "execute_result"
    }
   ],
   "source": [
    "# hof_inducted\n",
    "\n",
    "sql = '''\n",
    "select \n",
    "    * \n",
    "from \n",
    "    hof_inducted\n",
    "'''\n",
    "hof_inducted_columns = engine.execute(sql)\n",
    "\n",
    "# no need for an open connection, as we're only doing a single query\n",
    "engine.dispose()\n",
    "\n",
    "hof_inducted_columns.keys()"
   ]
  },
  {
   "cell_type": "markdown",
   "metadata": {},
   "source": [
    "Write a query that returns the namefirst and namelast fields of the people table, along with the inducted field from the hof_inducted table. \n",
    "\n",
    "All rows from the people table should be returned, and NULL values for the fields from hof_inducted should be returned when there is no match found.\n"
   ]
  },
  {
   "cell_type": "code",
   "execution_count": 10,
   "metadata": {
    "collapsed": false
   },
   "outputs": [
    {
     "data": {
      "text/plain": [
       "['namefirst', 'namelast', 'inducted']"
      ]
     },
     "execution_count": 10,
     "metadata": {},
     "output_type": "execute_result"
    }
   ],
   "source": [
    "sql = '''\n",
    "select \n",
    "    namefirst, namelast, inducted \n",
    "from \n",
    "    people LEFT OUTER JOIN hof_inducted\n",
    "ON people.playerid = hof_inducted.playerid;\n",
    "\n",
    "'''\n",
    "\n",
    "results = engine.execute(sql)\n",
    "\n",
    "# no need for an open connection, as we're only doing a single query\n",
    "engine.dispose()\n",
    "\n",
    "results.keys()"
   ]
  },
  {
   "cell_type": "markdown",
   "metadata": {},
   "source": [
    "In 2006, a special Baseball Hall of Fame induction was conducted for players from the negro baseball leagues of the 20th century. In that induction, 17 players were posthumously inducted into the Baseball Hall of Fame. Write a query that returns the first and last names, birth and death dates, and birth countries for these players. Note that the year of induction was 2006, and the value for votedby will be “Negro League.”"
   ]
  },
  {
   "cell_type": "markdown",
   "metadata": {
    "collapsed": true
   },
   "source": [
    "select \n",
    "    namefirst, namelast, birthyear, deathyear, birthcountry \n",
    "from \n",
    "    people INNER JOIN hof_inducted\n",
    "ON people.playerid = hof_inducted.playerid\n",
    "where votedby = 'Negro League'\n",
    "AND yearid = 2006\n",
    "\n",
    "17 rows\n",
    "\n",
    "\"Ray\"\t\"Brown\"\t1908\t1965\t\"USA\"\n",
    "\"Willard\"\t\"Brown\"\t1915\t1996\t\"USA\"\n",
    "\"Andy\"\t\"Cooper\"\t1898\t1941\t\"USA\"\n",
    "\"Frank\"\t\"Grant\"\t1865\t1937\t\"USA\"\n",
    "\"Pete\"\t\"Hill\"\t1882\t1951\t\"USA\"\n",
    "\"Biz\"\t\"Mackey\"\t1897\t1965\t\"USA\"\n",
    "\"Effa\"\t\"Manley\"\t1897\t1981\t\"USA\"\n",
    "\"Jose\"\t\"Mendez\"\t1885\t1928\t\"Cuba\"\n",
    "\"Alex\"\t\"Pompez\"\t1890\t1974\t\"USA\"\n",
    "\"Cum\"\t\"Posey\"\t1890\t1946\t\"USA\"\n",
    "\"Louis\"\t\"Santop\"\t1889\t1942\t\"USA\"\n",
    "\"Mule\"\t\"Suttles\"\t1901\t1966\t\"USA\"\n",
    "\"Ben\"\t\"Taylor\"\t1888\t1953\t\"USA\"\n",
    "\"Cristobal\"\t\"Torriente\"\t1893\t1938\t\"Cuba\"\n",
    "\"Sol\"\t\"White\"\t1868\t1955\t\"USA\"\n",
    "\"J. L.\"\t\"Wilkinson\"\t1878\t1964\t\"USA\"\n",
    "\"Jud\"\t\"Wilson\"\t1896\t1963\t\"USA\"\n",
    "\n",
    "\n",
    "The answer has it with OUTER JOIN - not sure why...\n",
    "\n",
    "SELECT birthyear, deathyear, birthcountry, namefirst, namelast\n",
    "FROM people LEFT OUTER JOIN hof_inducted\n",
    "ON people.playerid = hof_inducted.playerid\n",
    "WHERE yearid = 2006 AND votedby = 'Negro League';"
   ]
  },
  {
   "cell_type": "code",
   "execution_count": 11,
   "metadata": {
    "collapsed": false
   },
   "outputs": [
    {
     "data": {
      "text/plain": [
       "['namefirst', 'namelast', 'birthyear', 'deathyear', 'birthcountry']"
      ]
     },
     "execution_count": 11,
     "metadata": {},
     "output_type": "execute_result"
    }
   ],
   "source": [
    "sql = '''\n",
    "select \n",
    "    namefirst, namelast, birthyear, deathyear, birthcountry \n",
    "from \n",
    "    people INNER JOIN hof_inducted\n",
    "ON people.playerid = hof_inducted.playerid\n",
    "where votedby = 'Negro League'\n",
    "AND yearid = 2006\n",
    "\n",
    "'''\n",
    "\n",
    "results = engine.execute(sql)\n",
    "\n",
    "# no need for an open connection, as we're only doing a single query\n",
    "engine.dispose()\n",
    "\n",
    "results.keys()"
   ]
  },
  {
   "cell_type": "markdown",
   "metadata": {},
   "source": [
    "Write a query that returns the yearid, playerid, teamid, and salary fields from the salaries table, along with the category field from the hof_inducted table. Keep only the records that are in both salaries and hof_inducted. Hint: While a field named yearid is found in both tables, don’t JOIN by it. You must, however, explicitly name which field to include.\n",
    "\n",
    "\n",
    "select \n",
    "\tsalaries.yearid, salaries.playerid, teamid, salary, category\n",
    "from \n",
    "    salaries INNER JOIN hof_inducted\n",
    "ON salaries.playerid = hof_inducted.playerid\n",
    "\n",
    "\n",
    "621 rows"
   ]
  },
  {
   "cell_type": "code",
   "execution_count": 19,
   "metadata": {
    "collapsed": false
   },
   "outputs": [
    {
     "data": {
      "text/plain": [
       "['yearid', 'playerid', 'teamid', 'salary', 'category']"
      ]
     },
     "execution_count": 19,
     "metadata": {},
     "output_type": "execute_result"
    }
   ],
   "source": [
    "sql = '''\n",
    "select \n",
    "    salaries.yearid, salaries.playerid, teamid, salary, category\n",
    "from \n",
    "    salaries INNER JOIN hof_inducted\n",
    "ON salaries.playerid = hof_inducted.playerid\n",
    "\n",
    "'''\n",
    "\n",
    "results = engine.execute(sql)\n",
    "\n",
    "# no need for an open connection, as we're only doing a single query\n",
    "engine.dispose()\n",
    "\n",
    "results.keys()"
   ]
  },
  {
   "cell_type": "markdown",
   "metadata": {},
   "source": [
    "Write a query that returns the playerid, yearid, teamid, lgid, and salary fields from the salaries table and the inducted field from the hof_inducted table. Keep all records from both tables."
   ]
  },
  {
   "cell_type": "markdown",
   "metadata": {},
   "source": [
    "select \n",
    "    salaries.playerid, salaries.yearid, teamid, lgid, salary, inducted\n",
    "from \n",
    "    salaries FULL OUTER JOIN hof_inducted\n",
    "ON salaries.playerid = hof_inducted.playerid\n",
    "\n",
    "26701 rows"
   ]
  },
  {
   "cell_type": "code",
   "execution_count": 18,
   "metadata": {
    "collapsed": false
   },
   "outputs": [
    {
     "data": {
      "text/plain": [
       "['playerid', 'yearid', 'teamid', 'lgid', 'salary', 'inducted']"
      ]
     },
     "execution_count": 18,
     "metadata": {},
     "output_type": "execute_result"
    }
   ],
   "source": [
    "sql = '''\n",
    "select \n",
    "    salaries.playerid, salaries.yearid, teamid, lgid, salary, inducted\n",
    "from \n",
    "    salaries FULL OUTER JOIN hof_inducted\n",
    "ON salaries.playerid = hof_inducted.playerid\n",
    "\n",
    "'''\n",
    "\n",
    "results = engine.execute(sql)\n",
    "\n",
    "# no need for an open connection, as we're only doing a single query\n",
    "engine.dispose()\n",
    "\n",
    "results.keys()"
   ]
  },
  {
   "cell_type": "markdown",
   "metadata": {
    "collapsed": true
   },
   "source": [
    "There are 2 tables, hof_inducted and hof_not_inducted, indicating successful and unsuccessful inductions into the Baseball Hall of Fame, respectively.\n",
    "\n",
    "Combine these 2 tables by all fields. Keep all records.\n",
    "\n",
    "Get a distinct list of all player IDs for players who have been put up for HOF induction.\n",
    "\n",
    "\n",
    "select \n",
    "    *\n",
    "from \n",
    "    hof_inducted FULL OUTER JOIN hof_not_inducted\n",
    "ON hof_inducted.playerid = hof_not_inducted.playerid\n",
    "\n",
    "\n",
    "4007 rows\n",
    "\n",
    "\n",
    "\n",
    "select \n",
    "    distinct hof_inducted.playerid, hof_inducted.inducted\n",
    "from \n",
    "    hof_inducted FULL OUTER JOIN hof_not_inducted\n",
    "ON hof_inducted.playerid = hof_not_inducted.playerid\n",
    "Where hof_inducted.inducted = 'Y'\n",
    "\n",
    "323 rows\n",
    "\n",
    "\n",
    "\n",
    "\n",
    "select \n",
    "     distinct playerid, inducted\n",
    "from \n",
    "    hof_inducted \n",
    "Where inducted = 'Y'\n",
    "\n",
    "\n",
    "323 rows"
   ]
  },
  {
   "cell_type": "code",
   "execution_count": 22,
   "metadata": {
    "collapsed": false
   },
   "outputs": [
    {
     "data": {
      "text/plain": [
       "['playerid',\n",
       " 'yearid',\n",
       " 'votedby',\n",
       " 'ballots',\n",
       " 'needed',\n",
       " 'votes',\n",
       " 'inducted',\n",
       " 'category',\n",
       " 'needed_note',\n",
       " 'playerid',\n",
       " 'yearid',\n",
       " 'votedby',\n",
       " 'ballots',\n",
       " 'needed',\n",
       " 'votes',\n",
       " 'inducted',\n",
       " 'category',\n",
       " 'needed_note']"
      ]
     },
     "execution_count": 22,
     "metadata": {},
     "output_type": "execute_result"
    }
   ],
   "source": [
    "# Combine these 2 tables by all fields. Keep all records.\n",
    "\n",
    "sql = '''\n",
    "select \n",
    "    *\n",
    "from \n",
    "    hof_inducted FULL OUTER JOIN hof_not_inducted\n",
    "ON hof_inducted.playerid = hof_not_inducted.playerid\n",
    "\n",
    "'''\n",
    "\n",
    "results = engine.execute(sql)\n",
    "\n",
    "# no need for an open connection, as we're only doing a single query\n",
    "engine.dispose()\n",
    "\n",
    "results.keys()"
   ]
  },
  {
   "cell_type": "code",
   "execution_count": 23,
   "metadata": {
    "collapsed": false
   },
   "outputs": [
    {
     "data": {
      "text/plain": [
       "['playerid', 'inducted']"
      ]
     },
     "execution_count": 23,
     "metadata": {},
     "output_type": "execute_result"
    }
   ],
   "source": [
    "# Get a distinct list of all player IDs for players who have been put up for HOF induction.\n",
    "\n",
    "sql = '''\n",
    "select \n",
    "     distinct playerid, inducted\n",
    "from \n",
    "    hof_inducted \n",
    "Where inducted = 'Y'\n",
    "\n",
    "'''\n",
    "\n",
    "results = engine.execute(sql)\n",
    "\n",
    "# no need for an open connection, as we're only doing a single query\n",
    "engine.dispose()\n",
    "\n",
    "results.keys()"
   ]
  },
  {
   "cell_type": "markdown",
   "metadata": {
    "collapsed": true
   },
   "source": [
    "Write a query that returns the last name, first name (see people table), and total recorded salaries for all players found in the salaries table.\n",
    "\n",
    "\n",
    "select \n",
    "    people.namefirst, people.namelast, salary\n",
    "from \n",
    "    salaries INNER JOIN people\n",
    "ON salaries.playerid = people.playerid\n",
    "\n",
    "26428 rows"
   ]
  },
  {
   "cell_type": "code",
   "execution_count": 24,
   "metadata": {
    "collapsed": false
   },
   "outputs": [
    {
     "data": {
      "text/plain": [
       "['namefirst', 'namelast', 'salary']"
      ]
     },
     "execution_count": 24,
     "metadata": {},
     "output_type": "execute_result"
    }
   ],
   "source": [
    "sql = '''\n",
    "select \n",
    "    people.namefirst, people.namelast, salary\n",
    "from \n",
    "    salaries INNER JOIN people\n",
    "ON salaries.playerid = people.playerid\n",
    "\n",
    "'''\n",
    "\n",
    "results = engine.execute(sql)\n",
    "\n",
    "# no need for an open connection, as we're only doing a single query\n",
    "engine.dispose()\n",
    "\n",
    "results.keys()"
   ]
  },
  {
   "cell_type": "markdown",
   "metadata": {},
   "source": [
    "Write a query that returns all records from the hof_inducted and hof_not_inducted tables that include playerid, yearid, namefirst, and namelast. Hint: Each FROM statement will include a LEFT OUTER JOIN!\n",
    "\n",
    "\n",
    "\n",
    "select \n",
    "    people.playerid, hof_inducted.yearid, people.namefirst, people.namelast \n",
    "from \n",
    "    People LEFT OUTER JOIN hof_inducted\n",
    "ON People.playerid = hof_inducted.playerid\n",
    "LEFT OUTER JOIN hof_not_inducted\n",
    "ON hof_inducted.playerid = hof_not_inducted.playerid\n",
    "\n",
    "\n",
    "20606 rows\n",
    "\n",
    "\n",
    "\n",
    "select \n",
    "    people.playerid, hof_inducted.yearid, people.namefirst, people.namelast \n",
    "from \n",
    "    People LEFT OUTER JOIN hof_inducted\n",
    "ON People.playerid = hof_inducted.playerid\n",
    "LEFT OUTER JOIN hof_not_inducted\n",
    "ON hof_inducted.yearid = hof_not_inducted.yearid\n",
    "\n",
    "\n",
    "35104"
   ]
  },
  {
   "cell_type": "code",
   "execution_count": null,
   "metadata": {
    "collapsed": true
   },
   "outputs": [],
   "source": [
    "sql = '''\n",
    "select \n",
    "    people.playerid, hof_inducted.yearid, people.namefirst, people.namelast \n",
    "from \n",
    "    People LEFT OUTER JOIN hof_inducted\n",
    "ON People.playerid = hof_inducted.playerid\n",
    "LEFT OUTER JOIN hof_not_inducted\n",
    "ON hof_inducted.playerid = hof_not_inducted.playerid\n",
    "\n",
    "'''\n",
    "\n",
    "results = engine.execute(sql)\n",
    "\n",
    "# no need for an open connection, as we're only doing a single query\n",
    "engine.dispose()\n",
    "\n",
    "results.keys()"
   ]
  },
  {
   "cell_type": "markdown",
   "metadata": {},
   "source": [
    "Return a table including all records from both hof_inducted and hof_not_inducted, and include a new field, namefull, which is formatted as namelast , namefirst (in other words, the last name, followed by a comma, then a space, then the first name). \n",
    "\n",
    "The query should also return the yearid and inducted fields. Include only records since 1980 from both tables. Sort the resulting table by yearid, then inducted so that Y comes before N. Finally, sort by the namefull field, A to Z."
   ]
  },
  {
   "cell_type": "code",
   "execution_count": null,
   "metadata": {
    "collapsed": true
   },
   "outputs": [],
   "source": []
  },
  {
   "cell_type": "markdown",
   "metadata": {},
   "source": [
    "Write a query that returns the highest annual salary for each teamid, ranked from high to low, along with the corresponding playerid. Bonus! Return namelast and namefirst in the resulting table. (You can find these in the people table.)\n",
    "\n",
    "\n",
    "\n",
    "\n",
    "\n",
    "select teamid, max(salary) as max_salary, playerid, people.namelast, people.namefirst \n",
    "    from salaries JOIN people\n",
    "    ON salaries.playerid = people.playerid\n",
    "where yearid >2010\n",
    "    Group by teamid, playerid\n",
    "    order by max_salary DESC\n",
    "    \n",
    "    \n",
    "select teamid, max(salary) as max_salary, salaries.playerid, people.namelast, people.namefirst \n",
    "    from salaries JOIN people\n",
    "    ON salaries.playerid = people.playerid\n",
    "where yearid >2010\n",
    "    Group by salaries.teamid, salaries.playerid\n",
    "    order by max_salary DESC"
   ]
  },
  {
   "cell_type": "code",
   "execution_count": null,
   "metadata": {
    "collapsed": true
   },
   "outputs": [],
   "source": []
  },
  {
   "cell_type": "markdown",
   "metadata": {},
   "source": [
    "Select birthyear, deathyear, namefirst, and namelast of all the players born since the birth year of Babe Ruth (playerid = ruthba01). Sort the results by birth year from low to high."
   ]
  },
  {
   "cell_type": "code",
   "execution_count": null,
   "metadata": {
    "collapsed": true
   },
   "outputs": [],
   "source": []
  },
  {
   "cell_type": "markdown",
   "metadata": {},
   "source": [
    "Using the people table, write a query that returns namefirst, namelast, and a field called usaborn where. The usaborn field should show the following: if the player's birthcountry is the USA, then the record is 'USA.' Otherwise, it's 'non-USA.' Order the results by 'non-USA' records first."
   ]
  },
  {
   "cell_type": "code",
   "execution_count": null,
   "metadata": {
    "collapsed": true
   },
   "outputs": [],
   "source": []
  },
  {
   "cell_type": "markdown",
   "metadata": {},
   "source": [
    "Calculate the average height for players throwing with their right hand versus their left hand. Name these fields right_height and left_height, respectively.\n",
    "\n",
    "\n",
    "SELECT \n",
    "AVG(CASE WHEN throws = 'R' THEN height END) AS right_height,\n",
    "AVG(CASE WHEN throws = 'L' THEN height END) AS left_height\n",
    "FROM people;\n",
    "\n",
    "            Right            left\n",
    "\"72.3172024506092104\"\t\"72.5530219780219780\"\n"
   ]
  },
  {
   "cell_type": "code",
   "execution_count": 6,
   "metadata": {
    "collapsed": false
   },
   "outputs": [
    {
     "data": {
      "text/plain": [
       "['right_height', 'left_height']"
      ]
     },
     "execution_count": 6,
     "metadata": {},
     "output_type": "execute_result"
    }
   ],
   "source": [
    "sql = '''\n",
    "SELECT \n",
    "AVG(CASE WHEN throws = 'R' THEN height END) AS right_height,\n",
    "AVG(CASE WHEN throws = 'L' THEN height END) AS left_height\n",
    "FROM people;\n",
    "\n",
    "'''\n",
    "\n",
    "results = engine.execute(sql)\n",
    "\n",
    "# no need for an open connection, as we're only doing a single query\n",
    "engine.dispose()\n",
    "\n",
    "results.keys()"
   ]
  },
  {
   "cell_type": "markdown",
   "metadata": {},
   "source": [
    "Get the average of each team's maximum player salary since 2010. Hint: WHERE will go inside your CTE.\n",
    "\n",
    "* each team's maximum player salary since 2010\n",
    "\n",
    "select teamid, max(salary) \n",
    "    from salaries\n",
    "where yearid >2010\n",
    "    Group by teamid\n",
    "    \n",
    "31 rows\n",
    "\n",
    "\n",
    "with max_sal AS\n",
    "\n",
    "(select teamid, max(salary) as max_salary \n",
    "    from salaries\n",
    "where yearid >2010\n",
    "    Group by teamid)\n",
    "\n",
    "select Avg(max_salary)\n",
    "    from max_sal\n",
    "    \n",
    "    \n",
    "\"21746725.129032258065\""
   ]
  },
  {
   "cell_type": "code",
   "execution_count": null,
   "metadata": {
    "collapsed": true
   },
   "outputs": [],
   "source": [
    "sql = '''\n",
    "with max_sal AS\n",
    "\n",
    "(select teamid, max(salary) as max_salary \n",
    "    from salaries\n",
    "where yearid >2010\n",
    "    Group by teamid)\n",
    "\n",
    "select Avg(max_salary)\n",
    "    from max_sal\n",
    "\n",
    "'''\n",
    "\n",
    "results = engine.execute(sql)\n",
    "\n",
    "# no need for an open connection, as we're only doing a single query\n",
    "engine.dispose()\n",
    "\n",
    "results.keys()"
   ]
  }
 ],
 "metadata": {
  "kernelspec": {
   "display_name": "Python 3",
   "language": "python",
   "name": "python3"
  },
  "language_info": {
   "codemirror_mode": {
    "name": "ipython",
    "version": 3
   },
   "file_extension": ".py",
   "mimetype": "text/x-python",
   "name": "python",
   "nbconvert_exporter": "python",
   "pygments_lexer": "ipython3",
   "version": "3.6.0"
  }
 },
 "nbformat": 4,
 "nbformat_minor": 2
}
